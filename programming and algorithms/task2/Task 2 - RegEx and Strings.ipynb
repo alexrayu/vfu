{
 "cells": [
  {
   "cell_type": "markdown",
   "metadata": {},
   "source": [
    "You are given a set of pdf files written in a folder.\n",
    "Your task is to create an index of the mentioning of the\n",
    "specific list of terms in these pdf files, e.g. index of their\n",
    "occurrences.\n",
    "\n",
    "**Input:** Name of the folder, where pdf files are written\n",
    "N – number of elements in the list, (comma-separated)\n",
    "The list of N terms (N < 20).\n",
    "\n",
    "**Output:** As a result you have to prepare a csv file with\n",
    "the following structure: *term; pdf_file_name; page*\n",
    "(one page for a term if there are several occurrences).\n",
    "The terms have to be ordered lexicographically."
   ]
  },
  {
   "cell_type": "markdown",
   "metadata": {},
   "source": [
    "**Libraries:**\n",
    "- PDF: Requires [slate3k](https://pypi.org/project/slate3k/) library, since PyPDF2 ... PyPDF4 failed to extract text from the complex PDF failes.\n",
    "- Keywords: requires *gensim*."
   ]
  },
  {
   "cell_type": "code",
   "execution_count": 1,
   "metadata": {},
   "outputs": [],
   "source": [
    "from os import listdir\n",
    "import re\n",
    "import csv\n",
    "import slate3k as slate\n",
    "from gensim.summarization import keywords\n",
    "\n",
    "# Input.\n",
    "folder = 'pdf/'\n",
    "n_terms = 5"
   ]
  },
  {
   "cell_type": "code",
   "execution_count": 2,
   "metadata": {},
   "outputs": [],
   "source": [
    "# Rough cleanup.\n",
    "def cleanup(pages):\n",
    "    for i, page in enumerate(pages):\n",
    "        page = re.sub(r'^.{0,20}$', '', page, flags=re.M)\n",
    "        page = re.sub(r'\\n+', ' ', page, flags=re.M)\n",
    "        pages[i] = page\n",
    "    return pages\n",
    "\n",
    "# Process keywords.\n",
    "def get_keywords(pages, n_terms=5):\n",
    "    keyword_list = {}\n",
    "    for key, page in enumerate(pages):\n",
    "        words = keywords(page, words=n_terms, lemmatize=True, scores=False, pos_filter='NN').split('\\n')\n",
    "        words.sort()\n",
    "        keyword_list[key] = words\n",
    "    return keyword_list"
   ]
  },
  {
   "cell_type": "code",
   "execution_count": 3,
   "metadata": {},
   "outputs": [],
   "source": [
    "# Load all pdf files.\n",
    "files = [f for f in listdir(folder) if f.endswith('.pdf')]\n",
    "\n",
    "# Create dict of content.\n",
    "data = {}\n",
    "for file in files:\n",
    "    record = {}\n",
    "    with open(folder + file, 'rb') as fh:\n",
    "        doc = slate.PDF(fh)\n",
    "        record['npages'] = len(doc)\n",
    "        record['pages'] = cleanup(doc)\n",
    "        record['keywords'] = get_keywords(record['pages'], n_terms)\n",
    "    data[file] = record"
   ]
  },
  {
   "cell_type": "code",
   "execution_count": 4,
   "metadata": {},
   "outputs": [
    {
     "name": "stdout",
     "output_type": "stream",
     "text": [
      "Saved 66 records to \"task2.csv\".\n"
     ]
    }
   ],
   "source": [
    "# Format for csv.\n",
    "res = []\n",
    "for filename in data:\n",
    "    for page_n in data[filename]['keywords']:\n",
    "        for term in data[filename]['keywords'][page_n]:\n",
    "            res.append([term, filename, page_n + 1])\n",
    "\n",
    "# Write to csv.\n",
    "with open('task2.csv', 'w') as fh:\n",
    "    fields = ['term', 'file', 'page']\n",
    "    writer = csv.DictWriter(fh, fieldnames=fields)\n",
    "    writer.writeheader()\n",
    "    for record in res:\n",
    "        writer.writerow({\n",
    "            'term': record[0],\n",
    "            'file': record[1],\n",
    "            'page': record[2],\n",
    "        })\n",
    "\n",
    "print(f'Saved {len(res)} records to \"task2.csv\".')"
   ]
  }
 ],
 "metadata": {
  "kernelspec": {
   "display_name": "Python 3",
   "language": "python",
   "name": "python3"
  },
  "language_info": {
   "codemirror_mode": {
    "name": "ipython",
    "version": 3
   },
   "file_extension": ".py",
   "mimetype": "text/x-python",
   "name": "python",
   "nbconvert_exporter": "python",
   "pygments_lexer": "ipython3",
   "version": "3.8.5"
  }
 },
 "nbformat": 4,
 "nbformat_minor": 4
}