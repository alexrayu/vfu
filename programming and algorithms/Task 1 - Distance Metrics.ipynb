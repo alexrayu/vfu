{
 "cells": [
  {
   "cell_type": "markdown",
   "metadata": {},
   "source": [
    "This task will review 3 common distance metrics types: **Euclidean**, **Manhattan**, and **Minkowski**.\n",
    "There is a logical connection between the three, and we will take them precisely in this order."
   ]
  },
  {
   "cell_type": "markdown",
   "metadata": {},
   "source": [
    "## Euclidean Distance\n",
    "\n",
    "**Euclidean distance** is the linear distance between two points (vectors) in either 2D or multi-dimensional space (straight line).\n",
    "\n",
    "$d(p,q)=\\sqrt{\\sum _{i=1}^{n}(q_{i}-p_{i})^2}$\n",
    "\n",
    "**Usage:** Measuring direct distance between any two points. Used for calculating the distance for *K-Means* clustering.\n",
    "\n",
    "**Example:** Measure the distance between the two points $a(1, 2)$ and $b(-1, -3)$ that have no obstacles between them."
   ]
  },
  {
   "cell_type": "code",
   "execution_count": 8,
   "metadata": {},
   "outputs": [
    {
     "name": "stdout",
     "output_type": "stream",
     "text": [
      "5.385164807134504\n"
     ]
    }
   ],
   "source": [
    "# Euclidean distance - vanilla calculation.\n",
    "from math import *\n",
    "a = (1, 2)\n",
    "b = (-1, -3)\n",
    "print(str(sqrt(sum(pow(x - y, 2) for x, y in zip(a, b)))))"
   ]
  },
  {
   "cell_type": "code",
   "execution_count": 6,
   "metadata": {},
   "outputs": [
    {
     "name": "stdout",
     "output_type": "stream",
     "text": [
      "5.385164807134504\n"
     ]
    }
   ],
   "source": [
    "# Euclidean distance - SciPy.\n",
    "from scipy.spatial import distance\n",
    "print(str(distance.euclidean(a, b)))"
   ]
  },
  {
   "cell_type": "markdown",
   "metadata": {},
   "source": [
    "## Manhattan (Cityblock) Distance\n",
    "\n",
    "**Manhattan distance** is the distance between two points (vectors) represented by the sum of the absolute differences of their Cartesian coordinates. This is the $p=1$ distance metric *(the p is coming from the Minkowski formula)*.\n",
    "\n",
    "Manhattan Distance is also called *cityblock distance*, because it reflects how the taxi cars can't move from point to point in a straignt line in the city, and must take turns.\n",
    "\n",
    "$d = |x1 - x2| + |y1 - y2|$\n",
    "\n",
    "**Usage:**\n",
    "- Measuring the distance when the path consists of many square turns. This usually reflects the distance on a real-life map.\n",
    "- Being more prformant that the *Euclidean* distance algorithm, it can be used for measuring distances in distance for *K-Means* calculations, when the amount of dimensions is too high and calculation too costly. Here some *precision* is sacrfificed for the sake of *performance*.\n",
    "\n",
    "Thus, the $p=1$ distance metric (Manhattan Distance metric) is the most preferable for high dimensional applications.\n",
    "\n",
    "**Example:** Measure the distance between the two points $a(1, 2)$ and $b(-1, -3)$."
   ]
  },
  {
   "cell_type": "code",
   "execution_count": 10,
   "metadata": {},
   "outputs": [
    {
     "name": "stdout",
     "output_type": "stream",
     "text": [
      "7\n"
     ]
    }
   ],
   "source": [
    "# Manhattan distance - vanilla calculation.\n",
    "a = (1, 2)\n",
    "b = (-1, -3)\n",
    "print(sum(abs(x - y) for x, y in zip(a, b)))"
   ]
  },
  {
   "cell_type": "code",
   "execution_count": 11,
   "metadata": {},
   "outputs": [
    {
     "name": "stdout",
     "output_type": "stream",
     "text": [
      "7\n"
     ]
    }
   ],
   "source": [
    "# Manhattan distance - SciPy.\n",
    "print(distance.cityblock(a, b))"
   ]
  },
  {
   "cell_type": "markdown",
   "metadata": {},
   "source": [
    "## Minkowski Distance\n",
    "\n",
    "**Minkowski distance** is the distance/similarity measurement between two points (vectors) in the normed vector space (N dimensional real space) and is a generalization of the **Euclidean** distance and the **Manhattan** distance, and adds a parameter, called the *order* or $p$, that allows different distance measures to be calculated.\n",
    "\n",
    "$d=(\\sum_{i=1}^n|x_i-y_i|^p)^\\frac{1}{p}$\n",
    "\n",
    "**Usage:** Used as a generalized distance metric. When $p = 1$, it serves as a **Manhattan** distance. When $p = 2$, it serves as a **Euclidean** distance. When $p = \\infty$, it serves as a **Chebychev** distance.\n",
    "\n",
    "It is common to use **Minkowski** distance when implementing a machine learning algorithm that uses distance measures as it gives control over the type of distance measure used for real-valued vectors via a hyperparameter $p$ that can be tuned.\n",
    "\n",
    "**Example:** Measure the distance between the two points $a(1, 2)$ and $b(-1, -3)$."
   ]
  },
  {
   "cell_type": "code",
   "execution_count": 14,
   "metadata": {},
   "outputs": [
    {
     "name": "stdout",
     "output_type": "stream",
     "text": [
      "5.104\n"
     ]
    }
   ],
   "source": [
    "# Minkowski  distance - vanilla calculation.\n",
    "from math import *\n",
    "from decimal import Decimal\n",
    "def nth_root(value, n_root):\n",
    "    root_value = 1 / float(n_root)\n",
    "    return round(Decimal(value) ** Decimal(root_value), 3)\n",
    " \n",
    "def minkowski_distance(x, y, p_value):\n",
    "    return nth_root(sum(pow(abs(a - b), p_value) for a, b in zip(x, y)), p_value)\n",
    "\n",
    "a = (1, 2)\n",
    "b = (-1, -3)\n",
    "print(minkowski_distance(a, b, 3))"
   ]
  },
  {
   "cell_type": "code",
   "execution_count": 15,
   "metadata": {},
   "outputs": [
    {
     "name": "stdout",
     "output_type": "stream",
     "text": [
      "5.104468722001463\n"
     ]
    }
   ],
   "source": [
    "# Minkowski distance - SciPy.\n",
    "print(distance.minkowski(a, b, 3))"
   ]
  }
 ],
 "metadata": {
  "kernelspec": {
   "display_name": "Python 3",
   "language": "python",
   "name": "python3"
  },
  "language_info": {
   "codemirror_mode": {
    "name": "ipython",
    "version": 3
   },
   "file_extension": ".py",
   "mimetype": "text/x-python",
   "name": "python",
   "nbconvert_exporter": "python",
   "pygments_lexer": "ipython3",
   "version": "3.8.5"
  }
 },
 "nbformat": 4,
 "nbformat_minor": 4
}
