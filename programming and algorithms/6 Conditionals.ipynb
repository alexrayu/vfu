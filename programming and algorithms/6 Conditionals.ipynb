{
 "cells": [
  {
   "cell_type": "code",
   "execution_count": 11,
   "metadata": {},
   "outputs": [
    {
     "name": "stdout",
     "output_type": "stream",
     "text": [
      "Side a: 31\n",
      "Side b: 32\n",
      "Side c: 33\n",
      "Scalene.\n"
     ]
    }
   ],
   "source": [
    "# Task 1: Type of a triangle.\n",
    "a = input('Side a: ')\n",
    "b = input('Side b: ')\n",
    "c = input('Side c: ')\n",
    "if a == b and a == c:\n",
    "    print('Equilateral.')\n",
    "elif a == b or b == c or a == c:\n",
    "    print('Isosceles.')\n",
    "else:\n",
    "    print('Scalene.')"
   ]
  },
  {
   "cell_type": "code",
   "execution_count": 18,
   "metadata": {},
   "outputs": [
    {
     "name": "stdout",
     "output_type": "stream",
     "text": [
      "Year: 2019\n",
      "Not leap.\n"
     ]
    }
   ],
   "source": [
    "# Task 2: Leap year.\n",
    "year = int(input('Year: '))\n",
    "if year % 400 == 0 or (year % 4 == 0 and year % 100 != 0):\n",
    "    print('Leap.')\n",
    "else:\n",
    "    print('Not leap.')"
   ]
  },
  {
   "cell_type": "code",
   "execution_count": 33,
   "metadata": {},
   "outputs": [
    {
     "name": "stdout",
     "output_type": "stream",
     "text": [
      "Number to check: 201\n",
      "No\n"
     ]
    }
   ],
   "source": [
    "# Task 3: Intervals.\n",
    "intervals = [[100, 200], [1000, 2000]]\n",
    "num = int(input('Number to check: '))\n",
    "result = 'No'\n",
    "for interval in intervals:\n",
    "    min, max = interval\n",
    "    if num >= min and num <= max:\n",
    "        result = 'Yes'\n",
    "        break\n",
    "print(result)"
   ]
  },
  {
   "cell_type": "code",
   "execution_count": 38,
   "metadata": {},
   "outputs": [
    {
     "name": "stdout",
     "output_type": "stream",
     "text": [
      "Number: -10\n",
      "10\n"
     ]
    }
   ],
   "source": [
    "# Task 4: abs(x).\n",
    "num = int(input('Number: '))\n",
    "print(-num if num < 0 else num)"
   ]
  },
  {
   "cell_type": "code",
   "execution_count": 4,
   "metadata": {},
   "outputs": [
    {
     "name": "stdout",
     "output_type": "stream",
     "text": [
      "Numbers to check (1 2 3): 5 7 9\n",
      "No\n"
     ]
    }
   ],
   "source": [
    "# Task 5: Pythagorean Triples.\n",
    "nums = input('Numbers to check (1 2 3): ')\n",
    "nums = nums.split(' ')\n",
    "if len(nums) == 3:\n",
    "    a, b, c = map(int, list(nums))\n",
    "    if a ** 2 + b ** 2 == c ** 2:\n",
    "        print('Yes')\n",
    "    else:\n",
    "        print('No')\n",
    "    "
   ]
  },
  {
   "cell_type": "code",
   "execution_count": null,
   "metadata": {},
   "outputs": [],
   "source": []
  }
 ],
 "metadata": {
  "kernelspec": {
   "display_name": "Python 3",
   "language": "python",
   "name": "python3"
  },
  "language_info": {
   "codemirror_mode": {
    "name": "ipython",
    "version": 3
   },
   "file_extension": ".py",
   "mimetype": "text/x-python",
   "name": "python",
   "nbconvert_exporter": "python",
   "pygments_lexer": "ipython3",
   "version": "3.8.5"
  }
 },
 "nbformat": 4,
 "nbformat_minor": 4
}
