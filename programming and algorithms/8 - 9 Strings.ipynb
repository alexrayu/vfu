{
 "cells": [
  {
   "cell_type": "code",
   "execution_count": 4,
   "metadata": {},
   "outputs": [
    {
     "name": "stdout",
     "output_type": "stream",
     "text": [
      "5 Varna, Bulgaria "
     ]
    }
   ],
   "source": [
    "print(len('Varna'), end=' ')\n",
    "print('Varna' + ', ' + 'Bulgaria', end=' ')"
   ]
  },
  {
   "cell_type": "code",
   "execution_count": 7,
   "metadata": {},
   "outputs": [
    {
     "name": "stdout",
     "output_type": "stream",
     "text": [
      "0, 1, 2, 3\n"
     ]
    }
   ],
   "source": [
    "numbers = [0, 1, 2, 3]\n",
    "print(', '.join(map(str, list(numbers))))"
   ]
  },
  {
   "cell_type": "code",
   "execution_count": 8,
   "metadata": {},
   "outputs": [
    {
     "name": "stdout",
     "output_type": "stream",
     "text": [
      "WRONG CASE\n",
      "wrong case\n"
     ]
    }
   ],
   "source": [
    "text = 'Wrong cASE'\n",
    "print(text.upper())\n",
    "print(text.lower())"
   ]
  },
  {
   "cell_type": "code",
   "execution_count": 10,
   "metadata": {},
   "outputs": [
    {
     "name": "stdout",
     "output_type": "stream",
     "text": [
      "True True True True True True True "
     ]
    }
   ],
   "source": [
    "print('abc123'.isalnum(), end=' ')\n",
    "print('abcdef'.isalpha(), end=' ')\n",
    "print('abc'.islower(), end=' ')\n",
    "print('123'.isnumeric(), end=' ')\n",
    "print(' '.isspace(), end=' ')\n",
    "print('Hello'.istitle(), end=' ')\n",
    "print('HELLO'.isupper(), end=' ')"
   ]
  },
  {
   "cell_type": "code",
   "execution_count": 11,
   "metadata": {},
   "outputs": [
    {
     "name": "stdout",
     "output_type": "stream",
     "text": [
      "Varna - EYC 2021\n"
     ]
    }
   ],
   "source": [
    "name = \"Varna\"\n",
    "year = 2021\n",
    "print(\"%s - EYC %d\" % (name, year))"
   ]
  },
  {
   "cell_type": "code",
   "execution_count": 15,
   "metadata": {},
   "outputs": [
    {
     "data": {
      "text/plain": [
       "'c, b, a'"
      ]
     },
     "execution_count": 15,
     "metadata": {},
     "output_type": "execute_result"
    }
   ],
   "source": [
    "# Access arguments by position.\n",
    "'{2}, {1}, {0}'.format('a', 'b', 'c')"
   ]
  },
  {
   "cell_type": "code",
   "execution_count": 28,
   "metadata": {},
   "outputs": [
    {
     "data": {
      "text/plain": [
       "'a, b, c'"
      ]
     },
     "execution_count": 28,
     "metadata": {},
     "output_type": "execute_result"
    }
   ],
   "source": [
    "'{}, {}, {}'.format('a', 'b', 'c')"
   ]
  },
  {
   "cell_type": "code",
   "execution_count": 16,
   "metadata": {},
   "outputs": [
    {
     "data": {
      "text/plain": [
       "'abracadabra'"
      ]
     },
     "execution_count": 16,
     "metadata": {},
     "output_type": "execute_result"
    }
   ],
   "source": [
    "'{0}{1}{0}'.format('abra', 'cad')"
   ]
  },
  {
   "cell_type": "code",
   "execution_count": 17,
   "metadata": {},
   "outputs": [
    {
     "data": {
      "text/plain": [
       "'left aligned                  '"
      ]
     },
     "execution_count": 17,
     "metadata": {},
     "output_type": "execute_result"
    }
   ],
   "source": [
    "# Align and pad text.\n",
    "'{:<30}'.format('left aligned')"
   ]
  },
  {
   "cell_type": "code",
   "execution_count": 18,
   "metadata": {},
   "outputs": [
    {
     "data": {
      "text/plain": [
       "'                 right aligned'"
      ]
     },
     "execution_count": 18,
     "metadata": {},
     "output_type": "execute_result"
    }
   ],
   "source": [
    "'{:>30}'.format('right aligned')"
   ]
  },
  {
   "cell_type": "code",
   "execution_count": 19,
   "metadata": {},
   "outputs": [
    {
     "data": {
      "text/plain": [
       "'           centered           '"
      ]
     },
     "execution_count": 19,
     "metadata": {},
     "output_type": "execute_result"
    }
   ],
   "source": [
    "'{:^30}'.format('centered')"
   ]
  },
  {
   "cell_type": "code",
   "execution_count": 20,
   "metadata": {},
   "outputs": [
    {
     "data": {
      "text/plain": [
       "'-----------centered-----------'"
      ]
     },
     "execution_count": 20,
     "metadata": {},
     "output_type": "execute_result"
    }
   ],
   "source": [
    "'{:-^30}'.format('centered')"
   ]
  },
  {
   "cell_type": "code",
   "execution_count": 27,
   "metadata": {},
   "outputs": [
    {
     "name": "stdout",
     "output_type": "stream",
     "text": [
      "S, a, mol, mol, "
     ]
    }
   ],
   "source": [
    "# Indexing (like C++).\n",
    "print('Smolyan'[0], end=', ')\n",
    "print('Smolyan'[-2], end=', ')\n",
    "print('Smolyan'[-6:-3], end=', ')\n",
    "print('Smolyan'[1:4], end=', ')"
   ]
  },
  {
   "cell_type": "code",
   "execution_count": 30,
   "metadata": {},
   "outputs": [
    {
     "name": "stdout",
     "output_type": "stream",
     "text": [
      "['a', 'b']\n",
      "a, b\n"
     ]
    }
   ],
   "source": [
    "# Split and join.\n",
    "print('a,b'.split(','))\n",
    "print(', '.join(['a', 'b']))"
   ]
  },
  {
   "cell_type": "code",
   "execution_count": 35,
   "metadata": {},
   "outputs": [
    {
     "name": "stdout",
     "output_type": "stream",
     "text": [
      "True 5 5 -1 2 "
     ]
    }
   ],
   "source": [
    "# Searching.\n",
    "print('varna' in 'Kavarna', end=' ')\n",
    "print('Data mining'.index('mining'), end=' ')\n",
    "print('Data mining'.find('mining'), end=' ')\n",
    "print('Data mining'.find('learning'), end=' ')\n",
    "print('Data mining'.count('n'), end=' ')"
   ]
  },
  {
   "cell_type": "code",
   "execution_count": 37,
   "metadata": {},
   "outputs": [
    {
     "name": "stdout",
     "output_type": "stream",
     "text": [
      "Big Data Mining, Machine Learning, Big Data Camp.\n",
      "Info Mining, Machine Learning, Data Camp.\n"
     ]
    }
   ],
   "source": [
    "# Replace.\n",
    "text = 'Data Mining, Machine Learning, Data Camp.'\n",
    "print(text.replace('Data', 'Big Data'))\n",
    "print(text.replace('Data', 'Info', 1))"
   ]
  },
  {
   "cell_type": "code",
   "execution_count": 40,
   "metadata": {},
   "outputs": [
    {
     "data": {
      "text/plain": [
       "[Synset('cat.n.01'),\n",
       " Synset('guy.n.01'),\n",
       " Synset('cat.n.03'),\n",
       " Synset('kat.n.01'),\n",
       " Synset('cat-o'-nine-tails.n.01'),\n",
       " Synset('caterpillar.n.02'),\n",
       " Synset('big_cat.n.01'),\n",
       " Synset('computerized_tomography.n.01'),\n",
       " Synset('cat.v.01'),\n",
       " Synset('vomit.v.01')]"
      ]
     },
     "execution_count": 40,
     "metadata": {},
     "output_type": "execute_result"
    }
   ],
   "source": [
    "# NLTK\n",
    "from nltk.corpus import wordnet as wn\n",
    "wn.synsets('cat')"
   ]
  },
  {
   "cell_type": "code",
   "execution_count": 41,
   "metadata": {},
   "outputs": [
    {
     "data": {
      "text/plain": [
       "0.04"
      ]
     },
     "execution_count": 41,
     "metadata": {},
     "output_type": "execute_result"
    }
   ],
   "source": [
    "x = wn.synset('cat.n.01')\n",
    "y = wn.synset('lynx.n.01')\n",
    "x.path_similarity(y)"
   ]
  },
  {
   "cell_type": "code",
   "execution_count": 43,
   "metadata": {},
   "outputs": [
    {
     "data": {
      "text/plain": [
       "['an informal term for a youth or man', 'informal term for a man']"
      ]
     },
     "execution_count": 43,
     "metadata": {},
     "output_type": "execute_result"
    }
   ],
   "source": [
    "# Find most semantically close items in \"cat\" and \"dog\" symantic sets.\n",
    "[simxy.definition() for simxy in max(\n",
    "  (x.path_similarity(y), x, y)  \n",
    "  for x in wn.synsets('cat')\n",
    "    for y in wn.synsets('dog')\n",
    "      if x.path_similarity(y) # Ensure synsets are related at all.\n",
    ")[1:]]"
   ]
  },
  {
   "cell_type": "code",
   "execution_count": 53,
   "metadata": {},
   "outputs": [
    {
     "name": "stdout",
     "output_type": "stream",
     "text": [
      "['}', 'Help', '!', ':)))', ':[', '.....', ':', 'D', '{']\n",
      "['}', 'Help', '!', ':', ')', ')', ')', ':', '[', '...', '..', ':', 'D', '{']\n"
     ]
    }
   ],
   "source": [
    "# Tokenization. Special tokenizer better than generic NLTK for emojis.\n",
    "import nltk\n",
    "from nltk.tokenize import WordPunctTokenizer\n",
    "word_punct = WordPunctTokenizer()\n",
    "text = \"}Help! :))) :[ ..... :D{\"\n",
    "print(word_punct.tokenize(text))\n",
    "print(nltk.word_tokenize(text))"
   ]
  },
  {
   "cell_type": "code",
   "execution_count": 56,
   "metadata": {},
   "outputs": [
    {
     "name": "stdout",
     "output_type": "stream",
     "text": [
      "wonder\n",
      "wond\n",
      "wonderful\n"
     ]
    }
   ],
   "source": [
    "# Stemming.\n",
    "pstemmer = nltk.PorterStemmer()\n",
    "print(pstemmer.stem('wonderful'))\n",
    "lstemmer = nltk.LancasterStemmer()\n",
    "print(lstemmer.stem('wonderful'))\n",
    "lemmatizer = nltk.WordNetLemmatizer()\n",
    "print(lemmatizer.lemmatize('wonderful'))"
   ]
  },
  {
   "cell_type": "code",
   "execution_count": 98,
   "metadata": {},
   "outputs": [
    {
     "name": "stdout",
     "output_type": "stream",
     "text": [
      "['This', \"'snake\", 'robot', \"'\", 'will', 'fix', 'pipelines', 'on', 'the', 'ocean', 'floor', '-', 'CNN', '{', '``', '@', 'context', \"''\", ':', '``', 'http', ':', '//schema.org/', \"''\", ',', '``', '@', 'type', \"''\", ':']\n",
      "[]\n"
     ]
    }
   ],
   "source": [
    "# Display 10 most used words from the current CNN article.\n",
    "# NOTE: Takes a few minutes to run!\n",
    "import requests\n",
    "from bs4 import BeautifulSoup\n",
    "from collections import Counter\n",
    "from nltk.corpus import stopwords\n",
    "from nltk import LancasterStemmer\n",
    "ls = nltk.LancasterStemmer()\n",
    "soup = BeautifulSoup(requests.get('https://edition.cnn.com/world').text)\n",
    "link = 'https://edition.cnn.com' + soup.select_one('h3.cd__headline a').get('href')\n",
    "text = requests.get(link).text\n",
    "soup = BeautifulSoup(requests.get(link).text)\n",
    "words = nltk.word_tokenize(soup.text)\n",
    "print(words[:30])\n",
    "words = [ls.stem(w) for w in text if w not in\n",
    "        stopwords.words('english') and w.isalnum() and len(w) > 3]\n",
    "freqs = Counter(words)\n",
    "print(freqs.most_common(10))"
   ]
  },
  {
   "cell_type": "code",
   "execution_count": null,
   "metadata": {},
   "outputs": [],
   "source": []
  }
 ],
 "metadata": {
  "kernelspec": {
   "display_name": "Python 3",
   "language": "python",
   "name": "python3"
  },
  "language_info": {
   "codemirror_mode": {
    "name": "ipython",
    "version": 3
   },
   "file_extension": ".py",
   "mimetype": "text/x-python",
   "name": "python",
   "nbconvert_exporter": "python",
   "pygments_lexer": "ipython3",
   "version": "3.8.5"
  }
 },
 "nbformat": 4,
 "nbformat_minor": 4
}
