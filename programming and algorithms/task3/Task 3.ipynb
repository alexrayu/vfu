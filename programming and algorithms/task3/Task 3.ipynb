{
 "cells": [
  {
   "cell_type": "code",
   "execution_count": 12,
   "metadata": {},
   "outputs": [
    {
     "name": "stdout",
     "output_type": "stream",
     "text": [
      "['Afghanistan', '1952', '8425333', 'Asia', '28.801', '779.4453145']\n"
     ]
    }
   ],
   "source": [
    "# Load the data from WorldInfo.csv.\n",
    "import csv\n",
    "with open('WorldInfo.csv', newline=\"\\n\") as f:\n",
    "    reader = csv.reader(f)\n",
    "    next(f)\n",
    "    data = list(reader)\n",
    "print(data[0])"
   ]
  },
  {
   "cell_type": "code",
   "execution_count": 13,
   "metadata": {},
   "outputs": [],
   "source": [
    "# Output the latest GDP per Capita for each country in GDP.csv.\n",
    "res = {}\n",
    "\n",
    "# Group by largest year.\n",
    "for entry in data:\n",
    "    if entry[0] not in res or int(entry[1]) > int(res[entry[0]][0]):\n",
    "        res[entry[0]] = [entry[1], entry[5]]\n",
    "\n",
    "# Write csv.\n",
    "with open('results/GDP.csv', 'w') as fh:\n",
    "    fields = ['country', 'year', 'gdpPercap']\n",
    "    writer = csv.DictWriter(fh, fieldnames=fields)\n",
    "    writer.writeheader()\n",
    "    for country in res:\n",
    "        writer.writerow({\n",
    "            'country': country,\n",
    "            'year': res[country][0],\n",
    "            'gdpPercap': res[country][1],\n",
    "        })"
   ]
  },
  {
   "cell_type": "code",
   "execution_count": 14,
   "metadata": {},
   "outputs": [],
   "source": [
    "# Output the countries by continent in [Continent Name]-List.csv.\n",
    "res = {}\n",
    "\n",
    "# Group.\n",
    "for entry in data:\n",
    "    if not entry[3] in res:\n",
    "        res[entry[3]] = set()\n",
    "    res[entry[3]].add(entry[0])\n",
    "\n",
    "# Write csv.\n",
    "for continent in res:\n",
    "    with open('results/' + continent + '.csv', 'w') as fh:\n",
    "        writer = csv.DictWriter(fh, fieldnames=['country'])\n",
    "        writer.writeheader()\n",
    "        for country in res[continent]:\n",
    "            writer.writerow({'country': country})"
   ]
  },
  {
   "cell_type": "code",
   "execution_count": 15,
   "metadata": {
    "pycharm": {
     "name": "#%%\n"
    }
   },
   "outputs": [],
   "source": [
    "# Output each continent top 10 countries by population for 1997.\n",
    "res = {}\n",
    "\n",
    "# Filter for 1997. \n",
    "for entry in data:\n",
    "    if not entry[3] in res:\n",
    "        res[entry[3]] = {}\n",
    "    if entry[1] == '1997':\n",
    "        res[entry[3]][entry[0]] = entry\n",
    "\n",
    "# Sort each continent countries by population.\n",
    "for continent in res:\n",
    "    countries = res[continent]\n",
    "    population = []\n",
    "    for country in countries:\n",
    "        population.append([country, countries[country][2]])\n",
    "    population.sort(key=lambda x: int(x[1]), reverse=True)\n",
    "    population = population[:10]\n",
    "\n",
    "    # Write csv.\n",
    "    with open('results/' + continent + '-Population.csv', 'w') as fh:\n",
    "        writer = csv.DictWriter(fh, fieldnames=['country', 'population'])\n",
    "        writer.writeheader()\n",
    "        for entry in population:\n",
    "            writer.writerow({'country': entry[0], 'population': entry[1]})"
   ]
  },
  {
   "cell_type": "code",
   "execution_count": 16,
   "outputs": [],
   "source": [
    "# For each country export year of the census and average life expectancy in [Country Name].csv\n",
    "\n",
    "records = {}\n",
    "for entry in data:\n",
    "    if entry[0] not in records:\n",
    "        records[entry[0]] = []\n",
    "    records[entry[0]].append([entry[1], entry[4]])\n",
    "\n",
    "# Write csv.\n",
    "for country in records:\n",
    "    with open('results/' + country + '.csv', 'w') as fh:\n",
    "        writer = csv.DictWriter(fh, fieldnames=['year', 'lifeExp'])\n",
    "        writer.writeheader()\n",
    "        for items in records[country]:\n",
    "            writer.writerow({'year': items[0], 'lifeExp': items[1]})"
   ],
   "metadata": {
    "collapsed": false,
    "pycharm": {
     "name": "#%%\n"
    }
   }
  }
 ],
 "metadata": {
  "kernelspec": {
   "display_name": "Python 3",
   "language": "python",
   "name": "python3"
  },
  "language_info": {
   "codemirror_mode": {
    "name": "ipython",
    "version": 3
   },
   "file_extension": ".py",
   "mimetype": "text/x-python",
   "name": "python",
   "nbconvert_exporter": "python",
   "pygments_lexer": "ipython3",
   "version": "3.8.5"
  }
 },
 "nbformat": 4,
 "nbformat_minor": 4
}