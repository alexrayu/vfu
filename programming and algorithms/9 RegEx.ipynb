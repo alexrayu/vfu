{
 "cells": [
  {
   "cell_type": "code",
   "execution_count": 1,
   "metadata": {},
   "outputs": [],
   "source": [
    "import re"
   ]
  },
  {
   "cell_type": "code",
   "execution_count": 19,
   "metadata": {},
   "outputs": [
    {
     "name": "stdout",
     "output_type": "stream",
     "text": [
      "True, False, True, True, True, False, False, False, True, True, True, True, True, "
     ]
    }
   ],
   "source": [
    "print(bool(re.fullmatch('[013][FXB]', '1X')), end=', ')\n",
    "print(bool(re.fullmatch('[013][FXB]', 'TZ')), end=', ')\n",
    "print(bool(re.fullmatch('[-0-9][0-9]', '-9')), end=', ')\n",
    "print(bool(re.fullmatch('[-0-9][0-9]', '99')), end=', ')\n",
    "print(bool(re.fullmatch('[^AEIOU]', 'X')), end=', ')\n",
    "print(bool(re.fullmatch('[^AEIOU]', 'E')), end=', ')\n",
    "print(bool(re.fullmatch('[0-9][0-9]', '1432')), end=', ')\n",
    "print(bool(re.fullmatch('^[0-9][0-9]$', '1432')), end=', ')\n",
    "print(bool(re.fullmatch('[0-9]{3}-?[0-9]{3}-?[0-9]{4}', '470-127-7501')), end=', ')\n",
    "print(bool(re.fullmatch('[0-9]?[A-Z]{2}', 'BC')), end=', ')\n",
    "print(bool(re.fullmatch('[A-Z]{2,3}', 'AZ')), end=', ')\n",
    "print(bool(re.fullmatch('ALPHA|BETA|GAMMA', 'BETA')), end=', ')\n",
    "print(bool(re.fullmatch('[0-9]{3}-[0-9]{3}-[0-9]{4}', '470-127-7501')), end=', ')"
   ]
  },
  {
   "cell_type": "code",
   "execution_count": 13,
   "metadata": {},
   "outputs": [
    {
     "name": "stdout",
     "output_type": "stream",
     "text": [
      "Colorado,111559\n"
     ]
    }
   ],
   "source": [
    "fh = open(r'sample.csv').read()\n",
    "for line in fh.split('\\n'):\n",
    "    if 'ora' in line:\n",
    "        print(line)"
   ]
  },
  {
   "cell_type": "code",
   "execution_count": 17,
   "metadata": {},
   "outputs": [
    {
     "name": "stdout",
     "output_type": "stream",
     "text": [
      "Colorado,111559\n"
     ]
    }
   ],
   "source": [
    "import re\n",
    "fh = open(r'sample.csv').read()\n",
    "for line in re.findall('.*ora.*', fh):\n",
    "    print(line)"
   ]
  },
  {
   "cell_type": "code",
   "execution_count": 18,
   "metadata": {},
   "outputs": [
    {
     "name": "stdout",
     "output_type": "stream",
     "text": [
      "<class 're.Match'>, <class 'str'>, <re.Match object; span=(76, 91), match='Colorado,111559'>, Colorado,111559, "
     ]
    }
   ],
   "source": [
    "import re\n",
    "fh = open(r'sample.csv').read()\n",
    "match = re.search('.*ora.*', fh)\n",
    "print(type(match), end=', ')\n",
    "print(type(match.group()), end=', ')\n",
    "print(match, end=', ')\n",
    "print(match.group(), end=', ')"
   ]
  },
  {
   "cell_type": "code",
   "execution_count": null,
   "metadata": {},
   "outputs": [],
   "source": []
  }
 ],
 "metadata": {
  "kernelspec": {
   "display_name": "Python 3",
   "language": "python",
   "name": "python3"
  },
  "language_info": {
   "codemirror_mode": {
    "name": "ipython",
    "version": 3
   },
   "file_extension": ".py",
   "mimetype": "text/x-python",
   "name": "python",
   "nbconvert_exporter": "python",
   "pygments_lexer": "ipython3",
   "version": "3.8.5"
  }
 },
 "nbformat": 4,
 "nbformat_minor": 4
}
