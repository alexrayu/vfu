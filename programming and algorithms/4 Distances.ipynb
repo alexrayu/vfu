{
 "cells": [
  {
   "cell_type": "code",
   "execution_count": 4,
   "metadata": {},
   "outputs": [],
   "source": [
    "from math import *\n",
    "from scipy.spatial import distance\n",
    "from decimal import Decimal\n",
    "a = [0, 0]\n",
    "b = [1, 1]"
   ]
  },
  {
   "cell_type": "code",
   "execution_count": 15,
   "metadata": {},
   "outputs": [
    {
     "name": "stdout",
     "output_type": "stream",
     "text": [
      "Formula: 1.4142135623730951\n",
      "SciPy: 1.4142135623730951\n"
     ]
    }
   ],
   "source": [
    "# Euclidean Distance (vector).\n",
    "print(\"Vanilla: \" + str(sqrt(sum(pow(x - y, 2) for x, y in zip(a, b)))))\n",
    "print(\"SciPy: \" + str(distance.euclidean(a, b)))"
   ]
  },
  {
   "cell_type": "code",
   "execution_count": 5,
   "metadata": {},
   "outputs": [
    {
     "name": "stdout",
     "output_type": "stream",
     "text": [
      "Vanilla: 2\n",
      "SciPy: 2\n"
     ]
    }
   ],
   "source": [
    "# Manhattan Distance (map).\n",
    "print(\"Vanilla: \" + str(sum(abs(x - y) for x, y in zip(a, b))))\n",
    "print(\"SciPy: \" + str(distance.cityblock(a, b)))"
   ]
  },
  {
   "cell_type": "code",
   "execution_count": 6,
   "metadata": {},
   "outputs": [
    {
     "name": "stdout",
     "output_type": "stream",
     "text": [
      "1.260\n"
     ]
    }
   ],
   "source": [
    "# Minkowski Distance.\n",
    "def nth_root(value, n_root):\n",
    "    root_value = 1 / float(n_root)\n",
    "    return round(Decimal(value) ** Decimal(root_value), 3)\n",
    " \n",
    "def minkowski_distance(x, y, p_value):\n",
    "    return nth_root(sum(pow(abs(a - b), p_value) for a, b in zip(x, y)), p_value)\n",
    " \n",
    "print(minkowski_distance(a, b, 3))"
   ]
  },
  {
   "cell_type": "code",
   "execution_count": 5,
   "metadata": {},
   "outputs": [
    {
     "name": "stdout",
     "output_type": "stream",
     "text": [
      "0.4\n"
     ]
    }
   ],
   "source": [
    "# Jaccard Similarity.\n",
    "def jaccard(a, b):\n",
    "    intersection_card = len(set.intersection(*[set(a), set(b)]))\n",
    "    union_card = len(set.union(*[set(a), set(b)]))\n",
    "    return intersection_card / float(union_card)\n",
    "print(jaccard(['a', 'b', 'c'], ['z', 'b', 'c', 'd']))"
   ]
  }
 ],
 "metadata": {
  "kernelspec": {
   "display_name": "Python 3",
   "language": "python",
   "name": "python3"
  },
  "language_info": {
   "codemirror_mode": {
    "name": "ipython",
    "version": 3
   },
   "file_extension": ".py",
   "mimetype": "text/x-python",
   "name": "python",
   "nbconvert_exporter": "python",
   "pygments_lexer": "ipython3",
   "version": "3.8.5"
  }
 },
 "nbformat": 4,
 "nbformat_minor": 4
}
