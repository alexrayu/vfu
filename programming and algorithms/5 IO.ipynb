{
 "cells": [
  {
   "cell_type": "code",
   "execution_count": 15,
   "metadata": {},
   "outputs": [],
   "source": [
    "import csv\n",
    "import json"
   ]
  },
  {
   "cell_type": "code",
   "execution_count": 4,
   "metadata": {},
   "outputs": [
    {
     "name": "stdout",
     "output_type": "stream",
     "text": [
      "Type the value of a: 12345\n"
     ]
    },
    {
     "data": {
      "text/plain": [
       "'12345'"
      ]
     },
     "execution_count": 4,
     "metadata": {},
     "output_type": "execute_result"
    }
   ],
   "source": [
    "# User input.\n",
    "a = input('Type the value of a: ')\n",
    "a"
   ]
  },
  {
   "cell_type": "code",
   "execution_count": 16,
   "metadata": {},
   "outputs": [
    {
     "data": {
      "text/plain": [
       "['State', 'Salary']"
      ]
     },
     "execution_count": 16,
     "metadata": {},
     "output_type": "execute_result"
    }
   ],
   "source": [
    "# File input - read csv.\n",
    "with open('sample.csv', newline=\"\\n\") as f:\n",
    "    reader = csv.reader(f)\n",
    "    data = list(reader)\n",
    "data[0]"
   ]
  },
  {
   "cell_type": "code",
   "execution_count": 17,
   "metadata": {},
   "outputs": [
    {
     "data": {
      "text/plain": [
       "'[[\"State\", \"Salary\"], [\"Alabama\", \"84109\"], [\"Arizona\", \"100362\"], [\"Arkansas\", \"111347\"], [\"California\", \"143460\"], [\"Colorado\", \"111559\"], [\"Connecticut\", \"118517\"], [\"Delaware\", \"95179\"], [\"Florida\", \"103545\"], [\"Georgia\", \"101759\"], [\"Idaho\", \"114314\"], [\"Illinois\", \"117744\"], [\"Indiana\", \"96354\"], [\"Iowa\", \"97343\"], [\"Kansas\", \"103176\"], [\"Kentucky\", \"95952\"], [\"Maryland\", \"108934\"], [\"Massachusetts\", \"135847\"], [\"Michigan\", \"108806\"], [\"Minnesota\", \"86990\"], [\"Missouri\", \"101050\"], [\"Nebraska\", \"98159\"], [\"New Jersey\", \"102913\"], [\"New York State\", \"136226\"], [\"North Carolina\", \"101153\"], [\"Ohio\", \"106943\"], [\"Pennsylvania\", \"115753\"], [\"South Carolina\", \"129168\"], [\"Tennessee\", \"157182\"], [\"Texas\", \"110187\"], [\"Utah\", \"121704\"], [\"Virginia\", \"126364\"], [\"Washington\", \"138487\"], [\"Wisconsin\", \"148578\"]]'"
      ]
     },
     "execution_count": 17,
     "metadata": {},
     "output_type": "execute_result"
    }
   ],
   "source": [
    "# Convert list to json.\n",
    "data_json = json.dumps(data)\n",
    "data_json"
   ]
  },
  {
   "cell_type": "code",
   "execution_count": null,
   "metadata": {},
   "outputs": [],
   "source": []
  }
 ],
 "metadata": {
  "kernelspec": {
   "display_name": "Python 3",
   "language": "python",
   "name": "python3"
  },
  "language_info": {
   "codemirror_mode": {
    "name": "ipython",
    "version": 3
   },
   "file_extension": ".py",
   "mimetype": "text/x-python",
   "name": "python",
   "nbconvert_exporter": "python",
   "pygments_lexer": "ipython3",
   "version": "3.8.5"
  }
 },
 "nbformat": 4,
 "nbformat_minor": 4
}
