{
 "cells": [
  {
   "cell_type": "code",
   "execution_count": 1,
   "metadata": {},
   "outputs": [
    {
     "name": "stdout",
     "output_type": "stream",
     "text": [
      "['Afghanistan', '1952', '8425333', 'Asia', '28.801', '779.4453145']\n"
     ]
    }
   ],
   "source": [
    "# Load the data from WorldInfo.csv.\n",
    "import csv\n",
    "with open('assets/WorldInfo.csv', newline=\"\\n\") as f:\n",
    "    reader = csv.reader(f)\n",
    "    next(f)\n",
    "    data = list(reader)\n",
    "print(data[0])"
   ]
  },
  {
   "cell_type": "code",
   "execution_count": 18,
   "metadata": {},
   "outputs": [],
   "source": [
    "# Output the latest GDP per Capita for each country in GDP.csv.\n",
    "res = {}\n",
    "\n",
    "# Group by largest year.\n",
    "for entry in data:\n",
    "    if entry[0] not in res or int(entry[1]) > int(res[entry[0]][0]):\n",
    "        res[entry[0]] = [entry[1], entry[5]]\n",
    "\n",
    "# Write csv.\n",
    "with open('assets/GDP.csv', 'w') as fh:\n",
    "    fields = ['country', 'year', 'gdpPercap']\n",
    "    writer = csv.DictWriter(fh, fieldnames=fields)\n",
    "    writer.writeheader()\n",
    "    for country in res:\n",
    "        writer.writerow({\n",
    "            'country': country,\n",
    "            'year': res[country][0],\n",
    "            'gdpPercap': res[country][1],\n",
    "        })"
   ]
  },
  {
   "cell_type": "code",
   "execution_count": 29,
   "metadata": {},
   "outputs": [],
   "source": [
    "# Output the countries by continent in [Continent Name]-List.csv.\n",
    "res = {}\n",
    "\n",
    "# Group.\n",
    "for entry in data:\n",
    "    if not entry[3] in res:\n",
    "        res[entry[3]] = set()\n",
    "    res[entry[3]].add(entry[0])\n",
    "\n",
    "# Write csv.\n",
    "for continent in res:\n",
    "    with open('assets/' + continent + '.csv', 'w') as fh:\n",
    "        writer = csv.DictWriter(fh, fieldnames=['country'])\n",
    "        writer.writeheader()\n",
    "        for country in res[continent]:\n",
    "            writer.writerow({'country': country})"
   ]
  },
  {
   "cell_type": "code",
   "execution_count": 36,
   "metadata": {},
   "outputs": [
    {
     "name": "stdout",
     "output_type": "stream",
     "text": [
      "Asia\n",
      "{'Afghanistan': ['Afghanistan', '1997', '22227415', 'Asia', '41.763', '635.341351'], 'Bahrain': ['Bahrain', '1997', '598561', 'Asia', '73.925', '20292.01679'], 'Bangladesh': ['Bangladesh', '1997', '123315288', 'Asia', '59.412', '972.7700352'], 'Cambodia': ['Cambodia', '1997', '11782962', 'Asia', '56.534', '734.28517'], 'China': ['China', '1997', '1230075000', 'Asia', '70.426', '2289.234136'], 'Hong Kong, China': ['Hong Kong, China', '1997', '6495918', 'Asia', '80', '28377.63219'], 'India': ['India', '1997', '959000000', 'Asia', '61.765', '1458.817442'], 'Indonesia': ['Indonesia', '1997', '199278000', 'Asia', '66.041', '3119.335603'], 'Iran': ['Iran', '1997', '63327987', 'Asia', '68.042', '8263.590301'], 'Iraq': ['Iraq', '1997', '20775703', 'Asia', '58.811', '3076.239795'], 'Israel': ['Israel', '1997', '5531387', 'Asia', '78.269', '20896.60924'], 'Japan': ['Japan', '1997', '125956499', 'Asia', '80.69', '28816.58499'], 'Jordan': ['Jordan', '1997', '4526235', 'Asia', '69.772', '3645.379572'], 'Korea, Dem. Rep.': ['Korea, Dem. Rep.', '1997', '21585105', 'Asia', '67.727', '1690.756814'], 'Korea, Rep.': ['Korea, Rep.', '1997', '46173816', 'Asia', '74.647', '15993.52796'], 'Kuwait': ['Kuwait', '1997', '1765345', 'Asia', '76.156', '40300.61996'], 'Lebanon': ['Lebanon', '1997', '3430388', 'Asia', '70.265', '8754.96385'], 'Malaysia': ['Malaysia', '1997', '20476091', 'Asia', '71.938', '10132.90964'], 'Mongolia': ['Mongolia', '1997', '2494803', 'Asia', '63.625', '1902.2521'], 'Myanmar': ['Myanmar', '1997', '43247867', 'Asia', '60.328', '415'], 'Nepal': ['Nepal', '1997', '23001113', 'Asia', '59.426', '1010.892138'], 'Oman': ['Oman', '1997', '2283635', 'Asia', '72.499', '19702.05581'], 'Pakistan': ['Pakistan', '1997', '135564834', 'Asia', '61.818', '2049.350521'], 'Philippines': ['Philippines', '1997', '75012988', 'Asia', '68.564', '2536.534925'], 'Saudi Arabia': ['Saudi Arabia', '1997', '21229759', 'Asia', '70.533', '20586.69019'], 'Singapore': ['Singapore', '1997', '3802309', 'Asia', '77.158', '33519.4766'], 'Sri Lanka': ['Sri Lanka', '1997', '18698655', 'Asia', '70.457', '2664.477257'], 'Syria': ['Syria', '1997', '15081016', 'Asia', '71.527', '4014.238972'], 'Taiwan': ['Taiwan', '1997', '21628605', 'Asia', '75.25', '20206.82098'], 'Thailand': ['Thailand', '1997', '60216677', 'Asia', '67.521', '5852.625497'], 'Vietnam': ['Vietnam', '1997', '76048996', 'Asia', '70.672', '1385.896769'], 'West Bank and Gaza': ['West Bank and Gaza', '1997', '2826046', 'Asia', '71.096', '7110.667619'], 'Yemen, Rep.': ['Yemen, Rep.', '1997', '15826497', 'Asia', '58.02', '2117.484526']}\n",
      "Europe\n",
      "{'Albania': ['Albania', '1997', '3428038', 'Europe', '72.95', '3193.054604'], 'Austria': ['Austria', '1997', '8069876', 'Europe', '77.51', '29095.92066'], 'Belgium': ['Belgium', '1997', '10199787', 'Europe', '77.53', '27561.19663'], 'Bosnia and Herzegovina': ['Bosnia and Herzegovina', '1997', '3607000', 'Europe', '73.244', '4766.355904'], 'Bulgaria': ['Bulgaria', '1997', '8066057', 'Europe', '70.32', '5970.38876'], 'Croatia': ['Croatia', '1997', '4444595', 'Europe', '73.68', '9875.604515'], 'Czech Republic': ['Czech Republic', '1997', '10300707', 'Europe', '74.01', '16048.51424'], 'Denmark': ['Denmark', '1997', '5283663', 'Europe', '76.11', '29804.34567'], 'Finland': ['Finland', '1997', '5134406', 'Europe', '77.13', '23723.9502'], 'France': ['France', '1997', '58623428', 'Europe', '78.64', '25889.78487'], 'Germany': ['Germany', '1997', '82011073', 'Europe', '77.34', '27788.88416'], 'Greece': ['Greece', '1997', '10502372', 'Europe', '77.869', '18747.69814'], 'Hungary': ['Hungary', '1997', '10244684', 'Europe', '71.04', '11712.7768'], 'Iceland': ['Iceland', '1997', '271192', 'Europe', '78.95', '28061.09966'], 'Ireland': ['Ireland', '1997', '3667233', 'Europe', '76.122', '24521.94713'], 'Italy': ['Italy', '1997', '57479469', 'Europe', '78.82', '24675.02446'], 'Montenegro': ['Montenegro', '1997', '692651', 'Europe', '75.445', '6465.613349'], 'Netherlands': ['Netherlands', '1997', '15604464', 'Europe', '78.03', '30246.13063'], 'Norway': ['Norway', '1997', '4405672', 'Europe', '78.32', '41283.16433'], 'Poland': ['Poland', '1997', '38654957', 'Europe', '72.75', '10159.58368'], 'Portugal': ['Portugal', '1997', '10156415', 'Europe', '75.97', '17641.03156'], 'Romania': ['Romania', '1997', '22562458', 'Europe', '69.72', '7346.547557'], 'Serbia': ['Serbia', '1997', '10336594', 'Europe', '72.232', '7914.320304'], 'Slovak Republic': ['Slovak Republic', '1997', '5383010', 'Europe', '72.71', '12126.23065'], 'Slovenia': ['Slovenia', '1997', '2011612', 'Europe', '75.13', '17161.10735'], 'Spain': ['Spain', '1997', '39855442', 'Europe', '78.77', '20445.29896'], 'Sweden': ['Sweden', '1997', '8897619', 'Europe', '79.39', '25266.59499'], 'Switzerland': ['Switzerland', '1997', '7193761', 'Europe', '79.37', '32135.32301'], 'Turkey': ['Turkey', '1997', '63047647', 'Europe', '68.835', '6601.429915'], 'United Kingdom': ['United Kingdom', '1997', '58808266', 'Europe', '77.218', '26074.53136']}\n",
      "Africa\n",
      "{'Algeria': ['Algeria', '1997', '29072015', 'Africa', '69.152', '4797.295051'], 'Angola': ['Angola', '1997', '9875024', 'Africa', '40.963', '2277.140884'], 'Benin': ['Benin', '1997', '6066080', 'Africa', '54.777', '1232.975292'], 'Botswana': ['Botswana', '1997', '1536536', 'Africa', '52.556', '8647.142313'], 'Burkina Faso': ['Burkina Faso', '1997', '10352843', 'Africa', '50.324', '946.2949618'], 'Burundi': ['Burundi', '1997', '6121610', 'Africa', '45.326', '463.1151478'], 'Cameroon': ['Cameroon', '1997', '14195809', 'Africa', '52.199', '1694.337469'], 'Central African Republic': ['Central African Republic', '1997', '3696513', 'Africa', '46.066', '740.5063317'], 'Chad': ['Chad', '1997', '7562011', 'Africa', '51.573', '1004.961353'], 'Comoros': ['Comoros', '1997', '527982', 'Africa', '60.66', '1173.618235'], 'Congo, Dem. Rep.': ['Congo, Dem. Rep.', '1997', '47798986', 'Africa', '42.587', '312.188423'], 'Congo, Rep.': ['Congo, Rep.', '1997', '2800947', 'Africa', '52.962', '3484.164376'], \"Cote d'Ivoire\": [\"Cote d'Ivoire\", '1997', '14625967', 'Africa', '47.991', '1786.265407'], 'Djibouti': ['Djibouti', '1997', '417908', 'Africa', '53.157', '1895.016984'], 'Egypt': ['Egypt', '1997', '66134291', 'Africa', '67.217', '4173.181797'], 'Equatorial Guinea': ['Equatorial Guinea', '1997', '439971', 'Africa', '48.245', '2814.480755'], 'Eritrea': ['Eritrea', '1997', '4058319', 'Africa', '53.378', '913.47079'], 'Ethiopia': ['Ethiopia', '1997', '59861301', 'Africa', '49.402', '515.8894013'], 'Gabon': ['Gabon', '1997', '1126189', 'Africa', '60.461', '14722.84188'], 'Gambia': ['Gambia', '1997', '1235767', 'Africa', '55.861', '653.7301704'], 'Ghana': ['Ghana', '1997', '18418288', 'Africa', '58.556', '1005.245812'], 'Guinea': ['Guinea', '1997', '8048834', 'Africa', '51.455', '869.4497668'], 'Guinea-Bissau': ['Guinea-Bissau', '1997', '1193708', 'Africa', '44.873', '796.6644681'], 'Kenya': ['Kenya', '1997', '28263827', 'Africa', '54.407', '1360.485021'], 'Lesotho': ['Lesotho', '1997', '1982823', 'Africa', '55.558', '1186.147994'], 'Liberia': ['Liberia', '1997', '2200725', 'Africa', '42.221', '609.1739508'], 'Libya': ['Libya', '1997', '4759670', 'Africa', '71.555', '9467.446056'], 'Madagascar': ['Madagascar', '1997', '14165114', 'Africa', '54.978', '986.2958956'], 'Malawi': ['Malawi', '1997', '10419991', 'Africa', '47.495', '692.2758103'], 'Mali': ['Mali', '1997', '9384984', 'Africa', '49.903', '790.2579846'], 'Mauritania': ['Mauritania', '1997', '2444741', 'Africa', '60.43', '1483.136136'], 'Mauritius': ['Mauritius', '1997', '1149818', 'Africa', '70.736', '7425.705295'], 'Morocco': ['Morocco', '1997', '28529501', 'Africa', '67.66', '2982.101858'], 'Mozambique': ['Mozambique', '1997', '16603334', 'Africa', '46.344', '472.3460771'], 'Namibia': ['Namibia', '1997', '1774766', 'Africa', '58.909', '3899.52426'], 'Niger': ['Niger', '1997', '9666252', 'Africa', '51.313', '580.3052092'], 'Nigeria': ['Nigeria', '1997', '106207839', 'Africa', '47.464', '1624.941275'], 'Reunion': ['Reunion', '1997', '684810', 'Africa', '74.772', '6071.941411'], 'Rwanda': ['Rwanda', '1997', '7212583', 'Africa', '36.087', '589.9445051'], 'Sao Tome and Principe': ['Sao Tome and Principe', '1997', '145608', 'Africa', '63.306', '1339.076036'], 'Senegal': ['Senegal', '1997', '9535314', 'Africa', '60.187', '1392.368347'], 'Sierra Leone': ['Sierra Leone', '1997', '4578212', 'Africa', '39.897', '574.6481576'], 'Somalia': ['Somalia', '1997', '6633514', 'Africa', '43.795', '930.5964284'], 'South Africa': ['South Africa', '1997', '42835005', 'Africa', '60.236', '7479.188244'], 'Sudan': ['Sudan', '1997', '32160729', 'Africa', '55.373', '1632.210764'], 'Swaziland': ['Swaziland', '1997', '1054486', 'Africa', '54.289', '3876.76846'], 'Tanzania': ['Tanzania', '1997', '30686889', 'Africa', '48.466', '789.1862231'], 'Togo': ['Togo', '1997', '4320890', 'Africa', '58.39', '982.2869243'], 'Tunisia': ['Tunisia', '1997', '9231669', 'Africa', '71.973', '4876.798614'], 'Uganda': ['Uganda', '1997', '21210254', 'Africa', '44.578', '816.559081'], 'Zambia': ['Zambia', '1997', '9417789', 'Africa', '40.238', '1071.353818'], 'Zimbabwe': ['Zimbabwe', '1997', '11404948', 'Africa', '46.809', '792.4499603']}\n",
      "Americas\n",
      "{'Argentina': ['Argentina', '1997', '36203463', 'Americas', '73.275', '10967.28195'], 'Bolivia': ['Bolivia', '1997', '7693188', 'Americas', '62.05', '3326.143191'], 'Brazil': ['Brazil', '1997', '168546719', 'Americas', '69.388', '7957.980824'], 'Canada': ['Canada', '1997', '30305843', 'Americas', '78.61', '28954.92589'], 'Chile': ['Chile', '1997', '14599929', 'Americas', '75.816', '10118.05318'], 'Colombia': ['Colombia', '1997', '37657830', 'Americas', '70.313', '6117.361746'], 'Costa Rica': ['Costa Rica', '1997', '3518107', 'Americas', '77.26', '6677.045314'], 'Cuba': ['Cuba', '1997', '10983007', 'Americas', '76.151', '5431.990415'], 'Dominican Republic': ['Dominican Republic', '1997', '7992357', 'Americas', '69.957', '3614.101285'], 'Ecuador': ['Ecuador', '1997', '11911819', 'Americas', '72.312', '7429.455877'], 'El Salvador': ['El Salvador', '1997', '5783439', 'Americas', '69.535', '5154.825496'], 'Guatemala': ['Guatemala', '1997', '9803875', 'Americas', '66.322', '4684.313807'], 'Haiti': ['Haiti', '1997', '6913545', 'Americas', '56.671', '1341.726931'], 'Honduras': ['Honduras', '1997', '5867957', 'Americas', '67.659', '3160.454906'], 'Jamaica': ['Jamaica', '1997', '2531311', 'Americas', '72.262', '7121.924704'], 'Mexico': ['Mexico', '1997', '95895146', 'Americas', '73.67', '9767.29753'], 'Nicaragua': ['Nicaragua', '1997', '4609572', 'Americas', '68.426', '2253.023004'], 'Panama': ['Panama', '1997', '2734531', 'Americas', '73.738', '7113.692252'], 'Paraguay': ['Paraguay', '1997', '5154123', 'Americas', '69.4', '4247.400261'], 'Peru': ['Peru', '1997', '24748122', 'Americas', '68.386', '5838.347657'], 'Puerto Rico': ['Puerto Rico', '1997', '3759430', 'Americas', '74.917', '16999.4333'], 'Trinidad and Tobago': ['Trinidad and Tobago', '1997', '1138101', 'Americas', '69.465', '8792.573126'], 'United States': ['United States', '1997', '272911760', 'Americas', '76.81', '35767.43303'], 'Uruguay': ['Uruguay', '1997', '3262838', 'Americas', '74.223', '9230.240708'], 'Venezuela': ['Venezuela', '1997', '22374398', 'Americas', '72.146', '10165.49518']}\n",
      "Oceania\n",
      "{'Australia': ['Australia', '1997', '18565243', 'Oceania', '78.83', '26997.93657'], 'New Zealand': ['New Zealand', '1997', '3676187', 'Oceania', '77.55', '21050.41377']}\n"
     ]
    }
   ],
   "source": [
    "# Output each continent top 10 countries by population for 1997.\n",
    "res = {}\n",
    "\n",
    "# Filter for 1997. \n",
    "for entry in data:\n",
    "    if not entry[3] in res:\n",
    "        res[entry[3]] = {}\n",
    "    if entry[1] == '1997':\n",
    "        res[entry[3]][entry[0]] = entry\n",
    "\n",
    "# Sort each continent countries by population.\n",
    "for continent in res:\n",
    "    # res[continent] = res[continent].sort(2)\n",
    "    print(continent)\n",
    "    print(res[continent])"
   ]
  },
  {
   "cell_type": "code",
   "execution_count": null,
   "metadata": {},
   "outputs": [],
   "source": []
  }
 ],
 "metadata": {
  "kernelspec": {
   "display_name": "Python 3",
   "language": "python",
   "name": "python3"
  },
  "language_info": {
   "codemirror_mode": {
    "name": "ipython",
    "version": 3
   },
   "file_extension": ".py",
   "mimetype": "text/x-python",
   "name": "python",
   "nbconvert_exporter": "python",
   "pygments_lexer": "ipython3",
   "version": "3.8.5"
  }
 },
 "nbformat": 4,
 "nbformat_minor": 4
}
