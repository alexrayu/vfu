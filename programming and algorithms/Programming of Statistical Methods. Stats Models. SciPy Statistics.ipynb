{
 "cells": [
  {
   "cell_type": "markdown",
   "metadata": {
    "id": "3cQIqraeOB_V"
   },
   "source": [
    "# Statistics"
   ]
  },
  {
   "cell_type": "markdown",
   "metadata": {
    "id": "jnQ8ig8l3M0t"
   },
   "source": [
    "In this chapter we focus on fundamental statistical applications using Python and in particular the stats module in SciPy. Here we discuss computing descriptive statistics, random numbers, random variables, distributions, and hypothesis testing. We defer\n",
    "more involved statistical modeling and machine-learning applications to the following chapters. Some fundamental statistical functions are also available through the NumPy library, such as its functions and methods for computing descriptive statistics and its\n",
    "module for generating random numbers. The SciPy stats module builds on top of NumPy and, for example, provides random number generators with more specialized\n",
    "distributions."
   ]
  },
  {
   "cell_type": "markdown",
   "metadata": {
    "id": "85s2-K6t3dYt"
   },
   "source": [
    "Importing Modules"
   ]
  },
  {
   "cell_type": "code",
   "execution_count": 3,
   "metadata": {
    "id": "QSUQTFgd3nfR"
   },
   "outputs": [],
   "source": [
    "from scipy import stats\n",
    "from scipy import optimize\n",
    "import random\n",
    "import numpy as np\n",
    "\n",
    "%matplotlib inline\n",
    "import matplotlib.pyplot as plt\n",
    "\n",
    "import seaborn as sns\n",
    "sns.set(style=\"whitegrid\")"
   ]
  },
  {
   "cell_type": "markdown",
   "metadata": {
    "id": "9ylvK-f930Ca"
   },
   "source": [
    "##Review of Statistics and Probability\n",
    "\n",
    "We begin with a brief review of statistics, in order to introduce some of the key concepts\n",
    "and the notation that we use in this and the following chapters. Statistics deals\n",
    "with the collection and analysis of data for the purpose of gaining insights, drawing\n",
    "conclusions, and supporting decision-making. \n",
    "\n",
    "Statistical methods are necessary when\n",
    "we have incomplete information about a phenomenon. Typically we have incomplete\n",
    "information because we are unable to collect data from all members of a population\n",
    "or if there is uncertainty in observations that we make (e.g., due to measurement\n",
    "noise). When we are unable to survey an entire population, a randomly chosen sample\n",
    "can be studied instead, and we can use statistical methods and compute descriptive\n",
    "statistics (parameters such as the mean and the variances) to make inferences about the\n",
    "properties of the entire population (also called sample space) in a systematic manner\n",
    "and with controlled risks of error.\n",
    "Statistical methods are built on the foundation provided by probability theory,\n",
    "with which we can model uncertainty and incomplete information using probabilistic,\n",
    "random variables. For example, with randomly selected samples of a population, we can\n",
    "hope to obtain representative samples whose properties can be used to infer properties\n",
    "of the entire population. In probability theory, each possible outcome for an observation is given a probability, and the probability for all possible outcomes constitutes the\n",
    "probability distribution. Given the probability distribution, we can compute the\n",
    "properties of the population, such as its mean and variance, but for randomly selected\n",
    "samples, we only know the expected, or average, results.\n",
    "\n",
    "In statistical analysis it is important to distinguish between population and sample statistics. Here we denote parameters of the population with Greek symbols and parameters of a sample with the corresponding population symbol with the added subscript $x$ (or the symbol that is used to represent the sample). For example, the mean and the variance of a population are denoted with $\\mu$  and $\\sigma$, and the mean and the\n",
    "variance of a sample $x$ are denoted as $μ_x$ and $\\sigma^2_x$. Furthermore, we denote variables\n",
    "representing a population (random variables) with capital letters, for example, $X$, and\n",
    "a set of sample elements is denoted with a lowercase letter, for example, $x$.\n",
    "\n",
    "For example, to compute the mean and the median of a dataset, we can use the NumPy functions mean and median:"
   ]
  },
  {
   "cell_type": "code",
   "execution_count": null,
   "metadata": {
    "colab": {
     "base_uri": "https://localhost:8080/"
    },
    "id": "qhAJDRtQ49Kz",
    "outputId": "d38979d3-6014-4b8e-9d55-e450ea7abc6c"
   },
   "outputs": [
    {
     "data": {
      "text/plain": [
       "3.1"
      ]
     },
     "execution_count": 6,
     "metadata": {
      "tags": []
     },
     "output_type": "execute_result"
    }
   ],
   "source": [
    "x = np.array([3.5, 1.1, 3.2, 2.8, 6.7, 4.4, 0.9, 2.2])\n",
    "np.mean(x)"
   ]
  },
  {
   "cell_type": "code",
   "execution_count": null,
   "metadata": {
    "colab": {
     "base_uri": "https://localhost:8080/"
    },
    "id": "2NGgysx05UJZ",
    "outputId": "5d0299a9-993d-45d0-fcf0-10d00f28a310"
   },
   "outputs": [
    {
     "data": {
      "text/plain": [
       "3.0"
      ]
     },
     "execution_count": 7,
     "metadata": {
      "tags": []
     },
     "output_type": "execute_result"
    }
   ],
   "source": [
    "np.median(x)"
   ]
  },
  {
   "cell_type": "code",
   "execution_count": null,
   "metadata": {
    "colab": {
     "base_uri": "https://localhost:8080/"
    },
    "id": "-VD3mYTL5WUE",
    "outputId": "978ab005-cbf0-407d-f120-bace84d71f9d"
   },
   "outputs": [
    {
     "data": {
      "text/plain": [
       "(0.9, 6.7)"
      ]
     },
     "execution_count": 8,
     "metadata": {
      "tags": []
     },
     "output_type": "execute_result"
    }
   ],
   "source": [
    "x.min(), x.max()"
   ]
  },
  {
   "cell_type": "markdown",
   "metadata": {
    "id": "i8rZwovs5aB_"
   },
   "source": [
    "To compute the variance and the standard deviation for a dataset, we use the ``var`` and ``std`` methods. By default the formula for the population variance and standard deviation is used (i.e., it is assumed that the dataset is the entire population)."
   ]
  },
  {
   "cell_type": "code",
   "execution_count": null,
   "metadata": {
    "colab": {
     "base_uri": "https://localhost:8080/"
    },
    "id": "h-21-gv95X0G",
    "outputId": "c1eb04bc-8931-4a11-de54-72fc7dcf8d95"
   },
   "outputs": [
    {
     "data": {
      "text/plain": [
       "3.0700000000000007"
      ]
     },
     "execution_count": 11,
     "metadata": {
      "tags": []
     },
     "output_type": "execute_result"
    }
   ],
   "source": [
    "x.var()"
   ]
  },
  {
   "cell_type": "code",
   "execution_count": null,
   "metadata": {
    "colab": {
     "base_uri": "https://localhost:8080/"
    },
    "id": "sTOzy9jC5i1q",
    "outputId": "ef1f5ce7-69c1-43c5-ad58-255ec6b64cdc"
   },
   "outputs": [
    {
     "data": {
      "text/plain": [
       "1.7521415467935233"
      ]
     },
     "execution_count": 12,
     "metadata": {
      "tags": []
     },
     "output_type": "execute_result"
    }
   ],
   "source": [
    "x.std()"
   ]
  },
  {
   "cell_type": "markdown",
   "metadata": {
    "id": "DvPw0zoT5bsN"
   },
   "source": [
    "However, to change this behavior, we can use the argument ``ddof`` (delta degrees of freedom). The denominator in the expression for the variance is the number of elements in the array minus ddof, so to calculate the unbiased estimate of the variance and\n",
    "standard deviation from a sample, we need to set ``ddof=1``:"
   ]
  },
  {
   "cell_type": "code",
   "execution_count": null,
   "metadata": {
    "colab": {
     "base_uri": "https://localhost:8080/"
    },
    "id": "udZHo8bE5b4U",
    "outputId": "0479c77c-73bd-4c81-b7d5-30c1418643ff"
   },
   "outputs": [
    {
     "data": {
      "text/plain": [
       "3.5085714285714293"
      ]
     },
     "execution_count": 13,
     "metadata": {
      "tags": []
     },
     "output_type": "execute_result"
    }
   ],
   "source": [
    "x.var(ddof=1)"
   ]
  },
  {
   "cell_type": "code",
   "execution_count": null,
   "metadata": {
    "colab": {
     "base_uri": "https://localhost:8080/"
    },
    "id": "YqLTbX7t5tpB",
    "outputId": "084c2927-e5ad-4445-ebc5-bab76a67e2f3"
   },
   "outputs": [
    {
     "data": {
      "text/plain": [
       "1.8731181032095732"
      ]
     },
     "execution_count": 14,
     "metadata": {
      "tags": []
     },
     "output_type": "execute_result"
    }
   ],
   "source": [
    "x.std(ddof=1)"
   ]
  },
  {
   "cell_type": "markdown",
   "metadata": {
    "id": "3Q4P7Zz3OJtU"
   },
   "source": [
    "## Random numbers"
   ]
  },
  {
   "cell_type": "markdown",
   "metadata": {
    "id": "gzP87cB15w8G"
   },
   "source": [
    "The Python standard library contains the module ``random``, which provides functions for\n",
    "generating single random numbers with a few basic distributions. The ``random`` module in the NumPy module provides similar functionality but offers functions that generate NumPy arrays with random numbers, and it has support for a wider selection of probability distributions. Arrays with random numbers are often practical for computational purposes,\n",
    "so here we focus on the random module in NumPy, and later also the higher-level functions and classes in scipy.stats, which build on top of and extend NumPy.\n",
    "\n",
    "For example, the ``randn`` function produces\n",
    "random numbers that are distributed according to the standard normal distribution (the normal distribution with mean 0 and standard deviation 1), and the ``randint`` function generates uniformly distributed integers between a given low (inclusive) and high (exclusive) value. When the ``rand`` and ``randn`` functions are called without any arguments, they produce a single random number:"
   ]
  },
  {
   "cell_type": "code",
   "execution_count": null,
   "metadata": {
    "colab": {
     "base_uri": "https://localhost:8080/"
    },
    "id": "g1mrwJro6Hec",
    "outputId": "6cd36ac1-1e8e-4ec7-8450-940f335efcbc"
   },
   "outputs": [
    {
     "data": {
      "text/plain": [
       "0.9307408360650457"
      ]
     },
     "execution_count": 15,
     "metadata": {
      "tags": []
     },
     "output_type": "execute_result"
    }
   ],
   "source": [
    "np.random.rand()"
   ]
  },
  {
   "cell_type": "code",
   "execution_count": null,
   "metadata": {
    "colab": {
     "base_uri": "https://localhost:8080/"
    },
    "id": "-9nDGF-Y6Hiv",
    "outputId": "37362be4-06f6-4d0b-ef40-8f0310132152"
   },
   "outputs": [
    {
     "data": {
      "text/plain": [
       "-1.3388637504169978"
      ]
     },
     "execution_count": 16,
     "metadata": {
      "tags": []
     },
     "output_type": "execute_result"
    }
   ],
   "source": [
    "np.random.randn()"
   ]
  },
  {
   "cell_type": "markdown",
   "metadata": {
    "id": "hR_VGqrR6Sw0"
   },
   "source": [
    "However, passing the shape of the array as arguments to these functions produces arrays of random numbers. For example, here we generate a vector of length 5 using\n",
    "``rand`` by passing a single argument 5 and a 2 × 4 array using randn by passing 2 and 4 as arguments (higher-dimensional arrays are generated by passing the length of each dimension as arguments):"
   ]
  },
  {
   "cell_type": "code",
   "execution_count": null,
   "metadata": {
    "colab": {
     "base_uri": "https://localhost:8080/"
    },
    "id": "pEYaeWrJ6YAi",
    "outputId": "0afe0295-82c3-4991-8617-efd558c2567e"
   },
   "outputs": [
    {
     "data": {
      "text/plain": [
       "array([0.68728287, 0.81640491, 0.82031672, 0.38094189, 0.54287834])"
      ]
     },
     "execution_count": 17,
     "metadata": {
      "tags": []
     },
     "output_type": "execute_result"
    }
   ],
   "source": [
    "np.random.rand(5)"
   ]
  },
  {
   "cell_type": "code",
   "execution_count": null,
   "metadata": {
    "colab": {
     "base_uri": "https://localhost:8080/"
    },
    "id": "tOOTzx4h6bCZ",
    "outputId": "eb4a1413-d782-4c13-8507-a22ab9542ecd"
   },
   "outputs": [
    {
     "data": {
      "text/plain": [
       "array([[-1.35661483, -2.14347075, -1.35234515, -0.98208747],\n",
       "       [ 0.19949835,  1.03180591, -0.40391362, -0.37219994]])"
      ]
     },
     "execution_count": 18,
     "metadata": {
      "tags": []
     },
     "output_type": "execute_result"
    }
   ],
   "source": [
    "np.random.randn(2, 4)"
   ]
  },
  {
   "cell_type": "markdown",
   "metadata": {
    "id": "xUWMAh6U6f_d"
   },
   "source": [
    "To generate random integers using ``randint`` (see also random_integers), we need to either provide the upper limit for the random numbers (in which case the lower limit is implicitly zero) or provide both the lower and upper limits. The size of the generated array is specified using the size keyword arguments, and it can be an integer or a tuple that specifies the shape of a multidimensional array:"
   ]
  },
  {
   "cell_type": "code",
   "execution_count": null,
   "metadata": {
    "colab": {
     "base_uri": "https://localhost:8080/"
    },
    "id": "MuYGYxqj6gL2",
    "outputId": "a8bf6669-e05c-456f-b3eb-08cb592ffc54"
   },
   "outputs": [
    {
     "data": {
      "text/plain": [
       "array([6, 2, 0, 3, 6, 6, 6, 6, 2, 3])"
      ]
     },
     "execution_count": 19,
     "metadata": {
      "tags": []
     },
     "output_type": "execute_result"
    }
   ],
   "source": [
    "np.random.randint(10, size=10)"
   ]
  },
  {
   "cell_type": "code",
   "execution_count": null,
   "metadata": {
    "colab": {
     "base_uri": "https://localhost:8080/"
    },
    "id": "WnWRLTb96oQX",
    "outputId": "b9a63881-2337-42d3-cfb0-ae12990eed13"
   },
   "outputs": [
    {
     "data": {
      "text/plain": [
       "array([[16, 18, 18, 14, 14, 15, 17, 10, 12, 14],\n",
       "       [17, 10, 19, 19, 12, 15, 18, 14, 16, 15]])"
      ]
     },
     "execution_count": 20,
     "metadata": {
      "tags": []
     },
     "output_type": "execute_result"
    }
   ],
   "source": [
    "np.random.randint(low=10, high=20, size=(2, 10))"
   ]
  },
  {
   "cell_type": "markdown",
   "metadata": {
    "id": "s9saWBWj6wFg"
   },
   "source": [
    "Note that the randint function generates random integers in the half-open interval [low, high). To demonstrate that the random numbers produced by ``rand``, ``randn``, and ``randint``, indeed, are distributed differently, we can plot the histograms of say 10000 random numbers produced by each function. The result is shown in the next figure 13-1. We note that the distributions for ``rand`` and ``randint`` appear uniform but have different ranges and types, while the distribution of the numbers produced by ``randn`` resembles a Gaussian curve centered at zero, as expected."
   ]
  },
  {
   "cell_type": "code",
   "execution_count": null,
   "metadata": {
    "colab": {
     "base_uri": "https://localhost:8080/",
     "height": 221
    },
    "id": "vaDZk7X27Bks",
    "outputId": "0c370342-4b53-4f18-d677-1f0ff14f459f"
   },
   "outputs": [
    {
     "data": {
      "image/png": "[encoded data removed]",
      "text/plain": [
       "<Figure size 864x216 with 3 Axes>"
      ]
     },
     "metadata": {
      "tags": []
     },
     "output_type": "display_data"
    }
   ],
   "source": [
    "fig, axes = plt.subplots(1,\n",
    "                         3,\n",
    "                         figsize=(12, 3))\n",
    "\n",
    "axes[0].hist(np.random.rand(10000))\n",
    "axes[0].set_title(\"rand\")\n",
    "axes[1].hist(np.random.randn(10000))\n",
    "axes[1].set_title(\"randn\")\n",
    "axes[2].hist(np.random.randint(low=1, high=10, size=10000), bins=9, align='left')\n",
    "axes[2].set_title(\"randint(low=1, high=10)\")\n",
    "\n",
    "fig.tight_layout()\n",
    "#fig.savefig(\"ch13-random-hist.pdf\")"
   ]
  },
  {
   "cell_type": "markdown",
   "metadata": {
    "id": "Y76aZe_t7XXS"
   },
   "source": [
    "In statistical analysis, it is often necessary to generate a unique list of integers. This corresponds to sampling (randomly selecting) items from a set (population) without replacement (so that we do not get the same item twice). From the NumPy random module, we can use the choice function to generate this type of random numbers. As the first argument, we can either provide a list (or array) with the values in the population or an integer that corresponds to the number of elements in the population. As the second argument, we give the number of values that are to be sampled. Whether the values are to be sampled with or without replacement can be specified using the replace keyword\n",
    "argument, which takes the Boolean values True or False. For example, to sample five unique (without replacement) items from the set of integers between 0 (inclusive) and 10 (exclusive), we can use"
   ]
  },
  {
   "cell_type": "code",
   "execution_count": null,
   "metadata": {
    "colab": {
     "base_uri": "https://localhost:8080/"
    },
    "id": "3-mgsFpL7XJm",
    "outputId": "5ec6de2e-f939-415f-a4b7-15bd52425b91"
   },
   "outputs": [
    {
     "data": {
      "text/plain": [
       "array([8, 0, 7, 5, 2])"
      ]
     },
     "execution_count": 22,
     "metadata": {
      "tags": []
     },
     "output_type": "execute_result"
    }
   ],
   "source": [
    "np.random.choice(10, 5, replace=False)"
   ]
  },
  {
   "cell_type": "markdown",
   "metadata": {
    "id": "0vLaLcAv7l3D"
   },
   "source": [
    "When working with random number generation, it can be useful to seed the random number generator. The seed is a number that initializes random number generator\n",
    "to a specific state, so that once it has been seeded with a specific number, it always generates the same sequence of random numbers. This can be useful when testing and for reproducing previous results and occasionally in applications that require reseeding\n",
    "the random number generator (e.g., after having forked a process). To seed the random number generator in NumPy, we can use the seed function, which takes an integer as argument:"
   ]
  },
  {
   "cell_type": "code",
   "execution_count": null,
   "metadata": {
    "colab": {
     "base_uri": "https://localhost:8080/"
    },
    "id": "PNMxhXat7mHS",
    "outputId": "d829b9bd-e6f2-4194-bf21-d0dc4114e343"
   },
   "outputs": [
    {
     "data": {
      "text/plain": [
       "0.532833024789759"
      ]
     },
     "execution_count": 23,
     "metadata": {
      "tags": []
     },
     "output_type": "execute_result"
    }
   ],
   "source": [
    "np.random.seed(123456789)\n",
    "np.random.rand()"
   ]
  },
  {
   "cell_type": "markdown",
   "metadata": {
    "id": "g85nopVk705n"
   },
   "source": [
    "The seed of the random number generator is a global state of the ``np.random`` module. A finer level of control of the state of the random number generator can be achieved by using the ``RandomState class``, which optionally takes a seed integer as argument to\n",
    "its initializer. The ``RandomState`` object keeps tracks of the state of the random number\n",
    "generator and allows maintaining several independent random number generators in the same program (which can be useful, e.g., when working with threaded applications). Once a ``RandomState`` object has been created, we can use methods of this object to\n",
    "generate random numbers. The RandomState class has methods that correspond to the functions that are available in ``np.random module``. For example, we can use the method ``randn`` of the RandomState class to generate standard normal distributed random numbers:"
   ]
  },
  {
   "cell_type": "code",
   "execution_count": null,
   "metadata": {
    "colab": {
     "base_uri": "https://localhost:8080/"
    },
    "id": "yYJK8moE8DdU",
    "outputId": "62c80d2f-004a-4b6c-d891-abf4c9c95c5d"
   },
   "outputs": [
    {
     "data": {
      "text/plain": [
       "array([[ 2.212902  ,  2.1283978 ,  1.8417114 ,  0.08238248],\n",
       "       [ 0.85896368, -0.82601643,  1.15727052,  1.37591514]])"
      ]
     },
     "execution_count": 24,
     "metadata": {
      "tags": []
     },
     "output_type": "execute_result"
    }
   ],
   "source": [
    "prng = np.random.RandomState(123456789)\n",
    "prng.randn(2, 4)"
   ]
  },
  {
   "cell_type": "markdown",
   "metadata": {
    "id": "heSrZnuA8IEA"
   },
   "source": [
    "Similarly, there are methods, ``rand``, ``randint``, ``rand_integers``, and ``choice``, which\n",
    "also correspond to the functions in the ``np.random`` module with the same name. It is considered good programming practice to use a RandomState instance rather thandirectly using the functions in the np.random module, because it avoids relying on\n",
    "a global state variable and improves the isolation of the code. This is an important consideration when developing library functions that use random numbers, but is perhaps less important in smaller applications and calculations.\n",
    "\n",
    "In addition to the fundamental random number distributions we have looked at so far (discrete and continuous uniform distributions, randint and rand, and the standard normal distribution, randn), there are also functions, and RandomState methods, for a large number of probability distributions that occur in statistics. To mention just a few, there is the continuous $\\chi^2$ distribution (chisquare), the Student’s t distribution $t$, and the F distribution $f$:"
   ]
  },
  {
   "cell_type": "code",
   "execution_count": null,
   "metadata": {
    "colab": {
     "base_uri": "https://localhost:8080/"
    },
    "id": "kF0CETBH8mHM",
    "outputId": "95526b9e-4d35-458e-fc19-e9583b27419a"
   },
   "outputs": [
    {
     "data": {
      "text/plain": [
       "array([[1.26859720e+00, 2.02731988e+00],\n",
       "       [2.52605129e-05, 3.00376585e-04]])"
      ]
     },
     "execution_count": 25,
     "metadata": {
      "tags": []
     },
     "output_type": "execute_result"
    }
   ],
   "source": [
    "prng.chisquare(1, size=(2, 2))"
   ]
  },
  {
   "cell_type": "code",
   "execution_count": null,
   "metadata": {
    "colab": {
     "base_uri": "https://localhost:8080/"
    },
    "id": "sbK2Ltqv8omF",
    "outputId": "23be153e-2c66-4f3a-d13d-187b6dab8651"
   },
   "outputs": [
    {
     "data": {
      "text/plain": [
       "array([[ 1.15544019, -0.65730814, -0.55125015],\n",
       "       [ 0.13578694, -3.34461641,  1.55560171]])"
      ]
     },
     "execution_count": 27,
     "metadata": {
      "tags": []
     },
     "output_type": "execute_result"
    }
   ],
   "source": [
    "prng.standard_t(1, size=(2, 3))"
   ]
  },
  {
   "cell_type": "code",
   "execution_count": null,
   "metadata": {
    "colab": {
     "base_uri": "https://localhost:8080/"
    },
    "id": "xRySg7EU8ow8",
    "outputId": "4c4dc929-ecfe-4111-bc8f-d2e809533717"
   },
   "outputs": [
    {
     "data": {
      "text/plain": [
       "array([[ 1.48620557,  2.55433261,  1.21823269,  3.47619315],\n",
       "       [ 0.50835525,  0.70599655, 12.08835081, 12.77671082]])"
      ]
     },
     "execution_count": 28,
     "metadata": {
      "tags": []
     },
     "output_type": "execute_result"
    }
   ],
   "source": [
    "prng.f(5, 2, size=(2, 4))"
   ]
  },
  {
   "cell_type": "markdown",
   "metadata": {
    "id": "bp0zPEUs80rt"
   },
   "source": [
    "and the discrete binomial distribution (binomial) and the Poisson distribution (poisson):"
   ]
  },
  {
   "cell_type": "code",
   "execution_count": null,
   "metadata": {
    "colab": {
     "base_uri": "https://localhost:8080/"
    },
    "id": "x_CaoHTx832V",
    "outputId": "04431f9a-4599-44a1-e6cf-272b6aa186e0"
   },
   "outputs": [
    {
     "data": {
      "text/plain": [
       "array([5, 3, 4, 4, 8, 4, 4, 4, 4, 6])"
      ]
     },
     "execution_count": 29,
     "metadata": {
      "tags": []
     },
     "output_type": "execute_result"
    }
   ],
   "source": [
    "prng.binomial(10, 0.5, size=10)"
   ]
  },
  {
   "cell_type": "code",
   "execution_count": null,
   "metadata": {
    "colab": {
     "base_uri": "https://localhost:8080/"
    },
    "id": "2ZKV_iQe80Qj",
    "outputId": "e7c6359e-f628-425f-b965-6565a3209e4b"
   },
   "outputs": [
    {
     "data": {
      "text/plain": [
       "array([5, 4, 9, 7, 3, 6, 5, 5, 0, 6])"
      ]
     },
     "execution_count": 30,
     "metadata": {
      "tags": []
     },
     "output_type": "execute_result"
    }
   ],
   "source": [
    "prng.poisson(5, size=10)"
   ]
  },
  {
   "cell_type": "markdown",
   "metadata": {
    "id": "WBiBYoAF8_81"
   },
   "source": [
    "For a complete list of available distribution functions, see the docstrings for the ``np.\n",
    "random`` module, ``help(np.random)``, and the ``RandomState class``. While it is possible to use\n",
    "the functions in ``np.random`` and methods in RandomState to draw random numbers from many different statistical distribution functions, when working with distributions there is a higher-level interface in the scipy.stats module that combines random number\n",
    "sampling with many other convenient functions for probability distributions. In the following section, we explore this in more detail."
   ]
  },
  {
   "cell_type": "markdown",
   "metadata": {
    "id": "yMWndvpt9P7b"
   },
   "source": [
    "## Random Variables and Distributions"
   ]
  },
  {
   "cell_type": "markdown",
   "metadata": {
    "id": "k3idnyNJ9SfA"
   },
   "source": [
    "In probability theory, the set of possible outcomes of a random process is called the **sample space**. Each element in the sample space (i.e., an outcome of an experiment or an observation) can be assigned a **probability**, and the probabilities of all possible\n",
    "outcomes define the **probability distribution**. A **random variable** is a mapping from the sample space to the real numbers or to integers. For example, the possible outcomes of a coin toss are head and tail, so the sample space is {head, tail}, and a possible random\n",
    "variable takes the value 0 for head and 1 for tail. In general there are many ways to\n",
    "define random variables for the possible outcomes of a given random process. Random\n",
    "variables are a problem-independent representation of a random process. It is easier to work with random variables because they are described by numbers instead of outcomes from problem-specific sample spaces. A common step in statistical problem-solving is therefore to map outcomes to numerical values and figure out the probability distribution of those values.\n",
    "\n",
    "Consequently, a random variable is characterized by its possible values and its probability distribution, which assigns a probability for each possible value. Each\n",
    "observation of the random variable results in a random number, and the distribution of the observed values are described by the probability distribution. **There are two main types of distributions, discrete and continuous distributions, which are integer valued and real valued, respectively**. When working with statistics, dealing with random variables is of central importance, and in practice this often means working with probability distributions. The SciPy stats module provides classes for representing random variables with a large number of probability distributions. There are two base classes for discrete and continuous random variables: ``rv_discrete`` and ``rv_continuous``.\n",
    "These classes are not used directly, but rather used as base classes for random variables with specific distributions, and define a common interface for all random variable classes in SciPy stats. A summary of selected methods for discrete and continuous\n",
    "random variables is given in the table below.\n",
    "\n",
    "| Methods   | Description  |\n",
    "|---|---|\n",
    "| pdf/pmf | Probability distribution function (continuous) or probability mass function (discrete).  |\n",
    "| cdf  | Cumulative distribution function.   |\n",
    "| sf   | Survival function (1 – cdf).  |\n",
    "| ppf  | Percent-point function (inverse of cdf).   |\n",
    "| moment | Noncentral moments of nth order.  |\n",
    "| stats  | Statistics of the distribution (typically the mean and variance, sometimes additional statistics)|\n",
    "| fit  | Fit distribution to data using a numerical maximum likelihood optimization (for continuous distributions).  |\n",
    "| expect  | Expectation value of a function with respect to the distribution.  |\n",
    "| interval  | The endpoints of the interval that contains a given percentage of the distribution (confidence interval).  |\n",
    "| rvs   | Random variable samples. Takes as argument the size of the resulting array of samples.  |\n",
    "| mean, median, std, var | Descriptive statistics: mean, median, standard deviation, and the variance of the distribution.   |"
   ]
  },
  {
   "cell_type": "markdown",
   "metadata": {
    "id": "wCN5glNf_QfW"
   },
   "source": [
    "There are a large number of classes for the discrete and continuous random variable in the SciPy stats module. At the time of writing, there are classes for 13 discrete and 98 continuous distributions, and these include the most commonly encountered distributions (and many less common). For a complete reference, see the docstring for the stats module: ``help(stats)``. In the following we explore some of the more common\n",
    "distributions, but the usage of all the other distributions follows the same pattern.\n",
    "\n",
    "The random variable classes in the SciPy stats module have several use-cases. They are both representations of the distribution, which can be used to compute descriptive statistics and for graphing, and they can be used to generate random numbers following the given distribution using the rvs (random variable sample) method. The latter use-case is similar to what we used the np.random module for earlier in this topic.\n",
    "\n",
    "As a demonstration of how to use the random variable classes in SciPy stats, consider the following example where we create a normal distributed random variable\n",
    "with mean 1.0 and standard deviation 0.5:"
   ]
  },
  {
   "cell_type": "code",
   "execution_count": null,
   "metadata": {
    "id": "7yspIXdN9Sx_"
   },
   "outputs": [],
   "source": [
    "X = stats.norm(1, 0.5)"
   ]
  },
  {
   "cell_type": "markdown",
   "metadata": {
    "id": "asUhQ6Li_k9P"
   },
   "source": [
    "Now X is an object that represents a random variable, and we can compute descriptive statistics of this random variable using, for example, the mean, median, std, and var methods:"
   ]
  },
  {
   "cell_type": "code",
   "execution_count": null,
   "metadata": {
    "colab": {
     "base_uri": "https://localhost:8080/"
    },
    "id": "dFTzMreC_lOm",
    "outputId": "94763b66-0fd0-40e5-ef13-4f07eeda36e3"
   },
   "outputs": [
    {
     "data": {
      "text/plain": [
       "1.0"
      ]
     },
     "execution_count": 33,
     "metadata": {
      "tags": []
     },
     "output_type": "execute_result"
    }
   ],
   "source": [
    "X.mean()"
   ]
  },
  {
   "cell_type": "code",
   "execution_count": null,
   "metadata": {
    "colab": {
     "base_uri": "https://localhost:8080/"
    },
    "id": "9eNlgRYk_rcp",
    "outputId": "59a521eb-ddb8-4832-ce4c-5c7baf210885"
   },
   "outputs": [
    {
     "data": {
      "text/plain": [
       "1.0"
      ]
     },
     "execution_count": 34,
     "metadata": {
      "tags": []
     },
     "output_type": "execute_result"
    }
   ],
   "source": [
    "X.median()"
   ]
  },
  {
   "cell_type": "code",
   "execution_count": null,
   "metadata": {
    "colab": {
     "base_uri": "https://localhost:8080/"
    },
    "id": "WWsGzrtV_rhm",
    "outputId": "35061538-49b0-4317-b4b3-43584a4f649e"
   },
   "outputs": [
    {
     "data": {
      "text/plain": [
       "0.5"
      ]
     },
     "execution_count": 35,
     "metadata": {
      "tags": []
     },
     "output_type": "execute_result"
    }
   ],
   "source": [
    "X.std()"
   ]
  },
  {
   "cell_type": "code",
   "execution_count": null,
   "metadata": {
    "colab": {
     "base_uri": "https://localhost:8080/"
    },
    "id": "IR4FWwWR_rlv",
    "outputId": "57f76db6-e532-4caa-f691-03850cf284ac"
   },
   "outputs": [
    {
     "data": {
      "text/plain": [
       "0.25"
      ]
     },
     "execution_count": 36,
     "metadata": {
      "tags": []
     },
     "output_type": "execute_result"
    }
   ],
   "source": [
    "X.var()"
   ]
  },
  {
   "cell_type": "markdown",
   "metadata": {
    "id": "XVOAmFkU_0jx"
   },
   "source": [
    "[Noncentral moments](https://www.google.com/search?q=non+central+moments&oq=noncentral+mome&aqs=chrome.1.69i57j0i19l5j0i10i19i22i30j0i5i13i19i30.4278j0j7&sourceid=chrome&ie=UTF-8) of arbitrary order can be computed with the moment method:"
   ]
  },
  {
   "cell_type": "code",
   "execution_count": null,
   "metadata": {
    "colab": {
     "base_uri": "https://localhost:8080/"
    },
    "id": "F17A9yxD_00h",
    "outputId": "e0a60aed-bb04-47ee-c4dc-71be91d68812"
   },
   "outputs": [
    {
     "data": {
      "text/plain": [
       "[1.0,\n",
       " 1.0,\n",
       " 1.25,\n",
       " 1.75,\n",
       " 2.6875,\n",
       " 4.437499999985435,\n",
       " 7.796874999989943,\n",
       " 14.453125000060153,\n",
       " 28.09765624998442,\n",
       " 57.00390624794033]"
      ]
     },
     "execution_count": 38,
     "metadata": {
      "tags": []
     },
     "output_type": "execute_result"
    }
   ],
   "source": [
    "[X.moment(n) for n in range(10)]"
   ]
  },
  {
   "cell_type": "markdown",
   "metadata": {
    "id": "inLMLnqx_8_n"
   },
   "source": [
    "And we can obtain a distribution-dependent list of statistics using the stats method(here, for a normal distributed random variable, we get the mean and the variance):"
   ]
  },
  {
   "cell_type": "code",
   "execution_count": null,
   "metadata": {
    "colab": {
     "base_uri": "https://localhost:8080/"
    },
    "id": "lLUlEhOJ_8jA",
    "outputId": "bb74f044-29cf-42f6-9423-d70d03c5a30a"
   },
   "outputs": [
    {
     "data": {
      "text/plain": [
       "(array(1.), array(0.25))"
      ]
     },
     "execution_count": 39,
     "metadata": {
      "tags": []
     },
     "output_type": "execute_result"
    }
   ],
   "source": [
    "X.stats()"
   ]
  },
  {
   "cell_type": "markdown",
   "metadata": {
    "id": "J7oRLAdyAckT"
   },
   "source": [
    "We can evaluate the probability distribution function, the cumulative distribution function, the survival function, etc., using the methods ``pdf``, ``cdf``, ``sf``, etc. These all take a value, or an array of values, at which to evaluate the function:"
   ]
  },
  {
   "cell_type": "code",
   "execution_count": null,
   "metadata": {
    "colab": {
     "base_uri": "https://localhost:8080/"
    },
    "id": "BrZCQ0DgAhf1",
    "outputId": "da2a8c2b-3bf6-4d58-c76b-796dfdeceaff"
   },
   "outputs": [
    {
     "data": {
      "text/plain": [
       "array([0.10798193, 0.79788456, 0.10798193])"
      ]
     },
     "execution_count": 40,
     "metadata": {
      "tags": []
     },
     "output_type": "execute_result"
    }
   ],
   "source": [
    "X.pdf([0, 1, 2])"
   ]
  },
  {
   "cell_type": "code",
   "execution_count": null,
   "metadata": {
    "colab": {
     "base_uri": "https://localhost:8080/"
    },
    "id": "EYgM4Y-iAno5",
    "outputId": "c094c2d9-e4b1-4f9a-abb3-db6017fa1e7e"
   },
   "outputs": [
    {
     "data": {
      "text/plain": [
       "array([0.02275013, 0.5       , 0.97724987])"
      ]
     },
     "execution_count": 41,
     "metadata": {
      "tags": []
     },
     "output_type": "execute_result"
    }
   ],
   "source": [
    "X.cdf([0, 1, 2])"
   ]
  },
  {
   "cell_type": "markdown",
   "metadata": {
    "id": "w95KiiOlAsbk"
   },
   "source": [
    "The interval method can be used to compute the lower and upper values of x such that a given percentage of the probability distribution falls within the interval\n",
    "(lower, upper). This method is useful for computing confidence intervals and for selecting a range of x values for plotting:"
   ]
  },
  {
   "cell_type": "code",
   "execution_count": null,
   "metadata": {
    "colab": {
     "base_uri": "https://localhost:8080/"
    },
    "id": "4LNZJhUDAv_4",
    "outputId": "f44269c5-94b4-4ad3-f99c-65dfa9249be7"
   },
   "outputs": [
    {
     "data": {
      "text/plain": [
       "(0.020018007729972975, 1.979981992270027)"
      ]
     },
     "execution_count": 48,
     "metadata": {
      "tags": []
     },
     "output_type": "execute_result"
    }
   ],
   "source": [
    "X.interval(0.95)\n",
    "#95% of the values are between 0.020018007729972975 and 1.979981992270027"
   ]
  },
  {
   "cell_type": "code",
   "execution_count": null,
   "metadata": {
    "colab": {
     "base_uri": "https://localhost:8080/"
    },
    "id": "HjmxbrQ8AybN",
    "outputId": "5db385b5-ebcc-4409-de86-9e2c9105f5e9"
   },
   "outputs": [
    {
     "data": {
      "text/plain": [
       "(-0.2879146517744502, 2.28791465177445)"
      ]
     },
     "execution_count": 43,
     "metadata": {
      "tags": []
     },
     "output_type": "execute_result"
    }
   ],
   "source": [
    "X.interval(0.99)"
   ]
  },
  {
   "cell_type": "markdown",
   "metadata": {
    "id": "UEHsRNywBLVz"
   },
   "source": [
    "Certainly when you call this method with 1, you will get an interval bound between $-\\infty$ and $\\infty$.\n",
    "\n",
    "**Task**: Try calling the method with a value of $0$ and explain the results. "
   ]
  },
  {
   "cell_type": "code",
   "execution_count": null,
   "metadata": {
    "colab": {
     "base_uri": "https://localhost:8080/"
    },
    "id": "CNUQ7FOLBLmk",
    "outputId": "ffff174b-3950-46ef-a0e8-014b56086d0a"
   },
   "outputs": [
    {
     "data": {
      "text/plain": [
       "(-inf, inf)"
      ]
     },
     "execution_count": 50,
     "metadata": {
      "tags": []
     },
     "output_type": "execute_result"
    }
   ],
   "source": [
    "X.interval(1)"
   ]
  },
  {
   "cell_type": "markdown",
   "metadata": {
    "id": "0OsFfSxJCQdh"
   },
   "source": [
    "To build intuition for the properties of a probability distribution, it is useful to graph it, together with the corresponding cumulative probability function and the percent-point function. To make it easier to repeat this for several distributions, we first create a \n",
    "function ``plot_rv_distribution`` that plots the result of pdf or pmf, the cdf and sf, and ppf methods of the SciPy stats random variable objects, over an interval that contains 99.9% of the probability distribution function. We also highlight the area that contains\n",
    "95% of the probability distribution using the fill_between drawing method:"
   ]
  },
  {
   "cell_type": "code",
   "execution_count": null,
   "metadata": {
    "id": "gkV3M5_OCZYl"
   },
   "outputs": [],
   "source": [
    "def plot_rv_distribution(X, axes=None):\n",
    "    \"\"\"Plot the PDF, CDF, SF and PPF of a given random variable\"\"\"\n",
    "    if axes is None:\n",
    "        fig, axes = plt.subplots(1, 3, figsize=(12, 3))\n",
    "    \n",
    "    x_min_999, x_max_999 = X.interval(0.999)\n",
    "    x999 = np.linspace(x_min_999, x_max_999, 1000)\n",
    "\n",
    "    x_min_95, x_max_95 = X.interval(0.95)\n",
    "    x95 = np.linspace(x_min_95, x_max_95, 1000)\n",
    "\n",
    "    if hasattr(X.dist, 'pdf'):\n",
    "        axes[0].plot(x999, X.pdf(x999), label=\"PDF\")\n",
    "        axes[0].fill_between(x95, X.pdf(x95), alpha=0.25)\n",
    "    else:\n",
    "        x999_int = np.unique(x999.astype(int))\n",
    "        axes[0].bar(x999_int, X.pmf(x999_int), label=\"PMF\")\n",
    "    axes[1].plot(x999, X.cdf(x999), label=\"CDF\")\n",
    "    axes[1].plot(x999, X.sf(x999), label=\"SF\")\n",
    "    axes[2].plot(x999, X.ppf(x999), label=\"PPF\")\n",
    "    \n",
    "    for ax in axes:\n",
    "        ax.legend()\n",
    "    \n",
    "    return axes"
   ]
  },
  {
   "cell_type": "code",
   "execution_count": null,
   "metadata": {
    "colab": {
     "base_uri": "https://localhost:8080/",
     "height": 653
    },
    "id": "w5j6yb_SCdYd",
    "outputId": "77d1cc04-7feb-45bc-f1f5-9d174750d83d"
   },
   "outputs": [
    {
     "data": {
      "image/png": "[encoded data removed]",
      "text/plain": [
       "<Figure size 864x648 with 9 Axes>"
      ]
     },
     "metadata": {
      "tags": []
     },
     "output_type": "display_data"
    }
   ],
   "source": [
    "fig, axes = plt.subplots(3, 3, figsize=(12, 9))\n",
    "\n",
    "X = stats.norm()\n",
    "plot_rv_distribution(X, axes=axes[0, :])\n",
    "axes[0, 0].set_ylabel(\"Normal dist.\")\n",
    "X = stats.f(2, 50)\n",
    "plot_rv_distribution(X, axes=axes[1, :])\n",
    "axes[1, 0].set_ylabel(\"F dist.\")\n",
    "X = stats.poisson(5)\n",
    "plot_rv_distribution(X, axes=axes[2, :])\n",
    "axes[2, 0].set_ylabel(\"Poisson dist.\")\n",
    "\n",
    "fig.tight_layout()\n",
    "#fig.savefig(\"ch13-distributions.pdf\")\n",
    "# generates examples of probability distribution functions (PDF) or probability mass functions (PMFs),\n",
    "# cumulative distribution functions (CDF), survival functions (SF), \n",
    "# and percent-point functions (PPF) for a normal distribution (top), an F distribution (middle),\n",
    "# and a Poisson distribution (bottom)"
   ]
  },
  {
   "cell_type": "markdown",
   "metadata": {
    "id": "6cdUPY_cC9Ao"
   },
   "source": [
    "In the examples so far, we have initiated an instance of a random variable class and computed statistics and other properties using method calls. An alternative way\n",
    "to use the random variable classes in SciPy’s stats module is to use class methods, for example, ``stats.norm.mean``, and pass the distribution parameters as arguments (often loc and scale, as in this example for normally distributed values):"
   ]
  },
  {
   "cell_type": "code",
   "execution_count": null,
   "metadata": {
    "colab": {
     "base_uri": "https://localhost:8080/"
    },
    "id": "C1jODgadDCY-",
    "outputId": "d3cf8556-db5d-4e0f-f054-af71e3888701"
   },
   "outputs": [
    {
     "data": {
      "text/plain": [
       "(array(2.), array(0.25))"
      ]
     },
     "execution_count": 53,
     "metadata": {
      "tags": []
     },
     "output_type": "execute_result"
    }
   ],
   "source": [
    "stats.norm.stats(loc=2, \n",
    "                 scale=0.5)"
   ]
  },
  {
   "cell_type": "markdown",
   "metadata": {
    "id": "9H2A_pBKDE1C"
   },
   "source": [
    "which gives the same result as first creating an instance and then calling the corresponding method:"
   ]
  },
  {
   "cell_type": "code",
   "execution_count": null,
   "metadata": {
    "colab": {
     "base_uri": "https://localhost:8080/"
    },
    "id": "-RLqdEVsDFCE",
    "outputId": "16d38f00-8391-4e51-937c-78f8da07f805"
   },
   "outputs": [
    {
     "data": {
      "text/plain": [
       "(array(1.), array(0.25))"
      ]
     },
     "execution_count": 54,
     "metadata": {
      "tags": []
     },
     "output_type": "execute_result"
    }
   ],
   "source": [
    "stats.norm(loc=1,\n",
    "           scale=0.5).stats()"
   ]
  },
  {
   "cell_type": "markdown",
   "metadata": {
    "id": "mN0vexJbDM-z"
   },
   "source": [
    "Most methods in the ``rv_discrete`` and ``rv_continuous`` classes can be used as class\n",
    "methods in this way. \n",
    "\n",
    "So far we have only looked at properties of the distribution function of random variables. Note that although a distribution function describes a random variable, the distribution itself is fully deterministic. To draw random numbers that are distributed according to the given probability distribution, we can use the rvs (random variable\n",
    "sample) method. It takes as argument the shape of the required array (can be an integer for a vector or a tuple of dimension lengths for a higher-dimensional array). Here we use rvs(10) to generate a one-dimensional array with ten values:"
   ]
  },
  {
   "cell_type": "code",
   "execution_count": null,
   "metadata": {
    "colab": {
     "base_uri": "https://localhost:8080/"
    },
    "id": "ECc4cehCDNMv",
    "outputId": "6c477324-084b-484f-ae2b-ec70454bdb31"
   },
   "outputs": [
    {
     "data": {
      "text/plain": [
       "array([1.43841711, 2.56662976, 0.50437638, 1.43558405, 1.24249875,\n",
       "       1.15962805, 1.2265658 , 0.54154384, 1.66932021, 1.42933398])"
      ]
     },
     "execution_count": 55,
     "metadata": {
      "tags": []
     },
     "output_type": "execute_result"
    }
   ],
   "source": [
    "X = stats.norm(1, 0.5)\n",
    "X.rvs(10)"
   ]
  },
  {
   "cell_type": "markdown",
   "metadata": {
    "id": "TGY_zFKnDb19"
   },
   "source": [
    "To see that the resulting random numbers indeed are distributed according to the corresponding probability distribution function, we can graph a histogram of a large number of samples of a random variable and compare it to the probability distribution\n",
    "function. Again, to be able to do this easily for samples of several random variables, we\n",
    "create a function plot_dist_samples for this purpose. This function uses the interval method to obtain a suitable plot range for a given random variable object."
   ]
  },
  {
   "cell_type": "code",
   "execution_count": null,
   "metadata": {
    "id": "hyP5V496DiXj"
   },
   "outputs": [],
   "source": [
    "def plot_dist_samples(X, X_samples, title=None, ax=None):\n",
    "    \"\"\" Plot the PDF and histogram of samples of a continuous random variable\"\"\"\n",
    "    if ax is None:\n",
    "        fig, ax = plt.subplots(1, 1, figsize=(8, 4))\n",
    "\n",
    "    x_lim = X.interval(.99)\n",
    "    x = np.linspace(*x_lim, num=100)\n",
    "\n",
    "    ax.plot(x, X.pdf(x), label=\"PDF\", lw=3)    \n",
    "    ax.hist(X_samples, label=\"samples\", bins=75)\n",
    "    ax.set_xlim(*x_lim)\n",
    "    ax.legend()\n",
    "    \n",
    "    if title:\n",
    "        ax.set_title(title)\n",
    "    return ax"
   ]
  },
  {
   "cell_type": "markdown",
   "metadata": {
    "id": "2iv7pd__ELKR"
   },
   "source": [
    "Note that in this function we have used the tuple unpacking syntax ``*x_lim``, which distributes the elements in the tuple x_lim to different arguments for the function. In this case it is equivalent to ``np.linspace(x_lim[0], x_lim[1], num=100)``.\n",
    "Next we use this function to visualize 2000 samples of three random variables with different distributions: here we use the Student’s t distribution, the $\\chi^2$ distribution,\n",
    "and the exponential distribution, and the results are shown in the next figure. Since 2000 is a fairly large sample, the histogram graphs of the samples coincide well with the probability distribution function. With an even larger number of samples, the agreement\n",
    "can be expected to be even better."
   ]
  },
  {
   "cell_type": "code",
   "execution_count": null,
   "metadata": {
    "colab": {
     "base_uri": "https://localhost:8080/",
     "height": 251
    },
    "id": "u8wh_cC_DimN",
    "outputId": "8f8b9924-d25d-4ccd-eba2-a361aec72db9"
   },
   "outputs": [
    {
     "data": {
      "text/plain": [
       "<matplotlib.axes._subplots.AxesSubplot at 0x7f87ceb61a58>"
      ]
     },
     "execution_count": 62,
     "metadata": {
      "tags": []
     },
     "output_type": "execute_result"
    },
    {
     "data": {
      "image/png": "[encoded data removed]",
      "text/plain": [
       "<Figure size 864x216 with 3 Axes>"
      ]
     },
     "metadata": {
      "tags": []
     },
     "output_type": "display_data"
    }
   ],
   "source": [
    "fig, axes = plt.subplots(1, 3, figsize=(12, 3))\n",
    "N = 2000\n",
    "\n",
    "# Student's t distribution\n",
    "X = stats.t(7.0)\n",
    "plot_dist_samples(X, X.rvs(N), \"Student's t dist.\", ax=axes[0])\n",
    "\n",
    "# The chisquared distribution\n",
    "X = stats.chi2(5.0)\n",
    "plot_dist_samples(X, X.rvs(N), r\"$\\chi^2$ dist.\", ax=axes[1])\n",
    "\n",
    "# The exponential distribution\n",
    "X = stats.expon(0.5)\n",
    "plot_dist_samples(X, X.rvs(N), \"exponential dist.\", ax=axes[2])"
   ]
  },
  {
   "cell_type": "markdown",
   "metadata": {
    "id": "OoAm_Mh2E9hF"
   },
   "source": [
    "The opposite of drawing random samples from a known distribution function is to fit given probability distribution with unknown parameters to a set of data points. In such a fit, we typically wish to optimize the unknown parameters such that the likelihood of\n",
    "observing the given data is maximized. This is called a maximum likelihood fit. Many of the random variable classes in the SciPy stats module implements the method fit that performs such a fitting to given data. As a first example, consider drawing 500 random samples from the $\\chi^2$ distribution with five degrees of freedom (df=5) and then refitting the random variables to the $\\chi^2$ distribution using the fit method."
   ]
  },
  {
   "cell_type": "code",
   "execution_count": null,
   "metadata": {
    "colab": {
     "base_uri": "https://localhost:8080/"
    },
    "id": "vDUkAB2RFLtl",
    "outputId": "a3eff964-9544-4064-f035-0b651de08a5d"
   },
   "outputs": [
    {
     "data": {
      "text/plain": [
       "(4.967613457653257, -0.01152415918780448, 0.979181624921978)"
      ]
     },
     "execution_count": 63,
     "metadata": {
      "tags": []
     },
     "output_type": "execute_result"
    }
   ],
   "source": [
    "X = stats.chi2(df=5)\n",
    "X_samples = X.rvs(500)\n",
    "df, loc, scale = stats.chi2.fit(X_samples)\n",
    "df, loc, scale"
   ]
  },
  {
   "cell_type": "code",
   "execution_count": null,
   "metadata": {
    "id": "KXbgfSNJFO0K"
   },
   "outputs": [],
   "source": [
    "Y = stats.chi2(df=df, loc=loc, scale=scale)"
   ]
  },
  {
   "cell_type": "markdown",
   "metadata": {
    "id": "PpoL-P7hFWo_"
   },
   "source": [
    "The fit method returns the maximum likelihood parameters of the distribution, for the given data. We can pass on those parameters to the initializer of the ``stats.chi2`` to create a new random variable instance Y. The probability distribution of Y should\n",
    "resemble the probability distribution of the original random variable X. To verify this we can plot the probability distribution functions for both random variables. The resulting graph is shown in the next figure."
   ]
  },
  {
   "cell_type": "code",
   "execution_count": null,
   "metadata": {
    "colab": {
     "base_uri": "https://localhost:8080/",
     "height": 287
    },
    "id": "Rg6gmFRbFfGv",
    "outputId": "efa05e25-47fb-45f2-e664-d1b8a88f01b8"
   },
   "outputs": [
    {
     "data": {
      "text/plain": [
       "<matplotlib.legend.Legend at 0x7f87ccf8e0b8>"
      ]
     },
     "execution_count": 65,
     "metadata": {
      "tags": []
     },
     "output_type": "execute_result"
    },
    {
     "data": {
      "image/png": "[encoded data removed]",
      "text/plain": [
       "<Figure size 864x288 with 2 Axes>"
      ]
     },
     "metadata": {
      "tags": []
     },
     "output_type": "display_data"
    }
   ],
   "source": [
    "fig, axes = plt.subplots(1, 2, figsize=(12, 4))\n",
    "x_lim = X.interval(.99)\n",
    "x = np.linspace(*x_lim, num=100)\n",
    "\n",
    "axes[0].plot(x, X.pdf(x), label=\"original\")\n",
    "axes[0].plot(x, Y.pdf(x), label=\"recreated\")\n",
    "axes[0].legend()\n",
    "\n",
    "axes[1].plot(x, X.pdf(x) - Y.pdf(x), label=\"error\")\n",
    "axes[1].legend()\n",
    "# generates original and recreated probability distribution function (left) and\n",
    "# the error (right), from a maximum likelihood fit of 500 random samples of the\n",
    "# original distribution"
   ]
  },
  {
   "cell_type": "markdown",
   "metadata": {
    "id": "3z7E2c7nOJv2"
   },
   "source": [
    "## Hypothesis testing"
   ]
  },
  {
   "cell_type": "markdown",
   "metadata": {
    "id": "wxphCKNA_Acr"
   },
   "source": [
    "Hypothesis testing is a cornerstone of the scientific method, which requires that claims are investigated objectively and that a claim is rejected or accepted on the basis of factual observations. Statistical hypothesis testing has a more specific meaning. It is a systematic methodology for evaluating if a claim, or a hypothesis, is reasonable or not, on the basis of data. As such it is an important application of statistics. In this methodology, we formulate the hypothesis in terms of a null hypothesis, $H_0$, which represents the currently accepted state of knowledge, and an alternative hypothesis, $H_A$, which represents a\n",
    "new claim that challenges the current state of knowledge. The null hypothesis and the alternative hypothesis must be mutually exclusive and complementary, so that one and only one of the hypotheses is true.\n",
    "\n",
    "Once $H_0$ and $H_A$ are defined, the data that support the test must be collected, for example, through measurements, observations, or a survey. The next step is to find a test statistics that can be computed from the data and whose probability distribution function can be found under the null hypothesis. Next we can evaluate the data by computing the probability (the p-value) of obtaining the observed value of the test\n",
    "statistics (or a more extreme one) using the  distribution function that is implied by the\n",
    "null hypothesis. If the p-value is smaller than a predetermined threshold, known as the significance level, and denoted by α (typically 5% or 1%), we can conclude that the observed data is unlikely to have been described by the distribution corresponding to\n",
    "the null hypothesis. In that case, we can therefore reject the null hypothesis in favor of\n",
    "the alternative hypothesis. The steps for carrying out a hypothesis test are summarized in the following list:\n",
    "\n",
    "1. Formulate the null hypothesis and the alternative hypothesis.\n",
    "2. Select a test statistics such that its sampling distribution under the null hypothesis is known (exactly or approximately).\n",
    "3. Collect data.\n",
    "4. Compute the test statistics from the data and calculate its $p$-value under the null hypothesis.\n",
    "5. If the $p$-value is smaller than the predetermined significance level $\\alpha$, we reject the null hypothesis. If the $p$-value is larger, we fail to\n",
    "reject the null hypothesis.\n",
    "\n",
    "Statistical hypothesis testing is a probabilistic method, which means that we cannot be certain in the decision to reject or not to reject the null hypothesis. There can be two types of error: we can mistakenly reject the null hypothesis when in reality\n",
    "it should not be rejected, and we can fail to reject the null hypothesis when it should be rejected. These are called type I and type II errors, respectively. By choosing the required significance level, we can balance the trade-off between these two types of error.\n",
    "\n",
    "In general, the most challenging step in the method outlined in the preceding section is to know the sampling distribution of the test statistics. Fortunately many hypothesis tests fall in a few standard categories for which the probability distributions are known. A brief summary and overview of common hypothesis test cases and the corresponding distribution of their test statistics are given in the following table. For motivations for why each of these tests is suitable for stated situations, and the full set of conditions for the validity of the tests, see statistics textbooks such as Wasserman (2004) or Rice\n",
    "(1995). The docstring for each listed functions in the SciPy stats module also contains further information about each test.\n",
    "\n",
    "| Null Hypothesis | Distributions | SciPy Functions for Test |\n",
    "|---|---|---|\n",
    "| Test if the mean of a population is a given value.| Normal distribution (``stats.norm``), or Student’s t distribution (``stats.t``) |``stats.ttest_1samp``   |\n",
    "| Test if the means of two random variables are equal (independent or paired samples).  | Student’s t distribution (``stats.t``)  | ``stats.ttest_ind``, ``stats.ttest_rel``  |\n",
    "| Test goodness of fit of a continuous distribution to data.  | Kolmogorov-Smirnov distribution  | ``stats.kstest``  |\n",
    "| Test if categorical data occur with given frequency (sum of squared normally distributed variables) | $\\chi^2$ distribution (``stats.chi2``)  | ``stats.chisquare``  |\n",
    "| Test for the independence of categorical variables in a contingency table.  | $\\chi^2$ distribution  | ``stats.chi2_contingency``  |\n",
    "| Test for equal variance in samples of two or more variables.  | $F$ distribution(``stats.f``)  | ``stats.barlett``,``stats.levene`` |\n",
    "| Test for noncorrelation between two variables.  | Beta distribution (``stats.beta,stasts.mstats.betai``)  | ``stats.pearsonr``,``stats.spearmanr``  |\n",
    "| Test if two or more variables have the same population mean (ANOVA – analysis of variance).  | $F$ distribution  | ``stats.f_oneway``,\n",
    "``stats.kruskal``  |"
   ]
  },
  {
   "cell_type": "markdown",
   "metadata": {
    "id": "lbKuNcRmCjr4"
   },
   "source": [
    "In the following we also look at examples of how the corresponding functions in`SciPy stats module can be used to carry out steps 4 and 5 in the preceding procedure given: computing a test statistic and the corresponding p-value.\n",
    "\n",
    "For example, a common null hypothesis is a claim that the mean $\\mu$ of a population\n",
    "is a certain value $\\mu_0$. We can then sample the population and use the sample mean $x$\n",
    "to form a test statistic $ z = \\frac{\\bar{x} - \\mu_0}{\\sigma / \\sqrt{n}}$\n",
    ", where $n$ is the sample size. If the population is large and the variance $\\sigma$ is known, then it is reasonable to assume that the test statistic is normally distributed. If the variance is unknown, we can substitute $\\sigma^2$ with the sample variance $\\sigma^2_x$. The test statistic then follows the Student’s t distribution, which in the limit\n",
    "of a large number of samples approaches the normal distribution. Regardless of which\n",
    "distribution we end up using, we can compute a p-value for the test statistics using the\n",
    "given distribution.\n",
    "\n",
    "As an example of how this type of hypothesis test can be carried out using the functions provided by the SciPy stats module, consider a null hypothesis that claims that a random variable $X$ has mean $\\mu_0 = 1$. Given samples of $X$, we then wish to test if the\n",
    "sampled data is compatible with the null hypothesis. Here we simulate the samples by\n",
    "drawing 100 random samples from a distribution slightly different than that claimed by\n",
    "the null hypothesis (using $\\mu = 0.8$):"
   ]
  },
  {
   "cell_type": "code",
   "execution_count": null,
   "metadata": {
    "id": "LnGGCC2aEUii"
   },
   "outputs": [],
   "source": [
    "mu0, mu, sigma = 1.0, 0.8, 0.5\n",
    "X = stats.norm(mu, sigma)\n",
    "n = 100\n",
    "X_samples = X.rvs(n)"
   ]
  },
  {
   "cell_type": "markdown",
   "metadata": {
    "id": "YRmnRSjU5w9T"
   },
   "source": [
    "Given the sample data, ``X_samples``, next we need to compute a test statistic. If the\n",
    "population standard deviation $\\sigma$ is known, as in this example, we can use $ z = \\frac{\\bar{x} - \\mu_0}{\\sigma / \\sqrt{n}}$\n",
    ",\n",
    "which is normally distributed."
   ]
  },
  {
   "cell_type": "code",
   "execution_count": null,
   "metadata": {
    "colab": {
     "base_uri": "https://localhost:8080/"
    },
    "id": "ByQc5Kl756ut",
    "outputId": "e09d55a8-c764-4ee1-cdeb-b355760c216d"
   },
   "outputs": [
    {
     "data": {
      "text/plain": [
       "-5.190957645172878"
      ]
     },
     "execution_count": 3,
     "metadata": {
      "tags": []
     },
     "output_type": "execute_result"
    }
   ],
   "source": [
    "z = (X_samples.mean() - mu0)/(sigma/np.sqrt(n))\n",
    "z"
   ]
  },
  {
   "cell_type": "markdown",
   "metadata": {
    "id": "xcQGhGgt6A1Z"
   },
   "source": [
    "If the population variance is not known, we can use the sample standard deviation\n",
    "instead: $ t = \\frac{\\bar{x} - \\mu}{\\sigma_x / \\sqrt{n}}$\n",
    ". However, in this case, the test statistics t follows the Student’s t distribution instead rather than the normal distribution. To compute t in this case, we can use the NumPy method ``std`` with the ``ddof=1`` argument to compute the sample standard deviation:"
   ]
  },
  {
   "cell_type": "code",
   "execution_count": null,
   "metadata": {
    "colab": {
     "base_uri": "https://localhost:8080/"
    },
    "id": "CT3MOPvz6Sgo",
    "outputId": "60c66da6-b488-4060-d29a-c31cbd6daa1b"
   },
   "outputs": [
    {
     "data": {
      "text/plain": [
       "-5.636588129144241"
      ]
     },
     "execution_count": 4,
     "metadata": {
      "tags": []
     },
     "output_type": "execute_result"
    }
   ],
   "source": [
    "t = (X_samples.mean() - mu0)/(X_samples.std(ddof=1)/np.sqrt(n))\n",
    "t"
   ]
  },
  {
   "cell_type": "markdown",
   "metadata": {
    "id": "db_pYHFi6V00"
   },
   "source": [
    "In either case we get a test statistics that we can compare with the corresponding distribution to obtain a p-value. For example, for a normal distribution, we can use a ``stats.norm`` instance to represent a normal distributed random variable, and with its ppf method, we can look up the statistics value that corresponds to a certain significance\n",
    "level. For a two-sided hypothesis test of significance level 5% (2.5% on each side), the\n",
    "statistics threshold is"
   ]
  },
  {
   "cell_type": "code",
   "execution_count": null,
   "metadata": {
    "colab": {
     "base_uri": "https://localhost:8080/"
    },
    "id": "nl5D8Fqy6c_z",
    "outputId": "3ffd6292-22e7-494c-95d9-f39557b0cdd5"
   },
   "outputs": [
    {
     "data": {
      "text/plain": [
       "-1.9599639845400545"
      ]
     },
     "execution_count": 5,
     "metadata": {
      "tags": []
     },
     "output_type": "execute_result"
    }
   ],
   "source": [
    "stats.norm().ppf(0.025)"
   ]
  },
  {
   "cell_type": "markdown",
   "metadata": {
    "id": "dJYTY8-36gun"
   },
   "source": [
    "Since the observed statistics is about -5.19, which is smaller than the threshold value –1.96 for a two-sided test with significance level 5%, we have sufficient grounds to reject the null hypothesis in this case. We can explicitly compute the p-value for the observed test statistics using the cdf method (multiplied by two for a two-sided test). The resulting p-value is indeed rather small, which supports the rejection of the null hypothesis:"
   ]
  },
  {
   "cell_type": "code",
   "execution_count": null,
   "metadata": {
    "colab": {
     "base_uri": "https://localhost:8080/"
    },
    "id": "9hIkkrA56_ld",
    "outputId": "48e7c9eb-a127-4bcd-9e65-22f72b797193"
   },
   "outputs": [
    {
     "data": {
      "text/plain": [
       "2.0921521832875364e-07"
      ]
     },
     "execution_count": 6,
     "metadata": {
      "tags": []
     },
     "output_type": "execute_result"
    }
   ],
   "source": [
    "2 * stats.norm().cdf(-abs(z))"
   ]
  },
  {
   "cell_type": "markdown",
   "metadata": {
    "id": "OTjlD3QP7EH1"
   },
   "source": [
    "If we would like to use the t distribution, we can use the ``stats.t`` class instead of\n",
    "``stats.norm``. After computing the sample mean, $\\bar{x}$ , only n − 1 degrees of freedom (df) remains in the sample data. The number of degrees of freedom is an important parameter for the t distribution, which we need to specify when we create the random variable instance:"
   ]
  },
  {
   "cell_type": "code",
   "execution_count": null,
   "metadata": {
    "colab": {
     "base_uri": "https://localhost:8080/"
    },
    "id": "Pt6_CJlu7Q5f",
    "outputId": "8209521b-51b3-4a10-feef-b8f6469ec340"
   },
   "outputs": [
    {
     "data": {
      "text/plain": [
       "1.638166894484826e-07"
      ]
     },
     "execution_count": 7,
     "metadata": {
      "tags": []
     },
     "output_type": "execute_result"
    }
   ],
   "source": [
    "2 * stats.t(df=(n-1)).cdf(-abs(t))"
   ]
  },
  {
   "cell_type": "markdown",
   "metadata": {
    "id": "USkMzqeU7Tkp"
   },
   "source": [
    "The p-value is again very small, suggesting that we should reject the null hypothesis.\n",
    "Instead of explicitly carrying out these steps (computing the test statistics, then\n",
    "computing the p-value), there are built-in functions in SciPy’s stats module for carrying\n",
    "out many common tests, as summarized in the next table. For the test we have used here,\n",
    "we can directly compute the test statistics and the p-value using the ``stats.ttest_1samp``\n",
    "function:"
   ]
  },
  {
   "cell_type": "code",
   "execution_count": null,
   "metadata": {
    "colab": {
     "base_uri": "https://localhost:8080/"
    },
    "id": "pW9cxTVa7TXX",
    "outputId": "766db4df-b966-421e-b514-65ea620b53bf"
   },
   "outputs": [
    {
     "data": {
      "text/plain": [
       "(-1.2931983236922484, 0.19895199146059042)"
      ]
     },
     "execution_count": 16,
     "metadata": {
      "tags": []
     },
     "output_type": "execute_result"
    }
   ],
   "source": [
    "t, p = stats.ttest_1samp(X_samples, mu)\n",
    "t, p"
   ]
  },
  {
   "cell_type": "markdown",
   "metadata": {
    "id": "KbnUhAC07rCL"
   },
   "source": [
    "Again we see that the p-value is very small (the same value as in the preceding text)\n",
    "and that we should reject the null hypothesis. It is also illustrative to plot the distribution\n",
    "corresponding to the null hypothesis, together with the sampled data:"
   ]
  },
  {
   "cell_type": "code",
   "execution_count": null,
   "metadata": {
    "colab": {
     "base_uri": "https://localhost:8080/",
     "height": 290
    },
    "id": "ZDNMJ9NC7uy_",
    "outputId": "72359f7a-eb91-4ac4-fa3c-ad4f8f94a805"
   },
   "outputs": [
    {
     "name": "stderr",
     "output_type": "stream",
     "text": [
      "/usr/local/lib/python3.6/dist-packages/seaborn/distributions.py:2551: FutureWarning: `distplot` is a deprecated function and will be removed in a future version. Please adapt your code to use either `displot` (a figure-level function with similar flexibility) or `histplot` (an axes-level function for histograms).\n",
      "  warnings.warn(msg, FutureWarning)\n"
     ]
    },
    {
     "data": {
      "text/plain": [
       "[<matplotlib.lines.Line2D at 0x7fee0f91b160>]"
      ]
     },
     "execution_count": 11,
     "metadata": {
      "tags": []
     },
     "output_type": "execute_result"
    },
    {
     "data": {
      "image/png": "[encoded data removed]",
      "text/plain": [
       "<Figure size 576x216 with 1 Axes>"
      ]
     },
     "metadata": {
      "needs_background": "light",
      "tags": []
     },
     "output_type": "display_data"
    }
   ],
   "source": [
    "fig, ax = plt.subplots(figsize=(8, 3))\n",
    "sns.distplot(X_samples, ax=ax)\n",
    "x = np.linspace(*X.interval(0.999), num=100)\n",
    "ax.plot(x, stats.norm(loc=mu, scale=sigma).pdf(x))\n",
    "# Distribution function according to the null hypothesis (light red)\n",
    "# and the sample estimated distribution function (dark blue)"
   ]
  },
  {
   "cell_type": "markdown",
   "metadata": {
    "id": "u9rkKdYN8Cvk"
   },
   "source": [
    "For another example, consider a two-variable problem, where the null hypothesis states that the population means of two random variables are equal (e.g., corresponding to independent subjects with and without treatment). We can simulate this type of test by creating two random variables with normal distribution, with a randomly chosen population means. Here we select 50 samples for each random variable."
   ]
  },
  {
   "cell_type": "code",
   "execution_count": null,
   "metadata": {
    "id": "fYNh1mZJ8I1P"
   },
   "outputs": [],
   "source": [
    "n, sigma = 50, 1.0\n",
    "mu1, mu2 = np.random.rand(2)\n",
    "X1 = stats.norm(mu1, sigma)\n",
    "X1_sample = X1.rvs(n)\n",
    "X2 = stats.norm(mu2, sigma)\n",
    "X2_sample = X2.rvs(n)"
   ]
  },
  {
   "cell_type": "markdown",
   "metadata": {
    "id": "Yym6WZM08TGz"
   },
   "source": [
    "We are interested in evaluating if the observed samples provide sufficient evidence that the two population means are not equal (rejecting the null hypothesis). For this situation, we can use the $t$ test for two independent samples, which is available in SciPy\n",
    "``stats.ttext_ind``, which returns the test statistics and the corresponding p-value:"
   ]
  },
  {
   "cell_type": "code",
   "execution_count": null,
   "metadata": {
    "colab": {
     "base_uri": "https://localhost:8080/"
    },
    "id": "5bG8TTH58aUc",
    "outputId": "540543c9-1989-4818-e952-cfcdaa217ebf"
   },
   "outputs": [
    {
     "data": {
      "text/plain": [
       "(-0.21180194003615127, 0.8327014219397558)"
      ]
     },
     "execution_count": 14,
     "metadata": {
      "tags": []
     },
     "output_type": "execute_result"
    }
   ],
   "source": [
    "t, p = stats.ttest_ind(X1_sample, X2_sample)\n",
    "t, p"
   ]
  },
  {
   "cell_type": "markdown",
   "metadata": {
    "id": "z_urf9qp8h2X"
   },
   "source": [
    "Here the p-value is about 0.83, which is not small enough to support rejecting the\n",
    "null hypothesis that the two means are different. In this example the two population\n",
    "means are indeed different:"
   ]
  },
  {
   "cell_type": "code",
   "execution_count": null,
   "metadata": {
    "colab": {
     "base_uri": "https://localhost:8080/"
    },
    "id": "N1dS7wBO8oM-",
    "outputId": "1507fc3d-26d6-4c4d-e0f1-991154ba5504"
   },
   "outputs": [
    {
     "data": {
      "text/plain": [
       "(0.3119743535180922, 0.5149821324450357)"
      ]
     },
     "execution_count": 15,
     "metadata": {
      "tags": []
     },
     "output_type": "execute_result"
    }
   ],
   "source": [
    "mu1, mu2"
   ]
  },
  {
   "cell_type": "markdown",
   "metadata": {
    "id": "OWrXmlpJ8r93"
   },
   "source": [
    "However, the particular samples drawn from these distributions did not statistically\n",
    "prove that these means are different (an error of type II). To increase the power of the\n",
    "statistical test, we would need to increase the number of samples from each random variable.\n",
    "\n",
    "The SciPy stats module contains functions for common types of hypothesis testing\n",
    "([see the summary in the table in the first cell](https://colab.research.google.com/drive/1o68IFTEQY_ZeTyZJokzD5yeTLhHkbZew?authuser=4#scrollTo=wxphCKNA_Acr)), and their use closely followed what we have seen in\n",
    "the examples in this section. However, some tests require additional arguments for\n",
    "distribution parameters. See the docstrings for each individual test function for details."
   ]
  },
  {
   "cell_type": "markdown",
   "metadata": {
    "id": "K_1oCrVfOJ2H"
   },
   "source": [
    "##  Nonparametric methods"
   ]
  },
  {
   "cell_type": "markdown",
   "metadata": {
    "id": "GRV3dnWV9hS2"
   },
   "source": [
    "So far we have described random variables with distributions that are completely determined by a few parameters, such as the mean and the variance for the normal distributions. Given the sampled data, we can fit a distribution function using maximum likelihood optimization with respect to the distribution parameters. Such distribution functions are called *parametric*, and statistical methods based on such distribution functions (e.g., a hypothesis test) are called parametric methods. When using those methods, we make a strong assumption that the sampled data is indeed described by\n",
    "the given distribution. An alternative approach to constructing a representation of an unknown distribution function is kernel-density estimation (KDE), which can be viewed as a smoothened version of the histogram of the sampled data (see next figure). In this method, the probability distribution is estimated by a sum of the kernel function centered at each data point $\\hat{f}(x)=\\frac{1}{{n}\\cdot{bw}} \\sum_{i=0}^{n}K(\\frac{x - x_i}{bw})$, where bw is a free parameter known as the *bandwidth* and $K$ is the kernel function (normalized so that it integrates to unity). The bandwidth is an important parameter that defines a scale for the influence of each term in the sum. A too broad bandwidth gives a featureless estimate of the probability distribution, and a too small bandwidth gives a noisy overly structured\n",
    "estimate (see the middle panel in the next figure). Different choices of kernel functions are also possible. A Gaussian kernel is a popular choice, because of its smooth shape with\n",
    "local support, and it is relatively easy to perform computations with.\n",
    "![13-6.JPG](data:image/jpeg;base64,/9j/4AAQSkZJRgABAQEAYABgAAD/4RD4RXhpZgAATU0AKgAAAAgABAE7AAIAAAAPAAAISodpAAQAAAABAAAIWpydAAEAAAAeAAAQ0uocAAcAAAgMAAAAPgAAAAAc6gAAAAgAAAAAAAAAAAAAAAAAAAAAAAAAAAAAAAAAAAAAAAAAAAAAAAAAAAAAAAAAAAAAAAAAAAAAAAAAAAAAAAAAAAAAAAAAAAAAAAAAAAAAAAAAAAAAAAAAAAAAAAAAAAAAAAAAAAAAAAAAAAAAAAAAAAAAAAAAAAAAAAAAAAAAAAAAAAAAAAAAAAAAAAAAAAAAAAAAAAAAAAAAAAAAAAAAAAAAAAAAAAAAAAAAAAAAAAAAAAAAAAAAAAAAAAAAAAAAAAAAAAAAAAAAAAAAAAAAAAAAAAAAAAAAAAAAAAAAAAAAAAAAAAAAAAAAAAAAAAAAAAAAAAAAAAAAAAAAAAAAAAAAAAAAAAAAAAAAAAAAAAAAAAAAAAAAAAAAAAAAAAAAAAAAAAAAAAAAAAAAAAAAAAAAAAAAAAAAAAAAAAAAAAAAAAAAAAAAAAAAAAAAAAAAAAAAAAAAAAAAAAAAAAAAAAAAAAAAAAAAAAAAAAAAAAAAAAAAAAAAAAAAAAAAAAAAAAAAAAAAAAAAAAAAAAAAAAAAAAAAAAAAAAAAAAAAAAAAAAAAAAAAAAAAAAAAAAAAAAAAAAAAAAAAAAAAAAAAAAAAAAAAAAAAAAAAAAAAAAAAAAAAAAAAAAAAAAAAAAAAAAAAAAAAAAAAAAAAAAAAAAAAAAAAAAAAAAAAAAAAAAAAAAAAAAAAAAAAAAAAAAAAAAAAAAAAAAAAAAAAAAAAAAAAAAAAAAAAAAAAAAAAAAAAAAAAAAAAAAAAAAAAAAAAAAAAAAAAAAAAAAAAAAAAAAAAAAAAAAAAAAAAAAAAAAAAAAAAAAAAAAAAAAAAAAAAAAAAAAAAAAAAAAAAAAAAAAAAAAAAAAAAAAAAAAAAAAAAAAAAAAAAAAAAAAAAAAAAAAAAAAAAAAAAAAAAAAAAAAAAAAAAAAAAAAAAAAAAAAAAAAAAAAAAAAAAAAAAAAAAAAAAAAAAAAAAAAAAAAAAAAAAAAAAAAAAAAAAAAAAAAAAAAAAAAAAAAAAAAAAAAAAAAAAAAAAAAAAAAAAAAAAAAAAAAAAAAAAAAAAAAAAAAAAAAAAAAAAAAAAAAAAAAAAAAAAAAAAAAAAAAAAAAAAAAAAAAAAAAAAAAAAAAAAAAAAAAAAAAAAAAAAAAAAAAAAAAAAAAAAAAAAAAAAAAAAAAAAAAAAAAAAAAAAAAAAAAAAAAAAAAAAAAAAAAAAAAAAAAAAAAAAAAAAAAAAAAAAAAAAAAAAAAAAAAAAAAAAAAAAAAAAAAAAAAAAAAAAAAAAAAAAAAAAAAAAAAAAAAAAAAAAAAAAAAAAAAAAAAAAAAAAAAAAAAAAAAAAAAAAAAAAAAAAAAAAAAAAAAAAAAAAAAAAAAAAAAAAAAAAAAAAAAAAAAAAAAAAAAAAAAAAAAAAAAAAAAAAAAAAAAAAAAAAAAAAAAAAAAAAAAAAAAAAAAAAAAAAAAAAAAAAAAAAAAAAAAAAAAAAAAAAAAAAAAAAAAAAAAAAAAAAAAAAAAAAAAAAAAAAAAAAAAAAAAAAAAAAAAAAAAAAAAAAAAAAAAAAAAAAAAAAAAAAAAAAAAAAAAAAAAAAAAAAAAAAAAAAAAAAAAAAAAAAAAAAAAAAAAAAAAAAAAAAAAAAAAAAAAAAAAAAAAAAAAAAAAAAAAAAAAAAAAAAAAAAAAAAAAAAAAAAAAAAAAAAAAAAAAAAAAAAAAAAAAAAAAAAAAAAAAAAAAAAAAAAAAAAAAAAAAAAAAAAAAAAAAAAAAAAAAAAAAAAAAAAAAAAAAAAAAAAAAAAAAAAAAAAAAAAAAAAAAAAAAAAAAAAAAAAAAAAAAAAAAAAAAAAAAAAAAAAAAAAAAAAAAAAAAAAAAAAAAAAAAAAAAAAAAAAAAAAAAAAAAAAAAAAAAAAAAAAAAAAAAAAAAAAAAAAAAAAAAAAAAAAAAAAAAAAAAAAAAAAAAAAAAAAAAAAAAAAAAAAAAAAAAAAAAAAAAAAAAAAAAAAAAAAAAAAAAAAAAAAAAAAAAAAAAAAAAAAAAAAAAAAAAAAAAAAAAAAAAAAAAAAAAAAAAAAAAAAAAAAAAAAAAAAAAAAAAAAAAAAAAAAAAAAAAAAAAAAAAAAAAAAAAAAAAAAAAAAAAAAAAAAAAAAAAAAAAAAAAAAAAAAAAAAAAAAAAAAAAAAAAAAAAAAAAAAAAAAAAAAAAAAAAAAAAAAAAAAAAAAAAAAAAAAAAAAAAAAAAAAAAAAAAAAAAAAAAAAAAAAAAAAAAAAAAAAAAAAAAAAAAAAAAAAAAAAAAAAAAAAAAAAAAAAAAAAAAAAAAAAAAAAAAAAAAAAAAAAAAAAAAAAAAAAAAAAAAAAAAAAAAAAAAAAAAAAAAAAAAAAAAAAAAAAAAAAAAAAAAAAAAAAAAAAAAAAAAAAAAAAAAAAAAAAAAAAAAAAAAAAAAAAAAAAAAAAAAAAAAAAAAAAAAAAAAAAAAAAAAAAAAAAAAAAAAAAAAAAAAAAAAAAAAAAAAAAAAAAAAAAAAAAAAAAAAAAAAAAAAAAAAAAAAAAAAAAAAAAAAAAAAAAAAAAAAAAAAAAAAAAAAAAAAAAAAAAAAAAAAAAAAAAAAAAAAAAAAAAAAAAAAAAAAAAAAAAAAAAAAAAAAAAAAAAAAAAAAAAAAAAAAAAAAAAAAAAAAAAAAAAAAAAAAAAAAAAAAAAAAAAAAAAAAAAAAAAAAAAAAAAAAAAAAAAAAAAAAAAAAAAAAAAAAAAAAAAAEhyaXN0byBIcmlzdG92AAAABZADAAIAAAAUAAAQqJAEAAIAAAAUAAAQvJKRAAIAAAADMjcAAJKSAAIAAAADMjcAAOocAAcAAAgMAAAInAAAAAAc6gAAAAgAAAAAAAAAAAAAAAAAAAAAAAAAAAAAAAAAAAAAAAAAAAAAAAAAAAAAAAAAAAAAAAAAAAAAAAAAAAAAAAAAAAAAAAAAAAAAAAAAAAAAAAAAAAAAAAAAAAAAAAAAAAAAAAAAAAAAAAAAAAAAAAAAAAAAAAAAAAAAAAAAAAAAAAAAAAAAAAAAAAAAAAAAAAAAAAAAAAAAAAAAAAAAAAAAAAAAAAAAAAAAAAAAAAAAAAAAAAAAAAAAAAAAAAAAAAAAAAAAAAAAAAAAAAAAAAAAAAAAAAAAAAAAAAAAAAAAAAAAAAAAAAAAAAAAAAAAAAAAAAAAAAAAAAAAAAAAAAAAAAAAAAAAAAAAAAAAAAAAAAAAAAAAAAAAAAAAAAAAAAAAAAAAAAAAAAAAAAAAAAAAAAAAAAAAAAAAAAAAAAAAAAAAAAAAAAAAAAAAAAAAAAAAAAAAAAAAAAAAAAAAAAAAAAAAAAAAAAAAAAAAAAAAAAAAAAAAAAAAAAAAAAAAAAAAAAAAAAAAAAAAAAAAAAAAAAAAAAAAAAAAAAAAAAAAAAAAAAAAAAAAAAAAAAAAAAAAAAAAAAAAAAAAAAAAAAAAAAAAAAAAAAAAAAAAAAAAAAAAAAAAAAAAAAAAAAAAAAAAAAAAAAAAAAAAAAAAAAAAAAAAAAAAAAAAAAAAAAAAAAAAAAAAAAAAAAAAAAAAAAAAAAAAAAAAAAAAAAAAAAAAAAAAAAAAAAAAAAAAAAAAAAAAAAAAAAAAAAAAAAAAAAAAAAAAAAAAAAAAAAAAAAAAAAAAAAAAAAAAAAAAAAAAAAAAAAAAAAAAAAAAAAAAAAAAAAAAAAAAAAAAAAAAAAAAAAAAAAAAAAAAAAAAAAAAAAAAAAAAAAAAAAAAAAAAAAAAAAAAAAAAAAAAAAAAAAAAAAAAAAAAAAAAAAAAAAAAAAAAAAAAAAAAAAAAAAAAAAAAAAAAAAAAAAAAAAAAAAAAAAAAAAAAAAAAAAAAAAAAAAAAAAAAAAAAAAAAAAAAAAAAAAAAAAAAAAAAAAAAAAAAAAAAAAAAAAAAAAAAAAAAAAAAAAAAAAAAAAAAAAAAAAAAAAAAAAAAAAAAAAAAAAAAAAAAAAAAAAAAAAAAAAAAAAAAAAAAAAAAAAAAAAAAAAAAAAAAAAAAAAAAAAAAAAAAAAAAAAAAAAAAAAAAAAAAAAAAAAAAAAAAAAAAAAAAAAAAAAAAAAAAAAAAAAAAAAAAAAAAAAAAAAAAAAAAAAAAAAAAAAAAAAAAAAAAAAAAAAAAAAAAAAAAAAAAAAAAAAAAAAAAAAAAAAAAAAAAAAAAAAAAAAAAAAAAAAAAAAAAAAAAAAAAAAAAAAAAAAAAAAAAAAAAAAAAAAAAAAAAAAAAAAAAAAAAAAAAAAAAAAAAAAAAAAAAAAAAAAAAAAAAAAAAAAAAAAAAAAAAAAAAAAAAAAAAAAAAAAAAAAAAAAAAAAAAAAAAAAAAAAAAAAAAAAAAAAAAAAAAAAAAAAAAAAAAAAAAAAAAAAAAAAAAAAAAAAAAAAAAAAAAAAAAAAAAAAAAAAAAAAAAAAAAAAAAAAAAAAAAAAAAAAAAAAAAAAAAAAAAAAAAAAAAAAAAAAAAAAAAAAAAAAAAAAAAAAAAAAAAAAAAAAAAAAAAAAAAAAAAAAAAAAAAAAAAAAAAAAAAAAAAAAAAAAAAAAAAAAAAAAAAAAAAAAAAAAAAAAAAAAAAAAAAAAAAAAAAAAAAAAAAAAAAAAAAAAAAAAAAAAAAAAAAAAAAAAAAAAAAAAAAAAAAAAAAAAAAAAAAAAAAAAAAAAAAAAAAAAAAAAAAAAAAAAAAAAAAAAAAAAAAAAAAAAAAAAAAAAAAAAAAAAAAAAAAAAAAAAAAAAAAAAAAAAAAAAAAAAAAAAAAAAAAAAAAAAAAAAAAAAAAAAAAAAAAAAAAAAAAAAAAAAAAAAAAAAAAAAAAAAAAAAAAAAAAAAAAAAAAAAAAAAAAAAAAAAAAAAAAAAAAAAAAAAAAAAAAAAAAAAAAAAAAAAAAAAAAAAAAAAAAAAAAAAAAAAAAAAAAAAAAAAAAAAAAAAAAAAAAAAAAAAAAAAAAAAAAAAAAAAAAAAAAAAAAAAAAAAAAAAAAAAAAAAAAAAAAAAAAAAAAAAAAAAAAAAAAAAAAAAAAAAAAAAAAAAAAAAAAAAAAAAAAAAAAAAAAAAAAAAAAAAAAAAAAAAAAAAAAAAAAAAAAAAAAAAAAAAAAAAAAAAAAAAAAAAAAAAAAAAAAAAAAAAAAAAAAAAAAAAAAAAAAAAAAAAAAAAAAAAAAAAAAAAAAAAAAAAAAAAAAAAAAAAAAAAAAAAAAAAAAAAAAAAAAAAAAAAAAAAAAAAAAAAAAAAAAAAAAAAAAAAAAAAAAAAAAAAAAAAAAAAAAAAAAAAAAAAAAAAAAAAAAAAAAAAAAAAAAAAAAAAAAAAAAAAAAAAAAAAAAAAAAAAAAAAAAAAAAAAAAAAAAAAAAAAAAAAAAAAAAAAAAAAAAAAAAAAAAAAAAAAAAAAAAAAAAAAAAAAAAAAAAAAAAAAAAAAAAAAAAAAAAAAAAAAAAAAAAAAAAAAAAAAAAAAAAAAAAAAAAAAAAAAAAAAAAAAAAAAAAAAAAAAAAAAAAAAAAAAAAAAAAAAAAAAAAAAAAAAAAAAAAAAAAAAAAAAAAAAAAAAAAAAAAAAAAAAAAAAAAAAAAAAAAAAAAAAAAAAAAAAAAAAAAAAAAAAAAADIwMjA6MTI6MjYgMDk6Mzk6NTMAMjAyMDoxMjoyNiAwOTozOTo1MwAAAEgAcgBpAHMAdABvACAASAByAGkAcwB0AG8AdgAAAP/hCyFodHRwOi8vbnMuYWRvYmUuY29tL3hhcC8xLjAvADw/eHBhY2tldCBiZWdpbj0n77u/JyBpZD0nVzVNME1wQ2VoaUh6cmVTek5UY3prYzlkJz8+DQo8eDp4bXBtZXRhIHhtbG5zOng9ImFkb2JlOm5zOm1ldGEvIj48cmRmOlJERiB4bWxuczpyZGY9Imh0dHA6Ly93d3cudzMub3JnLzE5OTkvMDIvMjItcmRmLXN5bnRheC1ucyMiPjxyZGY6RGVzY3JpcHRpb24gcmRmOmFib3V0PSJ1dWlkOmZhZjViZGQ1LWJhM2QtMTFkYS1hZDMxLWQzM2Q3NTE4MmYxYiIgeG1sbnM6ZGM9Imh0dHA6Ly9wdXJsLm9yZy9kYy9lbGVtZW50cy8xLjEvIi8+PHJkZjpEZXNjcmlwdGlvbiByZGY6YWJvdXQ9InV1aWQ6ZmFmNWJkZDUtYmEzZC0xMWRhLWFkMzEtZDMzZDc1MTgyZjFiIiB4bWxuczp4bXA9Imh0dHA6Ly9ucy5hZG9iZS5jb20veGFwLzEuMC8iPjx4bXA6Q3JlYXRlRGF0ZT4yMDIwLTEyLTI2VDA5OjM5OjUzLjI3MTwveG1wOkNyZWF0ZURhdGU+PC9yZGY6RGVzY3JpcHRpb24+PHJkZjpEZXNjcmlwdGlvbiByZGY6YWJvdXQ9InV1aWQ6ZmFmNWJkZDUtYmEzZC0xMWRhLWFkMzEtZDMzZDc1MTgyZjFiIiB4bWxuczpkYz0iaHR0cDovL3B1cmwub3JnL2RjL2VsZW1lbnRzLzEuMS8iPjxkYzpjcmVhdG9yPjxyZGY6U2VxIHhtbG5zOnJkZj0iaHR0cDovL3d3dy53My5vcmcvMTk5OS8wMi8yMi1yZGYtc3ludGF4LW5zIyI+PHJkZjpsaT5IcmlzdG8gSHJpc3RvdjwvcmRmOmxpPjwvcmRmOlNlcT4NCgkJCTwvZGM6Y3JlYXRvcj48L3JkZjpEZXNjcmlwdGlvbj48L3JkZjpSREY+PC94OnhtcG1ldGE+DQogICAgICAgICAgICAgICAgICAgICAgICAgICAgICAgICAgICAgICAgICAgICAgICAgICAgICAgICAgICAgICAgICAgICAgICAgICAgICAgICAgICAgICAgICAgICAgICAgICAgCiAgICAgICAgICAgICAgICAgICAgICAgICAgICAgICAgICAgICAgICAgICAgICAgICAgICAgICAgICAgICAgICAgICAgICAgICAgICAgICAgICAgICAgICAgICAgICAgICAgICAKICAgICAgICAgICAgICAgICAgICAgICAgICAgICAgICAgICAgICAgICAgICAgICAgICAgICAgICAgICAgICAgICAgICAgICAgICAgICAgICAgICAgICAgICAgICAgICAgICAgIAogICAgICAgICAgICAgICAgICAgICAgICAgICAgICAgICAgICAgICAgICAgICAgICAgICAgICAgICAgICAgICAgICAgICAgICAgICAgICAgICAgICAgICAgICAgICAgICAgICAgCiAgICAgICAgICAgICAgICAgICAgICAgICAgICAgICAgICAgICAgICAgICAgICAgICAgICAgICAgICAgICAgICAgICAgICAgICAgICAgICAgICAgICAgICAgICAgICAgICAgICAKICAgICAgICAgICAgICAgICAgICAgICAgICAgICAgICAgICAgICAgICAgICAgICAgICAgICAgICAgICAgICAgICAgICAgICAgICAgICAgICAgICAgICAgICAgICAgICAgICAgIAogICAgICAgICAgICAgICAgICAgICAgICAgICAgICAgICAgICAgICAgICAgICAgICAgICAgICAgICAgICAgICAgICAgICAgICAgICAgICAgICAgICAgICAgICAgICAgICAgICAgCiAgICAgICAgICAgICAgICAgICAgICAgICAgICAgICAgICAgICAgICAgICAgICAgICAgICAgICAgICAgICAgICAgICAgICAgICAgICAgICAgICAgICAgICAgICAgICAgICAgICAKICAgICAgICAgICAgICAgICAgICAgICAgICAgICAgICAgICAgICAgICAgICAgICAgICAgICAgICAgICAgICAgICAgICAgICAgICAgICAgICAgICAgICAgICAgICAgICAgICAgIAogICAgICAgICAgICAgICAgICAgICAgICAgICAgICAgICAgICAgICAgICAgICAgICAgICAgICAgICAgICAgICAgICAgICAgICAgICAgICAgICAgICAgICAgICAgICAgICAgICAgCiAgICAgICAgICAgICAgICAgICAgICAgICAgICAgICAgICAgICAgICAgICAgICAgICAgICAgICAgICAgICAgICAgICAgICAgICAgICAgICAgICAgICAgICAgICAgICAgICAgICAKICAgICAgICAgICAgICAgICAgICAgICAgICAgICAgICAgICAgICAgICAgICAgICAgICAgICAgICAgICAgICAgICAgICAgICAgICAgICAgICAgICAgICAgICAgICAgICAgICAgIAogICAgICAgICAgICAgICAgICAgICAgICAgICAgICAgICAgICAgICAgICAgICAgICAgICAgICAgICAgICAgICAgICAgICAgICAgICAgICAgICAgICAgICAgICAgICAgICAgICAgCiAgICAgICAgICAgICAgICAgICAgICAgICAgICAgICAgICAgICAgICAgICAgICAgICAgICAgICAgICAgICAgICAgICAgICAgICAgICAgICAgICAgICAgICAgICAgICAgICAgICAKICAgICAgICAgICAgICAgICAgICAgICAgICAgICAgICAgICAgICAgICAgICAgICAgICAgICAgICAgICAgICAgICAgICAgICAgICAgICAgICAgICAgICAgICAgICAgICAgICAgIAogICAgICAgICAgICAgICAgICAgICAgICAgICAgICAgICAgICAgICAgICAgICAgICAgICAgICAgICAgICAgICAgICAgICAgICAgICAgICAgICAgICAgICAgICAgICAgICAgICAgCiAgICAgICAgICAgICAgICAgICAgICAgICAgICAgICAgICAgICAgICAgICAgICAgICAgICAgICAgICAgICAgICAgICAgICAgICAgICAgICAgICAgICAgICAgICAgICAgICAgICAKICAgICAgICAgICAgICAgICAgICAgICAgICAgICAgICAgICAgICAgICAgICAgICAgICAgICAgICAgICAgICAgICAgICAgICAgICAgICAgICAgICAgICAgICAgICAgICAgICAgIAogICAgICAgICAgICAgICAgICAgICAgICAgICAgICAgICAgICAgICAgICAgICAgICAgICAgICAgICAgICAgICAgICAgICAgICAgICAgICAgICAgICAgICAgICAgICAgICAgICAgCiAgICAgICAgICAgICAgICAgICAgICAgICAgICAgICAgICAgICAgICAgICAgICAgICAgICAgICAgICAgICAgICAgICAgICAgICAgICAgICAgICAgICAgICAgICAgICAgICAgICAKICAgICAgICAgICAgICAgICAgICAgICAgICAgIDw/eHBhY2tldCBlbmQ9J3cnPz7/2wBDAAcFBQYFBAcGBQYIBwcIChELCgkJChUPEAwRGBUaGRgVGBcbHichGx0lHRcYIi4iJSgpKywrGiAvMy8qMicqKyr/2wBDAQcICAoJChQLCxQqHBgcKioqKioqKioqKioqKioqKioqKioqKioqKioqKioqKioqKioqKioqKioqKioqKioqKir/wAARCADuA3QDASIAAhEBAxEB/8QAHwAAAQUBAQEBAQEAAAAAAAAAAAECAwQFBgcICQoL/8QAtRAAAgEDAwIEAwUFBAQAAAF9AQIDAAQRBRIhMUEGE1FhByJxFDKBkaEII0KxwRVS0fAkM2JyggkKFhcYGRolJicoKSo0NTY3ODk6Q0RFRkdISUpTVFVWV1hZWmNkZWZnaGlqc3R1dnd4eXqDhIWGh4iJipKTlJWWl5iZmqKjpKWmp6ipqrKztLW2t7i5usLDxMXGx8jJytLT1NXW19jZ2uHi4+Tl5ufo6erx8vP09fb3+Pn6/8QAHwEAAwEBAQEBAQEBAQAAAAAAAAECAwQFBgcICQoL/8QAtREAAgECBAQDBAcFBAQAAQJ3AAECAxEEBSExBhJBUQdhcRMiMoEIFEKRobHBCSMzUvAVYnLRChYkNOEl8RcYGRomJygpKjU2Nzg5OkNERUZHSElKU1RVVldYWVpjZGVmZ2hpanN0dXZ3eHl6goOEhYaHiImKkpOUlZaXmJmaoqOkpaanqKmqsrO0tba3uLm6wsPExcbHyMnK0tPU1dbX2Nna4uPk5ebn6Onq8vP09fb3+Pn6/9oADAMBAAIRAxEAPwD6RooooAKKKKACiiigAooooAKKKKACiiigAooooAKKKKACiiigAooooAKKKKACiiigAooooAKKKKACiiigAooooAKKKKACiiigAooooAKKKKACiiigAooooAKKKKACiiigAooooAKKKKACiiigAooooAKKKKACiiigAooooAKKKKACiiigAooooAKKKKACiiigAooooAKKKKACiiigAooooAKKKKACiiigAooooAKKKKACiiigAooooAKKKKACiiigAooooAKKKKACiiigAooooAKKKKACiiigAooooAKKKKACiiigDnrXxJNca1FA1vCtlcXU9nDIJSZDLEGLZXGAD5cnfsPXixda5Pa+Iv7PaxbyPsM10s5kA8xozGCoHYfvOpxzRH4Zt4tRe7hu7pAWlkjgVk8uGWTO+RRtzuOT1JHJ45q1eaNbX9yk10XfbaTWhTI2ukpQtnjr+7HT1P4AGd4T8TN4kguHeKJDCY+YmYqd6BsfMoORnGcYPbuB0FZmk6HFpMk0wubi6nmRI2muCu7Ymdi/KqjA3NzjJzyTVtIYpJpzJGjneBllB/hWgCxRUX2W3/54Rf8AfAo+y2//ADwi/wC+BQBLRUX2W3/54Rf98CobW2gaDLQxk725KD+8aALdFRfZbf8A54Rf98Cj7Lb/APPCL/vgUAS0VWntoBbyEQRghTghB6U6O1gMSEwRk7R/AKAJ6Ki+y2//ADwi/wC+BR9lt/8AnhF/3wKAJaKqXVtAsGVhjB3ryEH94VN9lt/+eEX/AHwKAJaKi+y2/wDzwi/74FH2W3/54Rf98CgCWiqsltAJoQIY8Fjn5Bzwal+y2/8Azwi/74FAEtFRfZbf/nhF/wB8Cj7Lb/8APCL/AL4FAEtFVPs0H20r5MePLBxsHrU32W3/AOeEX/fAoAloqL7Lb/8APCL/AL4FH2W3/wCeEX/fAoAloqpDbQGecGGMgOMDYOPlFTfZbf8A54Rf98CgCWiovstv/wA8Iv8AvgUfZbf/AJ4Rf98CgCWiqlrbQNBloYyd7clB/eNTfZbf/nhF/wB8CgCWiovstv8A88Iv++BR9lt/+eEX/fAoAloqK1/484f+ua/yqWgDntN8R3F9qkaPaxJY3M1zBbyrITIWhcq25cYAO1iMHsM9eE1PxU+lahqMd1p8i2tjp73gl3rmfbjIUA8DnGTjn25qeLwtb29zNNbXt7Du84worpttnlbc7oCp5JJPzbgM8AVZ1DQrPU55pLwO6z2b2cke7CmNiCffPHXNAEXh7Wn1m3neVIVaKQLiJnPVQeQ6qR164wRgjrWvWfpekR6Y9xL9puLue5YGSa4KliFGFX5QBgD2z6k1YSGKSacyRo53gZZQf4VoAsUVF9lt/wDnhF/3wKPstv8A88Iv++BQBLRUX2W3/wCeEX/fArK1XW9B0WVItRkhSZxlYUiLuR67VBNJtLcqMZTdoq7NqiszS7/RtatzNpcltcopw21RlT7gjI/Gr32W3/54Rf8AfAp7ilFxdpKzJaKq3NtAtrKVhjBCEghBxxUv2W3/AOeEX/fAoES0VF9lt/8AnhF/3wKPstv/AM8Iv++BQBLRUX2W3/54Rf8AfAo+y2//ADwi/wC+BQBLRUX2W3/54Rf98Cj7Lb/88Iv++BQBLRVVraD7VGPJjwUYkbB6rUv2W3/54Rf98CgCWiovstv/AM8Iv++BR9lt/wDnhF/3wKAJaKi+y2//ADwi/wC+BR9lt/8AnhF/3wKAJaKi+y2//PCL/vgUfZbf/nhF/wB8CgCWiqsVtAZJswxnDgD5Bx8oqX7Lb/8APCL/AL4FAEtFRfZbf/nhF/3wKPstv/zwi/74FAEtFRfZbf8A54Rf98Cj7Lb/APPCL/vgUAS0VF9lt/8AnhF/3wKiubaBbWUrDGCEJBCDjigC1RRRQBgaT4gu9Q1KFJ7OKO0vI5pLWWOUs2I3C/OMYG4MGGCccg1HqHie5sL3WI300+Vp9gbuJnlUG4I3cDrtXjGTz146Zs2/hiC1uXmgvbxSEdIF3oRbB2DPsyvcgfe3YAwMCp7/AEGz1Ka5kujIftNr9ldQwAC7i2RxnOT1oAh8M68dfs7mUpGDb3Bh3xE7X+VWyAwDD72MEdvStmqGl6THpf2lxcT3U91KJZp5yu52ChRwoCgBVA4A6etTQ28LozPFGzGR8kqCfvGgCzRUX2W3/wCeEX/fAo+y2/8Azwi/74FAEtFRfZbf/nhF/wB8Cj7Lb/8APCL/AL4FAEtFRfZbf/nhF/3wKiW2g+1SDyY8BFIGwerUAWqKi+y2/wDzwi/74FH2W3/54Rf98CgCWiovstv/AM8Iv++BR9lt/wDnhF/3wKAJaKi+y2//ADwi/wC+BUP2aD7aF8mPHlk42D1oAt0VF9lt/wDnhF/3wKPstv8A88Iv++BQBLRUX2W3/wCeEX/fAo+y2/8Azwi/74FAEtFRfZbf/nhF/wB8CoZbaAXEIEMYBJyNg54oAt0VF9lt/wDnhF/3wKPstv8A88Iv++BQBLRUX2W3/wCeEX/fAo+y2/8Azwi/74FAEtFRfZbf/nhF/wB8Cobm2gVE2wxj94g4Qf3hQBboqL7Lb/8APCL/AL4FH2W3/wCeEX/fAoAloqL7Lb/88Iv++BR9lt/+eEX/AHwKAJaKi+y2/wDzwi/74FRXNtAtrKVhjBCEghBxxQBaooooAKKKKACiiigCBb21e8e0S5ha5jXc8IkBdR6leoFSGeIXCwGVBMyl1jLDcVBAJA64BI59xXH29he2+uxSSWM260v7y8luEjUiaF1cIinOSfmQY/6Z844qfXNEmvdYkvNLgeG6vNDvLc3DZBSRjB5Sn0xhjj2Y0AdNb3dteK7WlxFOEYoxicNtYdQcdD7UsP8ArZ/+ug/9BWuc8G2d5ZtdrcwTRweVAkbXMMccm9VIdcRgAovy4PPVsHGK3187z5/KMeN4+8D/AHVoAs0VD/pXrD+Ro/0r1h/I0AcDLr2qLM4F7IAGIHSoINd1NYsC9kxk9/c1Tl3+c+Sudx7e9RRbvL4I6nt716fLHscd33PRPDF1PeaQZbqRpH80jc3pgVsVznhH7R/Yp2GPHmt1B9BW7/pXrD+Rrz6nxs6o/Ch0/wDx7S/7h/lTov8AUp/uiq832n7PJkxY2nOAfSnR/afKTBixtHY1BRYoqH/SvWH8jR/pXrD+RoALv/j3/wCBp/6EKmqndfaPI+YxY3L0B/vCpv8ASvWH8jQBNRUP+lesP5Gj/SvWH8jQAsv+uh/3j/I1LVST7T50WTFncccH0NS/6V6w/kaAJqKh/wBK9YfyNH+lesP5GgA/5fz/ANch/Opqp/6R9sPMW7yx2OMZqb/SvWH8jQBNRUP+lesP5Gj/AEr1h/I0AEP/AB8XH++P/QRU1U4vtHnz4MWdwzkH+6Km/wBK9YfyNAE1FQ/6V6w/kaP9K9YfyNABaf8AHv8A8Df/ANCNTVTtftHkfKYsbm6g/wB41N/pXrD+RoAmoqH/AEr1h/I0f6V6w/kaAFtf+POH/rmv8qlqK1/484f+ua/yqWgAorkNG1a7uNYgnnvnZLq5voZLRigSFYZSqMONwOFGeTkv9Ku3uoX2meIria5la5slsJJorO3hJfKMg9SWY7iOwHHuaAOiqKH/AFs//XQf+grWD4O1S61K1v8A+0JmluI7sgjymRYwUVti7gCQCSM9T171tpKsc04YOfnH3UJ/hX0FAFiiovtKf3Zf+/Tf4UfaU/uy/wDfpv8ACgCj4g1b+xdFmu0TzZ+I7eL/AJ6SscKv5/pmofD2grpFu010wuNTuj5l3dEfM7HsD2UdAPauc8Q6tcX3jzT9P0u2F0+nxtcMkm5USRhhWbAzhQc/VhW/pHiGS5u5dO1a1NpqEKh9iBmWVOm9OM4zxz0rNNORrOoqcVT6vV/ov1+ZHr2gSPONY0Hbb6xAM5AwtyveN/XPY9uK0dE1eHXNLjvIAyEkpLE/DROOGQ+4NW/tKf3Zf+/Tf4Vy97MnhzxVHqUYkTTtUYQ3imNgsc38EnTv90/gab913NIv2seR7rb/AC/y+7qdRdf8ec3/AFzb+VS1VubhGtZQBJyh6xMO30qX7Sn92X/v03+FWcxLRUX2lP7sv/fpv8KPtKf3Zf8Av03+FAEtFRfaU/uy/wDfpv8ACj7Sn92X/v03+FAEtFRfaU/uy/8Afpv8KPtKf3Zf+/Tf4UADf8fkf/XN/wCa1LVVrhPtUZxJ9xv+WTeq+1S/aU/uy/8Afpv8KAJaydc1DV7DyP7G0T+1d+7zf9LSDy8Yx94c5yenTHvWj9pT+7L/AN+m/wAKPtKf3Zf+/Tf4U4tJ3auJq6OZ/wCEg8X/APQkf+VaH/Cj/hIPF/8A0JH/AJVof8K6b7Sn92X/AL9N/hR9pT+7L/36b/CtfaR/kX4/5kckv5n+H+RX0m7vb2wEuqaa2m3G4hoGmSUY7EMvUfXBzn2J5DWNY1OLxRe2kks1rooubdLm+jcboA0YwgHVAzYDP23ceq9v9pT+7L/36b/CoJGsnWcSwhlkGJg0BIcYx83HPHrWTd3ctaI4e1vbm3WbUI9VupL1vEMlotm829JYvtPllQh6bY8nI6bfTNaXhZb64vo7q7e6ZC0pDPqZdW5YAeTjjj34xW3ZwaTDfzzW1pAlwXJ3x22H5AzyBnrT4INFivBNbWVulzkkSR2uHyevIGfWkM1KKgN7CJAhLhyMhfLbP8qd9pT+7L/36b/CgCWioTdRgEkSADqfKb/Cl+0p6Sf9+m/woAlqK6/485v+ubfyppu4g4Q7wzAkL5bZIHXt7imXNwjWsoAk5Q9YmHb6UAWqKKKAIIr21nuJbeC5hlmhIEsaSAtH/vAcj8aebiETGEyxiVU8wpuG4LnG7Hpx1rkNJtbiw1K3lk0i4jNjDdrPKgDGcyTKy7MH584Lc9OnXNJ4h8Oz3F9rraXasZb/AEoIXznzZN7fJljj7vGCQOewoA6+2u7e8i820ninjyV3xOGGR1GRRbf6o/8AXR//AEI1i+FLW5tY9QE6TCJ7kNBJcQxxzSKIkUlwgAOCCAcA4A7YNasPn7W8sx7fMfG4HP3jQBaoqH/SvWH8jR/pXrD+RoAmoqH/AEr1h/I0f6V6w/kaAJqiX/j8k/65p/NqT/SvWH8jUS/aftUnMWdi54Pq1AFusLWdbudPvhDCkTKUDZcEnv71r/6V6w/ka47xN9u/tg7vs+3y1243Zx7/AI5rWkk5akTbS0NSx8Q3dzqMVvJHCEdsEqpz/Oujrz7Sft39tW2Ps+fNGc7uneu7/wBK9YfyNOrFJ6Cg21qTVD/y/j/rkf50f6V6w/kah/0j7YOYt3lnscYzWJoXKKh/0r1h/I0f6V6w/kaAJqKh/wBK9YfyNH+lesP5GgCaoZf+PqD6t/Kj/SvWH8jUMn2j7RDkxZyccH0oAuUVD/pXrD+Ro/0r1h/I0ATUVD/pXrD+Ro/0r1h/I0ATVDdf6tP+uqf+hCj/AEr1h/I1Dc/aNibjF/rF6A9cigC5RUP+lesP5Gj/AEr1h/I0ATUVD/pXrD+Ro/0r1h/I0ATVFdf8ec3/AFzb+VJ/pXrD+RqK5+0/ZZdxixsOcA+lAFuiiigAooooAKKKKACiuYtdfv5degEjW7WF3fXFjFEkLCSNoVc72ctggmJxjb3Xnrm1d61c2HikW98Le30kafPdGdnJfMbRbieyqBIfUnHbuAbtRQ/62f8A66D/ANBWsXwpr82vrqb3CRRfZ7sJDGjZYRNDG67v9r5zn0II7ZrWW4iinnWSRVO8HBP+ytAFmioftlt/z3j/AO+qPtlt/wA94/8AvqgDzCb/AF8n+8f51DF/q/xP86dNcQ+e/wC8X7x7+9RRzxBMGRRye/vXqnEa1prN/p9uIbSfy4ySxGxTz+I9q6rwtqV3qMNyb2XzCjKF+UDGc+grgGvIBgeZyBzgGut8EX1t5N4DKoIZDzx61hWiuRuxpTb5rHWT/wDHtL/uH+VOi/1Kf7oqvNd27W8gEyElSAN3tSx3luIkBmTO0fxVwnSWaKh+2W3/AD3j/wC+qPtlt/z3j/76oALv/j3/AOBp/wChCpqp3N1A0GFmQncp4P8AtCpvtlt/z3j/AO+qAJqKh+2W3/PeP/vqj7Zbf894/wDvqgBZf9dD/vH+RqWqkl3bmaIiZMBjn5unBqX7Zbf894/++qAJqKh+2W3/AD3j/wC+qPtlt/z3j/76oAP+X8/9ch/Opqp/aoPthbzk2+WBnPvU32y2/wCe8f8A31QBNRUP2y2/57x/99UfbLb/AJ7x/wDfVABD/wAfFx/vj/0EVNVOK6gE85MyAMwI56/KKm+2W3/PeP8A76oAmoqH7Zbf894/++qPtlt/z3j/AO+qAC0/49/+Bv8A+hGpqp211AsGGmQHcx5P+0am+2W3/PeP/vqgCaioftlt/wA94/8Avqj7Zbf894/++qAFtf8Ajzh/65r/ACqWorX/AI84f+ua/wAqloApNoulvNczPpto0l2nl3DmBSZl/uscfMPY1aMUZmExjXzVUqH2/MAcEjPpwPypRIhcoGUuvJUHkUu5dwXI3EZAzzigBqRRxM5jjVDI25yq43HAGT6nAH5U2H/Wz/8AXQf+grT0dZF3RsrDOMqc0yH/AFs//XQf+grQBLSFgqlmIAAySe1LWF41vzp3gzU51++0JiT1y/yDH/fWaTdlcqEXOSiupQ8CxfbItS8Qyr8+q3TtET1EKnag/Q/kKueLLd4bWDW7RN11pb+bgdXi6SL/AN88/hWno1gNL0OysQBm3gSM47kDk/nmrbhHUxybSHBG0/xDvUqPu2DEWqylb5foNgnjubaOeBt8cqB0YdwRkGoNV02DWNKuLC7XMVwhQ8dPQj3BwfwrJ8JO1rDe6JMxMmmTmNMnJMLfNGfyJH4V0NUtURTm7KS0f6nOeHdSnvPD91aaic6jp2+2uf8AaIHyv9GGDn610dcnr4/sPxJBqyDFtqUf2G7wOj4PlOfxyufcV1lKPY6KyV1OOz1/zX9dAoooqjAKKKKACiiigCJv+PyP/rm/81qWom/4/I/+ub/zWpaACs/VxrPkxnQWsRJuPmLeq+CPUFTwfbHOe2OdCigTV1Y5n/iuf+pe/wDI9H/Fc/8AUvf+R66aip5fMy9l/ef3lPSxqQsh/bLWpuixyLRWCKOw+Y5J754647ZPG61YagfEuo3ssD3WjQ3NvJc2KRMWuFEQBcY++EODsxzg9TgV31Ztx4g060vvsc8kwnPRFtpGz0zghcHqPpmqNUrKxwlnZwSTSR2mmSrrn/CQyzR3X2J12QfadzFpSuNpiyMZ5yODWr4SthBqcf2j7KJN0u2MaLJFKpy3WcnB4zzgZzXZw/62f/roP/QVqWgZxd79sfXNQmgh868t9SQQLj/lkLMlM+imR5OfUms46r4njtZpdMk1C9SMQrm9s/KczSpIjKAEXKo5hcnHHzDPHHWy63olrrMySzCO8Ux28z+U+1ScMis+No/1gIyf4vepLfxLpF1fLaQ3imZ3eNAyMokdCQyqSAGI2nIBPQ0AYmnya1e+D9a/tgStOkElrEpj2mUpFtaQAD+N9xGOMYx1rLW/8SRWe7TJtQuoHeO2V7qz8uSOSSMqX27F+RJPLPpy4yQBXZabr+navt/s+WSVXTzEfyJFRl9QxUA9fWtGgDiNOudWu7fSbzWA0N8dRWCKJl2EqsJWbtyGKyOO2Anpmuyuv+POb/rm38qV7eJ7iOd41aWIMEY/w5xnH5Ckuv8Ajzm/65t/KgCWiiigAornNH1rUbvVIBd/ZjaXyXDwpGpDw+VIqgMckNkNk8DBGOaWfxDcafr2pJqqQwabaWa3MboxeR/mIJI7ZIwFGfrzgAHRVFbf6o/9dH/9CNZHhTWrnXNMnnvVhjnjupIjHC+4Iob5QT3OOp6HtWlDcwRqyvKisJHyCf8AaNAFqioftlt/z3j/AO+qPtlt/wA94/8AvqgCaioftlt/z3j/AO+qPtlt/wA94/8AvqgCaol/4/JP+uafzak+2W3/AD3j/wC+qiW7t/tUjecmCigHd7tQBbrkfE//ACFl/wCuQ/ma6j7Zbf8APeP/AL6rjvE2o2rawVWYEpGobAJwev8AUVtR+IzqfCV7W4NrfLOqhjGxYA966vRtWfVPO3xLH5e3GDnOc/4Vw39oW28nzOOf4TXReEb22P2v96o+514/vVrViuW5EG72OrqH/l/H/XI/zo+2W3/PeP8A76qH7VB9sDecm3yyM5965DcuUVD9stv+e8f/AH1R9stv+e8f/fVAE1FQ/bLb/nvH/wB9UfbLb/nvH/31QBNUMv8Ax9QfVv5UfbLb/nvH/wB9VDJdQG4hImQgE5OenFAFyioftlt/z3j/AO+qPtlt/wA94/8AvqgCaioftlt/z3j/AO+qPtlt/wA94/8AvqgCaobr/Vp/11T/ANCFH2y2/wCe8f8A31UNzdQMibZkOJFPB9xQBcoqH7Zbf894/wDvqj7Zbf8APeP/AL6oAmoqH7Zbf894/wDvqj7Zbf8APeP/AL6oAmqK6/485v8Arm38qT7Zbf8APeP/AL6qK5u7drWVVmQkoQAG68UAW6KKKACiiigAooooAyx4d05dQlvEjmSaUPnbcOFVnGGdVzhWI/iAB6+pq0+m2sl1DcSx+ZJDA9updi2UcoWBz1yY15Pp70yPWdPl1R9Oju42u0+9EDzkAEjPTIBBI6gEVI+o2aagLF7mMXXktP5Rb5hGCAWPoMkUANstLs9OmupLK3SFruQSS7RjcwRUH04UcfU9zU0P+tn/AOug/wDQVqDTtXsNWjd9OukuFTG7b2zyD9COh6Gp4f8AWz/9dB/6CtAEtFFFAHlU3+vk/wB4/wA6hi/1f4n+dTTf6+T/AHj/ADqGL/V/if516pxErfdX6f1rrfBH+ovP95f5GuSb7q/T+tdb4I/1F5/vL/I1lW+Bl0/iOln/AOPaX/cP8qdF/qU/3RTZ/wDj2l/3D/KnRf6lP90V551EGozva6bcTxY3xxllyOMgVx//AAmOpf3bf/vg/wCNdZrP/IDvP+uLfyrzSuqhGMk7owqSaehtXPi/UmhwVg+8v8B/vD3rtdOne6023nlxvkjDNgcZIryyf/Vf8CX+Yr0/Rv8AkB2f/XFf5UV4xilZBTk29S7RRRXKbkUv+uh/3j/I1LUUv+uh/wB4/wAjUtABRRRQBD/y/n/rkP51NUP/AC/n/rkP51NQAUUUUAQw/wDHxcf74/8AQRU1Qw/8fFx/vj/0EVNQAUUUUAQ2n/Hv/wADf/0I1NUNp/x7/wDA3/8AQjU1ABRRRQBFa/8AHnD/ANc1/lUtRWv/AB5w/wDXNf5VLQBwmnQnTtb+1XFhcJd209/PfXKWjt50LSMYlDgfP8uzCjJGzGBitTUrG2h1+71Ga3u54bjSpluBGZGJUFMIgB+UkbsBcEkk9a6eigDlPAi272t7c29sbFriRGayWzkgS3AQKqjeq72wPmYD0HYZ6NDKJp/LRGG8cs5H8K+xqxUUP+tn/wCug/8AQVoAN1x/zyi/7+H/AOJrlvGJmvL/AEDSmjj/ANJ1ATMockMkQ3MDx05FddXJ3LpdfFGIytiHStMeYsTwju2Dn/gNRLaxvQ0lzdk3+Gn4lnxFrGoxTW+j6OkI1S+DbJCxZbeMfekYY/AepqqngDSWhJv7P7ddNzJeT3TmVm9cgDH4VN4QibUHvfEt0pEupPi3B6x2y8IPbPLH1yK6euqUnT92Lt3ONRU/ekedXEd74B12LVLu5mv9LuF+ysZHLyQj7y5OPmxzg4zjI9K7u1vDe2sdzaeRNDKu5JEmJDD/AL5qr4k0xtW8P3NtDxOAJIG9JFO5f1GPxrmtMtb62sIdd8IIjwXQ8y70eRtqF+jGM/wNkEY6Gs42m2nuRG9Obitt/wDM6TXrBtW0C8sriKMJLEfm3klSOQw46ggH8Kr+GNVu9T0RDcxx/bLZjbXQaQgiVODnjvwfxosfFGnazbXEEbvbXscbebZXK+XMhx/dPX6jIrmJbuaXx9PDo17LYWGoyCGe6SNWD3EanKoTwMjAz3IrKonCWqO2E1Om4LV7r5b/AIfkd/uuP+eUX/fw/wDxNG64/wCeUX/fw/8AxNYenX9/pmtLo2uTi5+0KXsrzYFMuB8yMBxuHXPcV0NNO5hGSkiLdcf88ov+/h/+Jo3XH/PKL/v4f/ialoplEW64/wCeUX/fw/8AxNG64/55Rf8Afw//ABNS0UAVWaf7VH+7jzsbA8w+q+1S7rj/AJ5Rf9/D/wDE0N/x+R/9c3/mtS0ARbrj/nlF/wB/D/8AE1la1otxrXkf6ffaf5O7/jwvDFvzj73yHOMcfU1tUUmrlRk4Pmjuch/whFx/0MfiD/wan/43R/whFx/0MfiD/wAGp/8AjddfRU8kTf61W7/kZulWF1pdiLVrme+CsSJby43yAHtuCDI+uTz6YFNuLa9k16xulhi8uGGZHPmngsUx2/2TWpRV7HPKTk7s84TwxrVnos9tp9lE1xd2Fza3L/acMk0gTY5J6gAHpyOK0tM0DXLXxb9uuCzp5ru0n2hAjRlMLHjZuODjjIHGe5FdhD/rZ/8AroP/AEFaloEcmvhi5u9c1i41BpBaXV3DMlslwBHKEhiX5vlz95DxkZxVSy0fXGhtNNuNNhhgtdVlvjdNcg7lM8kqhVAzk7wDnHGfpXb0UAcz4O0C90HQbGG5kmeeO1SKSKS8Z40YAZ2jGB07V0O64/55Rf8Afw//ABNS0UARbrj/AJ5Rf9/D/wDE1FctP9ll3RxgbDkiQnt9KtVFdf8AHnN/1zb+VAEtFFFAGTF4a0yC4lngjmjkkDgMtxIPLDsGfYM/JuYAnbjOKuPp1rLfPdyxB5XhELbuQUDFgMdOpqO21rTrzUJbG1vIpbmHO+NTyMHDfXB4OOh4NOl1awhuLiCW7iSW2h8+dWb/AFUfPzN6Dg/lQAthplnpaTLYwLCs0rSuFHVmOTU1t/qj/wBdH/8AQjUVhqdnqkLy2E6zKj7HwCCrYBwQeQcEHnsRUtt/qj/10f8A9CNAEtFFFABRRRQAVEv/AB+Sf9c0/m1S1Ev/AB+Sf9c0/m1AEtcj4n/5Cy/9ch/M111cj4n/AOQsv/XIfzNbUfiM6nwmT/y0b8a6Hwl/y9/8A/8AZq57/lo3410PhL/l7/4B/wCzVvV+BmcPiOjrJ1bVP7Lu4m8nzfMQjG7bjkexrWrmfFn+vtf91v5iuWCTkkzaTsrof/wlv/Tl/wCRf/rV0EMnnQRyYxvUNjPTIrzuvQbP/jwt/wDrkv8AKtKsIxSsRCTe5NRRRWBqFQy/8fUH1b+VTVDL/wAfUH1b+VAE1FFFABRRRQAVDdf6tP8Arqn/AKEKmqG6/wBWn/XVP/QhQBNRRRQAUUUUAFRXX/HnN/1zb+VS1Fdf8ec3/XNv5UAS0UUUAFFFFABRRRQByqaVqUesQk2aGCzvri/SdZV/feZHIqx46g5kOSePlHNXbvTJD4gh1WGwif8A4l1zFOmVDSyMYCiE9+I2GTwK3aKAMDwzaXkb3V5q1k9vf3AjEjb0MYVd22NApOFXJ5PJLE+w1lSVp5zHKEG8cbc/wrVmoof9bP8A9dB/6CtAENwbiC1llEwJjQtjZ1wM1yn/AAmV7/zyjrrr/wD5Btz/ANcX/ka8vrpowjJO5jUk1sEm8yMSw6ntUcQby+GHU9vepn/1jfU1FF/q/wAT/OuwwEeOYkET4GOBsHFdZ4IiuPJvD9pyNyceWPeuZb7q/T+tdb4I/wBRef7y/wAjWVb+Gy6fxG/NHOLeTM4I2nI2e1Ojjn8pMTgDaP8AlnUk/wDx7S/7h/lTov8AUp/uivPOoy9dhum0G8CXQQ+UTnygeO4/EcV5v5U//Px/44K9R1n/AJAd5/1xb+VeaV24f4Wc9XchlDCL5mB5Hb3Fel6PHOdFs8TgDyV42e1ebT/6r/gS/wAxXp+jf8gOz/64r/KliNkFLcn8uf8A5+B/37/+vR5c/wDz8D/v3/8AXqaiuM6CpJHP50WZwTuOPk6cGpfLn/5+B/37/wDr0sv+uh/3j/I1LQBD5c//AD8D/v3/APXo8uf/AJ+B/wB+/wD69TUUAU/Lm+2EecM+WOdnvU3lz/8APwP+/f8A9ej/AJfz/wBch/OpqAIfLn/5+B/37/8Ar0eXP/z8D/v3/wDXqaigCnFHN58+JgDuGTs6/KKm8uf/AJ+B/wB+/wD69EP/AB8XH++P/QRU1AEPlz/8/A/79/8A16PLn/5+B/37/wDr1NRQBTtY5jB8swA3Nxs/2jU3lz/8/A/79/8A16LT/j3/AOBv/wChGpqAIfLn/wCfgf8Afv8A+vR5c/8Az8D/AL9//XqaigCK1/484f8Armv8qlqK1/484f8Armv8qloAzbbX9Pu9UewgkkMylwGMLhHKEK4VyNrFScEA8c+hpZPEGlxahdWUl5GJ7O3NxcL18qMdSx6Dg5x1xzWLZ6HrGn3H7tLOaGzlu7i1JndWmeZ2cK424UDeQT82eDgVd1/w8+s/a4o3SCO602e0ZwOQ8m3Bx3GFoA0dN1a11aOVrXzlMTBXSeF4nUkAj5WAOCCOasQ/62f/AK6D/wBBWs3RrK+jvL6/1VLeK4uvLXyreQyKqoCAdxVTkkk9OmKvpGzTTlZXT5xwoH91fUUAWK8zv7iW7v8AxKtqds2rahDpETDnaFXEh+m3NejNGyIWa5kCqMk4Xj9K8y+H8L6zriXbyOEtRNeORj/XzuVHGP7iZ/Gqh/ET7a/18y9qU/Oy+93/AEPT7a3jtLWK3gXbFCgjRR2UDAFSVF5L/wDPxL+S/wCFHkv/AM/Ev5L/AIVJBLXMRSL4X8RzQ3DeXpeqSebDIxwsM5+8h9A3Ue9dF5L/APPxL+S/4VFc6fHe27QXjGeJvvJIiMD+BWk1cicW9VujlfGS2GvMmk2dvBd6iB5jXAGTZxg5Lbhzn0XPNZ+u+F9b0jQTbaLJ/aVlbuJ7eJ0AuLaRW3BkIGH75BGeTiuvg0W00nT549OQW6FCWVEUbuO5xk1oeS//AD8S/kv+FUm7WlqKnFwqe1+0c1Lcx+MPBcWo6WwF7BieIA5MU6clD9eR7gg1vaRqMWr6RbX8H3J4w2P7p7j8DkfhXnuow33g3x1c3enNI9neRm6lt1x+9UH97tHTeud446Eiui8LzRpqd/YWt2zWswXULNl24aOT72OOMN/Op5bJS76fMuslCv7u0v6X6p+Z1lFReS//AD8S/kv+FHkv/wA/Ev5L/hTGS0VF5L/8/Ev5L/hR5L/8/Ev5L/hQAN/x+R/9c3/mtS1VaJ/tUY8+T7jc4X1X2qXyX/5+JfyX/CgCWiovJf8A5+JfyX/CjyX/AOfiX8l/woAloqLyX/5+JfyX/CjyX/5+JfyX/CgCWiovJf8A5+JfyX/CjyX/AOfiX8l/woAIf9bP/wBdB/6CtS1ViicyTfv5Bhx2Xn5R7VL5L/8APxL+S/4UAS0VF5L/APPxL+S/4UeS/wDz8S/kv+FAEtFReS//AD8S/kv+FHkv/wA/Ev5L/hQBLUV1/wAec3/XNv5UeS//AD8S/kv+FRXMTi1lJnkPyHgheePpQBaooooA5HTdM1axu4GksBIunJdeW6Tr/pRllDKBnpwMndjnGM9auXmkS2+tajqFhplvcefYBPKYqouJt7HD59scntXRUUAYfheyurW1uZdThlW/upfNuZZGT94+0L8oViFUBQoHXA5ycmtKFJirFJgo8x8DZn+I1aqK2/1R/wCuj/8AoRoATy5/+fgf9+//AK9Hlz/8/A/79/8A16mooAh8uf8A5+B/37/+vR5c/wDz8D/v3/8AXqaigCHy5/8An4H/AH7/APr1Esc32qQeeM7F52e7VbqJf+PyT/rmn82oApaleS6bbLNJJvDOFwqD0J9fauN1m8lvLuS7a68uJU6NGPkAHPP5muq8Vf8AILj/AOuw/wDQWrzjxE7XP2TSYWKteyYkIPIjXlv8/WuzDwT1OerJor20F74kZrq5upraxyRBHEdjSj+82PX0/wAna0S28QeH1uLrRppNVtEK+fZy/NLt55jbuR6d6soix/JGoVFBCgdAMV0fhL/l7/4B/wCzVtUqe69NOxnCGvmXNE1mDxBYC7029V1ztdDHh42/usM8GsvxUkomtt0oY7W52Y9Km1nwo8moHWPDlyNN1bHzsBmK5H92Re/16/pjntS8SyXN5b2OvWbaXqMYIKOcxzcjDRt3B9Pw5rnhBOXND/go2lJpWkQNFOWJW42j08sV39jFcDT7YG5BPlLk+WOeBXDV6DZ/8eFv/wBcl/lSr7IKe4eXP/z8D/v3/wDXo8uf/n4H/fv/AOvU1FcxsQ+XP/z8D/v3/wDXqGSOb7RDmYE5ODs6cVcqGX/j6g+rfyoAPLn/AOfgf9+//r0eXP8A8/A/79//AF6mooAh8uf/AJ+B/wB+/wD69Hlz/wDPwP8Av3/9epqKAIfLn/5+B/37/wDr1DcxzBE3TA/vF/g9xVyobr/Vp/11T/0IUAHlz/8APwP+/f8A9ejy5/8An4H/AH7/APr1NRQBD5c//PwP+/f/ANejy5/+fgf9+/8A69TUUAQ+XP8A8/A/79//AF6iuY5haylpwRsORs68VbqK6/485v8Arm38qAJaKKKACiiigAooooA5Oz1fUZfEFtI91K9tdahdWJszEgWFYlfEgIG7JMfc4+ccDipda1bVNK1+ZxJFJYro93dRWyx5ZpIjFyzd/vkADHvnjGydF0w3k92bC3+0XCFJZPLGXBABB+oAB9QB6CrH2O28yN/Ij3RRtEh2j5UbGVHsdq8ewoAxvD91ff2neWF9ftqAjtre5Sd0RSDL5gKfIAMDywR3+bkmtZZ0innD7s7weEJ/hX0FN07SbDSYnj0yzhtUdtzLEgUE4wPyAwPSpof9bP8A9dB/6CtAFXUb2FdLumYuAIXJJjbj5T7V5h9sg/v/AKGvVr//AJBtz/1xf+Rry+uzD7Mwq7oY1xGXJG7Gf7h/wpkcyBMHd1P8J9asP/rG+pqKL/V/if510mA1ruAYBfBA5BU1r6J4pg0aOVfK87zSD94rjH4H1rPb7q/T+tB/1Y+p/pSlFSVmNNp3R2OmeLYdZlntltzERCz5DFvQf3R61uR3cQiQHf8AdH/LNv8ACuN8J/8AIQuv+vV/5rXcxf6lP90VwVYqMrI6oNtXZl67f28Wg3jSM6gxFcmNup4Hb1Neb/bIP7/6GvUdZ/5Ad5/1xb+VeaV0Yf4WZVdyCaZDHgbuo/hPqK6az8dQWdlDbG03GJAm7zCM49ttc5P/AKr/AIEv8xUlbShGW5mpNbHoeka/b6tY/aEVkIYqyhWbaR749CKv/a4v+mn/AH7b/Cs3wr/yL0H+83/oRrYrzppKTSOuOqKkl1EZoiN/DHP7tvQ+1S/a4v8App/37b/Cll/10P8AvH+RqWpGQ/a4v+mn/ftv8KPtcX/TT/v23+FTUUAU/tUf2wt8+PLA/wBW3r9Km+1xf9NP+/bf4Uf8v5/65D+dTUAQ/a4v+mn/AH7b/Cj7XF/00/79t/hU1FAFOK5jE85O/lhj92390e1Tfa4v+mn/AH7b/CiH/j4uP98f+gipqAIftcX/AE0/79t/hR9ri/6af9+2/wAKmooAp21zGsGDv+83SNj/ABH2qb7XF/00/wC/bf4UWn/Hv/wN/wD0I1NQBD9ri/6af9+2/wAKPtcX/TT/AL9t/hU1FAEVr/x5w/8AXNf5VLUVr/x5w/8AXNf5VLQAUVhWHiCe71VIZrNIbS4knitpfOy7tExU7kwMA4YjBPA5xmqtz4suLW6lZ9ND2Xm3FvC6TZkklhjaQgptwAfLkAO49B68AHT1FD/rZ/8AroP/AEFax/C3iMeJLO4mEcS+TIE3wSF43yitwSqnjdg8dR+WxD/rZ/8AroP/AEFaAKHie6+xeFdTuM7SlrJtPuVIH6kVz3ws09rXwj9rlXEl7KX6fwqAi/8AoJP41P8AE25MHge4iX791LHCoHc7s4/8dro9KsV0zR7SxTpbwpHn1wMZoT1aNWv3Sfd/kv8AgluiiigyCiiigCK6/wCPOb/rm38qlqK6/wCPOb/rm38qloAwfF9hNcaQt9YpuvtNkFzAP7+PvJ/wJcjH0riIbyHw74l0m6tm26ReEy2hzgJFLgSRH/ccqwHbJr1WvOtT0ATLqvhjbggnUtIPTGc74x7ZJGPRs0J2bT2f59CqkHVoNR+KOq9Oq/X7z0WisXwhqv8AbHhezuXbMyp5U2eu9eDn69fxraoM4yUoqS6hRRRQURN/x+R/9c3/AJrUtRN/x+R/9c3/AJrUtABRRRQAUUUUAFFFFAEUP+tn/wCug/8AQVqWoof9bP8A9dB/6CtS0AFFFFABRRRQAVFdf8ec3/XNv5VLUV1/x5zf9c2/lQBLRRRQBy2ianfz6xatc34nh1CO6cWxRAIPKlVVCEAMeGw24nnGMdKZq2savp2q6wDcW4gi09ZrVBFxGxcruc9W9cDAwPxrcXQdJSW5kXTrYPdAiciIfvMnJz9Tz7nmrMtlazvI89vFI0sXkuXQHenPynPUcnj3oAztCmuxdalYXt296bOdVS4kRFdlaNXw2wBcgseQBxj6m9DcRxqytvyJH6Ix/iPoKWx06z0y3MGn20dvEWLFY1wCT1J96ktv9Uf+uj/+hGgBPtcX/TT/AL9t/hR9ri/6af8Aftv8KmooAh+1xf8ATT/v23+FH2uL/pp/37b/AAqaigCH7XF/00/79t/hUS3UX2qQ/Pgoo/1bere1W6iX/j8k/wCuafzagDE8U3UR0uPG/wD1w/5Zt/db2rzmwlW78S398+4xwqLaE7D25ft616L43uRZ+HHuW5ET78euFbiuG8OW7W+g23m8ySgyuT1JY5/rXfQ0pN/I5Kus0i7/AGhbbyfM45/hNamh+I7DTPP89pG8zbjYmemfX61U/wCWjfjTKbSkrMadnc7qz1a1vrRLiDzNj5xmNuxx2HtXMeOIbHUltoryEyx7WxujbIPHI4yK6XQ/+QLbf7p/mayPFn+vtf8Adb+Yrlp+7U0Npaw1PPLW+l0O8Syv5HmsZDi3uXU7kP8Acb19j/kej6f4t0x/s9oDMHIWMHy+Cen161yd9ZQ6hZSW1yu6OQYPqD2I96XwPeTHXBp1+268s3Ksx/5aJg7WrsqxVSPN1RzwbhK3c9H+1xf9NP8Av23+FH2uL/pp/wB+2/wqaivNOwh+1xf9NP8Av23+FQyXUZuISN+ATn923p9KuVDL/wAfUH1b+VAB9ri/6af9+2/wo+1xf9NP+/bf4VNRQBD9ri/6af8Aftv8KPtcX/TT/v23+FTUUAQ/a4v+mn/ftv8ACobm5jZExv8A9Yp5jYdx7VcqG6/1af8AXVP/AEIUAH2uL/pp/wB+2/wo+1xf9NP+/bf4VNRQBD9ri/6af9+2/wAKPtcX/TT/AL9t/hU1FAEP2uL/AKaf9+2/wqK5uomtZQN+ShAzGw7fSrdRXX/HnN/1zb+VAEtFFFABRRRQAUUUUAZsOvWU+rNp8fneaGZBIYmEbsuCyh8YJGensfQ4il8T6ZBqjWM0kiOrFDKYm8oOE8wpvxjds+bHoKzbfw9qNtqyuDava2t3c31uzSsJHlmD/Iw24CjzG5ye3HFMuvDWqXF5PElxbQ2kt096JlLGVJGhMYULjGAx3bs9sbe9AG5pWtWmsJIbPzQY9pZJYmjbawyrYI6Ef17g1bh/1s//AF0H/oK1g+EvD02gi63xwW0cwiVbeCZpVBRSpk3MoOWG3joNo5OTW0sTPPORNInzjhcf3V9RQAt//wAg25/64v8AyNeX16TqNszaXdA3MwzC44Kj+E+1eYfZv+m03/fddmH2ZhV3RYf/AFjfU1FF/q/xP86GhIcjzpOvt/hTI4yU/wBa45PTHr9K6TAsN91fp/Wg/wCrH1P9Kga2zgmebkf3qPsvyA+fN1P8dAzovCf/ACELr/r1f+a1195fx6bpn2mVWZVCghevPFcV4StyNSuSJpf+PV+rZzyvtW94otC/hssbmcBWRtqsAD2weOnP6CuOok6tmbwdoXK9/wCLbS70+e3SCYNLGVBOMDI+tclUP2b/AKbTf990fZv+m03/AH3XVGCgrIxlJy3HT/6r/gS/zFSVBNGRH/rXPI649R7Uptsn/XTf99VZJ6N4V/5F6D/eb/0I0/Vdft9JnSKeKRy67gUx647mqfhO0ZNAjIurj53Y4LA45xgZHTj+dYvjS1P9qQE3Ex/c4+8B/EfQVwqKlVaZ0ttQujotO12DV7tUgikQxnJ3454PpWzXBeDrUjVJGFxMPkxjdkfy9v1Ndv8AZ2/5+Zv/AB3/AArOrFRlZFQbauyaiofs7f8APzN/47/hR9nb/n5m/wDHf8KzLD/l/P8A1yH86mqn5DfbCPtEv+rBzxnr9Km+zt/z8zf+O/4UATUVD9nb/n5m/wDHf8KPs7f8/M3/AI7/AIUAEP8Ax8XH++P/AEEVNVOKBjPOPtEoww5GOflHtU32dv8An5m/8d/woAmoqH7O3/PzN/47/hR9nb/n5m/8d/woALT/AI9/+Bv/AOhGpqp20DNBkXEo+ZuBj+8fapvs7f8APzN/47/hQBNRUP2dv+fmb/x3/Cj7O3/PzN/47/hQAtr/AMecP/XNf5VLUVr/AMecP/XNf5VLQBhxeGFtrmWa21K8jB85reP5GW2eVtzsuV5OckBtwGSMY6R3ng6xv5Zxd3FzJazecwtdyhEeVCjupC7s7WbqcDc3HTHQUUAZ+l6SNNkuJXuprue5ZTJLMEBwowoAVQMAe3c1YSGKSacyRo53gZZQf4VqxUUP+tn/AOug/wDQVoA43xvHFNr3hrTI4o8T3wllUKPuoR1+oLflXZfZbf8A54Rf98CuDmnGqfGy2jU5TToGB9CdhP8AOQflXoNSt2ayf7uPz/Nr9CL7Lb/88Iv++BR9lt/+eEX/AHwKloqjIi+y2/8Azwi/74FH2W3/AOeEX/fAqWigCrc20C2spWGMEISCEHHFS/Zbf/nhF/3wKLr/AI85v+ubfyqWgCL7Lb/88Iv++BWD4s0ln06PUtMt4zfaa/2iJQo/er/Gh+q5/ECujopNXVi6c3CSkjhtAurG28WPDAiNp+uQi9syV4WTHzp9eCcdsAV2n2W3/wCeEX/fAry/xVZTaBdNBZ/uxbzHUdMfsoyPOi+gOHx6Zr0fRdVh1vRrbUbbhJ0DFe6N0Kn3ByPwojrG5k4qnUdNbbr0f+Tuiz9lt/8AnhF/3wKPstv/AM8Iv++BUtFMoqtbQfaox5MeCjEjYPVal+y2/wDzwi/74FDf8fkf/XN/5rUtAEX2W3/54Rf98Cj7Lb/88Iv++BUtFAEX2W3/AOeEX/fAo+y2/wDzwi/74FS0UARfZbf/AJ4Rf98Cj7Lb/wDPCL/vgVLRQBVitoDJNmGM4cAfIOPlFS/Zbf8A54Rf98CiH/Wz/wDXQf8AoK1LQBF9lt/+eEX/AHwKPstv/wA8Iv8AvgVLRQBF9lt/+eEX/fAo+y2//PCL/vgVLRQBF9lt/wDnhF/3wKiubaBbWUrDGCEJBCDjirVRXX/HnN/1zb+VAEtFFFAGZY+IbDUNQaztml8wK7IzxMqyhG2OUYjDAMQDj1HrVeXxdpEE1yk00kaWyys8zQt5beV/rArYwxXuB6H0NVNO0XV7G5iJNnJFYQzRWv71w03mOpBf5Ttwq443ZJzx0qjceENTuYLixNxbR2qm8ktpgzGRmuGY7XXGABvYZBJPHAoA6jTdUt9Ujla28xWgk8qWOVCjxtgNgg+zA/Q1Pbf6o/8AXR//AEI1keF9Gm0a1u0migtluLjzUtreVpUhGxVI3sAWJKk9BjOO1aUMLOrETyL+8fhcYHzH2oAtUVD9nb/n5m/8d/wo+zt/z8zf+O/4UATUVD9nb/n5m/8AHf8ACj7O3/PzN/47/hQBNUS/8fkn/XNP5tSfZ2/5+Zv/AB3/AAqJYG+1SD7RL9xefl9W9qAOV+KL+Z4atbFTh729jhGOoHJJ/T9azFAVQqjAAwBT/GW678aadZCaVksbZrlyccM52gdOuATVY2u45M834NivQgrU4r5nJLWbZa/5aN+NMqH7H85H2i47/wAdN+yf9PE//fdMDvtHdY9Bgd+FVCT9Mmuf8Q6na31zbrbOWKo2cqR3FamnWzL4VAFzNjyX6kH19q4mSAteRgzS/cbkED09qwpxTk2aybUUi5WdqEj6Rrtl4ggUn7JJtulUctCfvfXHWrP2T/p4n/77q3YaTFe6klrcT3DRSlldd/3hg5B46Hoa6FJR1Zja+h29xq1nbRxSSS/JMu6NlBIYevH1qzbzx3MCzQnKOMg4xXltvFNbtJod7dT+fpLmGMCThoD80bYx1wcfgK7/AEK1ZdDtgLmfoepB/iPtXJUpqCN4Tcma9Qy/8fUH1b+VH2dv+fmb/wAd/wAKhkgYXEI+0SnJPPHHH0rA1LlFQ/Z2/wCfmb/x3/Cj7O3/AD8zf+O/4UATUVD9nb/n5m/8d/wo+zt/z8zf+O/4UATVDdf6tP8Arqn/AKEKPs7f8/M3/jv+FQ3MDBEzcSn94o5x6j2oAuUVD9nb/n5m/wDHf8KPs7f8/M3/AI7/AIUATUVD9nb/AJ+Zv/Hf8KPs7f8APzN/47/hQBNUV1/x5zf9c2/lSfZ2/wCfmb/x3/CormBhayk3Epwh4O3nj6UAW6KKKACiiigAooooAKK4qz1Kf/hJopHvpPMk1C7gurWScFIbeNXKPs6L92M7up389qo6xrd7bXmoXmn6hLLfw3c0MNgJNyNEtoZF/d/72G3dTnGcECgD0Ooof9bP/wBdB/6Ctcz4Kv5rpryG5uGndI4Jtwu/tMf7xSeG2jB45UcAbSMA4roll8ueceXI/wA45Uf7K0ALf/8AINuf+uL/AMjXl9ek6jdFdLuj9nmOIXOAv+yfevMPtP8A0xm/74rsw+zMKu6LD/6xvqaii/1f4n+dOZyWJ2MMnoRTImxH909T/OukxJm+6v0/rQf9WPqf6VC9xtIHkynA6heDSfavkA8ibqf4KANnQtQg066nluSwVrdkG0Z5JH+Fa2s+ILG+0NraBnMh24BTHQiuP87erDypF46suKc0uxQfLc/QZrN04uXMUpNRsSUVD9p/6Yzf98Ufaf8ApjN/3xWpA6f/AFX/AAJf5ipKhlbdF90jkdfqKDcYJHkynHotAHZaF4hsLDSI7e4ZxIpYnCZ6nNZviXUrfU7uGW1LFVj2ncMc5z/Wuf8AtP8A0xm/74pftXyAeRN1P8FZKnFS5i3NtWOn8Hf8hGT6D+Rrrb+/g0228+6LBNwX5RnmuL8G3X/E0kXyJvuZzs4+n6/oa2PGN1jQ1/cTczKOF6cGueor1bM2i7QuXrfxNp11cxwRPIXkYKuUxzWvXl2jXWNcs/3Ex/fKOE969L+0H/nhN/3yP8airBQdkOEnJah/y/n/AK5D+dTVT88/bCfJl/1YGNvPWpvtB/54Tf8AfI/xrE0JqKh+0H/nhN/3yP8AGj7Qf+eE3/fI/wAaACH/AI+Lj/fH/oIqaqcU5E858mU5YdF6fKKm+0H/AJ4Tf98j/GgCaioftB/54Tf98j/Gj7Qf+eE3/fI/xoALT/j3/wCBv/6EamqnazlYMeTKfmbov+0am+0H/nhN/wB8j/GgCaioftB/54Tf98j/ABo+0H/nhN/3yP8AGgBbX/jzh/65r/Kpaitf+POH/rmv8qloA5HRNU1G51mCe4vnkivLm9gNmUQLAsMrIhUgBs4UZyTkv2rN1zxHqukR3Wqw33nAz3luliyL5cYhgkdX4G7OYhnJxh+g4rsX0LSZJrqZ9NtWku0Mdw5hXMqnqGOOQeM+uBTxpGmi/kvhYW32qVCkk3lLvdTjIJxznA/IelAGb4YvLyb7bbalLcPcQSISs4jJUMgIw0YAIPJxjI5HIxWp9ojt3uWl3BVbcSEJAG0egpbHTbLTImi060htY3beywoFBPTPHsAPwrE8Y3j2nhTVRB/r7lltYhnBLSBU/qT+FVGPNJIUnZNnG/Dm4Oo+NtV1aUOfMidxhS2PMkBA49AuK9R+0p/dl/79N/hXAfCi2CLq06rtQtFHGPRcM4/RxXolZxfNeXdst6Rgv7q/FX/Ui+0p/dl/79N/hR9pT+7L/wB+m/wqWiqJIvtKf3Zf+/Tf4UfaU/uy/wDfpv8ACpaKAKtzcI1rKAJOUPWJh2+lS/aU/uy/9+m/wouv+POb/rm38qloAi+0p/dl/wC/Tf4UfaU/uy/9+m/wqWigDnvFulJr+hvDEri7hPm2zGJsbwPunjowyD9a474Z699hvJdIvN6x3LM8Kspyky/fTHXJGG+oavUq8z8d6I2k6wusWL/Z4ryRS8nQQXS8xyH0B5VvYk96ItRld7PR/wCfy/I05faxUV8S28+6+fTz9T0f7Sn92X/v03+FH2lP7sv/AH6b/CqPh7WU17RYb1V8uQ5SaI8GKReGU/Q/pitOm04uzMk01dFVrhPtUZxJ9xv+WTeq+1S/aU/uy/8Afpv8KG/4/I/+ub/zWpaQyL7Sn92X/v03+FH2lP7sv/fpv8KlooAi+0p/dl/79N/hR9pT+7L/AN+m/wAKlooAi+0p/dl/79N/hR9pT+7L/wB+m/wqWigCrFcIJJuJOXH/ACyb+6PapftKf3Zf+/Tf4UQ/62f/AK6D/wBBWpaAIvtKf3Zf+/Tf4UfaU/uy/wDfpv8ACpaKAIvtKf3Zf+/Tf4UfaU/uy/8Afpv8KlooAi+0p/dl/wC/Tf4VFc3CNaygCTlD1iYdvpVqorr/AI85v+ubfyoAlooooAKK4vQtTP8AbUEk2ryTG4iu3vIZZMpA0cyqvB4jxkrjjd15IrI1PXdStLW8vbPUJjfs+oJNbNKCtvHE7CNwhyEIAQ7sYO7JyMUAel1Fbf6o/wDXR/8A0I1h+EbiaSHUbe5leWS2ughP2o3KDMaN8khUEj5uhHBzjjFa8MxRWXypGxI/Kjj7xoAtUVD9oP8Azwm/75H+NH2g/wDPCb/vkf40ATUVD9oP/PCb/vkf40faD/zwm/75H+NAE1RL/wAfkn/XNP5tSfaD/wA8Jv8Avkf41n6pqo0yxv754pAILbzMEDqNxFNJt2QN2Vzj4/8AT7zX9YOSsmpLaRE/3YUIyPYk0lT2cLaZ8N9KikhnaWRhNI23JLOGY5/OqH2v/p3n/wC+K9C927en3aHJbQt/8tG/GmVD9s+cn7Pcd/4Kb9r/AOnef/vigDr7PUrSPQBbvOBL5TLtwepziuSf/j+j/wBxv5igXf7xf9Hn7fwVFLNsvIz5Uh+RuAMntUxiosbd0W6vaXNHb6xFLM21FY5J7cGsn7X/ANO8/wD3xStd5Y/6PP1/uU2rqwloO8eXNrBrmn67ZSB1Vfs14QD/AKsn5SfoT/Ku70V1TQYHY4VUJJ9smvPrhU1Czmt5YZQkilTlcde4ra8Gaw7+DbjTrqOV7zTEeGUAZJXBKN+I/PFTUjekl2/IqDtN+Z11vqVpdy+XbzB3xnAB6VJL/wAfUH1b+Vcd4ZvcawB9muDujYZCcDvz+VdXJOTcQnyZRgnjb14rlqR5XZG8ZXVy5RUP2g/88Jv++R/jR9oP/PCb/vkf41mUTUVD9oP/ADwm/wC+R/jR9oP/ADwm/wC+R/jQBNUN1/q0/wCuqf8AoQo+0H/nhN/3yP8AGobmclE/cyj94p5X3FAFyioftB/54Tf98j/Gj7Qf+eE3/fI/xoAmoqH7Qf8AnhN/3yP8aPtB/wCeE3/fI/xoAmqK6/485v8Arm38qT7Qf+eE3/fI/wAaiuZybWUeTKMoeSvTigC3RRRQAUUUUAFFFFAETWtu8jyNBGzyJsdigyy/3Se49qVbaBZRKsMYkVdgcIMhfTPp7Vlw+I4ZdaFgbS4RHlkgiunKeXLKgyyAbt2QA3JAHyt7ZUeIoDrRsBa3Gzz/ALN9qwvl+d5fmbOu77vfGM8ZoA04beG3DCCJIgzFmCKBk+px3pIf9bP/ANdB/wCgrVLRtdtNdW9ax3mO0uTbl2GBIQituX1Uhxg9+vTFXYf9bP8A9dB/6CtADL//AJBtz/1xf+Rry+vUL/8A5Btz/wBcX/ka8vrsw+zMKu6HP/rG+pqKL/V/if51K/8ArG+pqKL/AFf4n+ddJgSt91fp/Wg/6sfU/wBKG+6v0/rQf9WPqf6UDGP9xvpSjoKR/uN9KUdBQAUUUUxEc/8Aqv8AgS/zFSVHP/qv+BL/ADFSUAFOP+rH1P8ASm04/wCrH1P9KAOg8Hf8hGT6D+RrY8Yf8gMf9dl/kax/B3/IRk+g/ka2PGH/ACAx/wBdl/ka45fxjoj/AAzk9E/5Dln/ANdl/nXpVea6J/yHLP8A67L/ADr0qliPiQUtiH/l/P8A1yH86mqH/l/P/XIfzqauY2CiiigDNn1Wz025lF7N5ZkYbflJzhV9BUlnrVhqE/k2k/mSbd2NjDj8RXMeMf8Aj9j+rf8AoKVH4O/5Djf9cW/mK6FSXs+Yyc3z2O5ooornNSG0/wCPf/gb/wDoRqaobT/j3/4G/wD6EamoAKKKKAIrX/jzh/65r/Kpaitf+POH/rmv8qloAMjJGeR1FGRnGeeuK4LSVFlrpu7iyuIr6Ga/k1C4FpITJCZD5Q3AfvPl2bQNxAUgAYNJPBdp4k87TNMdtcS9uXknlhZEktzC4jBlxgruMPyg5yp9DQB3wIOcHOODXAePbvffxWa4ItUm1CQE9CsYSI/99v8ApW34MtLuxt9SgvoZkf7YX82ZwzTMY03NxxycnjjnA6Vl+K7DdrDSMqsNQltbQ5OCEjZpX7dMbfyqlLlTfkY1r8jSLXw5tDa6Dd7uS17IoJ9ECxj/ANArrq5rwMLhfBli5jjLTb5mJkIyXdm9D610G64/55Rf9/D/APE1nD4UdldJVZRXTT7tCWiot1x/zyi/7+H/AOJo3XH/ADyi/wC/h/8AiaoxJaKi3XH/ADyi/wC/h/8AiaN1x/zyi/7+H/4mgAuv+POb/rm38qlqrctP9ll3RxgbDkiQnt9Kl3XH/PKL/v4f/iaAJaKi3XH/ADyi/wC/h/8AiaN1x/zyi/7+H/4mgCWquqadb6vpdxYXi7oZ0KN7ehHuDzUu64/55Rf9/D/8TRuuP+eUX/fw/wDxNA02ndHlPh7V7jwT4sm03WGK28jCOdz909o5x9RhW/AnJzXrec9K5Txn4TbxNYB4o4or+AHyZN5+Yd0PHIP+e9YfgHxdcRuPDWsqEu7cmKBpnKk4/wCWZ4PzDHHqPcVSfMrPdfiv81+RclzL2i+fr39H+D9UehN/x+R/9c3/AJrUtVWaf7VH+7jzsbA8w+q+1S7rj/nlF/38P/xNSZktFRbrj/nlF/38P/xNG64/55Rf9/D/APE0AS0VFuuP+eUX/fw//E0brj/nlF/38P8A8TQBLRUW64/55Rf9/D/8TRuuP+eUX/fw/wDxNABD/rZ/+ug/9BWpaqxNP5k2I4/vjP7w/wB0e1S7rj/nlF/38P8A8TQBLRUW64/55Rf9/D/8TRuuP+eUX/fw/wDxNAEtFRbrj/nlF/38P/xNG64/55Rf9/D/APE0AS1Fdf8AHnN/1zb+VG64/wCeUX/fw/8AxNRXLT/ZZd0cYGw5IkJ7fSgC1RRRQBC1nbMZS1vETNjzCUHz46Z9acIIRM8wiQSuArOFG5gOxPeszT/EUGoal9lS1uIlkWVoJ5AuycRuEfGCSMEjG4DI5FMtvE1vcaobU208UJeaOK7k2COV4jiQD5twwQ3JAB2n2yAa8MEVvH5dvEkSZztRQo/IU22/1R/66P8A+hGqWh63beILB7yyWQQiZ4lMi7S2043Aeh6j2q7bf6o/9dH/APQjQBLRRRQAUUUUAFch4+Zp9Pi0iIsJNVube1+XqF3szH6YX9a6+uRu0/tL4rWMXLR6XYtcNzwJHJUA++Oa1o6S5u2pnU+G3c0vE6qmkQogwqyqAB2G01yldb4q/wCQXH/12H/oLVyVb0fhM6nxD/8Alo340yn/APLRvxplakD/APlov4VWf/j+j/3G/mKs/wDLRfwqs/8Ax/R/7jfzFAE1Ob77fWm05vvt9aAG0/UUbw8bHxHAD9muYjZaiB0CkkJIfocDPpgUyusitYr3wXJbXC74pbeRWHsc1Mpctr7DUbmZ4XOdWJHI8o/zFdRL/wAfUH1b+VeefDu5e11uXRr5v39tEfJY/wDLWLIwR9On+TXocv8Ax9QfVv5Vz4iPLOxrSd43JqKKKwNSu1/aJMYnuI1kBwVLDOasVxeof8jJJ/12H9K7StJx5UiYyvcKhuv9Wn/XVP8A0IVNUN1/q0/66p/6EKzKJqKKKACiiigAqK6/485v+ubfyqWorr/jzm/65t/KgCWiiigAooooAKKKKAOci8MXEGqLPFewm3guLi8tomtzuSeYMCWbd8yje5wAD83Xio7jwjNeXcq3OoD7BNO11JDFEUk81ofLOJN3C8lhxkHHNdPRQBj6D4fXQZdQMVzLNHdTJIiOf9UqxJGB/wCOdfTA7VbkFujXE10/lorgFjIVA+Vff3q7WJ4i/wCQDqP/AF0T+aVUVdpCbsrhfXWkTafcRi8jcvEyhftBOcg8da88+xwf3P1NWE/1i/UU2u+nTUNjllLmGNbxhyBuxn++f8aZHChTJ3dT/EfWrD/6xvqaii/1f4n+daEDWtIDglMkjkljR9ig2A+X3P8AEanb7q/T+tB/1Y+p/pQMrG2iRWKqQcdmNONtEyjcCfqxqR/uN9KUdBQBD9jg/ufqaPscH9z9TU1FMRBNCgjyN3UfxH1FKbSAnJTn/eNOn/1X/Al/mKkoAh+xwf3P1NL9ig2A+X3P8RqWnH/Vj6n+lAGz4OsoP7UkYIQ2zbkMRx19fYVseMbKA6Gu5WOJlIzIx7H3rO8Hf8hGT6D+RrY8Yf8AIDH/AF2X+Rrjl/GOiP8ADOM0ayt21yzyn/LZTwx9a9L+yRf9NP8Av43+Ned6J/yHLP8A67L/ADr0qliPiQUtin9lj+2Ffnx5YP8ArG9frUDXmkqxVr2MEHBBuDx+tXf+X8/9ch/OvM7v/j+n/wCujfzqKVNTbuVOTiekQxWtxCssDtJG3RllYg/rUU8unWsnl3NyInxna85Bx+dQeGP+Rbtf+B/+hmuc8Y/8hxf+uK/zNEaalNxByajcreKV0+7v1ktnWYgbWZZC3GAR39zR4Q0+2fXgxjOUiZlIcjB4Hr6E1ix/6yX/AHh/IV0fg7/kON/1xb+YrqlHlptGKd53Oz+yRf8ATT/v43+NH2SL/pp/38b/ABqaivPOop21tG0GTv8AvN0kYfxH3qb7JF/00/7+N/jRaf8AHv8A8Df/ANCNTUAQ/ZIv+mn/AH8b/Gj7JF/00/7+N/jU1FAEVr/x5w/9c1/lUtRWv/HnD/1zX+VS0AFFZ1tr2nXeqSafBMzXEe4HMThGKnDBXI2sVPBAJI71HL4l0mDUZbKa6McsSszs0TiMbV3MPMxtLBeSucgdqANWuI8U3BOuXGAcabp1zeH0LNGET+TV1WmavZ6vG72TyHyyAySwvEwyMg7XAOCOQcc1znjK12aRrVxGR5t6tvZLntl8f+1P0qJ/CVTh7SpCPmvzN/w9b/ZPDOmW56x2kSn6hRmtGkVQiBV4CjApapaIJS5pNhRRRTJCiiigCK6/485v+ubfyqWorr/jzm/65t/KpaACiiigAooooAK47xv4JTXov7Q00CLVIRwc7ROB0UnsfQ9v1HY0UFRk4u6POPDHj2SN0tfFO6IwAwtduuCjZA2zD+E8fe6H2INeio6Sxq8bK6MMqynII9Qa5rxL4VTV7xLvT5Fs9TWJgJSu5JgMDZIvRlOcd/x6VyFrfHQ7trN7u78L3y/M1uYzc2Uv+0inJUH2OBVc0X8ej79H/kOcLRc6eq6rqv8ANefTqerUVwFp4/1L7Stt9gttaY/8tNLMgx9VZePzpreK767vjFrN+3haMttjjktGJf6yuNg/Cjlbdo6+mpy/WIPbX+vuPQaK5b+1dS0ERz6ndR6rpEpA+3xIFeHJ4LheCvuK6hWDqGUhlIyCDwRUJmkZqXqLRRRTLIof9bP/ANdB/wCgrUtRQ/62f/roP/QVqWgAooooAKKKKACorr/jzm/65t/Kpaiuv+POb/rm38qAJaKKKAOes/D1/ZXSypqMUiWyTJZo9uflErhj5h3fNjbgY28dc1XfwUtw7295eB9MElxLFBHGUkVp2LOGfdgr8zgDaOG56c9TRQBlaBon9hwXUf2qW4E9y84Mh+6GOcVbht45FZm35Mj9HYfxH0NWqitv9Uf+uj/+hGgBPskX/TT/AL+N/jR9ki/6af8Afxv8amooAh+yRf8ATT/v43+NH2SL/pp/38b/ABqaigCD7JF/t/8Af1v8a5HwTHHqN5rmuSFvLvLnbA/mHmGPKKc59jWv401N9L8JXklvk3Myi3gC9TI52jHuM5/Cn6bpi6N4fGnJgi3sVQkDG5sNk/icmto6U356f1+Bm9Z+hU8TxWU+mRqkglImBwJi3Y+9ct9htv8Ann/48asUV0wjyqxjJ3dyH+z7beR5fHP8Rpv2G2/55/8Ajxq3/wAtG/GmVQiIWFsJFxH6fxH/ABqCS1ia8jVgSNjHlj7e9X/+Wi/hVZ/+P6P/AHG/mKAG/Ybb/nn/AOPGlawtgxAj7/3jU9Ob77fWgCr9htv+ef8A48a7LTrKBfCoChgPJc4Eje/vXK12Nh/yKw/64v8A1rGrsjSnucQnh+TU7kTaXMbfU7VDJbSlzjIIyrexGRXTeHtatteREkjktdQt2Md5aPI26Jse56Hsag8Mf8hZv+uR/mKteI/DCanf299p9w2natGCI7yIckAfdcfxD6//AFqKkoyfLL5P+ugRTS5omyq2TuESYMx6KJyT/OlkitYcebJsz03TEZ/WvM9L8Rz6NrEbeJbR4kjY7ru2UyREYPJA5FdJresadq620ul3sF0gDZ8pwSvTqOo/Gplh3GSXTuNVU0Ub7T7OTXpQqbkebJIcnOTzzmu6+yRf9NP+/jf41wkH/H5D/vL/AEr0GpraWQ6fUh+yRf8ATT/v43+NQ3NtGqJjf/rFHMjHuPerlQ3X+rT/AK6p/wChCsDUPskX/TT/AL+N/jR9ki/6af8Afxv8amooAh+yRf8ATT/v43+NH2SL/pp/38b/ABqaigCH7JF/00/7+N/jUVzaxLaykb8hCRmRj2+tW6iuv+POb/rm38qAJaKKKACiiigAooooA4eB0i8XRzmWdb2O+uWvtxbAtBE+zI6bciLGO+7vmoLueP8A4SOWeS4uIrsXzEupcBbH7NksB93ZnnOPv+9d/RQByfgd7ec31zYzbbWURCK0aYySRgBv3kmejv1I/wBkZ5zV3xK8i6FqISLeN6c7gO6Vv1ieIv8AkA6j/wBdE/mlXD40TL4WeerLPvGLbPP/AD0FJ5s//Pv/AOPirCf6xfqKbXpnGIzMWJMZBzyMjimRE+X90nk9/epn/wBY31NRRf6v8T/OkMR5JgQFgyMcHeOaTzZ9g/0buf8AloKnb7q/T+tB/wBWPqf6UAV/MlZW3w7RjruBpzPIFGyLcfTcBT3+430pR0FHUCHzZ/8An3/8fFHmz/8APv8A+PipqKYiGUkxfMpHI7+4oMkwJxb5HY7xTp/9V/wJf5ipKAIfNn/59/8Ax8Uvmz7B/o3c/wDLQVLTj/qx9T/SgDW8JXrQ6qyzRpHuT5d0yjJHYA+xJ/CtjxdeNJoqrFErnzlziVeBg1xMv/H1B/wL+VWF+630/rWLp3nzminaPKP0m5li1i0d4AqrKpYtKAAM9c16F/bdr/z2t/8AwJT/ABrziiipSU3cIzcT0b+0Yv7QK7ovM8rOzzlzjPXrXm9xNcNdSs1rtJckjzAcc+tR/wDL/wD9sv61Yf8A1jfU0U6fIEp8x3XheWb/AIRu1/0c/wAf8Y/vmue8XO51pd0RU+SvG4Hua6fwx/yLdr/wP/0M1znjH/kOL/1xX+ZrGn/FfzNJfAjmN8iyybIt/Iz8wGOBW14XvntdaDTQokbRsrO8yqF79+vIxj3rJj/1kv8AvD+QqSuqS5lYwTs7npCaxbyOqJLAzMcKouEJJ9OtWvNm/wCfY/8AfYrzjSv+QzZf9fEf/oQr02uCrTUGdUJcxTtZJRBxASNzc7h/eNRf23a/89rf/wACU/xq3af8e/8AwN//AEI15bTpU1O9xTnynp8V208YkhiEiN0ZJFIP40/zZv8An2P/AH2Kz/DH/It2v/A//QzWtWclZtFp3VyK1/484f8Armv8qlqK1/484f8Armv8qlqRnJ2miatZXibYbaaKxnvLq2drgq07TuzBWGw7cb2BPPQHHOAyXQtZF+Ghis3it72fUYWedsyO8LosTDbwMyHJ54A4546+igDE8M6ffWNvcSauiNfXDiSe4Wbf5rYxwNo2KAAAo7e+SaHilGnu9LtFkYefq8JZRj7qJvJ6f7Irqq5e/wD9J+IWk268i2We6cZ/6Zoin82NTLY3ofHfsm/wZ0fkv/z8S/kv+FHkv/z8S/kv+FS0VRgReS//AD8S/kv+FHkv/wA/Ev5L/hUtFAEXkv8A8/Ev5L/hR5L/APPxL+S/4VLRQBVuYnFrKTPIfkPBC88fSpfJf/n4l/Jf8KLr/jzm/wCubfyqWgCLyX/5+JfyX/CjyX/5+JfyX/CpaKAIvJf/AJ+JfyX/AAo8l/8An4l/Jf8ACpaKAIvJf/n4l/Jf8KPJf/n4l/Jf8KlooAqtE/2qMefJ9xucL6r7VV1bw/aa3bLDqLSPsO6ORdqvG3qrAZBq+3/H5H/1zf8AmtS0blRk4u8XZnJNPr/httuoNcaxpg4W6t0U3EQ/20x84/2hzxkitmyu9P8AEFgXs79b23YYdcI2PZlK8fQitSsTUfCenX10byDzdPvzz9rsn8tz/vY4b8RU6rY25qdT41Z91+q/y+4zbrwMtus0nhu+fTpJQRJbOoe1mB6ho8YGemRVDwnqd5pFz/wjviMvYyKf9CYsrJIufuq5HPt+XUVrCbxXo+BPBb69bj/lpCRBPj1Kn5T+BFZ2vap4f8U6W2malK+lXuN8K6hEYWjf6ngjscGqlV5vi3OephJr36Otu3+W6+47LyX/AOfiX8l/wo8l/wDn4l/Jf8K8+8O69relwtbyq2rw23E1qGBuoF/vIekyenft9e00jxDpeuxltNu0kdeHiPyyRn0ZTyKtwduaOqM4VFIsRROZJv38gw47Lz8o9ql8l/8An4l/Jf8ACiH/AFs//XQf+grUtQaEXkv/AM/Ev5L/AIUeS/8Az8S/kv8AhUtFAEXkv/z8S/kv+FHkv/z8S/kv+FS0UAReS/8Az8S/kv8AhUVzE4tZSZ5D8h4IXnj6VaqK6/485v8Arm38qAJaKKKAOD0S6itdaW6nlmjnRLxtV8wvtT98PLyDwOPu4/hzjioHlgivrqW+nvoboTX41Boi+5bXc/lYA6fL5e0jnJOOc16HRQBzPghkl0+7uIpEWK4uPNjs0l8wWi7FAQnJ+Y7dxA4BY4z1O5DJKqsFhLDzH53AZ+Y1aqK2/wBUf+uj/wDoRoATzZv+fY/99ijzZv8An2P/AH2KmooAh82b/n2P/fYo82b/AJ9j/wB9ipqyvEeuw+HtGlvZR5kn3IIR96aQ/dUD6/pTjFydkJtJXZg6jJJ4g8fWVgIS1too+13K7gQZmGIwfcDLV0N5LMIbwrbkt9n+7vH+1VPwjosukaS0uoEPqV9Ibm8f/bb+H6AcfnWldfdvP+vf/wCKrWbXMorZERTs2+p5551z/wA+v/kQUedc/wDPr/5EFWKK6zAh8653n/ROeePMFN865/59f/Igq3/y0b8aZQBCJrnzF/0T0/5aCopZJReRlIdx2NxuA9Kvf8tF/Cqz/wDH9H/uN/MUAN865/59f/IgpWmudxza9/8AnoKnpzffb60AVfOuf+fX/wAiCursdSCeGPLdYlmELgRmdck84/OucoqZR5hxlYueHr2W31YNNbqiFCGZplAX8+vSupbUY5Lm32NEzEsFAmU7sDnHPauKqvN/x+23/Av5VE6ak7lRnyqxoaTPdf27B/oW4mQgr5o4Bzn8hUPjTw/ZTX0Msejpbyspb7RbyCNi2fbqR6n1q/ov/Ieg/wB4/wAjWj4s/wBZa/Rv6U+ZxqKwWTg7nAwDXtIuIniDanbqVPkyMBKo9m/i/GvSNE8U2evxt9gVvOj/ANbbyMEliP8AtKefx6Vy3/LRfwptn4bi1jVGntriXT9QiiLRXcHDA5Aww/iGD0NXUUZq8tPMiF4v3T0DzZv+fY/99ioLid2VB5WP3i4+ceornrTxZd6NcLp/jaFbSQnbDqMQ/wBHn+p/gb2P6VR05lfWrVkIZTOCCDkHmuX2LSbZv7RPY7bzZv8An2P/AH2KPNm/59j/AN9ipqKxNCHzZv8An2P/AH2KPNm/59j/AN9ipqKAIfNm/wCfY/8AfYqK5llNrKDAQNhyd444q3UV1/x5zf8AXNv5UAS0UUUAFFFFABRRRQBgW/iWSbXUtWs0WynuJbSC5E+53miDFwU28D5HAO4n5egzUN74uNhfTtPZL/ZlvM9vJdCcbxIsRlPyEY24G3O7Oe2OasL4Yji1BrmG9mRVlmuIIdiFYJpQQ0g+XJ+8xwcjLN7ARzeELe6uJDdXlxLbTO00tqQoR5Gi8pmyBnBUk4zjPNAFrRdYudQuLi11GxSyuoYop9kc/mqY5N207tq85RgRjt1Oaj8Rf8gHUf8Aron80qfSNF/suaaeW8nvZ5kjiMswUERx52r8oA6sxJ7lj9KtzWdleM6XEMUx43qwB+mRVRdmmJq6seZJ/rF+optekf8ACP6R/wBAy1/78rR/wj+kf9Ay1/78rXV9YXYw9kzzl/8AWN9TUUX+r/E/zr0v/hH9I/6Blr/35WmroWjOMpp1mwBxxEp5o+sLsHsmedt91fp/Wg/6sfU/0r0b/hH9I/6Blr/35Wj/AIR/SP8AoGWv/flaPrC7B7Jnmz/cb6Uo6CvSP+Ef0j/oGWv/AH5WmroWjOu5NOs2HqIlNH1hdg9kzzmivSP+Ef0j/oGWv/flaP8AhH9I/wCgZa/9+Vo+sLsHsn3PM5/9V/wJf5ipK9GbQtGRSz6dZqo5JMSgCl/sDSP+gZaf9+Vo+sLsHsn3POKcf9WPqf6V6N/wj+kf9Ay1/wC/K0f8I/pH/QMtf+/K0fWF2D2TPMZf+PqD/gX8qsL91vp/WvRG0LRlKhtOs1LHAzEvJp3/AAj+kf8AQMtf+/K0fWF2D2TPN6K9I/4R/SP+gZa/9+Vo/wCEf0j/AKBlr/35Wj6wuweyfc8x/wCX/wD7Zf1qw/8ArG+pr0M6JogDk6fZgJ94mNfl4zz6dacNA0cgEabaEHofKWj6wuweyZF4Y/5Fu1/4H/6Ga5zxj/yHF/64r/M11P8Awj+kf9Ay1/78rR/wj+kf9Ay1/wC/K1jGoozcjRxbjY8zj/1kv+8P5CpK9F/sTRAoY2FlgnaD5a9c4x+dP/4R/SP+gZa/9+Vrb6wuxn7J9zgtK/5DNl/18R/+hCvTaz/+Ef0j/oGWv/flaQ6Do6qWbTbQADJJiXisalRTZpCLiW7T/j3/AOBv/wChGvLa9GOh6Ku3dp9mNxwMxLyad/wj+kf9Ay1/78rTp1FC4Ti5EPhj/kW7X/gf/oZrWqrHptlDGEitokQdFVcAUrWdogy0UajIGT6ngVlJ3bZaVlYktf8Ajzh/65r/ACqWmqUVhGpUFVztB6D6U6pGYOn+JJL7VlhNkkdlNJPDbXHn5Z3hcq4KbRgHaxBBPA5xmq2oeMv7Mknnu7HGmxtPFHcLNl3kijaRhs24AxG4B3HkdOasx+FxbTSPZ6lcwgGd7ZNqMLeSZtzsMr83JOA2QMnrxiO98GWeoTTLeXVzJZytNILTKhUklRo3YEDP3XfAJ4LE+mAC9pGp3V7NdW2pWcdpd2xUtHFN5qlWGVIbavoQRjqKr2tkT441G+YcCzhhQ/VnLfyWrelaSdOkuJp7uW9ubgrvmlVVOFXCjCgD1P1Y/QW/KtpZXykbuCN+QCRx+lKxUZOKdupNRUX2W3/54Rf98Cj7Lb/88Iv++BTJJaKi+y2//PCL/vgUfZbf/nhF/wB8CgCWiovstv8A88Iv++BR9lt/+eEX/fAoALr/AI85v+ubfyqWoWt7VFLPDCoHUlQKFt7V13JFCw9QoNAE1FRfZbf/AJ4Rf98Cj7Lb/wDPCL/vgUAS0VF9lt/+eEX/AHwKPstv/wA8Iv8AvgUAS0VF9lt/+eEX/fAo+y2//PCL/vgUADf8fkf/AFzf+a1LUH2e13FfKhyoyRtHA9f0NCW9rIoZIoWU9CFBBoAnoqL7Lb/88Iv++BR9lt/+eEX/AHwKAJaiuLaC7hMV1BHPGeqSIGB/A0fZbf8A54Rf98Cj7Lb/APPCL/vgUAm1sc9dfD/QJpfOtIJdOuAcrNYzNEVPsOg/KsbU/hvfX0qTDxE7yxHMcs1qvmj6yqQ1d19lt/8AnhF/3wKPstv/AM8Iv++BSS5XeOnpobOtNq0nf11/M4W10vx/pbyLa6pZahEjY23BO5jgdSVz0x/FV9fE/iewjX+2PCcsnPMljMsnH+4Mn8zXUGOyChiluFboSFwaf9lt/wDnhF/3wKnlfcSqR/kX4/5nHL8VNFWUxXVnqNs6nDCSFTj8mJ/SrUfxM8Lv9++ki/37aT+gNdP9lt/+eEX/AHwKik020k+9CB/ukr/Ki0u4KVPrH7n/AJ3MdPH3heTG3WIRn+8rL+eRxU6eMvDj5xrVkMf3pgP51dbRrFusb/hM4/rUZ0DTyclJvwuZf/iqfvA5UukX9/8A9qRJ4s8PPnGuafx63KD+ZpX8QaNcwSR22r2M0jKVVI7lGJJHAwDUn/CP6f8A3J//AAKl/wDiqadC0xWVWEwLcKDdyc/+PU9SG49F+P8AwDUByMjkUUyLykXyYdgEQC7F/gGOBjtxT6ZJh6Z4hmv9UWCaw8i2uFme0nEu4yCNwrb12jZncCMFsjrg8VSl8ZtA80smnZs91xFayJPmSeWFirKU24UEqwB3HpyBmrdv4Y+yXJmt9Tul8tJUtVYIRb+Y4d8cfNyABuzgVFL4MtJ2mSW7uTauZ3jtxsAhkmbc7q23PUkgHIG49eAADR0fU7i/N3Bf2sdpd2kojkjim81CCoYMrbVOMN3A5B+tXbb/AFR/66P/AOhGqul6WdO+0yS3Ul3cXUgklmkVVJwoUABQAAAo/WppLezD5lSMMxz8xxmgCeSRIoy8rqiDqzHAFUp9d0i1GbnVLKEf9NLhF/mamfT7V1KmEAH0JB/MU1NLs4/uxZ/3nZv5mmrdRO/Qwrvx/pAk+z6P52s3h+7BYxl/xLdAPem6ToGoahq8eu+KzGbmIH7HYxndHaA98/xPx1/+tjo/sNt/zxT8qPsNt/zxT8q09okrQViOVt3kyeqd1928/wCvf/4qpfsNt/zxT8qYbKyctE0UTHHzIeeD6is1uaHBUV3H9haV/wBA62/79Cj+wtK/6B1t/wB+hXT7ZdjH2bOK/wCWjfjTK7j+wtK/6B1t/wB+hR/YWlf9A62/79Cj2y7B7NnFf8tF/Cqz/wDH9H/uN/MV339haV/0Drb/AL9CmHRtGWVQbGzEn8OY1z+FHtl2D2bOKpzffb612x0PSycnT7Yn/rkKP7C0r/oHW3/foUe2XYPZs4eiu4/sLSv+gdbf9+hR/YWlf9A62/79Cj2y7B7NnD1Xm/4/bb/gX8q9A/sLSv8AoHW3/foUn9i6RuK/YLXcBkjy1zj1o9uuwezZzOi/8h6D/eP8jWj4s/1lr9G/pWomi6RIgaOwtGU9CsakGnf2FpX/AEDrb/v0Kh1FzcxXI7WOK/5aL+FbHhX/AJCkn/XE/wDoS1u/2FpX/QOtv+/Qo/sLSv8AoHW3/foU5VU1YSg07lq5toLy3e3u4UmhkGHjkUMrD3Bryy18PT2esRf8I7fvYsZvlikHmRA59D0r0n+wtK/6B1t/36FA0bSkkXbY2yv1XEYB47ilTqumml1HKHM02YY1vxXpvy6r4cjvkUc3GmTg5+kbfNSr8RdEjwNTS+0tycbb20dDn8ARXQJa2UmfLSJsddpzin/Ybb/nin5VPPB7x+7+mHLJbMzIfGPhydQY9csBnoHuFQ/kSKvJrGmynEeo2jkdlnU/1qQ2Nqf+WK1G2lWbdYj+EjD+tS+Xoive6kqX1pI4SO6hZicBVkBJp11/x5zf9c2/lVddIslYERNkHPMrH+tSG0tAwUxRhm6A9TUu3Qos0U1XVmYKykqcMAelOpAFFFFABRRRQAUUUUAFcR4fsWj8TwyDT5re8iN5/aFw0DIs2+UGP5zxICORgnaBjjpXb0UAFFFFAEN40aWM7Th2jWNi4jB3EY5xjnP05rlPAK2r/wBoXNpZvpyyiJVsPsckCwooYLkuoDyEZ3FcgYUZOMnsaKACiiigDM8Qrqcmiyx6Iqm6kKpuaTYUQn5ipwfm25xnviqHgSC4tPB9rbXVo1m0LyIsTOWO3e2CSef85710VFABRRRQBy3jW0nuv7K4kNlHcs115dr9p2jy22kxYO4bsDocEg+41vDSzJ4X01bq2+yzLbIHgwR5Zx0wSSPoScdK06KACiiigDgviDpt3e6lby20Ekhis5BCqWhn82UyIwQMB+5J2D5/c/3a70dBng0UUAFFFFAHn/8AZP2RNRjns7i601fEKz3KSxvO00X2aP5sclwJdp7/AHT6V03hG2mtPDFvFPE8OJJmiiddpjiMrmNSp+7hCox2xjtW1RQAVHcQLc20kDtIiyKVLRuUYA+jDkH3FSUUAeZX9tbWvhHStOuNLmed/tMMc0tnNcpZxmQ5cooOXxjbkZ5PIGc+j2YQWMAjaR0Ea7WlBDEY6nPOfrU1FABWT4psF1LwtqNs4lbNu5CROylyFJA+XkjOOO/StaigDhtetNal8SaJcLY+fZWtxD5ISbbtYo3mO64+gB7c/wB7juaKKACsDxbpwvbSwmVZpJbXUbR0SNm2/wDHzFuYqODhd3J6DJrfooA4PR7C+t/HDzXVs0s0l9dO8rWrKIrcg+UwmxhsjYuzP4ZUmu8oooAKKKKACuI8L2MkPiK3cWEttPFaXKanO9uyCeVpkZPnIAkPEhyM4Dds129FABRRRQAUUUUAFFFFAGL4ttlu/DskMouDE00Jk+zQCZ9okVj8n8Q45ABOM8HpS+FRMuhKs8AhCyyCL/RxAXj3nY5jwNpIwSMD6DoNmigAooooAKKKKACiiigDitW0d49S8RG3t7m4ju7SyeYNuk84CeYyxqCf+efGwdiOOedbwnAkNvqL2tu9tYz3zSWkLwtDsTy0DYRgCoMgkboPvZ71v0UAFFFFABRRRQAVDd2yXlpJbytIqSrtYxSFGx7MMEfUc1NRQB5xfaZLF4f0RorS4e5s9LkjtbdtPFxE0p2YjfOShO0DJ24G75hXoyFjGpcBWx8wByAaWigAooooAKKKKACuI8Wmxm8TWltNYziVljeXURZzT+Uiyblji2qQjk9W4wMZzxjt6KAOK8M2Zi8QQMunT211FBdDUZ2gaNZnaVSh3EYkzhiCCdo44ziu1oooAKKKKAKmpQ6hPbKuk3kFpMHBZ57czKVweNodcHOOc9ulchrdhqCarbXF0TqGoxQBYDHpWbaVvMJKkkuYzgLk5HTIJ5A7qigAooooAKKKKACuH0zT5F8XxytYyR36ahdy3V39mIEtswYRL5uMN1iwoJxsPHFdxRQAUUUUAFFFFABXG6jayp46W6t7aee4eW3TbNYhofJH3nWbB2lcscZU54wcg12VFABRRRQAUUUUAFcPrOk3C634iezguZxd6bbF8ln8zE0u9Fz/ALGBtHqPWu4ooA53wlbLAdWktLV7PT573faQNAYdq+VGrEIQCoLhz0GeveuioooAKKKKACsC+03b4vttRgSd5msriMuGLKn+r2gAnaCSCe2e54rfooA4/wACWkmn+daQW8osI7WAJPc2ItpjKNwdG4G/ACndzyx5auwoooAKKKKACuI8RrYXXjK0tns54pw9vJLqIs5pThJNyRRsqlUyfvNkDB75+Xt6KAOH8G2Etvqts5sXtZ49PePVHNuYxPcmRSG3EDzOkpyCeHHrXcUUUAFFFFABRRRQAUUUUAFFFFABRRRQAUUUUAFFFFABRRRQAUUUUAFFFFABRRRQAUUUUAFFFFABRRRQAUUUUAFFFFABRRRQAUUUUAFFFFABRRRQAUUUUAFFFFABRRRQAUUUUAFFFFABRRRQAUUUUAFFFFABRRRQAUUUUAFFFFABRRRQAUUUUAFFFFABRRRQAUUUUAFFFFABRRRQAUUUUAFFFFABRRRQAUUUUAFFFFABRRRQAUUUUAFFFFABRRRQAUUUUAFFFFABRRRQAUUUUAFFFFABRRRQAUUUUAFFFFABRRRQAUUUUAf/2Q==)\n",
    "Histogram (left), kernel-density estimation of the distribution\n",
    "function (middle), and both a histogram and the kernel-density estimate in the\n",
    "same graph (right)"
   ]
  },
  {
   "cell_type": "markdown",
   "metadata": {
    "id": "Fc8Ww4gy_qWB"
   },
   "source": [
    "In SciPy’s the KDE method using a Gaussian kernel is implemented in the function ``stats.kde.gaussian_kde``. This function returns a callable object that behaves as, and can be used as, a probability distribution function. For example, consider a set of samples, ``X_samples``, drawn from a random variable ``X`` with unknown distribution (here\n",
    "simulated using the $\\chi^2$ distribution with five degrees of freedom):"
   ]
  },
  {
   "cell_type": "code",
   "execution_count": null,
   "metadata": {
    "id": "W9XNrY8x_1_o"
   },
   "outputs": [],
   "source": [
    "X = stats.chi2(df=5)\n",
    "X_samples = X.rvs(100)"
   ]
  },
  {
   "cell_type": "markdown",
   "metadata": {
    "id": "-YyVYEtG_5Zj"
   },
   "source": [
    "To compute the kernel-density estimate for the given data, we call the function ``stats.kde.guassian_kde`` with the array of sample points as argument:"
   ]
  },
  {
   "cell_type": "code",
   "execution_count": null,
   "metadata": {
    "id": "Z9LdVkeZ_879"
   },
   "outputs": [],
   "source": [
    "kde = stats.kde.gaussian_kde(X_samples)"
   ]
  },
  {
   "cell_type": "markdown",
   "metadata": {
    "id": "7QmXCSBAAACU"
   },
   "source": [
    "By default, a standard method for computing a suitable bandwidth is used, which often gives acceptable results. However, if we wish, we could also specify a function for computing the bandwidth, or directly setting the bandwidth, using the ``bw_method`` argument. To set a smaller bandwidth, we can, for example, use"
   ]
  },
  {
   "cell_type": "code",
   "execution_count": null,
   "metadata": {
    "id": "lCXMASzdAFoD"
   },
   "outputs": [],
   "source": [
    "kde_low_bw = stats.kde.gaussian_kde(X_samples, bw_method=0.25)"
   ]
  },
  {
   "cell_type": "markdown",
   "metadata": {
    "id": "jr7aptSZAH23"
   },
   "source": [
    "The ``gaussian_kde`` function returns an estimate of the distribution function, which\n",
    "we, for example, can graph or use for other applications. Here we plot a histogram of the\n",
    "data and the two kernel-density estimates (with default and explicitly set bandwidth). For reference, we also plot the true probability distribution function for the samples. The\n",
    "result is shown in the next figure."
   ]
  },
  {
   "cell_type": "code",
   "execution_count": null,
   "metadata": {
    "colab": {
     "base_uri": "https://localhost:8080/",
     "height": 290
    },
    "id": "-RqJkJSWAQrg",
    "outputId": "493732b1-8c48-4372-ee77-2297b2239e7f"
   },
   "outputs": [
    {
     "name": "stderr",
     "output_type": "stream",
     "text": [
      "/usr/local/lib/python3.6/dist-packages/seaborn/distributions.py:2551: FutureWarning: `distplot` is a deprecated function and will be removed in a future version. Please adapt your code to use either `displot` (a figure-level function with similar flexibility) or `histplot` (an axes-level function for histograms).\n",
      "  warnings.warn(msg, FutureWarning)\n"
     ]
    },
    {
     "data": {
      "text/plain": [
       "<matplotlib.axes._subplots.AxesSubplot at 0x7fee0e573588>"
      ]
     },
     "execution_count": 21,
     "metadata": {
      "tags": []
     },
     "output_type": "execute_result"
    },
    {
     "data": {
      "image/png": "[encoded data removed]",
      "text/plain": [
       "<Figure size 864x216 with 3 Axes>"
      ]
     },
     "metadata": {
      "needs_background": "light",
      "tags": []
     },
     "output_type": "display_data"
    }
   ],
   "source": [
    "x = np.linspace(0, 20, 100)\n",
    "fig, axes = plt.subplots(1, 3, figsize=(12, 3))\n",
    "axes[0].hist(X_samples, alpha=0.5, bins=25)\n",
    "axes[1].plot(x, kde(x), label=\"KDE\")\n",
    "axes[1].plot(x, kde_low_bw(x), label=\"KDE (low bw)\")\n",
    "axes[1].plot(x, X.pdf(x), label=\"True PDF\")\n",
    "axes[1].legend()\n",
    "sns.distplot(X_samples, bins=25, ax=axes[2])"
   ]
  },
  {
   "cell_type": "markdown",
   "metadata": {
    "id": "7IM9SzESA38s"
   },
   "source": [
    "The seaborn statistical graphics library provides a convenient function for plotting\n",
    "both a histogram and the kernel-density estimation for a set of data: distplot. A graph\n",
    "produced by this function is shown in the right panel of the figure above.\n",
    "\n",
    "Given kernel-density estimate, we can also use it to generate new random numbers using the resample method, which takes the number of data points as arguments:"
   ]
  },
  {
   "cell_type": "code",
   "execution_count": null,
   "metadata": {
    "colab": {
     "base_uri": "https://localhost:8080/"
    },
    "id": "5zoE5mUwA_OI",
    "outputId": "04a2d5db-eb37-4984-8aa3-8fa74ea058dc"
   },
   "outputs": [
    {
     "data": {
      "text/plain": [
       "array([[ 3.6090197 , 11.87587733,  4.09872936,  3.93367256,  6.86332365,\n",
       "         4.46691146,  5.23317677,  8.86557566, 12.1158836 ,  5.82811648]])"
      ]
     },
     "execution_count": 22,
     "metadata": {
      "tags": []
     },
     "output_type": "execute_result"
    }
   ],
   "source": [
    "kde.resample(10)"
   ]
  },
  {
   "cell_type": "markdown",
   "metadata": {
    "id": "G_Lmul23BBeM"
   },
   "source": [
    "The kernel-density estimate object does not directly contain methods for computing the cumulative distribution functions (CDF) and its inverse, the percent-point function (PPF). But there are several methods for integrating the kernel-density estimate of the probability distribution function. For example, for a one-dimensional KDE, we can use the ``integrate_box_1d`` to obtain the corresponding CDF:"
   ]
  },
  {
   "cell_type": "code",
   "execution_count": null,
   "metadata": {
    "id": "CpdWWaWJBLL3"
   },
   "outputs": [],
   "source": [
    "def _kde_cdf(x):\n",
    "  return kde.integrate_box_1d(-np.inf, x)\n",
    "\n",
    "kde_cdf = np.vectorize(_kde_cdf)"
   ]
  },
  {
   "cell_type": "markdown",
   "metadata": {
    "id": "SfOR8JsSBQKv"
   },
   "source": [
    "and can use the SciPy ``optimize.fsolve`` function to find the inverse (the PPF):"
   ]
  },
  {
   "cell_type": "code",
   "execution_count": null,
   "metadata": {
    "id": "4H2Txx97BTWw"
   },
   "outputs": [],
   "source": [
    "def _kde_ppf(q):\n",
    "  return optimize.fsolve(lambda x, \n",
    "                         q: kde_cdf(x) - q, \n",
    "                         kde.dataset.mean(), \n",
    "                         args=(q,))[0]\n",
    "\n",
    "kde_ppf = np.vectorize(_kde_ppf)"
   ]
  },
  {
   "cell_type": "markdown",
   "metadata": {
    "id": "lR-F0q0gBdXK"
   },
   "source": [
    "With the CDF and PPF for the kernel-density estimate, we can, for example, perform\n",
    "statistical hypothesis testing and compute confidence intervals. For example, using the\n",
    "``kde_ppf`` function defined in the preceding section, we can compute an approximate 90%\n",
    "confidence interval for the mean of the population from which the sample was collected:"
   ]
  },
  {
   "cell_type": "code",
   "execution_count": null,
   "metadata": {
    "colab": {
     "base_uri": "https://localhost:8080/"
    },
    "id": "l2GhmkJ8BhqD",
    "outputId": "4fa15fd1-b157-4c75-9630-ab34f8b91f6b"
   },
   "outputs": [
    {
     "data": {
      "text/plain": [
       "array([ 0.51910841, 11.78298469])"
      ]
     },
     "execution_count": 26,
     "metadata": {
      "tags": []
     },
     "output_type": "execute_result"
    }
   ],
   "source": [
    "kde_ppf([0.05, 0.95])"
   ]
  },
  {
   "cell_type": "markdown",
   "metadata": {
    "id": "K4ICEcznBmEo"
   },
   "source": [
    "As illustrated with this example, once we have a KDE that represents the probability  distribution for a statistical problem, we can proceed with many of the same methods as\n",
    "we use in parametric statistics. The advantage of nonparametric methods is that we do\n",
    "not necessarily need to make assumptions about the shape of the distribution function.\n",
    "However, because nonparametric methods use less information (weaker assumptions) than parametric methods, their statistical power is lower. Therefore, if we can justify using a parametric method, then that is usually the best approach. Nonparametric methods offer a versatile generic approach that we can fall back on when parametric methods are not feasible."
   ]
  },
  {
   "cell_type": "markdown",
   "metadata": {
    "id": "mPYTTNb-OJyr"
   },
   "source": [
    "# Statistical modeling"
   ]
  },
  {
   "cell_type": "markdown",
   "metadata": {
    "id": "WmDm3H30laq5"
   },
   "source": [
    "Statistical modeling deals with creating models that attempt to explain data. A model can\n",
    "have one or several parameters, and we can use a fitting procedure to find the values of the\n",
    "parameter that best explains the observed data. Once a model has been fitted to data, it\n",
    "can be used to predict the values of new observations, given the values of the independent variables of the model. We can also perform statistical analysis on the data and the fitted model and try to answer questions such as if the model accurately explains the data,which factors in the model are more relevant (predictive) than others, and if there are parameters that do not contribute significantly to the predictive power of the model.\n",
    "\n",
    "In this chapter we mainly use the statsmodels library. It provides classes and\n",
    "functions for defining statistical models and fitting them to observed data, for calculating\n",
    "descriptive statistics, and for carrying out statistical tests. The statsmodels library has\n",
    "some overlap with the SciPy stats module that we covered in the previous chapter, but\n",
    "it is mostly an extension of what is available in SciPy1. In particular, the main focus of the\n",
    "statsmodels library is on fitting models to data rather than probability distributions and\n",
    "random variables, for which in many cases it relies on the SciPy stats.\n",
    "\n",
    "The statsmodels library is closely integrated with the Patsy library, which allows us to\n",
    "write statistical models as simple formulas. The Patsy library is one of the dependencies\n",
    "of the statsmodels library but can also be used with other statistical libraries as well,\n",
    "such as scikit-learn that will be discussed in Chapter 15. However, here we will introduce\n",
    "the Patsy library in the context of using it together with the statsmodels library.\n",
    "\n",
    "---\n",
    "The statsmodels library provides a rich set of functionality related to statistical tests and statistical modeling, including linear regression, logistic regression, and time-series analysis. For more information about the project and its documentation, see the project’s web page at http://statsmodels.\n",
    "\n",
    "---\n",
    "\n",
    "The patsy library provides features for defining statistical models with a simple formula language inspired by statistical software such as R. The patsy library is designed to be a companion library for statistical modeling packages, such as statsmodels. For more information about the project and its documentation, see the web page at http://patsy.readthedocs.org.\n"
   ]
  },
  {
   "cell_type": "markdown",
   "metadata": {
    "id": "hyeEsWzdmMi8"
   },
   "source": [
    "Importing modules"
   ]
  },
  {
   "cell_type": "code",
   "execution_count": 2,
   "metadata": {
    "colab": {
     "base_uri": "https://localhost:8080/"
    },
    "id": "yrRZjOsmmM7W",
    "outputId": "92e9f0bc-d3c7-40fd-b9fc-5898751f295d"
   },
   "outputs": [
    {
     "name": "stderr",
     "output_type": "stream",
     "text": [
      "/usr/local/lib/python3.6/dist-packages/statsmodels/tools/_testing.py:19: FutureWarning: pandas.util.testing is deprecated. Use the functions in the public API at pandas.testing instead.\n",
      "  import pandas.util.testing as tm\n"
     ]
    }
   ],
   "source": [
    "import statsmodels.api as sm\n",
    "import statsmodels.formula.api as smf\n",
    "import statsmodels.graphics.api as smg\n",
    "\n",
    "# Since the statsmodels library internally uses the Patsy library, it is normally not\n",
    "# necessary to access this library’s functions directly. However, here we directly use Patsy\n",
    "# for demonstration purposes, and we therefore need to import the library explicitly:\n",
    "import patsy\n",
    "\n",
    "import matplotlib.pyplot as plt\n",
    "import numpy as np\n",
    "import pandas as pd\n",
    "from scipy import stats"
   ]
  },
  {
   "cell_type": "markdown",
   "metadata": {
    "id": "4Fv3T06xmn2d"
   },
   "source": [
    "## Introduction to Statistical Modeling\n",
    "\n",
    "In this chapter we consider the following type of problem: For a set of response\n",
    "(dependent) variables $Y$ and explanatory (independent) variables $X$, we wish to find\n",
    "a mathematical relationship (model) between $Y$ and $X$. In general, we can write a\n",
    "mathematical model as a function $Y = f (X)$. Knowing the function $f (X)$ would allow us to\n",
    "compute the value of $Y$ for any of values $X$. If we do not know the function $f (X)$, but we\n",
    "have access to data for observations ${y_i, x_i}$, we can parameterize the function $f (X)$ and\n",
    "fit the values of the parameters to the data. An example of a parameterization of $f (X)$ is\n",
    "the linear model $f (X) = \\beta_0 + \\beta_1X$, where the coefficients $\\beta_0$  and $\\beta_0 $ are the parameters of the model. Typically we have many more data points than the number of free parameters in the model. In such cases we can, for example, use a least square fit that minimizes the norm of the residual $r = Y − f (X)$, although other minimization objective functions can also be used, for example, depending on the statistical properties of the residual $r$. So far we have described a mathematical model. The essential component that makes a model statistical is that the data ${y_i, x_i}$ has an element of uncertainty, for example, due to measurement noise or other uncontrolled circumstances. The uncertainty in the data can be described in the model as random variables: For example, $Y = f (X)+\\varepsilon $, where $\\varepsilon $ is a random variable. This is a statistical model because it includes random variables.\n",
    "Depending on how the random variables appear in the model and what distributions the random variables follow, we obtain different types of statistical models, which each may require different approaches to analyze and solve.\n",
    "\n",
    "A typical situation where a statistical model can be used is to describe the observations $y_i$ in an experiment, where $x_i$ is a vector with control knobs that are recorded together with each observation. An element in $x_i$ may or may not be relevant for predicting the observed outcome $y_i$, and an important aspect of statistical modeling is to determine which explanatory variables are relevant. It is of course also possible that there are relevant factors that are not included in the set of explanatory variables $xi$, but which influence the outcome of the observation $y_i$. In this case, it might not be possible to accurately explain the data with the model. Determining if a model accurately explains the data is another essential aspect of statistical modeling.\n",
    "\n",
    "A widely used statistical model is $Y = \\beta_0 + \\beta_1X + \\varepsilon$, where $\\beta_0$ and $\\beta_1$ are model parameters and $\\varepsilon$ is normally distributed with zero mean and variance $\\sigma^2: \\varepsilon \\sim  N(0, \\sigma^2)$. This model is known as simple linear regression if $X$ is a scalar, multiple linear regression if $X$ is a vector, and multivariate linear regression if $Y$ is a vector. Because the residual $\\varepsilon$ is normally distributed, for all these cases, the model can be fitted to data using ordinary least squares (OLS). Relaxing the condition that the elements in $Y$, in the case of\n",
    "multivariate linear regression, must be independent and normally distributed with equal\n",
    "variance gives rise to variations of the model that can be solved with methods known as\n",
    "generalized least squares (GLS) and weighted least squares (WLS). All methods for solving\n",
    "statistical models typically have a set of assumptions that one has to be mindful of when\n",
    "applying the models. For standard linear regression, the most important assumption is\n",
    "that the residuals are independent and normally distributed.\n",
    "\n",
    "The generalized linear model is an extension of the linear regression model that allows the errors in the response variable to have distributions other than the normal distribution. In particular, the response variable is assumed to be a function of a\n",
    "linear predictor and where the variance of the response variable can be a function of the variable’s value. This provides a broad generalization of the linear model that is\n",
    "applicable in many situations. For example, this enables modeling important types of\n",
    "problems where the response variable takes discrete values, such as binary outcomes of\n",
    "count values. The errors in the response variables of such models may follow different\n",
    "statistical distributions (e.g., the binomial and/or the Poisson distribution). Examples\n",
    "of these types of models include logistic regression for binary outcomes and Poisson\n",
    "regression for positive integer outcomes."
   ]
  },
  {
   "cell_type": "markdown",
   "metadata": {
    "id": "nGxudMEyOZyU"
   },
   "source": [
    "## Linear regression"
   ]
  },
  {
   "cell_type": "markdown",
   "metadata": {
    "id": "0hWxC4jZqDb9"
   },
   "source": [
    "The statsmodels library supports several types of statistical models that are applicable\n",
    "in varying situations, but nearly all follow the same usage pattern, which makes it easy\n",
    "to switch between different models. Statistical models in statsmodels are represented\n",
    "by model classes. These can be initiated given the design matrices for the response and\n",
    "explanatory variables of a linear model or given a Patsy formula and a data frame (or\n",
    "another dictionary-like object). The basic workflow when setting up and analyzing a\n",
    "statistical model with statsmodels includes the following steps:\n",
    "1. Create an instance of a model class, for example, using ``model = sm.MODEL(y, X)`` or ``model = smf.model(formula, data)``, where\n",
    "``MODEL`` and ``model`` are the name of a particular model, such as OLS, GLS, Logit, etc. Here the convention is that uppercase names\n",
    "are used for classes that take design matrices as arguments and lowercase names for classes that take Patsy formulas and data frames as arguments.\n",
    "2. Creating a model instance does not perform any computations. To fit the model to the data, we must invoke the fit method, ``result = model.fit()``, which performs the fit and returns a result object that has methods and attributes for further analysis.\n",
    "3. Print summary statistics for the result object returned by the fit method. The result object varies in content slightly for each\n",
    "statistical model, but most models implement the method ``summary``, which produces a summary text that describes the result\n",
    "of the fit, including several types of statistics that can be useful for judging if the statistical model successfully explains the data. Viewing the output from the summary method is usually a good starting point when analyzing the result of a fitting process.\n",
    "4. Post-process the model fit results: in addition to the summary method, the result object also contains methods and attributes\n",
    "for obtaining the fitted parameters (``params``), the residual for the model and the data (``resid``), the fitted values (``fittedvalues``), and a\n",
    "method for predicting the value of the response variables for new`independent variables (``predict``).\n",
    "5. Finally, it may be useful to visualize the result of the fitting, for example, with the Matplotlib and Seaborn graphics libraries,\n",
    "of using some of the many graphing routines that are directly included in the statsmodels library (see the ``statsmodels.graphics module``).\n",
    "\n",
    "To demonstrate this workflow with a simple example, in the following we consider\n",
    "fitting a model to generate data whose true value is $y = 1 + 2x_1 + 3x_2 + 4x_1x_2$. We begin with storing the data in a Pandas data frame object:"
   ]
  },
  {
   "cell_type": "code",
   "execution_count": null,
   "metadata": {
    "id": "yoCJFjlPq2tT"
   },
   "outputs": [],
   "source": [
    "N = 100\n",
    "x1 = np.random.randn(N)\n",
    "x2 = np.random.randn(N)\n",
    "data = pd.DataFrame({\"x1\": x1, \"x2\": x2})\n",
    "def y_true(x1, x2):\n",
    "  return 1 + 2 * x1 + 3 * x2 + 4 * x1 * x2\n",
    "data[\"y_true\"] = y_true(x1, x2)"
   ]
  },
  {
   "cell_type": "markdown",
   "metadata": {
    "id": "nlxKDgM9rI7g"
   },
   "source": [
    "Here we have stored the true value of $y$ in the ``y_true`` column in the DataFrame object\n",
    "data. We simulate a noisy observation of $y$ by adding a normal distributed noise to the true values and store the result in the $y$ column:"
   ]
  },
  {
   "cell_type": "code",
   "execution_count": null,
   "metadata": {
    "id": "sdgZpfGVrR-B"
   },
   "outputs": [],
   "source": [
    "e = 0.5 * np.random.randn(N)\n",
    "data[\"y\"] = data[\"y_true\"] + e"
   ]
  },
  {
   "cell_type": "markdown",
   "metadata": {
    "id": "srK0qP1UrVz8"
   },
   "source": [
    "Now, from the data we know that we have two explanatory variables, $x1$ and $x2$, in\n",
    "addition to the response variable $y$. The simplest possible model we can start with is the\n",
    "linear model $Y = \\beta_0 + \\beta_1x1 + \\beta_2x2$, which we can define with the Patsy formula ``y ~ x1 + x2``.\n",
    "Since the response variable is continuous, it is a good starting point to fit the model to\n",
    "the data using ordinary linear squares, for which we can use the ``smf.ols`` class."
   ]
  },
  {
   "cell_type": "code",
   "execution_count": null,
   "metadata": {
    "id": "Z_5MtVwwrlaW"
   },
   "outputs": [],
   "source": [
    "model = smf.ols(\"y ~ x1 + x2\", data)\n",
    "result = model.fit()"
   ]
  },
  {
   "cell_type": "markdown",
   "metadata": {
    "id": "B8xCA6v7roQ5"
   },
   "source": [
    "Remember that ordinary least square regression assumes that the residuals of the fitted model and the data are normally distributed. However, before analyzing the data, we might not know if this condition is satisfied or not. Nonetheless, we can start by fitting the data to the model and investigate the distribution of the residual using graphical methods and statistical tests (with the null hypothesis that the residuals are indeed normally distributed). A lot of useful information, including several types of test statistics, can be displayed using the summary method:"
   ]
  },
  {
   "cell_type": "code",
   "execution_count": null,
   "metadata": {
    "colab": {
     "base_uri": "https://localhost:8080/"
    },
    "id": "6Q1e4h2VrvaM",
    "outputId": "07639473-a61c-4860-9338-e1daf77617bb"
   },
   "outputs": [
    {
     "name": "stdout",
     "output_type": "stream",
     "text": [
      "                            OLS Regression Results                            \n",
      "==============================================================================\n",
      "Dep. Variable:                      y   R-squared:                       0.511\n",
      "Model:                            OLS   Adj. R-squared:                  0.501\n",
      "Method:                 Least Squares   F-statistic:                     50.62\n",
      "Date:                Sun, 27 Dec 2020   Prob (F-statistic):           8.80e-16\n",
      "Time:                        14:51:40   Log-Likelihood:                -278.26\n",
      "No. Observations:                 100   AIC:                             562.5\n",
      "Df Residuals:                      97   BIC:                             570.3\n",
      "Df Model:                           2                                         \n",
      "Covariance Type:            nonrobust                                         \n",
      "==============================================================================\n",
      "                 coef    std err          t      P>|t|      [0.025      0.975]\n",
      "------------------------------------------------------------------------------\n",
      "Intercept      0.8651      0.400      2.160      0.033       0.070       1.660\n",
      "x1             2.4320      0.419      5.807      0.000       1.601       3.263\n",
      "x2             3.2002      0.381      8.409      0.000       2.445       3.956\n",
      "==============================================================================\n",
      "Omnibus:                       13.602   Durbin-Watson:                   1.774\n",
      "Prob(Omnibus):                  0.001   Jarque-Bera (JB):               32.603\n",
      "Skew:                          -0.389   Prob(JB):                     8.32e-08\n",
      "Kurtosis:                       5.687   Cond. No.                         1.18\n",
      "==============================================================================\n",
      "\n",
      "Warnings:\n",
      "[1] Standard Errors assume that the covariance matrix of the errors is correctly specified.\n"
     ]
    }
   ],
   "source": [
    "print(result.summary())"
   ]
  },
  {
   "cell_type": "markdown",
   "metadata": {
    "id": "fcdpw0-Fr0KP"
   },
   "source": [
    "The output produced by the summary method is rather verbose, and a detailed description of all the information provided by this method is beyond the scope of this treatment. Instead, here we only focus on a few key indicators. To begin with, the R-squared value is a statistic that indicates how well the model fits the data. It can take values between 0 and 1, where an R-squared statistic of 1 corresponds to a perfect fit. The R-squared value of 0.511 reported in the preceding summary method is rather poor, and it indicates that we need to refine our model (which is expected, since we left out the interaction term $x1 ∙ x2$). We can also explicitly access the R-squared statistic from the result object using the rsquared attribute."
   ]
  },
  {
   "cell_type": "code",
   "execution_count": null,
   "metadata": {
    "colab": {
     "base_uri": "https://localhost:8080/"
    },
    "id": "thd3UX7gsECo",
    "outputId": "efe595cf-6a3c-4d42-eb0c-1e40dfc44a8a"
   },
   "outputs": [
    {
     "data": {
      "text/plain": [
       "0.5107004351960968"
      ]
     },
     "execution_count": 7,
     "metadata": {
      "tags": []
     },
     "output_type": "execute_result"
    }
   ],
   "source": [
    "result.rsquared"
   ]
  },
  {
   "cell_type": "markdown",
   "metadata": {
    "id": "ydPSmBfLsGlL"
   },
   "source": [
    "Furthermore, the ``coef`` column in the middle of the table provides the fitted model\n",
    "parameters. Assuming that the residuals indeed are normally distributed, the std err\n",
    "column provides an estimate of the standard errors for the model coefficients, and the ``t``\n",
    "and ``P>|t|`` columns are the t-statistics and the corresponding p-value for the statistical\n",
    "test with the null hypothesis that the corresponding coefficient is zero. Therefore, while keeping in mind that this analysis assumes that the residuals are normally distributed, we can look for the columns with small p-values and judge which explanatory variables have coefficients that are very likely to be different from zero (meaning that they have a significant predictive power).\n",
    "\n",
    "To investigate whether the assumption of normal distributed errors is justified, we\n",
    "need to look at the residuals of the model fit to the data. The residuals are accessible via\n",
    "the resid attribute of the result object:"
   ]
  },
  {
   "cell_type": "code",
   "execution_count": null,
   "metadata": {
    "colab": {
     "base_uri": "https://localhost:8080/"
    },
    "id": "osfPZJ5gsVFK",
    "outputId": "4fa92554-b162-47de-ef44-70651e6cfdf4"
   },
   "outputs": [
    {
     "data": {
      "text/plain": [
       "0    0.634619\n",
       "1    1.343747\n",
       "2    1.419477\n",
       "3    0.824689\n",
       "4   -1.394975\n",
       "dtype: float64"
      ]
     },
     "execution_count": 8,
     "metadata": {
      "tags": []
     },
     "output_type": "execute_result"
    }
   ],
   "source": [
    "result.resid.head()"
   ]
  },
  {
   "cell_type": "markdown",
   "metadata": {
    "id": "8e23008-sXdE"
   },
   "source": [
    "Using these residuals, we can check for normality using the normaltest function\n",
    "from the SciPy stats module:"
   ]
  },
  {
   "cell_type": "code",
   "execution_count": null,
   "metadata": {
    "colab": {
     "base_uri": "https://localhost:8080/"
    },
    "id": "nZyQJSINsZ_P",
    "outputId": "460eb06d-bc4e-4d9e-db0d-716fdcb340dd"
   },
   "outputs": [
    {
     "data": {
      "text/plain": [
       "0.4820699568189384"
      ]
     },
     "execution_count": 9,
     "metadata": {
      "tags": []
     },
     "output_type": "execute_result"
    }
   ],
   "source": [
    "z, p = stats.normaltest(result.fittedvalues.values)\n",
    "p"
   ]
  },
  {
   "cell_type": "markdown",
   "metadata": {
    "id": "vDQz8rOTse0u"
   },
   "source": [
    "For this example the resulting p-value is indeed very small, suggesting that we\n",
    "can reject the null hypothesis that the residuals are normally distributed (i.e., we can\n",
    "conclude that the assumption of normal distributed residuals is violated). A graphical\n",
    "method to check for normality of a sample is to use the ``qqplot`` from the ``statsmodels.\n",
    "graphics`` module. The QQ-plot, which compares the sample quantiles with the theoretical quantiles, should be close to a straight line if the sampled values are indeed normally distributed. The following function call to ``smg.qqplot`` produces the QQ-plot shown in the next figure:"
   ]
  },
  {
   "cell_type": "code",
   "execution_count": null,
   "metadata": {
    "colab": {
     "base_uri": "https://localhost:8080/",
     "height": 297
    },
    "id": "u2nfvobyswT5",
    "outputId": "69ecb0ca-d96e-4412-bd55-cc85b9dcb590"
   },
   "outputs": [
    {
     "data": {
      "image/png": "[encoded data removed]",
      "text/plain": [
       "<Figure size 576x288 with 1 Axes>"
      ]
     },
     "metadata": {
      "needs_background": "light",
      "tags": []
     },
     "output_type": "display_data"
    }
   ],
   "source": [
    "fig, ax = plt.subplots(figsize=(8, 4))\n",
    "smg.qqplot(result.resid, ax=ax)\n",
    "\n",
    "fig.tight_layout()\n",
    "# QQ-plot of a linear model with two explanatory variables without\n",
    "# any interaction term\n",
    "#fig.savefig(\"ch14-qqplot-model-1.pdf\")"
   ]
  },
  {
   "cell_type": "markdown",
   "metadata": {
    "id": "mXuLY36As38n"
   },
   "source": [
    "As can be seen in the figure, the points in the QQ-plot significantly deviate from a linear relation, suggesting that the observed residuals are unlikely to be a sample of a\n",
    "normal distributed random variable. In summary, these indicators provide evidence that\n",
    "the model that we used is not sufficient and that we might need to refine the model. We\n",
    "can include the missing interaction term by adding it to the Patsy formula and repeat the\n",
    "steps from the previous analysis:"
   ]
  },
  {
   "cell_type": "code",
   "execution_count": null,
   "metadata": {
    "colab": {
     "base_uri": "https://localhost:8080/"
    },
    "id": "Rv0FwVR9s_PV",
    "outputId": "3177eedf-5163-4554-a314-1efdea220894"
   },
   "outputs": [
    {
     "name": "stdout",
     "output_type": "stream",
     "text": [
      "                            OLS Regression Results                            \n",
      "==============================================================================\n",
      "Dep. Variable:                      y   R-squared:                       0.993\n",
      "Model:                            OLS   Adj. R-squared:                  0.993\n",
      "Method:                 Least Squares   F-statistic:                     4839.\n",
      "Date:                Sun, 27 Dec 2020   Prob (F-statistic):          1.37e-104\n",
      "Time:                        14:57:12   Log-Likelihood:                -62.731\n",
      "No. Observations:                 100   AIC:                             133.5\n",
      "Df Residuals:                      96   BIC:                             143.9\n",
      "Df Model:                           3                                         \n",
      "Covariance Type:            nonrobust                                         \n",
      "==============================================================================\n",
      "                 coef    std err          t      P>|t|      [0.025      0.975]\n",
      "------------------------------------------------------------------------------\n",
      "Intercept      1.0157      0.047     21.762      0.000       0.923       1.108\n",
      "x1             2.0103      0.049     40.997      0.000       1.913       2.108\n",
      "x2             3.0439      0.044     68.608      0.000       2.956       3.132\n",
      "x1:x2          4.0490      0.048     83.992      0.000       3.953       4.145\n",
      "==============================================================================\n",
      "Omnibus:                        0.206   Durbin-Watson:                   2.007\n",
      "Prob(Omnibus):                  0.902   Jarque-Bera (JB):                0.016\n",
      "Skew:                           0.000   Prob(JB):                        0.992\n",
      "Kurtosis:                       3.062   Cond. No.                         1.23\n",
      "==============================================================================\n",
      "\n",
      "Warnings:\n",
      "[1] Standard Errors assume that the covariance matrix of the errors is correctly specified.\n"
     ]
    }
   ],
   "source": [
    "model = smf.ols(\"y ~ x1 + x2 + x1*x2\", data)\n",
    "result = model.fit()\n",
    "print(result.summary())"
   ]
  },
  {
   "cell_type": "markdown",
   "metadata": {
    "id": "CIYRZZS-tETO"
   },
   "source": [
    "In this case we can see that the R-squared statistic is significantly higher, 0.993,\n",
    "indicating a nearly perfect correspondence between the model and the data. "
   ]
  },
  {
   "cell_type": "code",
   "execution_count": null,
   "metadata": {
    "colab": {
     "base_uri": "https://localhost:8080/"
    },
    "id": "uq7RWFn6tEph",
    "outputId": "e50de2c1-d6f1-4afb-8e84-0c0bdad83f6d"
   },
   "outputs": [
    {
     "data": {
      "text/plain": [
       "0.9934309132634487"
      ]
     },
     "execution_count": 12,
     "metadata": {
      "tags": []
     },
     "output_type": "execute_result"
    }
   ],
   "source": [
    "result.rsquared"
   ]
  },
  {
   "cell_type": "markdown",
   "metadata": {
    "id": "ArX-Xzi5tLSj"
   },
   "source": [
    "Note that we can always increase the R-squared statistic by introducing more variables, but we want to make sure that we do not add variables with low predictive power (small coefficient and high corresponding p-value), since it would make the model susceptible to overfitting, and as usual we require that the residuals be normally distributed. Repeating the normality test and the QQ-plot from the previous analysis\n",
    "with the updated model results in a relatively high p-value (0.081) and a relatively linear\n",
    "QQ-plot (see next figure). This suggests that in this case the residuals could very well be\n",
    "normally distributed (as we know they are, by design, in this example)."
   ]
  },
  {
   "cell_type": "code",
   "execution_count": null,
   "metadata": {
    "colab": {
     "base_uri": "https://localhost:8080/"
    },
    "id": "HOIg43txtUbW",
    "outputId": "5dd84388-f9f0-4d92-bdba-af8fd7fcce92"
   },
   "outputs": [
    {
     "data": {
      "text/plain": [
       "3.820070656771404e-05"
      ]
     },
     "execution_count": 13,
     "metadata": {
      "tags": []
     },
     "output_type": "execute_result"
    }
   ],
   "source": [
    "z, p = stats.normaltest(result.fittedvalues.values)\n",
    "p"
   ]
  },
  {
   "cell_type": "code",
   "execution_count": null,
   "metadata": {
    "colab": {
     "base_uri": "https://localhost:8080/",
     "height": 297
    },
    "id": "3N-jU309tXu4",
    "outputId": "2972dd6d-2514-4825-85ff-f2877a357f90"
   },
   "outputs": [
    {
     "data": {
      "image/png": "[encoded data removed]",
      "text/plain": [
       "<Figure size 576x288 with 1 Axes>"
      ]
     },
     "metadata": {
      "needs_background": "light",
      "tags": []
     },
     "output_type": "display_data"
    }
   ],
   "source": [
    "fig, ax = plt.subplots(figsize=(8, 4))\n",
    "smg.qqplot(result.resid, ax=ax)\n",
    "\n",
    "fig.tight_layout()\n",
    "# QQ-plot of a linear model with two explanatory variables with an\n",
    "# interaction term\n",
    "#fig.savefig(\"ch14-qqplot-model-2.pdf\")"
   ]
  },
  {
   "cell_type": "markdown",
   "metadata": {
    "id": "HEF5IcEgtisT"
   },
   "source": [
    "Once we are satisfied with the fit of the model, we can extract the model coefficients\n",
    "from the result object using the params attribute."
   ]
  },
  {
   "cell_type": "code",
   "execution_count": null,
   "metadata": {
    "colab": {
     "base_uri": "https://localhost:8080/"
    },
    "id": "D_rN53zftk84",
    "outputId": "7dc7ee26-2727-4ed6-ed49-4f89a45a74fb"
   },
   "outputs": [
    {
     "data": {
      "text/plain": [
       "Intercept    1.015714\n",
       "x1           2.010336\n",
       "x2           3.043880\n",
       "x1:x2        4.048962\n",
       "dtype: float64"
      ]
     },
     "execution_count": 17,
     "metadata": {
      "tags": []
     },
     "output_type": "execute_result"
    }
   ],
   "source": [
    "result.params"
   ]
  },
  {
   "cell_type": "markdown",
   "metadata": {
    "id": "jjti2uZ5toK5"
   },
   "source": [
    "Also, we can predict the values of new observations using the predict method,\n",
    "which takes as argument a NumPy array or DataFrame object with values of the\n",
    "independent variables ($x_1$ and $x_2$ in this case). For example, since the current problem\n",
    "has only two independent variables, we can visualize the predictions of the model as a\n",
    "contour plot. To this end, we first construct a DataFrame object with the $x_1$ and $x_2$values\n",
    "for which we want to predict the y-value using the fitted model."
   ]
  },
  {
   "cell_type": "code",
   "execution_count": null,
   "metadata": {
    "id": "nSCXpE9Utn9k"
   },
   "outputs": [],
   "source": [
    "x = np.linspace(-1, 1, 50)\n",
    "X1, X2 = np.meshgrid(x, x)\n",
    "new_data = pd.DataFrame({\"x1\": X1.ravel(), \"x2\": X2.ravel()})"
   ]
  },
  {
   "cell_type": "markdown",
   "metadata": {
    "id": "rt91Lcwrt4xP"
   },
   "source": [
    "Using the ``predict`` method of the result object obtained from the fitting of the\n",
    "model, we can compute the predicted y values for the new set of values of the response\n",
    "variables."
   ]
  },
  {
   "cell_type": "code",
   "execution_count": null,
   "metadata": {
    "id": "RpLWZD73t80A"
   },
   "outputs": [],
   "source": [
    "y_pred = result.predict(new_data)"
   ]
  },
  {
   "cell_type": "markdown",
   "metadata": {
    "id": "sW7ZyMppt_O4"
   },
   "source": [
    "The result is a NumPy array (vector) with the same length as the data vectors ``X1.ravel()`` and ``X2.ravel()``. To be able to plot the data using the Matplotlib contour`function, we first resize the ``y_pred`` vector to a square matrix."
   ]
  },
  {
   "cell_type": "code",
   "execution_count": null,
   "metadata": {
    "id": "tW5_ncxRuGfk"
   },
   "outputs": [],
   "source": [
    "y_pred.shape\n",
    "y_pred = y_pred.values.reshape(50, 50)"
   ]
  },
  {
   "cell_type": "markdown",
   "metadata": {
    "id": "l9vStcksuJcW"
   },
   "source": [
    "The contour graphs of the true model and the fitted model are shown in the next figure, which demonstrate that the agreement of the model fitted to the 100 noisy observations\n",
    "of $y$ is sufficient to reproduce the function rather accurately in this example."
   ]
  },
  {
   "cell_type": "code",
   "execution_count": null,
   "metadata": {
    "colab": {
     "base_uri": "https://localhost:8080/",
     "height": 356
    },
    "id": "S1_-qm7nuTCo",
    "outputId": "8558f0b1-d968-435e-fbe3-4e60a695a9dd"
   },
   "outputs": [
    {
     "data": {
      "image/png": "[encoded data removed]",
      "text/plain": [
       "<Figure size 864x360 with 4 Axes>"
      ]
     },
     "metadata": {
      "needs_background": "light",
      "tags": []
     },
     "output_type": "display_data"
    }
   ],
   "source": [
    "fig, axes = plt.subplots(1, 2, figsize=(12, 5), sharey=True)\n",
    "\n",
    "def plot_y_contour(ax, Y, title):\n",
    "    c = ax.contourf(X1, X2, Y, 15, cmap=plt.cm.RdBu)\n",
    "    ax.set_xlabel(r\"$x_1$\", fontsize=20)\n",
    "    ax.set_ylabel(r\"$x_2$\", fontsize=20)\n",
    "    ax.set_title(title)\n",
    "    cb = fig.colorbar(c, ax=ax)\n",
    "    cb.set_label(r\"$y$\", fontsize=20)\n",
    "\n",
    "plot_y_contour(axes[0], y_true(X1, X2), \"true relation\")\n",
    "plot_y_contour(axes[1], y_pred, \"fitted model\")\n",
    "\n",
    "fig.tight_layout()\n",
    "#fig.savefig(\"ch14-comparison-model-true.pdf\")"
   ]
  },
  {
   "cell_type": "markdown",
   "metadata": {
    "id": "hQt5MVhAuYg6"
   },
   "source": [
    "In the example we have looked at here, we used the ordinary least square (``ols``)\n",
    "method to fit the model to the data. Several other options are also available, such as\n",
    "the robust linear model (``rlm``) that is suitable if there are significant outliers in the observations, and variants of the generalized linear model that is suitable, for example, if the response variable can take only discrete values. This is the topic of the following section."
   ]
  },
  {
   "cell_type": "markdown",
   "metadata": {
    "id": "zhJdllbbOZ9F"
   },
   "source": [
    "## Discrete regression"
   ]
  },
  {
   "cell_type": "markdown",
   "metadata": {
    "id": "FMbAU23u6Pky"
   },
   "source": [
    "Regression with discrete dependent variables (e.g., binary outcomes) requires different techniques than the linear regression model that we have seen so far. The reason is that linear regression requires that the response variable is a normally distributed continuous variable, which cannot be used directly for a response variable that has only a few\n",
    "discrete possible outcomes, such as binary variables or variables taking positive integer values. However, using a suitable transformation, it is possible to map a linear predictor to an interval that can be interpreted as a probability of different discrete outcomes. For example, in the case of binary outcomes, one popular transformation is the logistic function $log(p/(1 − p)) = \\beta_0 + \\beta ∙ x$, or $p = (1 + exp (−\\beta_0 − \\beta_1 ∙ x))−1 $\n",
    ", which maps $x \t\\in [−∞,∞]$ to $p \\in [0,1]$. In other words, the continuous or discrete feature vector x is mapped via\n",
    "the model parameters $\\beta_0$ and $\\beta_1$ and the logistic transformation onto a probability p. If $p < 0.5$, it can be taken to predict that $y = 0$, and $p \\geq 0.5$ can be taken to predict $y = 1$. This\n",
    "procedure, which is known as logistic regression, is an example of a binary classifier. \n",
    "\n",
    "The statsmodels library provides several methods for discrete regression, including\n",
    "the Logit class, the related Probit class (which uses a cumulative distribution function of the normal distribution rather than the logistic function to transform the linear predictor to the $[0, 1]$ interval), the multinomial logistic regression class MNLogit (for more than two categories), and the Poisson regression class Poisson for Poisson distributed count variables (positive integers)."
   ]
  },
  {
   "cell_type": "markdown",
   "metadata": {
    "id": "LniED2X_7dFq"
   },
   "source": [
    "## Logistic Regression"
   ]
  },
  {
   "cell_type": "markdown",
   "metadata": {
    "id": "Mf2D1Zqw7dX2"
   },
   "source": [
    "As an example of how to perform a logistic regression with statsmodels, we first load a\n",
    "classic dataset using the ``sm.datasets.get_rdataset`` function, which contains sepal\n",
    "and petal lengths and widths for a sample of Iris flowers, together with a classification of the species of the flower. Here we will select a subset of the dataset corresponding to two different species and create a logistic model for predicting the type of species from\n",
    "the values of the petal length and width. The info method gives a summary of which\n",
    "variables contained in the dataset:"
   ]
  },
  {
   "cell_type": "code",
   "execution_count": 3,
   "metadata": {
    "colab": {
     "base_uri": "https://localhost:8080/"
    },
    "id": "3HHFQmsF7nvd",
    "outputId": "c4b34c7c-0350-48be-c4cd-840fbc743764"
   },
   "outputs": [
    {
     "name": "stdout",
     "output_type": "stream",
     "text": [
      "<class 'pandas.core.frame.DataFrame'>\n",
      "RangeIndex: 150 entries, 0 to 149\n",
      "Data columns (total 5 columns):\n",
      " #   Column        Non-Null Count  Dtype  \n",
      "---  ------        --------------  -----  \n",
      " 0   Sepal.Length  150 non-null    float64\n",
      " 1   Sepal.Width   150 non-null    float64\n",
      " 2   Petal.Length  150 non-null    float64\n",
      " 3   Petal.Width   150 non-null    float64\n",
      " 4   Species       150 non-null    object \n",
      "dtypes: float64(4), object(1)\n",
      "memory usage: 6.0+ KB\n"
     ]
    }
   ],
   "source": [
    "df = sm.datasets.get_rdataset(\"iris\").data\n",
    "df.info()"
   ]
  },
  {
   "cell_type": "markdown",
   "metadata": {
    "id": "Zx0VXHpG71XB"
   },
   "source": [
    "To see how many unique types of species are present in the Species column, we can\n",
    "use the unique method for the Pandas series that is returned when extracting the column\n",
    "from the data frame object:"
   ]
  },
  {
   "cell_type": "code",
   "execution_count": 4,
   "metadata": {
    "colab": {
     "base_uri": "https://localhost:8080/"
    },
    "id": "KIcW-_Qw73yk",
    "outputId": "1135ff55-62d0-4f53-f149-fde9d6526a89"
   },
   "outputs": [
    {
     "data": {
      "text/plain": [
       "array(['setosa', 'versicolor', 'virginica'], dtype=object)"
      ]
     },
     "execution_count": 4,
     "metadata": {
      "tags": []
     },
     "output_type": "execute_result"
    }
   ],
   "source": [
    "df.Species.unique()"
   ]
  },
  {
   "cell_type": "markdown",
   "metadata": {
    "id": "6FVJ5w8I76LN"
   },
   "source": [
    "This dataset contains three different types of species. To obtain a binary variable that\n",
    "we can use as the response variable in a logistic regression, here we focus only on the data for the two species versicolor and virginica. For convenience we create a new data frame, ``df_subset``, for the subset of the dataset corresponding to those species:\n"
   ]
  },
  {
   "cell_type": "code",
   "execution_count": 6,
   "metadata": {
    "id": "BXS7mjND7_Bn"
   },
   "outputs": [],
   "source": [
    "df_subset = df[df.Species.isin([\"versicolor\", \"virginica\"])].copy()"
   ]
  },
  {
   "cell_type": "markdown",
   "metadata": {
    "id": "ecq-k-Oa8DdT"
   },
   "source": [
    "To be able to use logistic regression to predict the species using the other variables as independent variables, we first need to create a binary variable that corresponds to the two different species. Using the map method of the Pandas series object, we can map the two species names into binary values 0 and 1."
   ]
  },
  {
   "cell_type": "code",
   "execution_count": 7,
   "metadata": {
    "id": "LQim6-Vs8HkY"
   },
   "outputs": [],
   "source": [
    "df_subset.Species = df_subset.Species.map({\"versicolor\": 1,\n",
    "                                           \"virginica\": 0})"
   ]
  },
  {
   "cell_type": "markdown",
   "metadata": {
    "id": "sM3Lh5cl8LuS"
   },
   "source": [
    "We also need to rename the columns with names that contain period characters to names that are valid symbol names in Python (e.g., by replacing the “.” characters\n",
    "with “_”), or else Patsy formulas that include these column names will be interpreted incorrectly. To rename the columns in a DataFrame object, we can use the rename method and pass a dictionary with name translations as the columns argument:"
   ]
  },
  {
   "cell_type": "code",
   "execution_count": 8,
   "metadata": {
    "id": "Zt6N4hQO8RID"
   },
   "outputs": [],
   "source": [
    "df_subset.rename(columns={\"Sepal.Length\": \"Sepal_Length\",\n",
    "                          \"Sepal.Width\": \"Sepal_Width\",\n",
    "                          \"Petal.Length\": \"Petal_Length\",\n",
    "                          \"Petal.Width\": \"Petal_Width\"},\n",
    "                 inplace=True)"
   ]
  },
  {
   "cell_type": "markdown",
   "metadata": {
    "id": "MmJzz0oK8Wvp"
   },
   "source": [
    "After these transformations we have a DataFrame instance that is suitable for use in a logistic regression analysis:"
   ]
  },
  {
   "cell_type": "code",
   "execution_count": 9,
   "metadata": {
    "colab": {
     "base_uri": "https://localhost:8080/",
     "height": 138
    },
    "id": "p9Qld7Md8Yuf",
    "outputId": "44abbaf2-9bc2-4790-ea52-90127350d5a5"
   },
   "outputs": [
    {
     "data": {
      "text/html": [
       "<div>\n",
       "<style scoped>\n",
       "    .dataframe tbody tr th:only-of-type {\n",
       "        vertical-align: middle;\n",
       "    }\n",
       "\n",
       "    .dataframe tbody tr th {\n",
       "        vertical-align: top;\n",
       "    }\n",
       "\n",
       "    .dataframe thead th {\n",
       "        text-align: right;\n",
       "    }\n",
       "</style>\n",
       "<table border=\"1\" class=\"dataframe\">\n",
       "  <thead>\n",
       "    <tr style=\"text-align: right;\">\n",
       "      <th></th>\n",
       "      <th>Sepal_Length</th>\n",
       "      <th>Sepal_Width</th>\n",
       "      <th>Petal_Length</th>\n",
       "      <th>Petal_Width</th>\n",
       "      <th>Species</th>\n",
       "    </tr>\n",
       "  </thead>\n",
       "  <tbody>\n",
       "    <tr>\n",
       "      <th>50</th>\n",
       "      <td>7.0</td>\n",
       "      <td>3.2</td>\n",
       "      <td>4.7</td>\n",
       "      <td>1.4</td>\n",
       "      <td>1</td>\n",
       "    </tr>\n",
       "    <tr>\n",
       "      <th>51</th>\n",
       "      <td>6.4</td>\n",
       "      <td>3.2</td>\n",
       "      <td>4.5</td>\n",
       "      <td>1.5</td>\n",
       "      <td>1</td>\n",
       "    </tr>\n",
       "    <tr>\n",
       "      <th>52</th>\n",
       "      <td>6.9</td>\n",
       "      <td>3.1</td>\n",
       "      <td>4.9</td>\n",
       "      <td>1.5</td>\n",
       "      <td>1</td>\n",
       "    </tr>\n",
       "  </tbody>\n",
       "</table>\n",
       "</div>"
      ],
      "text/plain": [
       "    Sepal_Length  Sepal_Width  Petal_Length  Petal_Width  Species\n",
       "50           7.0          3.2           4.7          1.4        1\n",
       "51           6.4          3.2           4.5          1.5        1\n",
       "52           6.9          3.1           4.9          1.5        1"
      ]
     },
     "execution_count": 9,
     "metadata": {
      "tags": []
     },
     "output_type": "execute_result"
    }
   ],
   "source": [
    "df_subset.head(3)"
   ]
  },
  {
   "cell_type": "markdown",
   "metadata": {
    "id": "C8Ul2NdA8avh"
   },
   "source": [
    "To create a logistic model that attempts to explain the value of the Species variable\n",
    "with Petal_length and Petal_Width as independent variables, we can create an\n",
    "instance of the ``smf.logit`` class and use the Patsy formula \"Species ~ Petal_Length +\n",
    "Petal_Width\":"
   ]
  },
  {
   "cell_type": "code",
   "execution_count": 10,
   "metadata": {
    "id": "yUtSL-__8fk4"
   },
   "outputs": [],
   "source": [
    "model = smf.logit(\"Species ~ Petal_Length + Petal_Width\", \n",
    "                  data=df_subset)"
   ]
  },
  {
   "cell_type": "markdown",
   "metadata": {
    "id": "Ng2jpTdT8i2v"
   },
   "source": [
    "As usual, we need to call the fit method of the resulting model instance to actually fit the model to the supplied data. The fit is performed with maximum likelihood optimization."
   ]
  },
  {
   "cell_type": "code",
   "execution_count": 11,
   "metadata": {
    "colab": {
     "base_uri": "https://localhost:8080/"
    },
    "id": "ZQ_3-F7I8ldL",
    "outputId": "4bd5ed6a-5c31-4964-cf65-b9be3fd7ed1e"
   },
   "outputs": [
    {
     "name": "stdout",
     "output_type": "stream",
     "text": [
      "Optimization terminated successfully.\n",
      "         Current function value: 0.102818\n",
      "         Iterations 10\n"
     ]
    }
   ],
   "source": [
    "result = model.fit()"
   ]
  },
  {
   "cell_type": "markdown",
   "metadata": {
    "id": "fzm3lbdJ8p24"
   },
   "source": [
    "As for regular linear regression, we can obtain a summary of the fit of the model to\n",
    "the data by printing the output produced by the summary method of the result object. In\n",
    "particular, we can see the fitted model parameters with an estimate for its z-score and the corresponding p-value, which can help us judge whether an explanatory variable is significant or not in the model."
   ]
  },
  {
   "cell_type": "code",
   "execution_count": 12,
   "metadata": {
    "colab": {
     "base_uri": "https://localhost:8080/"
    },
    "id": "clmCwXUN8uDZ",
    "outputId": "6ac0022e-3453-4cd5-e39c-470af2ce7c9c"
   },
   "outputs": [
    {
     "name": "stdout",
     "output_type": "stream",
     "text": [
      "                           Logit Regression Results                           \n",
      "==============================================================================\n",
      "Dep. Variable:                Species   No. Observations:                  100\n",
      "Model:                          Logit   Df Residuals:                       97\n",
      "Method:                           MLE   Df Model:                            2\n",
      "Date:                Wed, 30 Dec 2020   Pseudo R-squ.:                  0.8517\n",
      "Time:                        09:20:33   Log-Likelihood:                -10.282\n",
      "converged:                       True   LL-Null:                       -69.315\n",
      "Covariance Type:            nonrobust   LLR p-value:                 2.303e-26\n",
      "================================================================================\n",
      "                   coef    std err          z      P>|z|      [0.025      0.975]\n",
      "--------------------------------------------------------------------------------\n",
      "Intercept       45.2723     13.612      3.326      0.001      18.594      71.951\n",
      "Petal_Length    -5.7545      2.306     -2.496      0.013     -10.274      -1.235\n",
      "Petal_Width    -10.4467      3.756     -2.782      0.005     -17.808      -3.086\n",
      "================================================================================\n",
      "\n",
      "Possibly complete quasi-separation: A fraction 0.34 of observations can be\n",
      "perfectly predicted. This might indicate that there is complete\n",
      "quasi-separation. In this case some parameters will not be identified.\n"
     ]
    }
   ],
   "source": [
    "print(result.summary())"
   ]
  },
  {
   "cell_type": "markdown",
   "metadata": {
    "id": "WBOsptWj8zYJ"
   },
   "source": [
    "The result object for logistic regression also provides the method ``get_margeff``,\n",
    "which returns an object that also implements a summary method that outputs\n",
    "information about the marginal effects of each explanatory variable in the model."
   ]
  },
  {
   "cell_type": "code",
   "execution_count": 13,
   "metadata": {
    "colab": {
     "base_uri": "https://localhost:8080/"
    },
    "id": "ToVDKZMe83F3",
    "outputId": "ac94fc33-7e0a-4e8e-ca5f-f46e3f632ed8"
   },
   "outputs": [
    {
     "name": "stdout",
     "output_type": "stream",
     "text": [
      "        Logit Marginal Effects       \n",
      "=====================================\n",
      "Dep. Variable:                Species\n",
      "Method:                          dydx\n",
      "At:                           overall\n",
      "================================================================================\n",
      "                  dy/dx    std err          z      P>|z|      [0.025      0.975]\n",
      "--------------------------------------------------------------------------------\n",
      "Petal_Length    -0.1736      0.052     -3.347      0.001      -0.275      -0.072\n",
      "Petal_Width     -0.3151      0.068     -4.608      0.000      -0.449      -0.181\n",
      "================================================================================\n"
     ]
    }
   ],
   "source": [
    "print(result.get_margeff().summary())"
   ]
  },
  {
   "cell_type": "markdown",
   "metadata": {
    "id": "DlC2y-0f87qt"
   },
   "source": [
    "When we are satisfied with the fit of the model to the data, we can, for example,\n",
    "use it to predict the value of the response variable for new values of the explanatory\n",
    "variables. For this we can use the predict method in the result object produced by the\n",
    "model fitting, and to it we need to pass a data frame object with the new values of the\n",
    "independent variables."
   ]
  },
  {
   "cell_type": "code",
   "execution_count": 14,
   "metadata": {
    "id": "AC959vmG8_OF"
   },
   "outputs": [],
   "source": [
    "df_new = pd.DataFrame({\"Petal_Length\": np.random.randn(20)*0.5 + 5,\n",
    "                       \"Petal_Width\": np.random.randn(20)*0.5 + 1.7})\n",
    "\n",
    "df_new[\"P-Species\"] = result.predict(df_new)"
   ]
  },
  {
   "cell_type": "markdown",
   "metadata": {
    "id": "WIea-a7i9E_M"
   },
   "source": [
    "The result is an array with probabilities for each observation to correspond to the\n",
    "response y = 1, and by comparing this probability to the threshold value 0.5, we can generate predictions for the binary value of the response variable:"
   ]
  },
  {
   "cell_type": "code",
   "execution_count": 17,
   "metadata": {
    "colab": {
     "base_uri": "https://localhost:8080/"
    },
    "id": "zCv6bXxW9ISs",
    "outputId": "a8b3b011-6ff3-474d-b098-f63f98da4d93"
   },
   "outputs": [
    {
     "data": {
      "text/plain": [
       "0    0.003453\n",
       "1    0.999999\n",
       "2    0.996465\n",
       "Name: P-Species, dtype: float64"
      ]
     },
     "execution_count": 17,
     "metadata": {
      "tags": []
     },
     "output_type": "execute_result"
    }
   ],
   "source": [
    "df_new[\"P-Species\"].head(3)"
   ]
  },
  {
   "cell_type": "code",
   "execution_count": 18,
   "metadata": {
    "id": "y7J_nUZq9NEN"
   },
   "outputs": [],
   "source": [
    "df_new[\"Species\"] = (df_new[\"P-Species\"] > 0.5).astype(int)"
   ]
  },
  {
   "cell_type": "markdown",
   "metadata": {
    "id": "Quz9fdZd9PG1"
   },
   "source": [
    "The intercept and the slope of the line in the plane spanned by the coordinates\n",
    "Petal_Width and Petal_Length that define the boundary between a point that is\n",
    "classified as y = 0 and y = 1, respectively, can be computed from the fitted model parameters. The model parameters can be obtained using the params attribute of the result object:"
   ]
  },
  {
   "cell_type": "code",
   "execution_count": 19,
   "metadata": {
    "id": "JJBmQ2GT9TDG"
   },
   "outputs": [],
   "source": [
    "params = result.params\n",
    "alpha0 = -params['Intercept']/params['Petal_Width']\n",
    "alpha1 = -params['Petal_Length']/params['Petal_Width']"
   ]
  },
  {
   "cell_type": "markdown",
   "metadata": {
    "id": "pXgXcFT79bKb"
   },
   "source": [
    "Finally, to access the model and its predictions for new data points, we plot a scatter plot of the fitted (squares) and predicted (circles) data where data corresponding to the species virginica is coded with blue (dark) color, and the species versicolor is coded with green (light) color."
   ]
  },
  {
   "cell_type": "code",
   "execution_count": 21,
   "metadata": {
    "colab": {
     "base_uri": "https://localhost:8080/",
     "height": 297
    },
    "id": "72qXX2D49nyl",
    "outputId": "bc5c5515-803a-44c1-a2bf-fff158cb7422"
   },
   "outputs": [
    {
     "data": {
      "image/png": "[encoded data removed]",
      "text/plain": [
       "<Figure size 576x288 with 1 Axes>"
      ]
     },
     "metadata": {
      "needs_background": "light",
      "tags": []
     },
     "output_type": "display_data"
    }
   ],
   "source": [
    "fig, ax = plt.subplots(1, 1, figsize=(8, 4))\n",
    "\n",
    "ax.plot(df_subset[df_subset.Species == 0].Petal_Length.values,\n",
    "        df_subset[df_subset.Species == 0].Petal_Width.values, 's', label='virginica')\n",
    "ax.plot(df_new[df_new.Species == 0].Petal_Length.values,\n",
    "        df_new[df_new.Species == 0].Petal_Width.values,\n",
    "        'o', markersize=10, color=\"steelblue\", label='virginica (pred.)')\n",
    "\n",
    "ax.plot(df_subset[df_subset.Species == 1].Petal_Length.values,\n",
    "        df_subset[df_subset.Species == 1].Petal_Width.values, 's', label='versicolor')\n",
    "ax.plot(df_new[df_new.Species == 1].Petal_Length.values,\n",
    "        df_new[df_new.Species == 1].Petal_Width.values,\n",
    "        'o', markersize=10, color=\"green\", label='versicolor (pred.)')\n",
    "\n",
    "_x = np.array([4.0, 6.1])\n",
    "ax.plot(_x, alpha0 + alpha1 * _x, 'k')\n",
    "\n",
    "ax.set_xlabel('Petal length')\n",
    "ax.set_ylabel('Petal width')\n",
    "ax.legend(loc=2)\n",
    "fig.tight_layout()\n",
    "# fig.savefig(\"ch14-logit.pdf\")\n",
    "# The result of a classification of Iris species using Logit regression with\n",
    "# petal length and width and independent variables"
   ]
  },
  {
   "cell_type": "markdown",
   "metadata": {
    "id": "26QiP_Yp926n"
   },
   "source": [
    "## Poisson Model"
   ]
  },
  {
   "cell_type": "markdown",
   "metadata": {
    "id": "NqYkjrsb93Qv"
   },
   "source": [
    "Another example of discrete regression is the Poisson model, which can describe a process where the response variable is a success count for many attempts that each has a low probability of success. The Poisson model is also an example of a model that can be treated with the generalized linear model, using the natural logarithm as the link function. To see how we can fit data to a Poisson model using the statsmodels library, we will analyze another\n",
    "interesting dataset from the R dataset repository: The discoveries dataset contains counts of the number of great discoveries between 1860 and 1959. Because of the nature of the data, it is reasonable to assume that the counts might be Poisson distributed. To explore this hypothesis, we begin with loading the dataset using the ``sm.datasets.get_rdataset`` function and display the first few values to obtain an understanding of the format of the data."
   ]
  },
  {
   "cell_type": "code",
   "execution_count": 32,
   "metadata": {
    "colab": {
     "base_uri": "https://localhost:8080/",
     "height": 78
    },
    "id": "9Ul2iXCA93oI",
    "outputId": "f999c851-5eb7-46ae-dffc-60e16ebdfde2"
   },
   "outputs": [
    {
     "data": {
      "text/html": [
       "<div>\n",
       "<style scoped>\n",
       "    .dataframe tbody tr th:only-of-type {\n",
       "        vertical-align: middle;\n",
       "    }\n",
       "\n",
       "    .dataframe tbody tr th {\n",
       "        vertical-align: top;\n",
       "    }\n",
       "\n",
       "    .dataframe thead th {\n",
       "        text-align: right;\n",
       "    }\n",
       "</style>\n",
       "<table border=\"1\" class=\"dataframe\">\n",
       "  <thead>\n",
       "    <tr style=\"text-align: right;\">\n",
       "      <th>time</th>\n",
       "      <th>1860</th>\n",
       "      <th>1861</th>\n",
       "      <th>1862</th>\n",
       "      <th>1863</th>\n",
       "      <th>1864</th>\n",
       "      <th>1865</th>\n",
       "      <th>1866</th>\n",
       "      <th>1867</th>\n",
       "      <th>1868</th>\n",
       "      <th>1869</th>\n",
       "    </tr>\n",
       "  </thead>\n",
       "  <tbody>\n",
       "    <tr>\n",
       "      <th>discoveries</th>\n",
       "      <td>5</td>\n",
       "      <td>3</td>\n",
       "      <td>0</td>\n",
       "      <td>2</td>\n",
       "      <td>0</td>\n",
       "      <td>3</td>\n",
       "      <td>2</td>\n",
       "      <td>3</td>\n",
       "      <td>6</td>\n",
       "      <td>1</td>\n",
       "    </tr>\n",
       "  </tbody>\n",
       "</table>\n",
       "</div>"
      ],
      "text/plain": [
       "time         1860  1861  1862  1863  1864  1865  1866  1867  1868  1869\n",
       "discoveries     5     3     0     2     0     3     2     3     6     1"
      ]
     },
     "execution_count": 32,
     "metadata": {
      "tags": []
     },
     "output_type": "execute_result"
    }
   ],
   "source": [
    "dataset = sm.datasets.get_rdataset(\"discoveries\")\n",
    "df = dataset.data.set_index(\"time\").rename(columns={\"value\":\"discoveries\"}, \n",
    "                                           inplace=False)\n",
    "df.head(10).T"
   ]
  },
  {
   "cell_type": "markdown",
   "metadata": {
    "id": "J6E3HK5w-QMQ"
   },
   "source": [
    "Here we can see that the dataset contains integer counts in the discoveries series\n",
    "and that the first few years in the series have on average a few great discoveries. To\n",
    "see if this is typical data for the entire series, we can plot a bar graph of the number of discoveries per year, as shown in the next figure. "
   ]
  },
  {
   "cell_type": "code",
   "execution_count": 23,
   "metadata": {
    "colab": {
     "base_uri": "https://localhost:8080/",
     "height": 257
    },
    "id": "ekQ0sJz4-WRv",
    "outputId": "b939e6f3-a7bc-4c5f-a462-3456f67cdb10"
   },
   "outputs": [
    {
     "data": {
      "text/plain": [
       "<matplotlib.axes._subplots.AxesSubplot at 0x7f876bebd550>"
      ]
     },
     "execution_count": 23,
     "metadata": {
      "tags": []
     },
     "output_type": "execute_result"
    },
    {
     "data": {
      "image/png": "[encoded data removed]",
      "text/plain": [
       "<Figure size 1152x288 with 1 Axes>"
      ]
     },
     "metadata": {
      "needs_background": "light",
      "tags": []
     },
     "output_type": "display_data"
    }
   ],
   "source": [
    "fig, ax = plt.subplots(1, 1, figsize=(16, 4))\n",
    "df.plot(kind='bar', ax=ax)\n",
    "# The number of great discoveries per year"
   ]
  },
  {
   "cell_type": "markdown",
   "metadata": {
    "id": "75xanQOI-c3u"
   },
   "source": [
    "Judging from the figure, the number of great discoveries seems to be relatively\n",
    "constant over time, although a slightly declining trend might be noticeable. Nonetheless, the initial hypothesis that the number of discoveries might be Poisson distributed does not look immediately unreasonable. To explore this hypothesis more systematically, we can fit the data to a Poisson process, for example, using the ``smf.poisson`` class and the Patsy formula \"discoveries ~ 1\", which means that we model the discoveries variable with only an intercept coefficient (the Poisson distribution parameter)."
   ]
  },
  {
   "cell_type": "code",
   "execution_count": 34,
   "metadata": {
    "id": "Hu4G46T--mab"
   },
   "outputs": [],
   "source": [
    "model = smf.poisson(\"discoveries ~ 1\", data=df)"
   ]
  },
  {
   "cell_type": "markdown",
   "metadata": {
    "id": "jt0r-F9R-9SD"
   },
   "source": [
    "As usual we have to call the fit method to actually perform the fit of the model to\n",
    "the supplied data: "
   ]
  },
  {
   "cell_type": "code",
   "execution_count": 35,
   "metadata": {
    "colab": {
     "base_uri": "https://localhost:8080/"
    },
    "id": "1KsHE6bd_79t",
    "outputId": "21d229bb-dab3-46d7-9493-106e0293c1eb"
   },
   "outputs": [
    {
     "name": "stdout",
     "output_type": "stream",
     "text": [
      "Optimization terminated successfully.\n",
      "         Current function value: 2.168457\n",
      "         Iterations 1\n"
     ]
    }
   ],
   "source": [
    "result = model.fit()"
   ]
  },
  {
   "cell_type": "markdown",
   "metadata": {
    "id": "S797PqCa_6y1"
   },
   "source": [
    "The summary method of the result objects displays a summary of model fit and\n",
    "several fit statistics"
   ]
  },
  {
   "cell_type": "code",
   "execution_count": 36,
   "metadata": {
    "colab": {
     "base_uri": "https://localhost:8080/"
    },
    "id": "ijklV4l9ABOt",
    "outputId": "9c9a625a-702d-47f4-d12f-fcf254eb1025"
   },
   "outputs": [
    {
     "name": "stdout",
     "output_type": "stream",
     "text": [
      "                          Poisson Regression Results                          \n",
      "==============================================================================\n",
      "Dep. Variable:            discoveries   No. Observations:                  100\n",
      "Model:                        Poisson   Df Residuals:                       99\n",
      "Method:                           MLE   Df Model:                            0\n",
      "Date:                Wed, 30 Dec 2020   Pseudo R-squ.:                   0.000\n",
      "Time:                        09:34:58   Log-Likelihood:                -216.85\n",
      "converged:                       True   LL-Null:                       -216.85\n",
      "Covariance Type:            nonrobust   LLR p-value:                       nan\n",
      "==============================================================================\n",
      "                 coef    std err          z      P>|z|      [0.025      0.975]\n",
      "------------------------------------------------------------------------------\n",
      "Intercept      1.1314      0.057     19.920      0.000       1.020       1.243\n",
      "==============================================================================\n"
     ]
    }
   ],
   "source": [
    "print(result.summary())"
   ]
  },
  {
   "cell_type": "markdown",
   "metadata": {
    "id": "giMehrNNADxa"
   },
   "source": [
    "The model parameters, available via the params attribute of the result object, are\n",
    "related to the $\\lambda$ parameter of the Poisson distribution via the exponential function (the inverse of the link function):"
   ]
  },
  {
   "cell_type": "code",
   "execution_count": 37,
   "metadata": {
    "id": "Rjas0-KFAJ2y"
   },
   "outputs": [],
   "source": [
    "lmbda = np.exp(result.params)"
   ]
  },
  {
   "cell_type": "markdown",
   "metadata": {
    "id": "cTPduGy9ALuh"
   },
   "source": [
    "Once we have the estimated $\\lambda$ parameter of the Poisson distribution, we can, for example, compare the histogram of the observed count values with the theoretical counts, which we can obtain from a Poisson-distributed random variable from the SciPy stats library."
   ]
  },
  {
   "cell_type": "code",
   "execution_count": 38,
   "metadata": {
    "id": "STF1pML4AQqd"
   },
   "outputs": [],
   "source": [
    "X = stats.poisson(lmbda)"
   ]
  },
  {
   "cell_type": "markdown",
   "metadata": {
    "id": "BujZSPBZAScV"
   },
   "source": [
    "In addition to the fit parameters, we can also obtain estimated confidence intervals\n",
    "of the parameters using the ``conf_int`` method:"
   ]
  },
  {
   "cell_type": "code",
   "execution_count": 39,
   "metadata": {
    "colab": {
     "base_uri": "https://localhost:8080/",
     "height": 78
    },
    "id": "wWJAeq7dAWKP",
    "outputId": "19ec8c81-3ec1-4ea5-f354-195b908095f3"
   },
   "outputs": [
    {
     "data": {
      "text/html": [
       "<div>\n",
       "<style scoped>\n",
       "    .dataframe tbody tr th:only-of-type {\n",
       "        vertical-align: middle;\n",
       "    }\n",
       "\n",
       "    .dataframe tbody tr th {\n",
       "        vertical-align: top;\n",
       "    }\n",
       "\n",
       "    .dataframe thead th {\n",
       "        text-align: right;\n",
       "    }\n",
       "</style>\n",
       "<table border=\"1\" class=\"dataframe\">\n",
       "  <thead>\n",
       "    <tr style=\"text-align: right;\">\n",
       "      <th></th>\n",
       "      <th>0</th>\n",
       "      <th>1</th>\n",
       "    </tr>\n",
       "  </thead>\n",
       "  <tbody>\n",
       "    <tr>\n",
       "      <th>Intercept</th>\n",
       "      <td>1.020084</td>\n",
       "      <td>1.242721</td>\n",
       "    </tr>\n",
       "  </tbody>\n",
       "</table>\n",
       "</div>"
      ],
      "text/plain": [
       "                  0         1\n",
       "Intercept  1.020084  1.242721"
      ]
     },
     "execution_count": 39,
     "metadata": {
      "tags": []
     },
     "output_type": "execute_result"
    }
   ],
   "source": [
    "result.conf_int()"
   ]
  },
  {
   "cell_type": "markdown",
   "metadata": {
    "id": "6iLm8w6PAYxw"
   },
   "source": [
    "To assess the fit of the data to the Poisson distribution, we also create random\n",
    "variables for the lower and upper bounds of the confidence interval for the model\n",
    "parameter:"
   ]
  },
  {
   "cell_type": "code",
   "execution_count": 40,
   "metadata": {
    "id": "h0WjzowBAb97"
   },
   "outputs": [],
   "source": [
    "X_ci_l = stats.poisson(np.exp(result.conf_int().values)[0, 0])\n",
    "X_ci_u = stats.poisson(np.exp(result.conf_int().values)[0, 1])"
   ]
  },
  {
   "cell_type": "markdown",
   "metadata": {
    "id": "cem2MFVmAe0e"
   },
   "source": [
    "Finally, we graph the histogram of the observed counts with the theoretical\n",
    "probability mass functions for the Poisson distributions corresponding to the fitted\n",
    "model parameter and its confidence intervals. "
   ]
  },
  {
   "cell_type": "code",
   "execution_count": 41,
   "metadata": {
    "colab": {
     "base_uri": "https://localhost:8080/",
     "height": 316
    },
    "id": "V2TkPrISAlj2",
    "outputId": "5a3d682f-4cd3-49e5-e717-b5d505f2538a"
   },
   "outputs": [
    {
     "name": "stderr",
     "output_type": "stream",
     "text": [
      "/usr/local/lib/python3.6/dist-packages/ipykernel_launcher.py:4: VisibleDeprecationWarning: Passing `normed=True` on non-uniform bins has always been broken, and computes neither the probability density function nor the probability mass function. The result is only correct if the bins are uniform, when density=True will produce the same result anyway. The argument will be removed in a future version of numpy.\n",
      "  after removing the cwd from sys.path.\n"
     ]
    },
    {
     "data": {
      "image/png": "[encoded data removed]",
      "text/plain": [
       "<Figure size 864x288 with 1 Axes>"
      ]
     },
     "metadata": {
      "needs_background": "light",
      "tags": []
     },
     "output_type": "display_data"
    }
   ],
   "source": [
    "v, k = np.histogram(df.values,\n",
    "                    bins=12, \n",
    "                    range=(0, 12), \n",
    "                    normed=True)\n",
    "\n",
    "fig, ax = plt.subplots(1, 1, figsize=(12, 4))\n",
    "\n",
    "ax.bar(k[:-1], \n",
    "       v, \n",
    "       color=\"steelblue\",  \n",
    "       align='center', \n",
    "       label='Dicoveries per year') \n",
    "ax.bar(k-0.125,\n",
    "       X_ci_l.pmf(k), \n",
    "       color=\"red\", \n",
    "       alpha=0.5, \n",
    "       align='center', \n",
    "       width=0.25, \n",
    "       label='Poisson fit (CI, lower)')\n",
    "ax.bar(k,\n",
    "       X.pmf(k), \n",
    "       color=\"green\", \n",
    "       align='center', \n",
    "       width=0.5, \n",
    "       label='Poisson fit')\n",
    "ax.bar(k+0.125, \n",
    "       X_ci_u.pmf(k), \n",
    "       color=\"red\", \n",
    "       alpha=0.5, \n",
    "       align='center',\n",
    "       width=0.25,\n",
    "       label='Poisson fit (CI, upper)')\n",
    "\n",
    "ax.legend()\n",
    "fig.tight_layout()\n",
    "# fig.savefig(\"ch14-discoveries-per-year.pdf\")\n",
    "# Comparison of histograms of the number of great discoveries per\n",
    "# year and the probability mass function for the fitted Poisson model"
   ]
  },
  {
   "cell_type": "markdown",
   "metadata": {
    "id": "vB_J_5VnBAEp"
   },
   "source": [
    "The result shown in the figure above indicates that the dataset of great discoveries is not well described by a Poisson process, since the agreement between Poisson probability mass function and the observed counts deviates  significantly. The hypothesis that the\n",
    "number of great discoveries per year is a Poisson process must therefore be rejected.\n",
    "A failure to fit a mode to a given dataset is of course a natural part of the statistical modeling process, and although the dataset turned out not to be Poisson distributed (perhaps because years with a large and small number of great discovers tend to be clustered together), we still have gained insight by the failed attempt to model it as such.Because of the correlations between the number of discoveries at any given year and its\n",
    "recent past, a time-series analysis such as discussed in the following section could be a better approach."
   ]
  },
  {
   "cell_type": "markdown",
   "metadata": {
    "id": "Z5xTE3ngOJ6P"
   },
   "source": [
    "## Time series"
   ]
  },
  {
   "cell_type": "markdown",
   "metadata": {
    "id": "aI7xif1EOhEs"
   },
   "source": [
    "Time-series analysis is an important field in statistical modeling that deals with\n",
    "analyzing and forecasting future values of data that is observed as a function of time.\n",
    "Time-series modeling differs in several aspects from the regular regression models\n",
    "that we have looked at so far. Perhaps most importantly, a time series of observations\n",
    "typically cannot be considered as a series of independent random samples from a\n",
    "population. Instead there is often a rather strong component of correlation between\n",
    "observations that are close to each other in time. Also, the independent variables in\n",
    "a time-series model are the past observations of the same series, rather than a set of distinct factors. For example, while a regular regression can describe the demand for a product as a function of its price, in a time-series model it is typical to attempt to predict\n",
    "the future values from the past observations. This is a reasonable approach when there are autocorrelations such as trends in the time series under consideration (e.g., daily or weekly cycles, or steady increasing trends, or inertia in the change of its value). Examples of time series include stock prices, and weather and climate observations, and many other temporal processes in nature and in economics.\n",
    "\n",
    "An example of a type of statistical model for time series is the autoregressive (AR)\n",
    "model, in which a future value depends linearly on p previous values:\n",
    "$Y_t = \\beta_0 + \\sum_{n=1}^{p}\\beta_nY_{t-n} + \\epsilon_t$, where $\\beta_0$ is a constant and $\\beta_n, 1 \\leq n \\leq N$ are the coefficients that define the AR model. The error $\\epsilon_t$ is assumed to be white noise without autocorrelation. \n",
    "Within this model, all autocorrelation in the time series should therefore be aptured by the linear dependence on the $p$ previous values. A time series which depends linearly on only one previous value (in a suitable unit of time) can be fully modeled with an AR process with p=1, denoted as AR(1), and a time series that depends linearly on two previous values can be modeled by an AR(2) process, and so on. The AR model is a special case of the ARMA model, a more general model that also includes a moving average (MA) of $q$ previous residuals of the series: $Y_t = \\beta_0 + \\sum_{n=1}^{p}\\beta_nY_{t-n}+\\sum_{n=1}^{q}\\theta_n\\epsilon_{t-n}+\\epsilon_t$, where the model parameters \\theta_n are the weight factors for the moving average. This model is known as the ARMA model and is denoted by ARMA(p, q), where p is the number of autoregressive terms and q is the number of moving-average terms. Many other models for time-series model exist, but the AR and ARMA capture the basic ideas that are fundamental to many time-series applications.\n",
    "\n",
    "The statsmodels library has a submodule dedicated to time-series analysis: ``sm.tsa``, which implements several standard models for time-series analysis, as well as graphical and statistical analysis tools for exploring properties of time-series data. For example, let’s visit the time series with outdoor temperature measurements and say that we want to predict the hourly temperature for a few days into the future based on previous observations using an AR model. For concreteness, we will take the temperatures measured during the month of March and predict the hourly temperature for the first 3 days of April. We first load the dataset into a Pandas DataFrame object:"
   ]
  },
  {
   "cell_type": "code",
   "execution_count": 42,
   "metadata": {
    "id": "9wiAib_RFDjb"
   },
   "outputs": [],
   "source": [
    "df = pd.read_csv(\"https://raw.githubusercontent.com/jrjohansson/numerical-python-book-code/master/temperature_outdoor_2014.tsv\", \n",
    "                 header=None,\n",
    "                 delimiter=\"\\t\",\n",
    "                 names=[\"time\", \"temp\"])\n",
    "df.time = pd.to_datetime(df.time, unit=\"s\")\n",
    "\n",
    "df = df.set_index(\"time\").resample(\"H\").mean()"
   ]
  },
  {
   "cell_type": "markdown",
   "metadata": {
    "id": "ll8ENVpSFlUy"
   },
   "source": [
    "For convenience we extract the observations for March and April and store them in\n",
    "new DataFrame objects, ``df_march`` and ``df_april``, respectively:"
   ]
  },
  {
   "cell_type": "code",
   "execution_count": 43,
   "metadata": {
    "id": "pC7G6epbFpze"
   },
   "outputs": [],
   "source": [
    "df_march = df[df.index.month == 3]\n",
    "df_april = df[df.index.month == 4]"
   ]
  },
  {
   "cell_type": "markdown",
   "metadata": {
    "id": "Rn71AASiFtHf"
   },
   "source": [
    "Here we will attempt to model the time series of the temperature observations using\n",
    "the AR model, and an important condition for its applicability is that it is applied to a stationary process, which does not have autocorrelation or trends other than those explained by the terms in the model. The function ``plot_acf`` in the ``smg.tsa`` model is a useful graphical tool for visualizing autocorrelation in a time series. It takes an array of time-series observations and graphs the autocorrelation with increasing time delay on the ``x`` axis. The optional lags argument can be used to determine how many time steps\n",
    "are to be included in the plot, which is useful for long time series and when we only\n",
    "wish to see the autocorrelation for a limited number of time steps. The autocorrelation functions for the temperature observations and its first-, second-, and third-order differences are generated and graphed using the ``plot_acf`` function in the following\n",
    "code, and the resulting graph is shown next. "
   ]
  },
  {
   "cell_type": "code",
   "execution_count": 45,
   "metadata": {
    "colab": {
     "base_uri": "https://localhost:8080/",
     "height": 437
    },
    "id": "uMFqBGBgGBQ2",
    "outputId": "d4441b28-c5a3-46ea-ba74-56ea5d141011"
   },
   "outputs": [
    {
     "data": {
      "image/png": "[encoded data removed]",
      "text/plain": [
       "<Figure size 864x216 with 4 Axes>"
      ]
     },
     "execution_count": 45,
     "metadata": {
      "tags": []
     },
     "output_type": "execute_result"
    },
    {
     "data": {
      "image/png": "[encoded data removed]",
      "text/plain": [
       "<Figure size 864x216 with 4 Axes>"
      ]
     },
     "metadata": {
      "needs_background": "light",
      "tags": []
     },
     "output_type": "display_data"
    }
   ],
   "source": [
    "fig, axes = plt.subplots(1,\n",
    "                         4, \n",
    "                         figsize=(12, 3))\n",
    "\n",
    "smg.tsa.plot_acf(df_march.temp,\n",
    "                 lags=72, \n",
    "                 ax=axes[0])\n",
    "smg.tsa.plot_acf(df_march.temp.diff().dropna(),\n",
    "                 lags=72,\n",
    "                 ax=axes[1])\n",
    "smg.tsa.plot_acf(df_march.temp.diff().diff().dropna(),\n",
    "                 lags=72,\n",
    "                 ax=axes[2])\n",
    "smg.tsa.plot_acf(df_march.temp.diff().diff().diff().dropna(),\n",
    "                 lags=72,\n",
    "                 ax=axes[3])\n",
    "# Autocorrelation function for temperature data at increasing order of\n",
    "# differentiation, from left to right"
   ]
  },
  {
   "cell_type": "markdown",
   "metadata": {
    "id": "H-LASeS1GaQn"
   },
   "source": [
    "We can see a clear correlation between successive values in the time series in\n",
    "the leftmost graph, but for increasing order, differencing of the time series reduces the autocorrelation significantly. Suggesting that while each successive\n",
    "temperature observation is strongly correlated with its preceding value, such\n",
    "correlations are not as strong for the higher-order changes between the successive\n",
    "observations. Taking the difference of a time series is often a useful way of detrending it and eliminating correlation. The fact that taking differences diminishes the structural autocorrelation suggests that a sufficiently high-order AR model might be able to model the time series.\n",
    "\n",
    "To create an AR model for the time series under consideration, we can use the ``sm.\n",
    "tsa.AR`` class. It can, for example, be initiated with Pandas series that is indexed by ``DatetimeIndex`` or ``PeriodIndex`` (see the docstring of AR for alternative ways of pass timeseries data to this class):"
   ]
  },
  {
   "cell_type": "code",
   "execution_count": 46,
   "metadata": {
    "id": "fTGV8BOmGpCX"
   },
   "outputs": [],
   "source": [
    "model = sm.tsa.AR(df_march.temp)"
   ]
  },
  {
   "cell_type": "markdown",
   "metadata": {
    "id": "p01JGrMpGrdM"
   },
   "source": [
    "When we fit the model to the time-series data, we need to provide the order of the AR\n",
    "model. Here, since we can see a strong autocorrelation with a lag of 24 periods (24 hours), we must at least include terms for 24 previous terms in the model. To be\n",
    "on the safe side, and since we aim to predict the temperature for 3 days, or 72 hours, here we choose to make the order of the AR model correspond to 72 hours as well:"
   ]
  },
  {
   "cell_type": "code",
   "execution_count": 47,
   "metadata": {
    "id": "8nSjccR6Gx0-"
   },
   "outputs": [],
   "source": [
    "result = model.fit(72)"
   ]
  },
  {
   "cell_type": "markdown",
   "metadata": {
    "id": "vdDck1nHGzY0"
   },
   "source": [
    "An important condition for the AR process to be applicable is that the residuals of the series are stationary (no remaining autocorrelation and no trends). The Durbin-Watson statistical test can be used to test for stationary in a time series. It returns a value between 0 and 4, and values close to 2 correspond to time series that do not have remaining autocorrelation. We can also use the ``plot_acf`` function to graph the autocorrelation function for the residuals and to verify that the there is no significant autocorrelation."
   ]
  },
  {
   "cell_type": "code",
   "execution_count": 48,
   "metadata": {
    "colab": {
     "base_uri": "https://localhost:8080/"
    },
    "id": "j0fj-DCgG5-v",
    "outputId": "af43ca5c-fb1c-4e20-f15c-4c0b922f0ca6"
   },
   "outputs": [
    {
     "data": {
      "text/plain": [
       "1.9985623006352908"
      ]
     },
     "execution_count": 48,
     "metadata": {
      "tags": []
     },
     "output_type": "execute_result"
    }
   ],
   "source": [
    "sm.stats.durbin_watson(result.resid)"
   ]
  },
  {
   "cell_type": "markdown",
   "metadata": {
    "id": "AKYv3UlQG8Mk"
   },
   "source": [
    "We can also use the ``plot_acf`` function to graph the autocorrelation function for the residual and verify that the there is no significant autocorrelation."
   ]
  },
  {
   "cell_type": "code",
   "execution_count": 49,
   "metadata": {
    "colab": {
     "base_uri": "https://localhost:8080/",
     "height": 437
    },
    "id": "2HNkSiIBHAWX",
    "outputId": "df335546-d9ed-4411-c5ba-37010dfab643"
   },
   "outputs": [
    {
     "data": {
      "image/png": "[encoded data removed]",
      "text/plain": [
       "<Figure size 576x216 with 1 Axes>"
      ]
     },
     "execution_count": 49,
     "metadata": {
      "tags": []
     },
     "output_type": "execute_result"
    },
    {
     "data": {
      "image/png": "[encoded data removed]",
      "text/plain": [
       "<Figure size 576x216 with 1 Axes>"
      ]
     },
     "metadata": {
      "needs_background": "light",
      "tags": []
     },
     "output_type": "display_data"
    }
   ],
   "source": [
    "fig, ax = plt.subplots(1,\n",
    "                       1,\n",
    "                       figsize=(8, 3))\n",
    "smg.tsa.plot_acf(result.resid,\n",
    "                 lags=72,\n",
    "                 ax=ax)\n",
    "# Autocorrelation plot for the residual from the AR(72) model for the\n",
    "# temperature observations"
   ]
  },
  {
   "cell_type": "markdown",
   "metadata": {
    "id": "-NBcpC4JHIhA"
   },
   "source": [
    "The Durbin-Watson statistic close to 2 and the absence of autocorrelation in the figure above suggest that the current model successfully explains the fitted data. We can now proceed to forecast the temperature for future dates using the predict method in\n",
    "the result object returned by the model fit method:"
   ]
  },
  {
   "cell_type": "code",
   "execution_count": 50,
   "metadata": {
    "id": "2wC8TCjgHOAV"
   },
   "outputs": [],
   "source": [
    "temp_3d_forecast = result.predict(\"2014-04-01\", \"2014-04-4\")"
   ]
  },
  {
   "cell_type": "markdown",
   "metadata": {
    "id": "HnMH0Rt4HQTt"
   },
   "source": [
    "Next we graph the forecast (red) together with the previous 3 days of temperature\n",
    "observations (blue) and the actual outcome (green), for which the result is shown below:"
   ]
  },
  {
   "cell_type": "code",
   "execution_count": 51,
   "metadata": {
    "colab": {
     "base_uri": "https://localhost:8080/",
     "height": 284
    },
    "id": "XGhpDDb1HUaJ",
    "outputId": "89bc1175-7be5-49f6-ea13-73a723dffe07"
   },
   "outputs": [
    {
     "data": {
      "text/plain": [
       "<matplotlib.legend.Legend at 0x7f876c3e9d30>"
      ]
     },
     "execution_count": 51,
     "metadata": {
      "tags": []
     },
     "output_type": "execute_result"
    },
    {
     "data": {
      "image/png": "[encoded data removed]",
      "text/plain": [
       "<Figure size 864x288 with 1 Axes>"
      ]
     },
     "metadata": {
      "needs_background": "light",
      "tags": []
     },
     "output_type": "display_data"
    }
   ],
   "source": [
    "fig, ax = plt.subplots(1,\n",
    "                       1,\n",
    "                       figsize=(12, 4))\n",
    "\n",
    "ax.plot(df_march.index.values[-72:], \n",
    "        df_march.temp.values[-72:],\n",
    "        label=\"train data\")\n",
    "ax.plot(df_april.index.values[:72],\n",
    "        df_april.temp.values[:72],\n",
    "        label=\"actual outcome\")\n",
    "ax.plot(pd.date_range(\"2014-04-01\",\n",
    "                      \"2014-04-4\", \n",
    "                      freq=\"H\").values,\n",
    "        temp_3d_forecast, \n",
    "        label=\"predicted outcome\")\n",
    "ax.legend()\n",
    "# Observed and predicted temperatures as a function of time"
   ]
  },
  {
   "cell_type": "markdown",
   "metadata": {
    "id": "2o4t-HEoHppD"
   },
   "source": [
    "The agreement of the predicted temperature and the actual outcome shown above is rather good. However, this will of course not always be the case, as the temperature cannot be forecasted based solely on previous observations. Nonetheless, within a period of a stable weather system, the hourly temperature of a day may be accurately forecasted with an AR model, accounting for the daily variations and other steady trends.\n",
    "\n",
    "In addition to the basic AR model, ``statsmodels`` also provides the ARMA\n",
    "(autoregressive moving average) and ARIMA (autoregressive integrated moving average)\n",
    "models. The usage patterns for these models are similar to that of the AR model we have\n",
    "used here, but there are some differences in the details. Refer to the docstrings for ``sm.tsa.ARMA`` and ``sm.tsa.ARIMA`` classes and the official statsmodels documentation for further information."
   ]
  },
  {
   "cell_type": "markdown",
   "metadata": {
    "id": "PEQAii7uOhHK"
   },
   "source": [
    "# Combinatorics\n"
   ]
  },
  {
   "cell_type": "markdown",
   "metadata": {
    "id": "7iwtpsFzXEox"
   },
   "source": [
    "## Permutations"
   ]
  },
  {
   "cell_type": "markdown",
   "metadata": {
    "id": "rTs711NZXEyn"
   },
   "source": [
    "A mathematical permutation set is all possible orderings of n items. For example, if $n = 3$ and the items are the integers \n",
    "$(0, 1, 2)$ then there are six possible permutation elements:\n",
    "\n",
    "$$\n",
    "(0, 1, 2) \\\\\n",
    "(0, 2, 1) \\\\\n",
    "(1, 0, 2) \\\\\n",
    "(1, 2, 0) \\\\\n",
    "(2, 0, 1) \\\\\n",
    "(2, 1, 0) \\\\ \n",
    "$$\n",
    "\n",
    "\n",
    "Python supports permutations in the SciPy special module and in the Python itertools module. Interestingly, NumPy has no direct support for permutations, but it is possible to implement custom permutation functions using NumPy arrays."
   ]
  },
  {
   "cell_type": "code",
   "execution_count": null,
   "metadata": {
    "colab": {
     "base_uri": "https://localhost:8080/"
    },
    "id": "R4xc1MZ8N9Td",
    "outputId": "5c520466-2dba-4bbb-aa53-f2925763fed3"
   },
   "outputs": [
    {
     "name": "stdout",
     "output_type": "stream",
     "text": [
      "\n",
      "Begin permutation demo \n",
      "\n",
      "Setting n = 3\n",
      "\n",
      "Using scipy.special.factorial(n) there are \n",
      "6.0\n",
      "possible permutation elements\n",
      "\n",
      "Making all permutations using itertools.permutations()\n",
      "The first itertools permutation is \n",
      "(0, 1, 2)\n",
      "\n",
      "Using my_fact(n) there are 6 possible permutation elements \n",
      "Making a custom Permutation object \n",
      "The first custom permutation element is \n",
      "# 0 1 2 #\n",
      "\n",
      "End demo \n",
      "\n"
     ]
    }
   ],
   "source": [
    "import numpy as np\n",
    "import itertools as it\n",
    "import scipy.special as ss\n",
    "\n",
    "class Permutation:\n",
    "  def __init__(self, n):\n",
    "    self.n = n\n",
    "    self.data = np.arange(n)\n",
    "\n",
    "  @staticmethod\n",
    "  def my_fact(n):\n",
    "    ans = 1\n",
    "    for i in range(1, n+1):\n",
    "      ans *= i\n",
    "    return ans\n",
    "\n",
    "  @staticmethod\n",
    "  def my_fact_rec(n):\n",
    "    if n == 0 or n == 1:\n",
    "      return 1\n",
    "    else:\n",
    "      return n * Permutation.my_fact_rec(n-1)\n",
    "\n",
    "  def __str__(self):\n",
    "    s = \"# \"\n",
    "    for i in range(self.n):\n",
    "      s = s + str(self.data[i]) + \" \"\n",
    "    s = s + \"#\"\n",
    "    return s\n",
    "\n",
    "# =====\n",
    "\n",
    "print(\"\\nBegin permutation demo \\n\")\n",
    "\n",
    "n = 3\n",
    "print(\"Setting n = \" + str(n))\n",
    "print(\"\") \n",
    "\n",
    "num_perms = ss.factorial(n)\n",
    "print(\"Using scipy.special.factorial(n) there are \") \n",
    "print(str(num_perms))\n",
    "print(\"possible permutation elements\")\n",
    "print(\"\")\n",
    "\n",
    "print(\"Making all permutations using itertools.permutations()\")\n",
    "all_perms = it.permutations(range(n))\n",
    "p = all_perms.__next__()\n",
    "\n",
    "print(\"The first itertools permutation is \") \n",
    "print(p)\n",
    "print(\"\")\n",
    "\n",
    "num_perms = Permutation.my_fact_rec(n)\n",
    "print(\"Using my_fact(n) there are \" + str(num_perms), \"possible permutation elements\",\"\")\n",
    "\n",
    "print(\"Making a custom Permutation object \")\n",
    "p = Permutation(n)\n",
    "print(\"The first custom permutation element is \")\n",
    "print(p)\n",
    "\n",
    "print(\"\\nEnd demo \\n\")"
   ]
  },
  {
   "cell_type": "markdown",
   "metadata": {
    "id": "j2z3XtUrcjpV"
   },
   "source": [
    "The demo program begins by importing three modules:\n",
    "\n",
    "``import numpy as np \\\n",
    "import itertools as it \\\n",
    "import scipy.special as ss``\n",
    "\n",
    "The itertools module has the primary permutations class, but the closely associated ``factorial()`` function is defined in the special submodule of the scipy module. If this feels a bit awkward to you, you're not alone.\n",
    "The demo program defines a custom ``Permutation`` class. In most cases, you will only want to define a custom implementation of a function when you need to implement some specialized behavior, or you want to avoid using a module that contains the function.\n",
    "Program execution begins by setting up the number of permutation elements:\n",
    "\n",
    "``n = 3 \\\n",
    "print(\"Setting n = \" + str(n))``\n",
    "\n",
    "Using lowercase n for the number of permutations is traditional, so you should use it unless you have a reason not to. Next, the demo program determines the number of possible permutations using the SciPy factorial() function:\n",
    "num_perms = ss.factorial(n) print \"Using scipy.special.factorial(n) there are \", print str(num_perms), print \"possible permutation elements\"\n",
    "The factorial(n) function is often written as n! as a shortcut. The factorial of a number is best explained by example:\n",
    "factorial(3) = 3 * 2 * 1 = 6 factorial(5) = 5 * 4 * 3 * 2 * 1 = 120\n",
    "The value of ``factorial(0)`` is usually considered a special case and defined to be 1. Next, the demo creates a Python permutations iterator:\n",
    "\n",
    "``all_perms = it.permutations(range(n))``\n",
    "\n",
    "I like to think of a Python iterator object as a little factory that can emit data when a request is made of it using an explicit or implicit call to a ``next()`` function. Notice the call to the ``permutations()`` function accepts ``range(n)`` rather than just ``n``, as you might have thought.\n",
    "The demo program requests and displays the first itertools permutation element like so:\n",
    "\n",
    "``p = all_perms.next() \\\n",
    "print(\"The first itertools permutation is \") \\\n",
    "print(p)``\n",
    "\n",
    "Next, the demo program uses the custom functions. First, the ``my_fact()`` function is called:\n",
    "\n",
    "``num_perms = Permutation.my_fact(n) \\\n",
    "print(\"Using my_fact(n) there are \" + str(num_perms)) \\ print(\"possible permutation elements\")``\n",
    "\n",
    "Notice that the call to ``my_fact()`` is appended to Permutation, which is the name of its defining class. This is because the ``my_fact()`` function is decorated with the ``@staticmethod`` attribute.\n",
    "Next, the demo creates an instance of the custom ``Permutation`` class. The ``Permutation`` class ``__init__()`` constructor method initializes an object to the first permutation element so there's no need to call a ``next()`` function:\n",
    "\n",
    "``p = Permutation(n)``\n",
    "\n",
    "``print(\"The first custom permutation element is \")``\n",
    "\n",
    "``print(p)``\n",
    "\n",
    "We overload the print function by defining ``__str__`` .It displays a ``Permutation`` element delimited by the % character so that the element can be easily distinguished from a tuple, a list, or another Python collection. I used % because both permutation and percent start with the letter p.\n",
    "The custom ``my_fact()`` function is short and simple:\n",
    "\n",
    "    def my_fact(n):\n",
    "      ans = 1 for i in range(1, n+1):\n",
    "        ans *= i \n",
    "      return ans\n",
    "\n",
    "The mathematical factorial function is often used in computer science classes as an example of a function that can be implemented using recursion:\n",
    "\n",
    "    @staticmethod \n",
    "    def my_fact_rec(n): \n",
    "      if n == 0 or n == 1: \n",
    "        return 1\n",
    "      else: \n",
    "        return n * Permutation.my_fact_rec(n-1)\n",
    "\n",
    "Although recursion has a certain mysterious aura, in most situations (such as this one), **recursion is highly inefficient and so should be avoided**.\n",
    "\n",
    "An option for any implementation of a factorial function, especially where the function will be called many times, is to create a pre-calculated lookup table with values for the first handful (say 1,000) results. The extra storage is usually a small price to pay for much-improved performance."
   ]
  },
  {
   "cell_type": "markdown",
   "metadata": {
    "id": "Rkn9X8u5at94"
   },
   "source": [
    "### Permutation successor"
   ]
  },
  {
   "cell_type": "markdown",
   "metadata": {
    "id": "JPm_hCS6auzv"
   },
   "source": [
    "When working with mathematical permutations, a key operation is generating the successor to a given permutation element. For example, if $n = 3$ and the items are the integers $(0, 1, 2)$ then there are six possible permutation elements. When listed in what is called lexicographical order, the elements are:\n",
    "\n",
    "$$\n",
    "(0, 1, 2) \\\\\n",
    "(0, 2, 1) \\\\\n",
    "(1, 0, 2) \\\\\n",
    "(1, 2, 0) \\\\\n",
    "(2, 0, 1) \\\\\n",
    "(2, 1, 0)\n",
    "$$\n",
    "\n",
    "Notice that if we removed the separating commas and interpreted each element as an ordinary integer (like 120), the elements would be in ascending order (12 < 21 < 102 < 120 < 201 < 210)."
   ]
  },
  {
   "cell_type": "code",
   "execution_count": null,
   "metadata": {
    "colab": {
     "base_uri": "https://localhost:8080/"
    },
    "id": "5xOBjwQuauMV",
    "outputId": "95c9a3c3-2dbe-42be-bd00-31d01930e32a"
   },
   "outputs": [
    {
     "name": "stdout",
     "output_type": "stream",
     "text": [
      "\n",
      "Begin permutation successor demo \n",
      "\n",
      "Setting n = 3\n",
      "\n",
      "Iterating all permutations using itertools permutations(): \n",
      "p = (0, 1, 2)\n",
      "p = (0, 2, 1)\n",
      "p = (1, 0, 2)\n",
      "p = (1, 2, 0)\n",
      "p = (2, 0, 1)\n",
      "p = (2, 1, 0)\n",
      "\n",
      "Iterating all permutations using custom Permutation class: \n",
      "p = # 0 1 2 #\n",
      "p = # 0 2 1 #\n",
      "p = # 1 0 2 #\n",
      "p = # 1 2 0 #\n",
      "p = # 2 0 1 #\n",
      "p = # 2 1 0 #\n",
      "\n",
      "End demo \n",
      "\n"
     ]
    }
   ],
   "source": [
    "import numpy as np\n",
    "import itertools as it\n",
    "\n",
    "class Permutation:\n",
    "  def __init__(self, n):\n",
    "    self.n = n\n",
    "    self.data = np.arange(n)\n",
    "\n",
    "  def __str__(self):\n",
    "    s = \"# \"\n",
    "    for i in range(self.n):\n",
    "      s = s + str(self.data[i]) + \" \"\n",
    "    s = s + \"#\"\n",
    "    return s\n",
    "\n",
    "  def successor(self):\n",
    "    res = Permutation(self.n) # result\n",
    "    res.data = np.copy(self.data)\n",
    "\n",
    "    left = self.n - 2\n",
    "    while res.data[left] > res.data[left+1] and left >= 1:\n",
    "      left -= 1\n",
    "\n",
    "    if left == 0 and res.data[left] > res.data[left+1]:\n",
    "      return None\n",
    "\n",
    "    right = self.n - 1\n",
    "    while res.data[left] > res.data[right]:\n",
    "      right -= 1\n",
    "\n",
    "    res.data[left], res.data[right] = \\\n",
    "                     res.data[right], res.data[left]\n",
    "\n",
    "    i = left + 1\n",
    "    j = self.n - 1\n",
    "    while i < j:\n",
    "      tmp = res.data[i]\n",
    "      res.data[i] = res.data[j]\n",
    "      res.data[j] = tmp\n",
    "      i += 1; j -= 1\n",
    "    return res\n",
    "\n",
    "# =====\n",
    "\n",
    "print(\"\\nBegin permutation successor demo \\n\")\n",
    "\n",
    "n = 3\n",
    "print(\"Setting n = \" + str(n))\n",
    "print(\"\")\n",
    "\n",
    "perm_it = it.permutations(range(n))\n",
    "print(\"Iterating all permutations using itertools permutations(): \")\n",
    "\n",
    "for p in perm_it:\n",
    "  print(\"p = \" + str(p))\n",
    "print(\"\")\n",
    "\n",
    "p = Permutation(n)\n",
    "print(\"Iterating all permutations using custom Permutation class: \")\n",
    "while p is not None:\n",
    "  print(\"p = \" + str(p))\n",
    "  p = p.successor()\n",
    "\n",
    "print(\"\\nEnd demo \\n\")"
   ]
  },
  {
   "cell_type": "markdown",
   "metadata": {
    "id": "mfDaMDQPZy63"
   },
   "source": [
    "The demo program begins by importing two modules:\n",
    "``import numpy as np``\n",
    "\n",
    "``import itertools as it``\n",
    "\n",
    "Since the itertools module has many kinds of iterable objects, an alternative is to bring just the permutations iterator into scope:\n",
    "``from itertools import permutations``\n",
    "\n",
    "The demo program defines a custom Permutation class. In most cases, you will only want to define a custom implementation of a function when you need to implement some specialized behavior, or you want to avoid using a module that contains the function.\n",
    "\n",
    "Program execution begins by setting up the number of permutation elements:\n",
    "\n",
    "``n = 3``\n",
    "\n",
    "``print(\"Setting n = \" + str(n))``\n",
    "\n",
    "Using lowercase n for the number of permutations is traditional, so you should use it unless you have a reason not to.\n",
    "Next, the demo program iterates through all possible permutation elements using an implicit mechanism:\n",
    "\n",
    "    perm_it = permutations(range(n))\n",
    "    print(\"Iterating all permutations using itertools permutations(): \")\n",
    "    for p in perm_it: \n",
    "      print(\"p = \" + str(p))\n",
    "    print(\"\")\n",
    "\n",
    "The ``perm_it`` iterator can emit all possible permutation elements. In most situations, Python iterators are designed to be called using a for item in iterator pattern, as shown. In other programming languages, this pattern is sometimes distinguished from a regular for loop by using a foreach keyword.\n",
    "\n",
    "Note that the ``itertools.permutations()`` iterator emits tuples, indicated by the parentheses in the output, rather than a list or a NumPy array.\n",
    "\n",
    "It is possible, but somewhat awkward, to explicitly call the permutations iterator using the ``next()`` function like so:\n",
    "\n",
    "    perm_it = it.permutations(range(n))\n",
    "    while True:\n",
    "      try:\n",
    "        p = perm_it.next() \n",
    "        print(\"p = \" + str(p))\n",
    "      except StopIteration: \n",
    "        break\n",
    "    print(\"\")\n",
    "\n",
    "By design, iterator objects don't have an explicit way to signal the end of iteration, such as an ``end()`` function or returning a special value like None. Instead, when an iterator object has no more items to emit and a call to ``next()`` is made, a ``StopIteration`` exception is thrown. To terminate a loop, you must catch the exception.\n",
    "\n",
    "Next, the demo program iterates through all permutation elements for ``n = 3`` using the program-defined Permutation class:\n",
    "\n",
    "    p = Permutation(n) \n",
    "    print(\"Iterating all permutations using custom Permutation class: \")\n",
    "    while p is not None:\n",
    "      print(\"p = \" + str(p))\n",
    "      p = p.successor()\n",
    "\n",
    "The ``successor()`` function of the ``Permutation`` class uses a traditional stopping technique by returning ``None`` when there are no more permutation elements. The function ``successor()`` uses an unobvious approach to determine when the current permutation element is the last one. A straightforward approach isn't efficient. For example, if $n = 5$, the last element is $(4 3 2 1 0)$ and it'd be very time-consuming to check if $data[0] > data[1] > data[2] > . . > data[n-1]$ on each call.\n",
    "\n",
    "The logic in the program-defined ``successor()`` function is rather clever. Suppose $n = 5$ and the current permutation element is:\n",
    "\n",
    "``# 0 1 4 3 2 #``\n",
    "\n",
    "The next element in lexicographical order after $01432$, using the digits $0$ through $4$, is $02134$. The ``successor()`` function first finds the indices of two items to swap, called left and right. In this case, ``left = 1`` and ``right = 4``. The items at those indices are swapped, giving a preliminary result of $02431`$. Then the items from index right through the end of the element are placed in order (431 in this example) giving the final result of $02134$."
   ]
  },
  {
   "cell_type": "markdown",
   "metadata": {
    "id": "qAKiANRLbzba"
   },
   "source": [
    "### Permutation element"
   ]
  },
  {
   "cell_type": "markdown",
   "metadata": {
    "id": "oiOhXrf2cPzW"
   },
   "source": [
    "When working with mathematical permutations, it's often useful to be able to generate a specific element. For example, if $n = 3$ and the items are the integers $(0, 1, 2)$, then there are six permutation elements. When listed in lexicographical order, the elements are:\n",
    "\n",
    "$$\n",
    "[0] (0, 1, 2) \\\\\n",
    "[1] (0, 2, 1) \\\\\n",
    "[2] (1, 0, 2) \\\\\n",
    "[3] (1, 2, 0) \\\\\n",
    "[4] (2, 0, 1) \\\\\n",
    "[5] (2, 1, 0)\n",
    "$$\n",
    "\n",
    "In many situations, you want to iterate through all possible permutations, but in some cases you may want to generate just a specific permutation element. For example, a function call like ``pe = perm_element(4)``would store $(2, 0, 1)$ into ``pe``."
   ]
  },
  {
   "cell_type": "code",
   "execution_count": null,
   "metadata": {
    "colab": {
     "base_uri": "https://localhost:8080/"
    },
    "id": "0bcW2Yy2cPZO",
    "outputId": "c7852e0e-8368-4112-8ea7-608fa25813ce"
   },
   "outputs": [
    {
     "name": "stdout",
     "output_type": "stream",
     "text": [
      "\n",
      "Begin permutation element demo \n",
      "\n",
      "Setting n = 20\n",
      "\n",
      "Element 1000000000 using itertools.permutations() is \n",
      "(0, 1, 2, 3, 4, 5, 6, 9, 8, 7, 15, 17, 14, 16, 19, 11, 13, 18, 10, 12)\n",
      "Elapsed time = 136.867422 seconds \n",
      "\n",
      "Element 1000000000 using custom Permutation class is \n",
      "# 0 1 2 3 4 5 6 9 8 7 15 17 14 16 19 11 13 18 10 12 #\n",
      "Elapsed time = 0.0002590000000282089 seconds \n",
      "\n",
      "\n",
      "End demo \n",
      "\n"
     ]
    }
   ],
   "source": [
    "import numpy as np\n",
    "import itertools as it\n",
    "import time\n",
    "\n",
    "class Permutation:\n",
    "  def __init__(self, n):\n",
    "    self.n = n\n",
    "    self.data = np.arange(n)\n",
    "\n",
    "  def __str__(self):\n",
    "    s = \"# \"\n",
    "    for i in range(self.n):\n",
    "      s = s + str(self.data[i]) + \" \"\n",
    "    s = s + \"#\"\n",
    "    return s\n",
    "\n",
    "  def element(self, idx):\n",
    "    # if idx >= Permutation.my_fact(self.n):\n",
    "    #   return None\n",
    "\n",
    "    result = Permutation(self.n)\n",
    "    \n",
    "    factoradic = np.zeros(self.n)\n",
    "    for j in range(1, self.n + 1):\n",
    "      factoradic[self.n-j] = idx % j\n",
    "      idx = idx / j\n",
    "\n",
    "    for i in range(self.n):\n",
    "      factoradic[i] += 1\n",
    "\n",
    "    result.data[self.n - 1] = 1\n",
    "\n",
    "    for i in range(self.n - 2, -1, -1):\n",
    "      result.data[i] = factoradic[i]\n",
    "      for j in range(i + 1, self.n):  \n",
    "        if result.data[j] >= result.data[i]:\n",
    "          result.data[j] += 1\n",
    "\n",
    "    for i in range(self.n):\n",
    "      result.data[i] -= 1\n",
    "\n",
    "    return result;\n",
    "\n",
    "# =====\n",
    "\n",
    "def perm_element(n, idx):\n",
    "  p_it = it.permutations(range(n))\n",
    "  i = 0\n",
    "  for p in p_it:\n",
    "    if i == idx:\n",
    "      return p\n",
    "      break\n",
    "    i += 1\n",
    "\n",
    "# =====\n",
    "\n",
    "print(\"\\nBegin permutation element demo \\n\")\n",
    "\n",
    "n = 20 # 20! = 2,432,902,008,176,640,000\n",
    "print(\"Setting n = \" + str(n) + \"\\n\")\n",
    "idx = 1000000000 # not even close to last element\n",
    "\n",
    "print(\"Element \" + str(idx) + \" using itertools.permutations() is \")\n",
    "start_time = time.clock()\n",
    "pe = perm_element(n, idx)\n",
    "end_time = time.clock()\n",
    "elapsed_time = end_time - start_time\n",
    "print(pe )\n",
    "print(\"Elapsed time = \" + str(elapsed_time) + \" seconds \")\n",
    "print(\"\")\n",
    "\n",
    "p = Permutation(n)\n",
    "start_time = time.clock()\n",
    "pe = p.element(idx)\n",
    "end_time = time.clock()\n",
    "elapsed_time = end_time - start_time\n",
    "print(\"Element \" + str(idx) + \" using custom Permutation class is \")\n",
    "print(pe)\n",
    "print(\"Elapsed time = \" + str(elapsed_time) + \" seconds \")\n",
    "print(\"\")\n",
    "\n",
    "print(\"\\nEnd demo \\n\")"
   ]
  },
  {
   "cell_type": "markdown",
   "metadata": {
    "id": "Lb0La2h1bzfd"
   },
   "source": [
    "The demo program begins by importing three modules:\n",
    "\n",
    "``import numpy as np``\n",
    "\n",
    "``import itertools as it``\n",
    "\n",
    "``import time``\n",
    "\n",
    "The demo program defines a custom ``Permutation`` class that has an ``element()`` member function and a stand-alone function ``perm_element()`` that is not part of a class. Both functions return a specific permutation element. Function ``perm_element()`` uses the built-in ``permutations()`` iterator from the ``itertools`` module. Function ``element()`` uses a NumPy array plus a clever algorithm that involves something called the factoradic. Program execution begins by setting up the order of a permutation, n:\n",
    "\n",
    "    n = 20\n",
    "    print(\"Setting n = \" + str(n) + \"\\n\")\n",
    "\n",
    "The order of a permutation is the number of items in each permutation. For $n = 20$ there are $20! = 2,432,902,008,176,640,000$ different permutation elements. Next, the demo finds the permutation element 1,000,000,000 using the program-defined ``perm_element()`` function:\n",
    "\n",
    "    print(\"Element \" + str(idx) + \") using itertools.permutations() is \")\n",
    "    start_time = time.clock()\n",
    "    pe = perm_element(n, idx) \n",
    "    end_time = time.clock()\n",
    "\n",
    "After the permutation element has been computed, the element and the elapsed time required are displayed:\n",
    "\n",
    "    elapsed_time = end_time - start_time \n",
    "    print(pe) \n",
    "    print(\"Elapsed time = \" + str(elapsed_time) + \" seconds \")\n",
    "\n",
    "In this example, the ``perm_element()`` function took almost 2 and a half minutes to execute. Not very good performance.\n",
    "\n",
    "Next, the demo computes the same permutation element using the program-defined Permutation class:\n",
    "\n",
    "    p = Permutation(n) \n",
    "    start_time = time.clock() \n",
    "    pe = p.element(idx) \n",
    "    end_time = time.clock()\n",
    "\n",
    "Then the element and the elapsed time required are displayed using the custom class approach:\n",
    "\n",
    "    elapsed_time = end_time - start_time \n",
    "    print(\"Element \" + str(idx) + \" using custom Permutation class is \")\n",
    "    print(pe.as_string())\n",
    "    print(\"Elapsed time = \" + str(elapsed_time) + \" seconds \")\n",
    "\n",
    "The elapsed time using the custom ``Permutation element()`` function class was approximately 0.0003 seconds—much better performance than the 136+ seconds for the itertools-based function.\n",
    "\n",
    "It really wasn't a fair fight. The ``perm_element()`` function works by creating an ``itertools.permutations`` iterator and then generating each successive permutation one at a time until the desired permutation element is reached. The function definition is:\n",
    "\n",
    "    p_it = it.permutations(range(n)) # make a permutation iterator \n",
    "    i = 0 # index counter \n",
    "    for p in p_it: # request next permutation\n",
    "    if i == idx: # are we there yet\n",
    "      return p # if so, return curr permutation tuple \n",
    "      break # and break out of loop \n",
    "    i += 1 # next index\n",
    "\n",
    "On the other hand, the custom ``element()`` function uses some very clever mathematics and an entity called the factoradic of a number to construct the requested permutation element directly.\n",
    "The regular decimal representation of numbers is based on powers of 10. For example, 1047  is $(1 * 10^3) + (0 * 10^2) + (4 * 10^1) + (7 * 10^0)$. The factoradic of a number is an alternate representation based on factorials. For example, 1047 is $1232110$ because it's $(1 * 6!) + (2 * 5!) + (3 * 4!) + (2 * 3!) + (1 * 2!) + (1 * 1!) + (0 * 0!)$. \n",
    "\n",
    "Using some rather remarkable mathematics, it's possible to use the factoradic of a permutation element index to compute the element directly."
   ]
  },
  {
   "cell_type": "markdown",
   "metadata": {
    "id": "lZf-2Asebzjh"
   },
   "source": [
    "## Combinations"
   ]
  },
  {
   "cell_type": "markdown",
   "metadata": {
    "id": "5hiOGWTBgh4G"
   },
   "source": [
    "A mathematical combination set is a collection of all possible subsets of $k$ items selected from $n$ items. For example, if $n = 5$ and $k = 3$ and the items are the integers $(0, 1, 2, 3, 4)$, then there are 10 possible combination elements:\n",
    "$$\n",
    "(0, 1, 2) \\\\\n",
    "(0, 1, 3) \\\\\n",
    "(0, 1, 4) \\\\\n",
    "(0, 2, 3) \\\\\n",
    "(0, 2, 4) \\\\\n",
    "(0, 3, 4) \\\\\n",
    "(1, 2, 3) \\\\\n",
    "(1, 2, 4) \\\\\n",
    "(1, 3, 4) \\\\\n",
    "(2, 3, 4)\n",
    "$$\n",
    "\n",
    "For combinations, the order of the items does not matter. Therefore, there is no element $(0, 2, 1)$ because it is considered the same as $(0, 1, 2)$. Python supports combinations in the SciPy special module and in the Python itertools module. There is no direct support for combinations in SciPy, but it's possible to implement combination functions using NumPy arrays."
   ]
  },
  {
   "cell_type": "code",
   "execution_count": null,
   "metadata": {
    "colab": {
     "base_uri": "https://localhost:8080/"
    },
    "id": "BO2sHQZ0g4Uo",
    "outputId": "2f7151f6-6f58-4f10-a525-66c396d07e94"
   },
   "outputs": [
    {
     "name": "stdout",
     "output_type": "stream",
     "text": [
      "\n",
      "Begin combinations demo \n",
      "\n",
      "Setting n = 5 k = 3\n",
      "\n",
      "n choose k using scipy.comb() is \n",
      "10.0\n",
      "\n",
      "Making all combinations using itertools.combinations() \n",
      "First itertools combination element is \n",
      "(0, 1, 2)\n",
      "\n",
      "n choose k using my_choose(n, k) is \n",
      "10.0\n",
      "\n",
      "Making a custom Combination object \n",
      "The first custom combination element is \n",
      "^ 0 1 2 ^\n",
      "\n",
      "End demo \n",
      "\n"
     ]
    }
   ],
   "source": [
    "import numpy as np\n",
    "import itertools as it\n",
    "import scipy.special as ss\n",
    "\n",
    "class Combination:\n",
    "  # n == order, k == subset size\n",
    "  def __init__(self, n, k):\n",
    "    self.n = n\n",
    "    self.k = k\n",
    "    self.data = np.arange(self.k)\n",
    "\n",
    "  def __str__(self):\n",
    "    s = \"^ \"\n",
    "    for i in range(self.k):\n",
    "      s = s + str(self.data[i]) + \" \"\n",
    "    s = s + \"^\"\n",
    "    return s\n",
    "\n",
    "  @staticmethod\n",
    "  def my_choose(n, k):\n",
    "    if n < k: return 0\n",
    "    if n == k: return 1;\n",
    "    \n",
    "    delta = k\n",
    "    imax = n - k\n",
    "    if k < n-k:\n",
    "      delta = n-k\n",
    "      imax = k\n",
    "\n",
    "    ans = delta + 1\n",
    "    for i in range(2, imax+1):\n",
    "      ans = (ans * (delta + i)) / i\n",
    "    return ans\n",
    "\n",
    "# =====\n",
    "\n",
    "print(\"\\nBegin combinations demo \\n\")\n",
    "\n",
    "n = 5\n",
    "k = 3\n",
    "print(\"Setting n = \" + str(n) + \" k = \" + str(k))\n",
    "print(\"\")\n",
    "\n",
    "num_combs = ss.comb(n, k)\n",
    "print(\"n choose k using scipy.comb() is \")\n",
    "print(num_combs)\n",
    "print(\"\")\n",
    "\n",
    "print(\"Making all combinations using itertools.combinations() \")\n",
    "all_combs = it.combinations(range(n), k)\n",
    "\n",
    "c = all_combs.__next__()\n",
    "print(\"First itertools combination element is \")\n",
    "print(c)\n",
    "print(\"\")\n",
    "\n",
    "num_combs = Combination.my_choose(n, k)\n",
    "print(\"n choose k using my_choose(n, k) is \")\n",
    "print(num_combs)\n",
    "print(\"\")\n",
    "\n",
    "print(\"Making a custom Combination object \")\n",
    "c = Combination(n, k)\n",
    "print(\"The first custom combination element is \")\n",
    "print(c)\n",
    "\n",
    "print(\"\\nEnd demo \\n\")"
   ]
  },
  {
   "cell_type": "markdown",
   "metadata": {
    "id": "vCTbFysbkWaA"
   },
   "source": [
    "The demo program begins by importing three modules:\n",
    "\n",
    "``import numpy as np``\n",
    "``import itertools as it`` \n",
    "``import scipy.special as ss``\n",
    "\n",
    "The itertools module has the primary combinations class, but the closely associated ``comb()`` function is defined in the special submodule of the ``scipy`` module (and also in scipy.misc).\n",
    "\n",
    "The demo program defines a custom ``Combination`` class. In most cases, you will only want to define a custom implementation of a function when you need to implement some specialized behavior, or you want to avoid using a module that contains the function.\n",
    "\n",
    "Program execution begins by setting up the number of items $n$, and the subset size $k$:\n",
    "    n = 5 \n",
    "    k = 3 \n",
    "    print(\"Setting n = \" + str(n) + \" k = \" + str(k))\n",
    "\n",
    "Lowercase $n$ and $k$ are most often used with combinations, so if you use different variable names it would be a good idea to comment on which is the number of items and which is the subset size. Next, the demo program determines the number of possible combination elements using the SciPy ``comb()`` function:\n",
    "\n",
    "    num_combs = ss.comb(n, k) \n",
    "    print(\"n choose k using scipy.comb() is \")\n",
    "    print(num_combs)\n",
    "\n",
    "The function that returns the number of ways to select $k$ items from $n$ items is almost universally called ``choose(n, k)`` so it's not clear why the SciPy code implementation is named ``comb(n, k)``. The mathematical definition of ``choose(n, k)`` is $n! / k! * (n-k)!$ where ! is the factorial function. For example:\n",
    "$$choose(5, 3) = 5! / (3! * 2!) = 120 / (6 * 2) = 10$$\n",
    "As it turns out, a useful fact is that choose(n, k) = choose(n, n-k). For example, choose(10, 7) = choose(10, 3). The choose function is easier to calculate using smaller values of the subset size.\n",
    "Next, the demo creates a Python ``combinations`` iterator:\n",
    "\n",
    "``all_combs = it.combinations(xrange(n), k)``\n",
    "\n",
    "I like to think of a Python iterator object as a little factory that can emit data when a request is made of it using an explicit or implicit call to a ``next()`` function. Notice the call to the ``it.combinations()`` function accepts ``range(n)`` rather than just ``n``. The choice of the name all_combs could be somewhat misleading if you're not familiar with Python iterators. The all_combs iterator doesn't generate all possible combination elements when it is created. It does, however, have the ability to emit all combination elements.\n",
    "\n",
    "In addition to ``range()``, the ``it.combinations()`` iterator can accept any iterable object. For example:\n",
    "``all_combs = it.combinations(np.array([\"a\", \"b\", \"c\"]), k)``\n",
    "Next, the demo program requests and displays the first itertools combination element like so:\n",
    "    c = all_combs.next() \n",
    "    print(\"The first itertools combination element is \")\n",
    "    print(c)\n",
    "\n",
    "Next, the demo program demonstrates the custom functions. First, the program-defined ``my_choose()`` function is called:\n",
    "\n",
    "    num_combs = Combination.my_choose(n, k) \n",
    "    print(\"n choose k using my_choose(n, k) is \")\n",
    "    print(num_combs)\n",
    "\n",
    "Notice that the call to ``my_choose()`` is appended to ``Combination``, which is the name of its defining class. This is because the ``my_choose()`` function is decorated with the ``@staticmethod`` attribute.\n",
    "\n",
    "Next, the demo creates an instance of the custom ``Combination`` class. The ``Combination`` class ``__init__()`` constructor method initializes an object to the first combination element, so there's no need to call a ``next()`` function to get the first element:\n",
    "\n",
    "    print(\"Making a custom Combination object \")\n",
    "    c = Combination(n, k)\n",
    "    print(\"The first custom combination element is \")\n",
    "    print(c)\n",
    "\n",
    "We overload the print function by defining __str__ method. It displays a ``Combination`` element delimited by the ^ (carat) character so that the element can be easily distinguished from a tuple, a list, or another Python collection. I used ^ because both combination and carat start with the letter c.\n",
    "\n",
    "The custom ``my_choose()`` function is rather subtle. It would be a weak approach to implement a choose function directly using the math definition because that would involve the calculation of three factorial functions. The factorial of a number can be very large. For example, $20!$ is $2,432,902,008,176,640,000$ and $1000!$ is an almost unimaginably large number.\n",
    "\n",
    "The ``my_choose()`` function uses a clever alternate definition that is best explained by example:\n",
    "\n",
    "``choose(10, 7) = choose(10, 3) = (10 * 9 * 8) / (3 * 2 * 1) = 120``\n",
    "\n",
    "Expressed in words, to calculate a ``choose(n, k)`` value, first simplify k to an equivalent smaller k if possible. Then the result is a division with $k!$ on the bottom and $n * n-1 * n-2 * . . * (n-k+1)$ on the top.\n",
    "\n",
    "Furthermore, the top and bottom parts of the division don't have to be computed fully. Instead, the product of each pair of terms in the top can be iteratively divided by a term in the bottom. For example:\n",
    "\n",
    "``choose(10, 3) = 10 * 9 / 3 = 30 * 8 / 2 = 120``\n",
    "\n",
    "    def my_choose(n, k): \n",
    "      if n < k: \n",
    "        return 0 \n",
    "      if n == k: \n",
    "        return 1; \n",
    "      delta = k \n",
    "      imax = n - k \n",
    "      if k < n-k: \n",
    "        delta = n-k \n",
    "        imax = k \n",
    "      \n",
    "      ans = delta + 1 \n",
    "      for i in range(2, imax+1): \n",
    "        ans = (ans * (delta + i)) / i \n",
    "      \n",
    "      return ans\n",
    "\n",
    "The first two statements look for early exit conditions. The statements with delta and imax simplify k if possible. The for loop performs the iterated pair-multiplication and division."
   ]
  },
  {
   "cell_type": "markdown",
   "metadata": {
    "id": "rxIeF_UcbznS"
   },
   "source": [
    "### Combination successor"
   ]
  },
  {
   "cell_type": "markdown",
   "metadata": {
    "id": "WFGz5BVenrtG"
   },
   "source": [
    "When working with mathematical combinations, a key operation is generating the successor to a given combination element. For example, if $n = 5$, $k = 3$, and the $n$ items are the integers $(0, 1, 2, 3, 4)$, then there are 10 possible combination elements. When listed in lexicographical order, the elements are:\n",
    "\n",
    "$$\n",
    "(0, 1, 2) \\\\\n",
    "(0, 1, 3) \\\\\n",
    "(0, 1, 4) \\\\\n",
    "(0, 2, 3) \\\\\n",
    "(0, 2, 4) \\\\\n",
    "(0, 3, 4) \\\\\n",
    "(1, 2, 3) \\\\\n",
    "(1, 2, 4) \\\\\n",
    "(1, 3, 4) \\\\\n",
    "(2, 3, 4)\n",
    "$$\n",
    "\n",
    "Notice that if we removed the separating commas and interpreted each element as an ordinary integer (like 124), the elements would be in ascending order (12 < 13 < 14 < 23 < . . < 234)."
   ]
  },
  {
   "cell_type": "code",
   "execution_count": null,
   "metadata": {
    "colab": {
     "base_uri": "https://localhost:8080/"
    },
    "id": "BTNDfmBPnrTi",
    "outputId": "44878048-e88b-4a9d-90ee-141b755f2dee"
   },
   "outputs": [
    {
     "name": "stdout",
     "output_type": "stream",
     "text": [
      "\n",
      "Begin combination successor demo \n",
      "\n",
      "Setting n = 5 k = 3\n",
      "\n",
      "Iterating through all elements using itertools.combinations()\n",
      "c = (0, 1, 2)\n",
      "c = (0, 1, 3)\n",
      "c = (0, 1, 4)\n",
      "c = (0, 2, 3)\n",
      "c = (0, 2, 4)\n",
      "c = (0, 3, 4)\n",
      "c = (1, 2, 3)\n",
      "c = (1, 2, 4)\n",
      "c = (1, 3, 4)\n",
      "c = (2, 3, 4)\n",
      "\n",
      "Iterating through all elements using custom Combination class\n",
      "c = ^ 0 1 2 ^\n",
      "c = ^ 0 1 3 ^\n",
      "c = ^ 0 1 4 ^\n",
      "c = ^ 0 2 3 ^\n",
      "c = ^ 0 2 4 ^\n",
      "c = ^ 0 3 4 ^\n",
      "c = ^ 1 2 3 ^\n",
      "c = ^ 1 2 4 ^\n",
      "c = ^ 1 3 4 ^\n",
      "c = ^ 2 3 4 ^\n",
      "\n",
      "\n",
      "End demo \n",
      "\n"
     ]
    }
   ],
   "source": [
    "import numpy as np\n",
    "import itertools as it\n",
    "\n",
    "class Combination:\n",
    "  # n == order, k == subset size\n",
    "  \n",
    "  def __init__(self, n, k):\n",
    "    self.n = n\n",
    "    self.k = k\n",
    "    self.data = np.arange(self.k)\n",
    "\n",
    "  def __str__(self):\n",
    "    s = \"^ \"\n",
    "    for i in range(self.k):\n",
    "      s = s + str(self.data[i]) + \" \"\n",
    "    s = s + \"^\"\n",
    "    return s\n",
    "\n",
    "  def successor(self):\n",
    "    if self.data[0] == self.n - self.k:\n",
    "      return None\n",
    "    \n",
    "    res = Combination(self.n, self.k)\n",
    "    for i in range(self.k):\n",
    "      res.data[i] = self.data[i]\n",
    "\n",
    "    i = self.k - 1\n",
    "    while i > 0 and res.data[i] == self.n - self.k + i:\n",
    "      i -= 1\n",
    "\n",
    "    res.data[i] += 1\n",
    "\n",
    "    for j in range(i, self.k - 1):\n",
    "      res.data[j+1] = res.data[j] + 1\n",
    "\n",
    "    return res\n",
    "\n",
    "# =====\n",
    "\n",
    "print(\"\\nBegin combination successor demo \\n\")\n",
    "\n",
    "n = 5\n",
    "k = 3\n",
    "print(\"Setting n = \" + str(n) + \" k = \" + str(k))\n",
    "print(\"\")\n",
    "\n",
    "print(\"Iterating through all elements using itertools.combinations()\")\n",
    "comb_iter = it.combinations(range(n), k)\n",
    "for c in comb_iter:\n",
    "  print(\"c = \" + str(c))\n",
    "print(\"\")\n",
    "\n",
    "print(\"Iterating through all elements using custom Combination class\")\n",
    "c = Combination(n, k)\n",
    "while c is not None:\n",
    "  print(\"c = \" + str(c))\n",
    "  c = c.successor()\n",
    "print(\"\")\n",
    "\n",
    "print(\"\\nEnd demo \\n\")"
   ]
  },
  {
   "cell_type": "markdown",
   "metadata": {
    "id": "VTnEAbAcogUW"
   },
   "source": [
    "The demo program begins by importing two modules:\n",
    "\n",
    "``import numpy as np`` \n",
    "``import itertools as it``\n",
    "\n",
    "Since the itertools module has many kinds of iterable objects, an alternative is to bring just the permutations iterator into scope:\n",
    "\n",
    "``from itertools import combinations``\n",
    "\n",
    "The demo program defines a custom ``Combination`` class. In most cases, you will only want to define a custom implementation of a function when you need to implement some specialized behavior, or you want to avoid using a module that contains the function (such as itertools).\n",
    "\n",
    "Program execution begins by setting up the number of items and the subset size:\n",
    "\n",
    "    n = 5 \n",
    "    k = 3 \n",
    "    print(\"Setting n = \" + str(n) + \" k = \" + str(k))\n",
    "\n",
    "It is customary to use $n$ and $k$ when working with mathematical combinations, so you should do so unless you have a reason to use different variable names.\n",
    "\n",
    "Next, the demo program iterates through all possible combination elements using an implicit mechanism:\n",
    "    print(\"Iterating through all elements using itertools.combinations()\")\n",
    "    comb_iter = it.combinations(range(n), k)\n",
    "    for c in comb_iter: \n",
    "    print(\"c = \" + str(c)) \n",
    "    print(\"\")\n",
    "\n",
    "The ``comb_iter`` iterator can emit all possible combination elements. In most situations, Python iterators are designed to be called using a for item in iterator pattern, as shown. In other programming languages, this pattern is sometimes distinguished from a regular for loop by using a ``foreach`` keyword (C#) or special syntax like for ``x : somearr`` (Java).\n",
    "\n",
    "Note that the ``itertools.combinations()`` iterator emits tuples, indicated by the parentheses in the output, rather than a list or a NumPy array.\n",
    "It is possible but awkward to explicitly call the combinations iterator using the ``next()`` function like so:\n",
    "\n",
    "    comb_iter = it.combinations(range(n), k) \n",
    "    while True: \n",
    "      try: \n",
    "        c = comb_iter.__next__() \n",
    "        print(\"c = \" + str(c))\n",
    "      Except StopIteration: \n",
    "        break\n",
    "    print(\"\")\n",
    "\n",
    "By design, iterator objects don't have an explicit way to signal the end of iteration, such as a ``last()`` function or returning a special value like ``None``. Instead, when an iterator object has no more items to emit and a call to ``next()`` is made, a ``StopIteration`` exception is thrown. To terminate a loop, you must catch the exception. Note that you could catch a general Exception rather than the more specific StopIteration.\n",
    "\n",
    "Next, the demo program iterates through all combination elements for ``n = 5`` and ``k = 3`` using the ``successor()`` function of the program-defined ``Combination`` class:\n",
    "\n",
    "    print(\"Iterating through all elements using custom Combination class\")\n",
    "    c = Combination(n, k) \n",
    "    while c is not None: \n",
    "      print \"c = \" + str(c)\n",
    "      c = c.successor()\n",
    "    print(\"\")\n",
    "\n",
    "The ``successor()`` function of the ``Combination`` class uses a traditional stopping technique by returning ``None`` when there are no more permutation elements. The logic in the program-defined successor() function is rather clever. Suppose ``n = 7``, ``k = 4``, and the current combination element is:\n",
    "``^ 0 1 5 6 ^``\n",
    "\n",
    "The next element in lexicographical order after 0256, using the digits 0 through 6, is 0345. The successor algorithm first finds the index ``i`` of the left-most item that must change. In this case, ``i = 1``, which corresponds to item 2. The item at ``i`` is incremented, giving a preliminary result of ``0356``. Then the items to the right of the new value at ``i`` (56 in this case) are updated so that they are all consecutive relative to the value at ``i`` (45 in this case), giving the final result of 0345.\n",
    "\n",
    "Notice that it's quite easy for ``successor()`` to determine the last combination element because it's the only one that has a value of n-k at index 0. For example, with ``n = 5`` and ``k = 3``, ``n-k = 2`` and the last combination element is ``(2 3 4)``. Or, if ``n = 20`` and ``k = 8``, the last combination element would be (12 13 14 . . . 19).\n",
    "\n",
    "One potential advantage of using a program-defined ``Combination`` class rather than the itertools.``combinations()`` iterator is that you can easily define a ``predecessor()`` function. For example:\n",
    "\n",
    "    def predecessor(self): \n",
    "      if self.data[self.n - self.k] == self.n - self.k: \n",
    "        return None \n",
    "      res = Combination(self.n, self.k) \n",
    "      res.data = np.copy(self.data) \n",
    "      i = self.k - 1 \n",
    "      while i > 0 and res.data[i] == res.data[i-1] + 1: \n",
    "        i -= 1 \n",
    "        res.data[i] -= 1; i += 1 \n",
    "      while i < k: \n",
    "        res.data[i] = self.n - self.k + i \n",
    "        i += 1 \n",
    "      return res \n",
    "    def last(self):\n",
    "      res = Combination(self.n, self.k) \n",
    "      nk = self.n - self.k \n",
    "      for i in xrange(self.k): \n",
    "        res.data[i] = nk + i \n",
    "      return res\n",
    "\n",
    "Then the following statements would iterate through all combination elements in reverse order:\n",
    "\n",
    "    c = Combination(n, k) # 0 1 2 \n",
    "    c = c.last() # 2 3 4 \n",
    "    while c is not None: \n",
    "      print(\"c = \" + str(c))\n",
    "      c = c.predecessor()"
   ]
  },
  {
   "cell_type": "markdown",
   "metadata": {
    "id": "3zCTDFmFbz3p"
   },
   "source": [
    "### Combination element"
   ]
  },
  {
   "cell_type": "markdown",
   "metadata": {
    "id": "xcyT5jq-rFpB"
   },
   "source": [
    "When working with mathematical combinations, it's often useful to be able to generate a specific element. For example, if ``n = 5``, ``k = 3``, and the items are the integers $$(0, 1, 2, 3, 4)$$, then there are 10 combination elements. When listed in lexicographical order, the elements are:\n",
    "\n",
    "$$\n",
    "[0] (0, 1, 2) \\\\\n",
    "[1] (0, 1, 3) \\\\\n",
    "[2] (0, 1, 4) \\\\\n",
    "[3] (0, 2, 3) \\\\\n",
    "[4] (0, 2, 4) \\\\\n",
    "[5] (0, 3, 4) \\\\\n",
    "[6] (1, 2, 3) \\\\\n",
    "[7] (1, 2, 4) \\\\\n",
    "[8] (1, 3, 4) \\\\ \n",
    "[9] (2, 3, 4)\n",
    "$$\n",
    "\n",
    "In many situations, you want to iterate through all possible combination elements, but in some cases you may want to generate just a specific combination element. For example, a function call like \n",
    "``ce = comb_element(5)`` would store ``(0, 3, 4)`` into ``ce``.\n",
    "\n",
    "Using the built-in itertools.combinations iterator, the only way you can get a specific combination element is to iterate from the first element until you reach the desired element. This approach is impractical in all but the simplest scenarios. An efficient alternative is to define a custom ``Combination`` class and ``element()`` function that use NumPy arrays for data."
   ]
  },
  {
   "cell_type": "code",
   "execution_count": null,
   "metadata": {
    "colab": {
     "base_uri": "https://localhost:8080/"
    },
    "id": "VN9do8pKr1mk",
    "outputId": "5ae318fd-32f8-496f-8e5f-68ec41f5f618"
   },
   "outputs": [
    {
     "name": "stdout",
     "output_type": "stream",
     "text": [
      "\n",
      "Begin combination element demo \n",
      "\n",
      "Setting n = 100 k = 8\n",
      "There are 186087894300.0 different combinations \n",
      "\n",
      "Element 100000000 using itertools.combinations() is \n",
      "(0, 1, 3, 19, 20, 44, 47, 90)\n",
      "Elapsed time = 9.453157999999974 seconds \n",
      "\n",
      "Element 100000000 using custom Combination class is \n",
      "^ 0 1 3 19 20 44 47 90 ^\n",
      "Elapsed time = 0.000619000000028791 seconds \n",
      "\n",
      "\n",
      "End demo \n",
      "\n"
     ]
    }
   ],
   "source": [
    "import numpy as np          # to make custom Combination class\n",
    "import itertools as it      # has combinations iterator\n",
    "import scipy.special as ss  # has comb() aka choose() function\n",
    "import time                 # to time performance\n",
    "\n",
    "class Combination:\n",
    "  def __init__(self, n, k):\n",
    "    self.n = n\n",
    "    self.k = k\n",
    "    self.data = np.arange(k)\n",
    "\n",
    "  def __str__(self): #overload \n",
    "    s = \"^ \"\n",
    "    for i in range(self.k):\n",
    "      s = s + str(self.data[i]) + \" \"\n",
    "    s = s + \"^\"\n",
    "    return s\n",
    "\n",
    "  @staticmethod\n",
    "  def my_choose(n,k):\n",
    "    if n < k: return 0\n",
    "    if n == k: return 1;\n",
    "    \n",
    "    delta = k\n",
    "    imax = n - k\n",
    "    if k < n-k:\n",
    "      delta = n-k\n",
    "      imax = k\n",
    "\n",
    "    ans = delta + 1\n",
    "    for i in range(2, imax+1):\n",
    "      ans = (ans * (delta + i)) / i\n",
    "    return ans\n",
    "\n",
    "  def element(self, idx):\n",
    "    maxM = Combination.my_choose(self.n, self.k) - 1\n",
    "\n",
    "    ans = np.zeros(self.k, dtype=np.int64)\n",
    "    a = self.n\n",
    "    b = self.k\n",
    "    x = maxM - idx\n",
    "    for i in range(self.k):\n",
    "      ans[i] = self.my_largestV(a, b, x)\n",
    "      x = x - Combination.my_choose(ans[i], b)\n",
    "      a = ans[i]\n",
    "      b -= 1\n",
    "\n",
    "    for i in range(self.k):\n",
    "      ans[i] = (self.n - 1) - ans[i]\n",
    "\n",
    "    result = Combination(self.n, self.k)\n",
    "    for i in range(self.k):\n",
    "      result.data[i] = ans[i]\n",
    "    return result\n",
    "\n",
    "  def my_largestV(self, a, b, x):\n",
    "    v = a - 1\n",
    "    while Combination.my_choose(v, b) > x:\n",
    "      v -= 1\n",
    "    return v\n",
    "\n",
    "# =====\n",
    "\n",
    "def comb_element(n, k, idx):\n",
    "  comb_it = it.combinations(range(n), k)\n",
    "  i = 0\n",
    "  for c in comb_it:\n",
    "    if i == idx:\n",
    "      return c\n",
    "      break\n",
    "    i += 1\n",
    "  return None\n",
    "\n",
    "# =====\n",
    "\n",
    "print(\"\\nBegin combination element demo \\n\")\n",
    "\n",
    "n = 100\n",
    "k = 8\n",
    "print(\"Setting n = \" + str(n) + \" k = \" + str(k))\n",
    "ces = ss.comb(n, k)\n",
    "print(\"There are \" + str(ces) + \" different combinations \\n\")\n",
    "\n",
    "idx = 100000000\n",
    "\n",
    "print(\"Element \" + str(idx) + \" using itertools.combinations() is \")\n",
    "start_time = time.clock()\n",
    "ce = comb_element(n, k, idx)\n",
    "end_time = time.clock()\n",
    "elapsed_time = end_time - start_time\n",
    "print(ce) \n",
    "print(\"Elapsed time = \" + str(elapsed_time) + \" seconds \")\n",
    "print(\"\")\n",
    "\n",
    "c = Combination(n, k)\n",
    "start_time = time.clock()\n",
    "ce = c.element(idx)\n",
    "end_time = time.clock()\n",
    "elapsed_time = end_time - start_time\n",
    "print(\"Element \" + str(idx) + \" using custom Combination class is \")\n",
    "print(ce)\n",
    "print(\"Elapsed time = \" + str(elapsed_time) + \" seconds \")\n",
    "print(\"\")\n",
    "\n",
    "print(\"\\nEnd demo \\n\")"
   ]
  },
  {
   "cell_type": "markdown",
   "metadata": {
    "id": "NRUsEM6msgep"
   },
   "source": [
    "The demo program sets up a combinatorial problem with ``n = 100`` items taken ``k = 8`` at a time. So the first combination element is $(0, 1, 2, 3, 4, 5, 6, 7)$. The number of different combination elements is calculated using the ``comb()`` function from the ``scipy.special`` module and is 186,087,894,300. Note that in virtually all other programming language libraries, the function to calculate the number of different combination elements is called ``choose()``.\n",
    "The demo calculates combination element 100,000,000 using a stand-alone, program-defined function ``comb_element()`` that uses the built-in ``itertools.combinations`` iterator. This approach took just over 9 - 10 seconds on a more or less standard desktop PC machine.\n",
    "\n",
    "The demo calculates the same combination element using a program-defined ``Combination`` class and ``element()`` function. This approach took just less than 0.001 seconds. The point is that Python iterators are designed to iterate well, but are not well suited for other scenarios.\n",
    "\n",
    "The program-defined function ``comb_element()`` is:\n",
    "\n",
    "    def comb_element(n, k, idx): \n",
    "      comb_it = it.combinations(xrange(n), k) # make an iterator \n",
    "      i = 0 # index counter \n",
    "      for c in comb_it: # request next combination element \n",
    "        if i == idx: # are we there yet? \n",
    "          return c; break # if so, return current element and exit loop \n",
    "        i += 1 # otherwise bump counter \n",
    "      return None # should never get here\n",
    "\n",
    "The function doesn't check if parameter idx is valid. You could do so using a statement like:\n",
    "``if idx >= ss.comb(n, k): # error``\n",
    "\n",
    "The obvious problem with using an iterator is that there's no way to avoid walking through every combination element until you reach the desired element. On the other hand, the program-defined ``element()`` function in the ``Combination`` class uses a clever mathematical idea called the combinadic to generate a combination element directly.\n",
    "The regular decimal representation of numbers is based on powers of 10. For example, $7203$ is $(7 * 10^3) + (2 * 10^2) + (0 * 10^1) + (3 * 10^0)$. The combinadic of a number is an alternate representation based on the mathematical $choose(n,k)$ function. For example, if $n = 7$ and $k = 4$, the number $27$ is $6521$ in combinadic form because $$27 = choose(6,4) + choose(5,3) + choose(2,2) + choose(1,1)$$. \n",
    "\n",
    "Using some rather remarkable mathematics, it's possible to use the combinadic of a combination element index to compute the element directly."
   ]
  },
  {
   "cell_type": "markdown",
   "metadata": {
    "id": "bEOIq1roOCjt"
   },
   "source": [
    "# SciPy Statistics"
   ]
  },
  {
   "cell_type": "markdown",
   "metadata": {
    "id": "z2Jx6Oce09KB"
   },
   "source": [
    "In NumPy there are basic statistical functions like ``mean``, ``std``, ``median``, ``argmax``, and ``argmin``. Moreover, the ``numpy.arrays`` have built-in methods that allow us to use most of the NumPy statistics easily."
   ]
  },
  {
   "cell_type": "code",
   "execution_count": null,
   "metadata": {
    "colab": {
     "base_uri": "https://localhost:8080/"
    },
    "id": "Fo0vwiDE1Xth",
    "outputId": "a511a342-8414-4e24-ee6f-2d7042ee50a6"
   },
   "outputs": [
    {
     "name": "stdout",
     "output_type": "stream",
     "text": [
      "Mean: 0.016781425977316328\n",
      " Standard deviation: 1.045799954070121\n",
      " Variance: 1.0936975439330674\n"
     ]
    }
   ],
   "source": [
    "import numpy as np\n",
    "\n",
    "# Constructing a random array with 1000 elements\n",
    "x = np.random.randn(1000)\n",
    "# Calculating several of the built-in methods\n",
    "# that numpy.array has\n",
    "\n",
    "mean = x.mean()\n",
    "std = x.std()\n",
    "var = x.var()\n",
    "\n",
    "print('Mean: ' + str(mean) + '\\n',\n",
    "      'Standard deviation: ' + str(std) + '\\n',\n",
    "      'Variance: ' + str(var))"
   ]
  },
  {
   "cell_type": "markdown",
   "metadata": {
    "id": "2LiLB8Ly1aAi"
   },
   "source": [
    "\n",
    "For quick calculations these methods are useful, but more is usually needed for quantitative\n",
    "research. SciPy offers an extended collection of statistical tools such as distributions\n",
    "(continuous or discrete) and functions.We will first cover how to extrapolate the\n",
    "different types of distributions. Afterward, we will discuss the SciPy statistical functions\n",
    "used most often in various fields."
   ]
  },
  {
   "cell_type": "markdown",
   "metadata": {
    "id": "qaDVmXJA2HvL"
   },
   "source": [
    "## Continuous and Discrete Distributions"
   ]
  },
  {
   "cell_type": "markdown",
   "metadata": {
    "id": "CtatcwB42O6v"
   },
   "source": [
    "There are roughly 80 continuous distributions and over 10 discrete distributions. Twenty of the continuous functions are shown in the figure Figure 3-12 as probability density\n",
    "functions (PDFs) to give a visual impression of what the ``scipy.stats`` package provides:\n",
    "![A sample of 20 continuous distributions in SciPy.JPG](data:image/jpeg;base64,/9j/4AAQSkZJRgABAQEAYABgAAD/4RD4RXhpZgAATU0AKgAAAAgABAE7AAIAAAAPAAAISodpAAQAAAABAAAIWpydAAEAAAAeAAAQ0uocAAcAAAgMAAAAPgAAAAAc6gAAAAgAAAAAAAAAAAAAAAAAAAAAAAAAAAAAAAAAAAAAAAAAAAAAAAAAAAAAAAAAAAAAAAAAAAAAAAAAAAAAAAAAAAAAAAAAAAAAAAAAAAAAAAAAAAAAAAAAAAAAAAAAAAAAAAAAAAAAAAAAAAAAAAAAAAAAAAAAAAAAAAAAAAAAAAAAAAAAAAAAAAAAAAAAAAAAAAAAAAAAAAAAAAAAAAAAAAAAAAAAAAAAAAAAAAAAAAAAAAAAAAAAAAAAAAAAAAAAAAAAAAAAAAAAAAAAAAAAAAAAAAAAAAAAAAAAAAAAAAAAAAAAAAAAAAAAAAAAAAAAAAAAAAAAAAAAAAAAAAAAAAAAAAAAAAAAAAAAAAAAAAAAAAAAAAAAAAAAAAAAAAAAAAAAAAAAAAAAAAAAAAAAAAAAAAAAAAAAAAAAAAAAAAAAAAAAAAAAAAAAAAAAAAAAAAAAAAAAAAAAAAAAAAAAAAAAAAAAAAAAAAAAAAAAAAAAAAAAAAAAAAAAAAAAAAAAAAAAAAAAAAAAAAAAAAAAAAAAAAAAAAAAAAAAAAAAAAAAAAAAAAAAAAAAAAAAAAAAAAAAAAAAAAAAAAAAAAAAAAAAAAAAAAAAAAAAAAAAAAAAAAAAAAAAAAAAAAAAAAAAAAAAAAAAAAAAAAAAAAAAAAAAAAAAAAAAAAAAAAAAAAAAAAAAAAAAAAAAAAAAAAAAAAAAAAAAAAAAAAAAAAAAAAAAAAAAAAAAAAAAAAAAAAAAAAAAAAAAAAAAAAAAAAAAAAAAAAAAAAAAAAAAAAAAAAAAAAAAAAAAAAAAAAAAAAAAAAAAAAAAAAAAAAAAAAAAAAAAAAAAAAAAAAAAAAAAAAAAAAAAAAAAAAAAAAAAAAAAAAAAAAAAAAAAAAAAAAAAAAAAAAAAAAAAAAAAAAAAAAAAAAAAAAAAAAAAAAAAAAAAAAAAAAAAAAAAAAAAAAAAAAAAAAAAAAAAAAAAAAAAAAAAAAAAAAAAAAAAAAAAAAAAAAAAAAAAAAAAAAAAAAAAAAAAAAAAAAAAAAAAAAAAAAAAAAAAAAAAAAAAAAAAAAAAAAAAAAAAAAAAAAAAAAAAAAAAAAAAAAAAAAAAAAAAAAAAAAAAAAAAAAAAAAAAAAAAAAAAAAAAAAAAAAAAAAAAAAAAAAAAAAAAAAAAAAAAAAAAAAAAAAAAAAAAAAAAAAAAAAAAAAAAAAAAAAAAAAAAAAAAAAAAAAAAAAAAAAAAAAAAAAAAAAAAAAAAAAAAAAAAAAAAAAAAAAAAAAAAAAAAAAAAAAAAAAAAAAAAAAAAAAAAAAAAAAAAAAAAAAAAAAAAAAAAAAAAAAAAAAAAAAAAAAAAAAAAAAAAAAAAAAAAAAAAAAAAAAAAAAAAAAAAAAAAAAAAAAAAAAAAAAAAAAAAAAAAAAAAAAAAAAAAAAAAAAAAAAAAAAAAAAAAAAAAAAAAAAAAAAAAAAAAAAAAAAAAAAAAAAAAAAAAAAAAAAAAAAAAAAAAAAAAAAAAAAAAAAAAAAAAAAAAAAAAAAAAAAAAAAAAAAAAAAAAAAAAAAAAAAAAAAAAAAAAAAAAAAAAAAAAAAAAAAAAAAAAAAAAAAAAAAAAAAAAAAAAAAAAAAAAAAAAAAAAAAAAAAAAAAAAAAAAAAAAAAAAAAAAAAAAAAAAAAAAAAAAAAAAAAAAAAAAAAAAAAAAAAAAAAAAAAAAAAAAAAAAAAAAAAAAAAAAAAAAAAAAAAAAAAAAAAAAAAAAAAAAAAAAAAAAAAAAAAAAAAAAAAAAAAAAAAAAAAAAAAAAAAAAAAAAAAAAAAAAAAAAAAAAAAAAAAAAAAAAAAAAAAAAAAAAAAAAAAAAAAAAAAAAAAAAAAAAAAAAAAAAAAAAAAAAAAAAAAAAAAAAAAAAAAAAAAAAAAAAAAAAAAAAAAAAAAAAAAAAAAAAAAAAAAAAAAAAAAAAAAAAAAAAAAAAAAAAAAAAAAAAAAAAAAAAAAAAAAAAAAAAAAAAAAAAAAAAAAAAAAAAAAAAAAAAAAAAAAAAAAAAAAAAAAAAAAAAAAAAAAAAAAAAAAAAAAAAAAAAAAAAAAAAAAAAAAAAAAAAAAAAAAAAAAAAAAAAAAAAAAAAAAAAAAAAAAAAAAAAAAAAAAAAAAAAAAAAAAAAAAAAAAAAAAAAAAAAAAAAAAAAAAAAAAAAAAAAAAAAAAAAAAAAAAAAAAAAAAAAAAAAAAAAAAAAAAAAAAAAAAAAAAAAAAAAAAAAAAAAAAAAAAAAAAAAAAAAAAAAAAAAAAAAAAAAAAAAAAAAAAAAAAAAAAAAAAAAAAAAAAAAAAAAAAAAAAAAAAAAAAAAAAAAAAAAAAAAAAAAAAAAAAAAAAAAAAAAAAAAAAAAAAAAAAAAAAAAAAAAAAAAAAAAAAAAAAAAAAAAAAAAAAAAAAAAAAAAAAAAAAAAAAAAAAAAAAAAAAAAAAAAAAAAAAAAAAAAAAAAAAAAAAAAAAAAAAAAAAAAAAAAAAAAAAAAAAAAAAAAAAAAAAAAAAAAAAAAAAAAAAAAAAAAAAAAAAAAAAAAAAAAAAAAAAAAAAAAAAAAAAAAAAAAAAAAAAAAAAAAAAAAAAAAAAAAAAAAAAAAAAAAAAAAAAAAAAAAAAAAAAAAAAAAAAAAAAAAAAAAAAAAAAAAAAAAAAAAAAAAAAAAAAAAAAAAAAAAAAAAAAAAAAAAAAAAAAAAAAAAAAAAAAAAAAAAAAAAAAAAAAAAAAAAAAAAAEhyaXN0byBIcmlzdG92AAAABZADAAIAAAAUAAAQqJAEAAIAAAAUAAAQvJKRAAIAAAADOTIAAJKSAAIAAAADOTIAAOocAAcAAAgMAAAInAAAAAAc6gAAAAgAAAAAAAAAAAAAAAAAAAAAAAAAAAAAAAAAAAAAAAAAAAAAAAAAAAAAAAAAAAAAAAAAAAAAAAAAAAAAAAAAAAAAAAAAAAAAAAAAAAAAAAAAAAAAAAAAAAAAAAAAAAAAAAAAAAAAAAAAAAAAAAAAAAAAAAAAAAAAAAAAAAAAAAAAAAAAAAAAAAAAAAAAAAAAAAAAAAAAAAAAAAAAAAAAAAAAAAAAAAAAAAAAAAAAAAAAAAAAAAAAAAAAAAAAAAAAAAAAAAAAAAAAAAAAAAAAAAAAAAAAAAAAAAAAAAAAAAAAAAAAAAAAAAAAAAAAAAAAAAAAAAAAAAAAAAAAAAAAAAAAAAAAAAAAAAAAAAAAAAAAAAAAAAAAAAAAAAAAAAAAAAAAAAAAAAAAAAAAAAAAAAAAAAAAAAAAAAAAAAAAAAAAAAAAAAAAAAAAAAAAAAAAAAAAAAAAAAAAAAAAAAAAAAAAAAAAAAAAAAAAAAAAAAAAAAAAAAAAAAAAAAAAAAAAAAAAAAAAAAAAAAAAAAAAAAAAAAAAAAAAAAAAAAAAAAAAAAAAAAAAAAAAAAAAAAAAAAAAAAAAAAAAAAAAAAAAAAAAAAAAAAAAAAAAAAAAAAAAAAAAAAAAAAAAAAAAAAAAAAAAAAAAAAAAAAAAAAAAAAAAAAAAAAAAAAAAAAAAAAAAAAAAAAAAAAAAAAAAAAAAAAAAAAAAAAAAAAAAAAAAAAAAAAAAAAAAAAAAAAAAAAAAAAAAAAAAAAAAAAAAAAAAAAAAAAAAAAAAAAAAAAAAAAAAAAAAAAAAAAAAAAAAAAAAAAAAAAAAAAAAAAAAAAAAAAAAAAAAAAAAAAAAAAAAAAAAAAAAAAAAAAAAAAAAAAAAAAAAAAAAAAAAAAAAAAAAAAAAAAAAAAAAAAAAAAAAAAAAAAAAAAAAAAAAAAAAAAAAAAAAAAAAAAAAAAAAAAAAAAAAAAAAAAAAAAAAAAAAAAAAAAAAAAAAAAAAAAAAAAAAAAAAAAAAAAAAAAAAAAAAAAAAAAAAAAAAAAAAAAAAAAAAAAAAAAAAAAAAAAAAAAAAAAAAAAAAAAAAAAAAAAAAAAAAAAAAAAAAAAAAAAAAAAAAAAAAAAAAAAAAAAAAAAAAAAAAAAAAAAAAAAAAAAAAAAAAAAAAAAAAAAAAAAAAAAAAAAAAAAAAAAAAAAAAAAAAAAAAAAAAAAAAAAAAAAAAAAAAAAAAAAAAAAAAAAAAAAAAAAAAAAAAAAAAAAAAAAAAAAAAAAAAAAAAAAAAAAAAAAAAAAAAAAAAAAAAAAAAAAAAAAAAAAAAAAAAAAAAAAAAAAAAAAAAAAAAAAAAAAAAAAAAAAAAAAAAAAAAAAAAAAAAAAAAAAAAAAAAAAAAAAAAAAAAAAAAAAAAAAAAAAAAAAAAAAAAAAAAAAAAAAAAAAAAAAAAAAAAAAAAAAAAAAAAAAAAAAAAAAAAAAAAAAAAAAAAAAAAAAAAAAAAAAAAAAAAAAAAAAAAAAAAAAAAAAAAAAAAAAAAAAAAAAAAAAAAAAAAAAAAAAAAAAAAAAAAAAAAAAAAAAAAAAAAAAAAAAAAAAAAAAAAAAAAAAAAAAAAAAAAAAAAAAAAAAAAAAAAAAAAAAAAAAAAAAAAAAAAAAAAAAAAAAAAAAAAAAAAAAAAAAAAAAAAAAAAAAAAAAAAAAAAAAAAAAAAAAAAAAAAAAAAAAAAAAAAAAAAAAAAAAAAAAAAAAAAAAAAAAAAAAAAAAAAAAAAAAAAAAAAAAAAAAAAAAAAAAAAAAAAAAAAAAAAAAAAAAAAAAAAAAAAAAAAAAAAAAAAAAAAAAAAAAAAAAAAAAAAAAAAAAAAAAAAAAAAAAAAAAAAAAAAAAAAAAAAAAAAAAAAAAAAAAAAAAAAAAAAAAAAAAAAAAAAAAAAAAAAAAAAAAAAAAAAAAAAAAAAAAAAAAAAAAAAAAAAAAAAAAAAAAAAAAAAAAAAAAAAAAAAAAAAAAAAAAAAAAAAAAAAAAAAAAAAAAAAAAAAAAAAAAAAAAAAAAAAAAAAAAAAAAAAAAAAAAAAAAAAAAAAAAAAAAAAAAAAAAAAAAAAAAAAAAAAAAAAAAAAAAAAAAAAAAAAAAAAAAAAAAAAAAAAAAAAAAAAAAAAAAAAAAAAAAAAAAAAAAAAAAAAAAAAAAAAAAAAAAAAAAAAAAAAAAAAAAAAAAAAAAAAAAAAAAAAAAAAAAAAAAAAAAAAAAAAAAAAAAAAAAAAAAAAAAAAAAAAAAAAAAAAAAAAAAAAAAAAAAAAAAAAAAAAAAAAAAAAAAAAAAAAAAAAAAAAAAAAAAAAAAAAAAAAAAAAAAAAAAAAAAAAAAAAAAAAAAAAAAAAAAAAAAAAAAAAAAAAAAAAAAAAAAAAAAAAAAAAAAAAAAAAAAAAAAAAAAAAAAAAAAAAAAAAAAAAAAAAAAAAAAAAAAAAAAAAAAAAAAAAAAAAAAAAAAAAAAAAAAAAAAAAAAAAAAAAAAAAAAAAAAAAAAAAAAAAAAAAAAAAAAAAAAAAAAAAAAAAAAAAAAAAAAAAAAAAAAAAAAAAAAAAAAAAAAAAAAAAAAAAAAAAAAAAAAAAAAAAAAAAAAAAAAAAAAAAAAAAAAAAAAAAAAAAAAAAAAAAAAAAAAAAAAAAAAAAAAAAAAAAAAAAAAAAAAAAAAAAAAAAAAAAAAAAAAAAAAAAAAAAAAAAAAAAAAAAAAAAAAAAAAAAAAAAAAAAAAAAAAAAADIwMjA6MTI6MjMgMTE6MDA6MjcAMjAyMDoxMjoyMyAxMTowMDoyNwAAAEgAcgBpAHMAdABvACAASAByAGkAcwB0AG8AdgAAAP/hCyFodHRwOi8vbnMuYWRvYmUuY29tL3hhcC8xLjAvADw/eHBhY2tldCBiZWdpbj0n77u/JyBpZD0nVzVNME1wQ2VoaUh6cmVTek5UY3prYzlkJz8+DQo8eDp4bXBtZXRhIHhtbG5zOng9ImFkb2JlOm5zOm1ldGEvIj48cmRmOlJERiB4bWxuczpyZGY9Imh0dHA6Ly93d3cudzMub3JnLzE5OTkvMDIvMjItcmRmLXN5bnRheC1ucyMiPjxyZGY6RGVzY3JpcHRpb24gcmRmOmFib3V0PSJ1dWlkOmZhZjViZGQ1LWJhM2QtMTFkYS1hZDMxLWQzM2Q3NTE4MmYxYiIgeG1sbnM6ZGM9Imh0dHA6Ly9wdXJsLm9yZy9kYy9lbGVtZW50cy8xLjEvIi8+PHJkZjpEZXNjcmlwdGlvbiByZGY6YWJvdXQ9InV1aWQ6ZmFmNWJkZDUtYmEzZC0xMWRhLWFkMzEtZDMzZDc1MTgyZjFiIiB4bWxuczp4bXA9Imh0dHA6Ly9ucy5hZG9iZS5jb20veGFwLzEuMC8iPjx4bXA6Q3JlYXRlRGF0ZT4yMDIwLTEyLTIzVDExOjAwOjI3LjkxNzwveG1wOkNyZWF0ZURhdGU+PC9yZGY6RGVzY3JpcHRpb24+PHJkZjpEZXNjcmlwdGlvbiByZGY6YWJvdXQ9InV1aWQ6ZmFmNWJkZDUtYmEzZC0xMWRhLWFkMzEtZDMzZDc1MTgyZjFiIiB4bWxuczpkYz0iaHR0cDovL3B1cmwub3JnL2RjL2VsZW1lbnRzLzEuMS8iPjxkYzpjcmVhdG9yPjxyZGY6U2VxIHhtbG5zOnJkZj0iaHR0cDovL3d3dy53My5vcmcvMTk5OS8wMi8yMi1yZGYtc3ludGF4LW5zIyI+PHJkZjpsaT5IcmlzdG8gSHJpc3RvdjwvcmRmOmxpPjwvcmRmOlNlcT4NCgkJCTwvZGM6Y3JlYXRvcj48L3JkZjpEZXNjcmlwdGlvbj48L3JkZjpSREY+PC94OnhtcG1ldGE+DQogICAgICAgICAgICAgICAgICAgICAgICAgICAgICAgICAgICAgICAgICAgICAgICAgICAgICAgICAgICAgICAgICAgICAgICAgICAgICAgICAgICAgICAgICAgICAgICAgICAgCiAgICAgICAgICAgICAgICAgICAgICAgICAgICAgICAgICAgICAgICAgICAgICAgICAgICAgICAgICAgICAgICAgICAgICAgICAgICAgICAgICAgICAgICAgICAgICAgICAgICAKICAgICAgICAgICAgICAgICAgICAgICAgICAgICAgICAgICAgICAgICAgICAgICAgICAgICAgICAgICAgICAgICAgICAgICAgICAgICAgICAgICAgICAgICAgICAgICAgICAgIAogICAgICAgICAgICAgICAgICAgICAgICAgICAgICAgICAgICAgICAgICAgICAgICAgICAgICAgICAgICAgICAgICAgICAgICAgICAgICAgICAgICAgICAgICAgICAgICAgICAgCiAgICAgICAgICAgICAgICAgICAgICAgICAgICAgICAgICAgICAgICAgICAgICAgICAgICAgICAgICAgICAgICAgICAgICAgICAgICAgICAgICAgICAgICAgICAgICAgICAgICAKICAgICAgICAgICAgICAgICAgICAgICAgICAgICAgICAgICAgICAgICAgICAgICAgICAgICAgICAgICAgICAgICAgICAgICAgICAgICAgICAgICAgICAgICAgICAgICAgICAgIAogICAgICAgICAgICAgICAgICAgICAgICAgICAgICAgICAgICAgICAgICAgICAgICAgICAgICAgICAgICAgICAgICAgICAgICAgICAgICAgICAgICAgICAgICAgICAgICAgICAgCiAgICAgICAgICAgICAgICAgICAgICAgICAgICAgICAgICAgICAgICAgICAgICAgICAgICAgICAgICAgICAgICAgICAgICAgICAgICAgICAgICAgICAgICAgICAgICAgICAgICAKICAgICAgICAgICAgICAgICAgICAgICAgICAgICAgICAgICAgICAgICAgICAgICAgICAgICAgICAgICAgICAgICAgICAgICAgICAgICAgICAgICAgICAgICAgICAgICAgICAgIAogICAgICAgICAgICAgICAgICAgICAgICAgICAgICAgICAgICAgICAgICAgICAgICAgICAgICAgICAgICAgICAgICAgICAgICAgICAgICAgICAgICAgICAgICAgICAgICAgICAgCiAgICAgICAgICAgICAgICAgICAgICAgICAgICAgICAgICAgICAgICAgICAgICAgICAgICAgICAgICAgICAgICAgICAgICAgICAgICAgICAgICAgICAgICAgICAgICAgICAgICAKICAgICAgICAgICAgICAgICAgICAgICAgICAgICAgICAgICAgICAgICAgICAgICAgICAgICAgICAgICAgICAgICAgICAgICAgICAgICAgICAgICAgICAgICAgICAgICAgICAgIAogICAgICAgICAgICAgICAgICAgICAgICAgICAgICAgICAgICAgICAgICAgICAgICAgICAgICAgICAgICAgICAgICAgICAgICAgICAgICAgICAgICAgICAgICAgICAgICAgICAgCiAgICAgICAgICAgICAgICAgICAgICAgICAgICAgICAgICAgICAgICAgICAgICAgICAgICAgICAgICAgICAgICAgICAgICAgICAgICAgICAgICAgICAgICAgICAgICAgICAgICAKICAgICAgICAgICAgICAgICAgICAgICAgICAgICAgICAgICAgICAgICAgICAgICAgICAgICAgICAgICAgICAgICAgICAgICAgICAgICAgICAgICAgICAgICAgICAgICAgICAgIAogICAgICAgICAgICAgICAgICAgICAgICAgICAgICAgICAgICAgICAgICAgICAgICAgICAgICAgICAgICAgICAgICAgICAgICAgICAgICAgICAgICAgICAgICAgICAgICAgICAgCiAgICAgICAgICAgICAgICAgICAgICAgICAgICAgICAgICAgICAgICAgICAgICAgICAgICAgICAgICAgICAgICAgICAgICAgICAgICAgICAgICAgICAgICAgICAgICAgICAgICAKICAgICAgICAgICAgICAgICAgICAgICAgICAgICAgICAgICAgICAgICAgICAgICAgICAgICAgICAgICAgICAgICAgICAgICAgICAgICAgICAgICAgICAgICAgICAgICAgICAgIAogICAgICAgICAgICAgICAgICAgICAgICAgICAgICAgICAgICAgICAgICAgICAgICAgICAgICAgICAgICAgICAgICAgICAgICAgICAgICAgICAgICAgICAgICAgICAgICAgICAgCiAgICAgICAgICAgICAgICAgICAgICAgICAgICAgICAgICAgICAgICAgICAgICAgICAgICAgICAgICAgICAgICAgICAgICAgICAgICAgICAgICAgICAgICAgICAgICAgICAgICAKICAgICAgICAgICAgICAgICAgICAgICAgICAgIDw/eHBhY2tldCBlbmQ9J3cnPz7/2wBDAAcFBQYFBAcGBQYIBwcIChELCgkJChUPEAwRGBUaGRgVGBcbHichGx0lHRcYIi4iJSgpKywrGiAvMy8qMicqKyr/2wBDAQcICAoJChQLCxQqHBgcKioqKioqKioqKioqKioqKioqKioqKioqKioqKioqKioqKioqKioqKioqKioqKioqKir/wAARCAHiAaMDASIAAhEBAxEB/8QAHwAAAQUBAQEBAQEAAAAAAAAAAAECAwQFBgcICQoL/8QAtRAAAgEDAwIEAwUFBAQAAAF9AQIDAAQRBRIhMUEGE1FhByJxFDKBkaEII0KxwRVS0fAkM2JyggkKFhcYGRolJicoKSo0NTY3ODk6Q0RFRkdISUpTVFVWV1hZWmNkZWZnaGlqc3R1dnd4eXqDhIWGh4iJipKTlJWWl5iZmqKjpKWmp6ipqrKztLW2t7i5usLDxMXGx8jJytLT1NXW19jZ2uHi4+Tl5ufo6erx8vP09fb3+Pn6/8QAHwEAAwEBAQEBAQEBAQAAAAAAAAECAwQFBgcICQoL/8QAtREAAgECBAQDBAcFBAQAAQJ3AAECAxEEBSExBhJBUQdhcRMiMoEIFEKRobHBCSMzUvAVYnLRChYkNOEl8RcYGRomJygpKjU2Nzg5OkNERUZHSElKU1RVVldYWVpjZGVmZ2hpanN0dXZ3eHl6goOEhYaHiImKkpOUlZaXmJmaoqOkpaanqKmqsrO0tba3uLm6wsPExcbHyMnK0tPU1dbX2Nna4uPk5ebn6Onq8vP09fb3+Pn6/9oADAMBAAIRAxEAPwD23UNe1z/hKrnRtB0jT7v7LZQXcs17qT23+teZAqqsEmceQSSSOoo+3eN/+he8P/8Ag+n/APkOix/5Knrv/YF03/0ffVWjvfFWr+INdt9K1LR7G00y9S0jS50uW4kfNtDMWLLcIOsxGNvQUAWft3jf/oXvD/8A4Pp//kOj7d43/wChe8P/APg+n/8AkOj7D43/AOhh8P8A/ghn/wDkyj7D43/6GHw//wCCGf8A+TKAD7d43/6F7w//AOD6f/5Do+3eN/8AoXvD/wD4Pp//AJDo+w+N/wDoYfD/AP4IZ/8A5Mo+w+N/+hh8P/8Aghn/APkygA+3eN/+he8P/wDg+n/+Q6Pt3jf/AKF7w/8A+D6f/wCQ6PsPjf8A6GHw/wD+CGf/AOTKPsPjf/oYfD//AIIZ/wD5MoAPt3jf/oXvD/8A4Pp//kOj7d43/wChe8P/APg+n/8AkOj7D43/AOhh8P8A/ghn/wDkyj7D43/6GHw//wCCGf8A+TKAD7d43/6F7w//AOD6f/5Do+3eN/8AoXvD/wD4Pp//AJDo+w+N/wDoYfD/AP4IZ/8A5Mo+w+N/+hh8P/8Aghn/APkygA+3eN/+he8P/wDg+n/+Q6Pt3jf/AKF7w/8A+D6f/wCQ6PsPjf8A6GHw/wD+CGf/AOTKzdUufG+m6jo1r/bfh+X+1L1rTd/Yk48rFvNNux9r5/1O3HH3s9sEA0vt3jf/AKF7w/8A+D6f/wCQ6Pt3jf8A6F7w/wD+D6f/AOQ6PsPjf/oYfD//AIIZ/wD5Mo+w+N/+hh8P/wDghn/+TKAD7d43/wChe8P/APg+n/8AkOj7d43/AOhe8P8A/g+n/wDkOj7D43/6GHw//wCCGf8A+TKPsPjf/oYfD/8A4IZ//kygA+3eN/8AoXvD/wD4Pp//AJDo+3eN/wDoXvD/AP4Pp/8A5Do+w+N/+hh8P/8Aghn/APkyj7D43/6GHw//AOCGf/5MoAPt3jf/AKF7w/8A+D6f/wCQ6Pt3jf8A6F7w/wD+D6f/AOQ6PsPjf/oYfD//AIIZ/wD5Mo+w+N/+hh8P/wDghn/+TKAD7d43/wChe8P/APg+n/8AkOj7d43/AOhe8P8A/g+n/wDkOj7D43/6GHw//wCCGf8A+TKPsPjf/oYfD/8A4IZ//kygA+3eN/8AoXvD/wD4Pp//AJDo+3eN/wDoXvD/AP4Pp/8A5Do+w+N/+hh8P/8Aghn/APkyj7D43/6GHw//AOCGf/5MoAPt3jf/AKF7w/8A+D6f/wCQ6Pt3jf8A6F7w/wD+D6f/AOQ6zfDlz438QeFdK1n+2/D9v/aNlDd+T/Yk7+X5iB9u77WM4zjOBWl9h8b/APQw+H//AAQz/wDyZQAfbvG//QveH/8AwfT/APyHR9u8b/8AQveH/wDwfT//ACHR9h8b/wDQw+H/APwQz/8AyZR9h8b/APQw+H//AAQz/wDyZQAfbvG//QveH/8AwfT/APyHR9u8b/8AQveH/wDwfT//ACHR9h8b/wDQw+H/APwQz/8AyZR9h8b/APQw+H//AAQz/wDyZQAfbvG//QveH/8AwfT/APyHR9u8b/8AQveH/wDwfT//ACHR9h8b/wDQw+H/APwQz/8AyZR9h8b/APQw+H//AAQz/wDyZQAfbvG//QveH/8AwfT/APyHR9u8b/8AQveH/wDwfT//ACHR9h8b/wDQw+H/APwQz/8AyZR9h8b/APQw+H//AAQz/wDyZQAfbvG//QveH/8AwfT/APyHR9u8b/8AQveH/wDwfT//ACHR9h8b/wDQw+H/APwQz/8AyZR9h8b/APQw+H//AAQz/wDyZQAfbvG//QveH/8AwfT/APyHR9u8b/8AQveH/wDwfT//ACHWbBc+N5vFV9o39t+H1+yWVtd+d/Yk/wA/nPOm3b9r4x5Gc553dsc6X2Hxv/0MPh//AMEM/wD8mUAH27xv/wBC94f/APB9P/8AIdH27xv/ANC94f8A/B9P/wDIdH2Hxv8A9DD4f/8ABDP/APJlH2Hxv/0MPh//AMEM/wD8mUAH27xv/wBC94f/APB9P/8AIdH27xv/ANC94f8A/B9P/wDIdH2Hxv8A9DD4f/8ABDP/APJlH2Hxv/0MPh//AMEM/wD8mUAH27xv/wBC94f/APB9P/8AIdH27xv/ANC94f8A/B9P/wDIdH2Hxv8A9DD4f/8ABDP/APJlH2Hxv/0MPh//AMEM/wD8mUAH27xv/wBC94f/APB9P/8AIdH27xv/ANC94f8A/B9P/wDIdH2Hxv8A9DD4f/8ABDP/APJlH2Hxv/0MPh//AMEM/wD8mUAH27xv/wBC94f/APB9P/8AIdH27xv/ANC94f8A/B9P/wDIdH2Hxv8A9DD4f/8ABDP/APJlH2Hxv/0MPh//AMEM/wD8mUAH27xv/wBC94f/APB9P/8AIdVr7xF4q0hba41Xw/o62kt7bWkj22syySJ506QhgrWqhsGQHG4cCotVu/GOgwWt5eatod5bvqFnaywxaPNC7LNcxwkq5umAIEmRlT0q948/5F21/wCw1pX/AKcLegDpKKKKAObsf+Sp67/2BdN/9H31Hhf/AJGLxn/2Go//AE32dFj/AMlT13/sC6b/AOj76jwv/wAjF4z/AOw1H/6b7OgDpKKKKACiiigAooooAKxPFviB/DehPe29r9suMnyrYOFMu1S7gE99iOQO5AHetuqV3pNnf3kNzdxea8KMiK5yo3YydvTPA56j8aAMKbxvBa61cxTIZ7H7Lp89rLbRl3ka6kmjVSM8gtEuDx9/ngZoXxxatqUYVZHspI2DMsJ328qT+S4k5wAH4PHGCeRyIbn4daYllDb6UXtghtIz5k0jhYbaUyxInzDaVZmwR0z9K0h4M0dYWijS4RXRlfbcON5aQysx55YuSxPU5NAFqw8Q2GoavdabA5F1bbiyMRkgNtJwCSBn1wT16EGs/wAUf8jF4M/7DUn/AKb7yruneGNO0q/N3ZidZP3uFa4dlHmyeY+FJxy5J9ug4wKpeKP+Ri8Gf9hqT/033lAHSUUUUAFFFFABRRRQAE4BJ6CuZ0jxNe6rodl4gWxiXSLu1a64lJmjj2bkJGMEsP4R0z1NdNWC/gzRZLGWyeGZrSSOWJbf7TJsiWQYbYM/J1OMfd6LgUANj8aaVLY/a4zK8YWUvsCvsMShnGVJBODngkH1o1LxRHFZ6idOjklls43JlaEtCsiw+bsYgg/dI56ZOM54oufBOk3lrNBcG9YTyPJKwvJFZy8fluNwYHBXjA44BGMVO/hbTXjuExcKl0m2dVuHAkPliIscH72xQM+2evNAFBPH+kCM/aPPgkSRopUkj2bJFtxcbTk94juHtnoQQOlhl863jlCOnmKG2uMMuRnBHY1zl14IsJnZYsiG4u4by78x3d5XhVFTBLYUFYwrDB3LkdzXTUAc38OP+SWeFP8AsC2f/ohK6Sub+HH/ACSzwp/2BbP/ANEJXSUAFFFFABRRRQAVT1i8k07Q729gVXktoHmVXzhtqk4OPpVyoL6zi1Gwns7ncYbiMxyBWKkqRgjI5HFAGBaeK3Fs897byyIZ47aMQWskbmVl3bdkmDjDL83Tk9MZqP8A4Te1sLG7vNdBtLeG4Zd7J5flxiNJPnDN94B8EDJODgVpnw1ZMyM8t45jeN03XTnaU3be/wDtH68Z6Cquo+B9E1X7X9tiuH+2LMk2Ll13JMqrIvB4BCIMD+6KABvG+jxXuoQXLTW66c8sdzPLEREjRxCZhu/65sH+nvxV3SNfttZuLuC3guoZLQoJRcRFMF1DLj1+Ug8fTqCBRn8E6VKLtlWQy3ckk0hmld0eR4RASy7huHlqFxxx7nNS+GfDjaD9uknu2up72VJHYlyFCxqgUb2Y/wAOevfp3IBBY/8AJU9d/wCwLpv/AKPvq6Subsf+Sp67/wBgXTf/AEffV0lABRRRQAUUUUAFFFFABWJ4m1m40WGxe2jWT7TdrbtmN5Cu5WOQqcn7vStuqWo6Vbao1qbrzM2swni8uQphwCATjrwTwaAMOPxlHbWzTauixr5UUibFKb/NldEzvwFztX7xGCSD2NTWfi2CbX/7MkBM1wkc1tAsZWVYmQFmkUnICkgE4GCwHXroXnh+zvr6S7ma4WaSJYmKTMFKqSQNvQ8k9uc1QtfAuh2M1nLZQzwNYiMW/l3LjYscZjVevK7SQQeD1PIoAb48/wCRdtf+w1pX/pwt6PHn/Iu2v/Ya0r/04W9Hjz/kXbX/ALDWlf8Apwt6PHn/ACLtr/2GtK/9OFvQB0lFFFAHN2P/ACVPXf8AsC6b/wCj76jwv/yMXjP/ALDUf/pvs6LH/kqeu/8AYF03/wBH31Hhf/kYvGf/AGGo/wD032dAHSUUUUAFFFFABRRRQAUVj6ZfXE2tX0U8m6Akm3XAG3YxRx784P41sUAFFFFABXN+KP8AkYvBn/Yak/8ATfeV0lc34o/5GLwZ/wBhqT/033lAHSUUUUAFFFFABRRWbdvPd6kLG1ne3SJPMnljALc5CqMgjsSfoPWgDSoqlplzLPDJFdEG5tpDFKQMBu4bHupB/Mdqu0AFFFFABRRRQBzfw4/5JZ4U/wCwLZ/+iErpK5v4cf8AJLPCn/YFs/8A0QldJQAUUUUAFFFFABRVPT53n+1eY+7y7hkHsBjAq5QAUUUUAFFFFAHN2P8AyVPXf+wLpv8A6Pvq6Subsf8Akqeu/wDYF03/ANH31dJQAUUUUAFFFFABRVS7mkjvrGNGwssjK4x1ARj/ADAq3QAUUUUAFFFFAHN+PP8AkXbX/sNaV/6cLejx5/yLtr/2GtK/9OFvR48/5F21/wCw1pX/AKcLejx5/wAi7a/9hrSv/Thb0AdJRRRQBzdj/wAlT13/ALAum/8Ao++o8L/8jF4z/wCw1H/6b7Oix/5Knrv/AGBdN/8AR99R4X/5GLxn/wBhqP8A9N9nQB0lFFFABRRRQAUUUUAc/YgRT6dP/wA9ri7iz/vu0n/tOugrAQlfDen3IHMc0UvXoGfB/JWNb9ABRRRQAVzfij/kYvBn/Yak/wDTfeV0lc34o/5GLwZ/2GpP/TfeUAdJRRRQAUUUUAFZ2jDzbeW9PJvJTKD6p91P/HVU/iadrUrppjxQkrNckQRkdQXOM/gCT+FXY41iiWOMbUQBVA7AUAUJP9F8QQyZAS8iMTe7pll/8dL/AJCtGqGtI39mtPGu6S1YXCADk7Tkj8VyPxq6jrJGrxncrAFSO4NADqKKKACiiigDm/hx/wAks8Kf9gWz/wDRCV0lc38OP+SWeFP+wLZ/+iErpKACiiigAooooAzNG/1mpf8AX6//AKCtadZmjf6zUv8Ar9f/ANBWtOgAooooAKKKKAObsf8Akqeu/wDYF03/ANH31dJXN2P/ACVPXf8AsC6b/wCj76ukoAKKKKACiiigDNvz/wATvSh23y/+izWlWZqH/Ic0n/fl/wDRZrToAKKKKACiiigDm/Hn/Iu2v/Ya0r/04W9Hjz/kXbX/ALDWlf8Apwt6PHn/ACLtr/2GtK/9OFvR48/5F21/7DWlf+nC3oA6SiiigDm7H/kqeu/9gXTf/R99R4X/AORi8Z/9hqP/ANN9nRY/8lT13/sC6b/6PvqPC/8AyMXjP/sNR/8Apvs6AOkooooAKKKKACiio7hgttKxOAEJJ/CgDJtIGvPAsESf6yawXaR/eKZB/OtS0uFu7KC5j5WaNXGPQjNRaSuzRbJcbdtvGMenyiodGPl281mfvWkzRgein5k/8dZR+FAGjRRRQAVzfij/AJGLwZ/2GpP/AE33ldJXN+KP+Ri8Gf8AYak/9N95QB0lFFFABRRUc88dtbyTzsEjjUu7HsAMk0AUpR9r8QQp1jsozK3/AF0fKr+S7/8AvoVo1Q0iGRbRri4UpPduZpFPVc/dX8FCj8Kv0ABGRg8is7RT5VrJYt96ykMI/wBzqn/jpX8Qa0azbr/QtYgu+kVyBbS+zZJjP5kr/wACWgDSooooAKKKKAOb+HH/ACSzwp/2BbP/ANEJXSVzfw4/5JZ4U/7Atn/6ISukoAKKKKACiiigDK0N90+rDH3L9x/44h/rWrWH4fkzqWuR5+7fbsfVF/wrcoAKKKKACiiigDm7H/kqeu/9gXTf/R99XSVzdj/yVPXf+wLpv/o++rpKACiiigAooooAytSfbr2jDGd8so+n7pj/AErVrF1htuvaER/z8SD84mFbVABRRRQAUUUUAc348/5F21/7DWlf+nC3o8ef8i7a/wDYa0r/ANOFvR48/wCRdtf+w1pX/pwt6PHn/Iu2v/Ya0r/04W9AHSUUUUAc3Y/8lT13/sC6b/6PvqPC/wDyMXjP/sNR/wDpvs6LH/kqeu/9gXTf/R99R4X/AORi8Z/9hqP/ANN9nQB0lFFFABRRRQAVW1J/L0q7c87YXP8A46as1Q11inh3UWXqLWUj67DQBZtF2WUCnqsaj9Kpzn7FrkU/SG8UQSH0kGSh/EFh/wB81oqoVQo6AYFRXdrFe2r284JRxg4OCD2IPYg8g0ATUVm2d+8Eq2OqEJc9I5cYW4HqOwb1X8uK0qACub8Uf8jF4M/7DUn/AKb7yukrm/FH/IxeDP8AsNSf+m+8oA6Siiorm6gs4TLdTJDGP4nYAUAS1lTt/auofZI+bW1cNcMOjuOVj/Dgn8B3NK093qvyWayWlqfvXMi7ZHH+wp5H+8fwHer9vbxWlukFugSNBgKP89fegCWiiigAqK6to7y0kt5wTHIpVsHBHuD2NS0UAUNNu5G32d6R9stxhj081e0g9j39DkVfqpfael55ciuYbmEkwzoOUPce4Pcd6gTVGtf3esxi2YHAuF5hf33fwn2bHsTQBpUUisGUMpBBGQQetLQBzfw4/wCSWeFP+wLZ/wDohK6Sub+HH/JLPCn/AGBbP/0QldJQAUUUUAFFFFAGBpJ8nxJfg8C6LFfrG3P6SD8q36wxbyyRXFxaruuLW9eSNc43jGGX8QT+OD2rWtLuG+tVnt23I3qMFT3BHYj0oAmooooAKKKKAObsf+Sp67/2BdN/9H31dJXN2P8AyVPXf+wLpv8A6Pvq6SgAooooAKKKKAMDxGSmpaLL2juxn6NhP/Zq36x9dtWvJbaCMhZHSXy2P8LBcqfwIFaFheLfWMdwo2lhh0PVGHDKfcHIoAsUUUUAFFFFAHN+PP8AkXbX/sNaV/6cLejx5/yLtr/2GtK/9OFvR48/5F21/wCw1pX/AKcLejx5/wAi7a/9hrSv/Thb0AdJRRRQBzdj/wAlT13/ALAum/8Ao++rI0zxZ4c0Hxb4wtdc1/S9NuH1aKRYry9jhdlNhaAMAxBxkEZ9jWvY/wDJU9d/7Aum/wDo++o8L/8AIxeM/wDsNR/+m+zoAP8AhY/gj/ocvD//AINIP/iqP+Fj+CP+hy8P/wDg0g/+KrpKKAOb/wCFj+CP+hy8P/8Ag0g/+Ko/4WP4I/6HLw//AODSD/4qukooA5v/AIWP4I/6HLw//wCDSD/4qqOsfEPwVLpE8Ufi/QXaQBAF1OEnkgZ+975rsqKAOb/4WP4I/wChy8P/APg0g/8AiqP+Fj+CP+hy8P8A/g0g/wDiq6GWaOCMyTyLGg6s7AAfiacjrIgZGDKRkEHINAHL3Hj7wDdQtDc+LfDksbdVfU4CD/49VIeNPCFt/wAg74haJGvaK41OGZB+bhv/AB6u2ooA4v8A4WX4fjPzeKfCk4/vJrUSH/vk5/nWD4i+I3h2+1zwt9m8QaJCbfVZJZLh9St5Yo1+xXSZYLICAS6gE4GSBnJAPqVc34o/5GLwZ/2GpP8A033lAGf/AMJx4Ulx9p+I2iAd1t9QtowfzZj+Rp9v4x+HdtMJk8WeH3nH/LabVopH/wC+mckV2NFAHN/8LH8Ef9Dl4f8A/BpB/wDFUf8ACx/BH/Q5eH//AAaQf/FV0lFAHN/8LH8Ef9Dl4f8A/BpB/wDFUf8ACx/BH/Q5eH//AAaQf/FV0lFAHN/8LH8Ef9Dl4f8A/BpB/wDFUf8ACx/BH/Q5eH//AAaQf/FV0lRyXMEMiRyzRo8nCKzAFvoO9AHP/wDCx/BH/Q5eH/8AwaQf/FUh+I3gcgg+MfD5B6g6pB/8VW7NqNlbMy3F5bxFVLsHlVcKOCeT0GRz71YBBAIOQehFAHFnxb8PVbdaeMtDs2zn/RtYhQE+67tp/EUg8eeG4v8AU/EXw7KP+nm8t2J/FHX+VdrRQB534B8feD7P4beGrW88WaHBcQ6TaxyxS6lCrxsIVBVgWyCCMEGug/4WP4I/6HLw/wD+DSD/AOKo+HH/ACSzwp/2BbP/ANEJXSUAc3/wsfwR/wBDl4f/APBpB/8AFUf8LH8Ef9Dl4f8A/BpB/wDFV0lFAHN/8LH8Ef8AQ5eH/wDwaQf/ABVH/Cx/BH/Q5eH/APwaQf8AxVdJRQBx2m/EPwUn2vf4v0Fd1y7DOpwjI45+9Tbjxp4Ia4a5sfHOg2ly332XU4GSTHTeu/n6jB966+W4htwpnlSIMdq72AyfQZqSgDiv+FoeG4B+/wDEfh25H9611m3BP/AXcY/76NKfi94DT/XeJ9NjPp9qR/8A0Amu0ooA5FPiv4Ckzt8X6OP967UfzNSr8TvArDI8YaH+OoRD+tdTRQB51Y/EDwd/wsjWbo+K9EW3k0mwjSVtQiCu6zXhZQS2CQHUkdtw9a6H/hY/gj/ocvD/AP4NIP8A4qix/wCSp67/ANgXTf8A0ffV0lAHN/8ACx/BH/Q5eH//AAaQf/FUf8LH8Ef9Dl4f/wDBpB/8VXSUUAc3/wALH8Ef9Dl4f/8ABpB/8VR/wsfwR/0OXh//AMGkH/xVdJRQBx1z8Q/BTapYuvi/QSq+ZuYanDgZXv8ANTZvGvgoXL3Wn+OdAtZ5P9YDqUDRyH1Zd459wQa7Oo5biG3CmeVIgx2rvYDJ9BmgDjv+Fn+HIuJvEfhqcdmt9bgBP/AWIx+ZpR8WvBo/1uvabH9dTtW/9BlNdpUc1xDbhDcTRxCRxGm9gu5j0UZ6k+lAHHn4veAl+/4p01cdf9JRsfkTn8KVfjB8PnYAeLdNz7y4/nXZ0UAeb+JviH4Q12wsNO0fxHp97eTa1pnlwQzhmfF9AxwPYAn8K6Tx5/yLtr/2GtK/9OFvR48/5F21/wCw1pX/AKcLejx5/wAi7a/9hrSv/Thb0AdJRRRQBzdj/wAlT13/ALAum/8Ao++o8L/8jF4z/wCw1H/6b7Oix/5Knrv/AGBdN/8AR99R4X/5GLxn/wBhqP8A9N9nQB0lFFFABRRRQAUUUUAc54i025uPEWiah9nN7YWPn+fahFYiRlURzAEjO0Bxgc/vOOlc7HF4nsobRNM0VtMhjvGkEFptKPG14xcsm/CFoj5hyWI3EKAwr0WigDzyC08WJJJLLPqhImu2SIuhXaLz/Rx9PIzkd888gUa1Z+LP+JjPpFzqvmiK9a1g3x+W0oVDbDnkLuD9xwcHjGPQ6KAOT059f/4Th2uIrpdLkWcEOFKKQYzE2d3GR5nAXjncSdtWPFH/ACMXgz/sNSf+m+8rpK5vxR/yMXgz/sNSf+m+8oA6SiiigAooooAKKKKACuF1XSNQhvvFNwdGTWZ9QEbad5qqUwsKqIGJYFB5is+7p8+eTxXdUUAcLf6Zqcz3qpYzuGh1GOM/Lz5oTZ37lW5P41HDZeJZ5tPt/M1W1sP7QCzM8sYmWD7I+4kgnj7R5eMc9cfLXfUUAedT2fia9a/tryG+a03rKoLjcGjugwCsG+bMQyMKo4APOa9AtmLWkLMkkZKKSkpBdeOjEEjPryalooA5v4cf8ks8Kf8AYFs//RCV0lc38OP+SWeFP+wLZ/8AohK6SgAooooAKKKKAMPxRZzXsOmi3t2nMWpQTOAB8qK2Wbn2rm4LLxc1pfgT3wuW+2SW4nmUJlLpjapkZIDQ4DHk888ivQKKAPNNdvtd04QC4u7yOa8SFobeCePfDLLdYdGyfmVY2VQQD91iOSKvp/wlZudU/dXyx/vnhQupO5J/3YV92CGi6DCgZAbLZNd2VUsGKgsvQ46UtAHA7/FctxbzJDqCIL+cm2lKLvhMybCXVjtwgchSCCCQdrYrX8Jpri6hqJ1r7S0DLGYGnYD5t0m4bBnaQNgJDFW4wqkNnp6KAObsf+Sp67/2BdN/9H31dJXN2P8AyVPXf+wLpv8A6Pvq6SgAooooAKKKKACsfxFDLLFYNDaPdeTexyssYBIUZyeSK2KKAOLv7rxHP4jtZ7ayvLWx3xrKjspUx75FkY4cBCF2NyGJyMYwwrntOOv+IfDdlLGL2+ga6sJ5Xnkjbe8WoRyM0eDwoijJI4z8o5bdXqpGRg8ikRFjXaihV9AMUAcGv/CYNcXqiO6jikkhYrlSUUXP71Y3Lckw9MBR0x82TVoQeJjrMBhnvIbEeQYhMiSsR57mZZPnGMxlACdxAwR8wIPZ0UAc348/5F21/wCw1pX/AKcLejx5/wAi7a/9hrSv/Thb0ePP+Rdtf+w1pX/pwt6PHn/Iu2v/AGGtK/8AThb0AdJRRRQBzdj/AMlT13/sC6b/AOj76jwv/wAjF4z/AOw1H/6b7Oix/wCSp67/ANgXTf8A0ffUeF/+Ri8Z/wDYaj/9N9nQB0lFFFABRRRQAVH58f2nyM/vNm/GO2cVJVH/AJmH/t1/9noAvUUUUAFFFFABXN+KP+Ri8Gf9hqT/ANN95XSVzfij/kYvBn/Yak/9N95QB0lFFFABRRRQAUUUUAVk1C2fUXsVkzcIu5l2nGOO/TPI49x61ZrnjhEOpgcx6k+8jumfJbPsAAf+A10NABRRRQAUUUUAc38OP+SWeFP+wLZ/+iErpK5v4cf8ks8Kf9gWz/8ARCV0lABRRRQAUUUUAQXF7b2s1vFPJte5fy4hj7zYJ/pU9c/4j/4/LVzx9nikuc+myWE/yJroKACiiigAooooA5ux/wCSp67/ANgXTf8A0ffV0lc3Y/8AJU9d/wCwLpv/AKPvq6SgAooooAKKKKAIZbuCG6gt5XCy3BYRL/ewMn9Kmrn9W+fWBd9tNERz6B3/AHn5IAa6CgAooooAKKKKAOb8ef8AIu2v/Ya0r/04W9Hjz/kXbX/sNaV/6cLejx5/yLtr/wBhrSv/AE4W9Hjz/kXbX/sNaV/6cLegDpKKKKAObsf+Sp67/wBgXTf/AEffUeF/+Ri8Z/8AYaj/APTfZ0WP/JU9d/7Aum/+j76jwv8A8jF4z/7DUf8A6b7OgDpKKKKACiiigAqj/wAzD/26/wDs9XqzG/5GtP8Aryb/ANDWgDTooooAKKKKACub8Uf8jF4M/wCw1J/6b7yukrm/FH/IxeDP+w1J/wCm+8oA6SiiigAooooAKKKKAMqwtlvPDssD8LcmfP8AwN2OfrzVrS7lrvS7eaTiRkAkHo44YfmDUehHdoFk453wq+fXIzn9aTT/APR9QvrM9PMFxGP9l85/8fD/AJigDQooooAKKKKAOb+HH/JLPCn/AGBbP/0QldJXN/Dj/klnhT/sC2f/AKISukoAKKKKACiiigDH1OD7XfywYzv06ZD/AMCKgfyNaNjP9q062uAciWJXz9QDVcc+Imx/DajP4ucfyNJoeF0aGIdIC0H/AHwxT/2WgDQooooAKKKKAObsf+Sp67/2BdN/9H31dJXN2P8AyVPXf+wLpv8A6Pvq6SgAooooAKKKqarcPbaXM8P+uK7Ivd2O1f1IoAqWNumoadftKPkv5JAe/wAmPLU/iqg/jVvSrh7rSbeWb/W7Nsvs44b9QamtbdLSzhtovuQxqi/QDFU9PP2fUr+zPTeLiMY/hfr/AOPqx/EUAaNFFFABRRRQBzfjz/kXbX/sNaV/6cLejx5/yLtr/wBhrSv/AE4W9Hjz/kXbX/sNaV/6cLejx5/yLtr/ANhrSv8A04W9AHSUUUUAc3Y/8lT13/sC6b/6PvqPC/8AyMXjP/sNR/8Apvs6LH/kqeu/9gXTf/R99R4X/wCRi8Z/9hqP/wBN9nQB0lFFFABRRRQAVlNIv/CYRx5+b7AzY9vMWtWsC5Jj8fWkmcK9oYfqSWf/ANpmgDfooooAKKKKACub8Uf8jF4M/wCw1J/6b7yukrm/FH/IxeDP+w1J/wCm+8oA6SiiigAooooAKR22IzHoozS1Fdtssp2HO2Nj+lAFbQ0Mfh3TkbqtrEDj/cFR6kfst7aX/RFbyJv9xyAD+DBfwJqzpqeXpVomc7YEGf8AgIqW4gjuraSCdd0cqlGHqDQBJRVDSp5Gha0u2zdWpCSE/wAY/hf8R+uR2q/QAUUUUAc38OP+SWeFP+wLZ/8AohK6Sub+HH/JLPCn/YFs/wD0QldJQAUUUUAFFFFAFCM58R3AH8NpFn2y8mP5Gk0z93cahARjy7ksvuHVWz+Zb8qIf+Rmvf8Arzt//Q5qT/UeJOeFu7bHtujb+ZD/APjtAGjRRRQAUUUUAc3Y/wDJU9d/7Aum/wDo++rpK5ux/wCSp67/ANgXTf8A0ffV0lABRRRQAVnXJ+161bWw5jth9ol/3jlUH/oR/wCAirtzcR2lrJcTttjjUsx9qq6VbyR273F0u25un82Uf3eyr+CgD65PegC9WbqP+i39nf8A8Kt9nm/3XIwfwcL+BNaVRXNvHd2stvON0cqFGHsaAJaKo6XcvNbvBcnN1bN5U3H3j2b6MMH8cdqvUAFFFFAHN+PP+Rdtf+w1pX/pwt6PHn/Iu2v/AGGtK/8AThb0ePP+Rdtf+w1pX/pwt6PHn/Iu2v8A2GtK/wDThb0AdJRRRQBzdj/yVPXf+wLpv/o++o8L/wDIxeM/+w1H/wCm+zosf+Sp67/2BdN/9H31Hhf/AJGLxn/2Go//AE32dAHSUUUUAFFFFABWDqsbtqc00Kl5bWCGdFHVtrvkD3K7h+Nb1UE/5GKb/r0j/wDQ3oAuQypPCk0LB45FDKw6EHoafWWFm0eRvKieewZi2yMZe3J64H8S98DkdgR0vW15b3sfmWk8cyg4JRs4PofQ0ATUUUUAFc34o/5GLwZ/2GpP/TfeV0lc34o/5GLwZ/2GpP8A033lAHSUUUUAFFFFABVXVGKaPeMvBEDkf98mrVZ+vkjw3qZBwfskuP8Avg0AXLZQlrEq9AgA/KpKAAAABgDoKKAKN/ZyvLHeWJVbuEEAMcLKvdG/oex/EGWyvor6NjHuSSM7ZYnGHjb0I/r0ParNU7zTYruRZlZ7e5QYSeI4YD0PZh7EEUAXKKzVn1O04urZb2Mf8tbYhX/FGP8AIn6U5dc0/IE8/wBmYnG25UxHP/AgM/hQBl/Dj/klnhT/ALAtn/6ISukrm/hx/wAks8Kf9gWz/wDRCV0lABRRRQAUUUUAULf/AJD19/1xh/m9JrKMtql5EpaSzkE4A6soBDj8VLfjiltedZ1A98RD8ME/1NX6AGxyLLGskbBkcBlYdCD3p1ZKSf2G5inBGnE5il7W/wDsN6L6HoBwcYGdVHWRA6MGVhkMDkEUALRRRQBzdj/yVPXf+wLpv/o++rpK5ux/5Knrv/YF03/0ffV0lABR061Rn1izikMSSG4nH/LG3HmP+IHT6nAqE2t1qn/IRH2a1/59UbLSf77Dt/sj8SelADVP9tXiuOdPt33Ie1xIOh/3VPT1I9udakVVRAqKFVRgADAApaACiiigDPv7eWO4XULFN88a7ZIgcedH1x/vDqPxHerdrdRXlus9u+9G6HGCD3BHYjpipaz7jTpEuGu9MkWC4b/WIwzHN/vDsf8AaHPrnpQBoUVmrrMcLBNUiawk6ZlOY2+kg4/PB9q0VZXUMjBlPIIOQaAOc8ef8i7a/wDYa0r/ANOFvR48/wCRdtf+w1pX/pwt6PHn/Iu2v/Ya0r/04W9Hjz/kXbX/ALDWlf8Apwt6AOkooooA5ux/5Knrv/YF03/0ffVkaZbeI5vFvjBtD1XS7O3/ALWiDR3mmSXDlvsFpkhlnjAGMcYPQ884GvY/8lT13/sC6b/6PvqPC/8AyMXjP/sNR/8Apvs6AD7D43/6GHw//wCCGf8A+TKPsPjf/oYfD/8A4IZ//kyukooA5v7D43/6GHw//wCCGf8A+TKPsPjf/oYfD/8A4IZ//kyukooA5v7D43/6GHw//wCCGf8A+TKhGkeNRetcjxFoO9oxGR/YM2MAk/8AP37muqooA5v7D43/AOhh8P8A/ghn/wDkyqlz4d8VXcoln1jw4ZQMCVdAnVx/wIXmf1rXn1qSLxrZaGIFMd1YT3hm3nK+VJEm3GOc+cDnPG33qKTxlo0UkqtNIVj84B1hZlkaJxHIqkDBYOwXHUnOM4OADH/4Rrxugxb+MdNhHb/iTzyY/wC+7tqkj0Px+mN3jXSpP97w+efyuBVxvG1gvnSyx3EFvaif7S80LBkMSB2AAzng59+2ac/i9HmVLSwnljksprpZjjb+7YLjjOQc5yM9sZzwAQLpfjtc58VaI310CT+l1WH4hsPGSa/4T+0eIdFldtWkEJXRJVCP9hujlh9qO4bQwwCOSDnjB7Ky8QWl/dC3t1mkZSqSSJGTHG5jEm0t67WB9OQOvFZ/ij/kYvBn/Yak/wDTfeUAH2Hxv/0MPh//AMEM/wD8mUfYfG//AEMPh/8A8EM//wAmV0lFAHN/YfG//Qw+H/8AwQz/APyZR9h8b/8AQw+H/wDwQz//ACZXSUUAc39h8b/9DD4f/wDBDP8A/JlQ3ekeNby0lt5fEWghJVKkroM2cH/t7rqqKAOb+w+N/wDoYfD/AP4IZ/8A5Mo+w+N/+hh8P/8Aghn/APkypbLxRG//AAkk2piOztNBu2hknLkgosEcxc8cYEuMc/d96JPGelxrKpW7M8LssluLZvMXbGspbHcbGU5GeTjrkUARfYfG/wD0MPh//wAEM/8A8mUfYfG//Qw+H/8AwQz/APyZU8Xi7TpL6O1dbmFpNmHliIQF0LqC3QEqrfl7jMMfjnSJoonhF27TCB44hbMJGSfd5T7TggMUYc9MHOMUAJ9h8b/9DD4f/wDBDP8A/JlIdP8AGzKQ3iDw+QeoOgzf/JlM/wCFgaSBJ5lvqURjLB1ksnUqVjWVgRjghHDfmOoxXTI6yxq8ZDKwBUjuDQB574Bs/GLfDbw01nruhxW50m1MUcuizO6r5K4DMLpQxA6kAZ9B0roPsPjf/oYfD/8A4IZ//kyj4cf8ks8Kf9gWz/8ARCV0lAHN/YfG/wD0MPh//wAEM/8A8mUfYfG//Qw+H/8AwQz/APyZXSUUAc39h8b/APQw+H//AAQz/wDyZR9h8b/9DD4f/wDBDP8A/JldJRQBysWkeNIbieZfEWglp2DNnQZuMKBx/pftU32Hxv8A9DD4f/8ABDP/APJldJUF/O9rp9xcRqrNFGzhWOAcDOKAML7D43PXxD4f/wDBDP8A/JlZ7eF/FgYta+IdDs2Jyfs2i3EYJ9SovNpP1Fb8mvQWunWE92jma9UGOGBC5J2F2x7BQTk/TqQKov440pbiGKKO9uBcGMQSQWzOkvmRmRMEeqqTzjpz1GQCjHofj+M8+NdKkGejeH2/Li5qwumeOlGD4p0Nvc6BL/8AJdW4/GWjzTWMcErynUYVms9q/wCvDRmQbfqqk56ZwM5IFWdB8RWXiO2luNNWYwxP5bPLGUG/HzLz3U8MOzAg8ggAHDxaP4zuPiRq6L4o0uKdNJsDI6aNIFdDNd7Rt+05BBDEndzuAwMc7P8AwivipwftGv6Jcg9RcaRdSA/8Ba9I/StCx/5Knrv/AGBdN/8AR99XSUAcvDpfjK3jEcGu+HIkHRU8PzAD8BeVJ9h8b/8AQw+H/wDwQz//ACZXSUUAc39h8b/9DD4f/wDBDP8A/JlH2Hxv/wBDD4f/APBDP/8AJldJRQBzf2Hxv/0MPh//AMEM/wD8mUfYfG//AEMPh/8A8EM//wAmV0lcxd+MP7O8T3el39mViW3ElnOjZNzIMbocYwH+dNoz82W/umgB/wBh8b/9DD4f/wDBDP8A/JlH2Hxv/wBDD4f/APBDP/8AJlMsfGtr/Z2kSa0EsbrU44ikSybkDyHasYY4LHdxwO46ZFSW/jnSbnf5aXQEV0tnMXi2iGYsVCPk/Kehx6Mp/iGQBpsPG5BB8Q+HyD1B0Gb/AOTKoP4V8Tli0etaBbsxyWttEuIST/wC9Gavp4/0KS1triOaRorvaLdvLx5jMrttGejARuSDjGPcZjj8YC6ubN9O8m5sby4t0hmAI3RzRNIG/wDHf1oA53xLoviqzsdPm1PxLY3lkutaZ5ltFpkkbP8A6dABh3uHxgkHoc4x710/jz/kXbX/ALDWlf8Apwt6PHn/ACLtr/2GtK/9OFvR48/5F21/7DWlf+nC3oA6SiiigDm7H/kqeu/9gXTf/R99R4X/AORi8Z/9hqP/ANN9nRY/8lT13/sC6b/6PvqPC/8AyMXjP/sNR/8Apvs6AOkooooAKKKKACiiigDMvvD9lqGrQ6lMbhLuG3e2SSGdkxG7KzDAPcon/fNZ1x4I0s2U8VlF5Tukoj8yR2SNpHV5GADDDMyhiQc5yR1OekooA5vTvB0NtaOt7d3E9zJNNM00croQZQAcHJPCgDOe2RjpU8fg/SoVQQieIqJgxjmKeZ5rBn3AYByQD04/E1u0UAZVj4csNNu2uLMTRs7B3UTNtkcRiIOwzgnYqr+APXmqHij/AJGLwZ/2GpP/AE33ldJXN+KP+Ri8Gf8AYak/9N95QB0lFFFABRRRQAUUUUAYM/g3R7ltQ+0RTSR6nM015C1w/lzMYxEcrnGNiquOnFVNW8ExXdsy6fctbzyl/NuZXkeQhohHwwcHAVVGO+M8HmupooAxh4X04vE8glkaJ4pBukOC0aFFJHToTx0OajtPB2kWRjNvHMrxCFEdp2ZlSHd5SZJztXe2B/tHNbtFAGPP4X065kuHmExNw0jSATMAfMQI30+UAe2K1LeBLa2igizsiQIuTk4AwOakooA5v4cf8ks8Kf8AYFs//RCV0lc38OP+SWeFP+wLZ/8AohK6SgAooooAKKKKACorm3S6tZbeXdslUo204ODwealooAxD4S05vLLPeF4QqxObuTMYCsuBz0KuwP4dwCHx+FtMgeFrdJIRAYzEkcpCp5aGNAB6BSRWxRQBztp4H0ew+xCyF1AlisSwIly+0eXGYkzz82EJXnPY9QDWho+gWOgpMmmrIiTv5kitKzgvgAtyepxknuck5JJrSooA5ux/5Knrv/YF03/0ffV0lc3Y/wDJU9d/7Aum/wDo++rpKACiiigAooooAKz5tC0+5vPtVxAJplmWeNpPm8qQIUDpn7p2kjI9a0KKAOcfwLojtCTHOphW3UbZ2G4W8plhzzzsckjPrzmpH8FaJJa39tLbySQ6iVa6RpmIlcNuDnn7+cfMOeB6DG/RQBiDwhoiRssFksJN8+oBoyQUndSrOPTIZgR0+Y+tOXwtpqSwyKJ8wPFImZ2OGjUqpOTzwT1655rZooA5vx5/yLtr/wBhrSv/AE4W9Hjz/kXbX/sNaV/6cLejx5/yLtr/ANhrSv8A04W9Hjz/AJF21/7DWlf+nC3oA6SiiigDm7H/AJKnrv8A2BdN/wDR99R4X/5GLxn/ANhqP/032dFj/wAlT13/ALAum/8Ao++o8L/8jF4z/wCw1H/6b7OgDpKKKKACiio5547a3knnYJHGpd2PYAZJoAr3981uY4LVBLdzZ8uMnAAHVmPZRkfyqH+z78R711aU3HXDRJ5RPptxnH/As+9O0uByJL+6Xbc3WCVP/LJB91Pwzk+5NaFAFSxvjc74Z4/JuocCWLOcZ6MD3U9j+HUGrdZ2qxPEE1G2UtNa5LKvWWL+Jfc9x7gepq/FIk0KSxMHR1DKw6EHoaAHUUUUAFc34o/5GLwZ/wBhqT/033ldJXN+KP8AkYvBn/Yak/8ATfeUAdJRRRQAUUUUAFFFFAGbqsl081taWE4gml3yF9ob5VHTB/2mTPtmrVhdfbbCG427DIgLIf4W7j8DkVX4k8Se8Np+W9//ALXSab+4u76z6BJvOQf7Mnzf+h76ANGiiigAooooA5v4cf8AJLPCn/YFs/8A0QldJXN/Dj/klnhT/sC2f/ohK6SgAooooAKKKKAM7Sr2S6n1GOVsm3u2jXjou1SP5mtGsDRP3XiHWE7TOJB9QSp/TbW/QAUUUUAFFFFAHN2P/JU9d/7Aum/+j76ukrm7H/kqeu/9gXTf/R99XSUAFFFFABRRRQAUUUUAZtzJPeak9laXDWyQxB5ZUALbmztUZBHYk/h61Npl1Jc2hFwALiFzFMB03DuPYjBHsRUWjDzLe4uyObq4eQH1UHYn/jqg/jQB9l8RHtHew59hInH5lWH/AHxQBo0UUUAc348/5F21/wCw1pX/AKcLejx5/wAi7a/9hrSv/Thb0ePP+Rdtf+w1pX/pwt6PHn/Iu2v/AGGtK/8AThb0AdJRRRQBzdj/AMlT13/sC6b/AOj76jwv/wAjF4z/AOw1H/6b7Oix/wCSp67/ANgXTf8A0ffUeF/+Ri8Z/wDYaj/9N9nQB0lFFFABWZe/6fqUVgvMUWJ7k+uD8ifiRk+y+9Xby6jsrOW4mzsjXOAMlj2A9yeBUOl2slval7nBurhvNnI/vHsPYAAD6UAXKKKKACsyw/0C+k01v9UQZrX/AHc/Mn/ASR+DD0rTqlqltJNbLNajNzbN5sIzjcR1X6MCR+Oe1AF2iorW5jvLWO4hOUkUMMjkex96loAK5vxR/wAjF4M/7DUn/pvvK6Sub8Uf8jF4M/7DUn/pvvKAOkooooAKKKKACiiigChbDdrt+/cRwx/lub/2am3H+j69aS5wtzG9u3uw+df0En50unHdqGqt2Fyqj3AhjP8AMmjWwV0xrhAS9q63AAHJCnLD8VyPxoA0KKQEMoKnIIyCO9LQAUUUUAc38OP+SWeFP+wLZ/8AohK6Sub+HH/JLPCn/YFs/wD0QldJQAUUUUAFFFFAGBb/ALnXI5skCS5uLc+hJAcf+iz+db9YM4K6ZfXCAlrW9NwAOpCEFh+K5H41uqwZQynIIyD60ALRRRQAUUUUAc3Y/wDJU9d/7Aum/wDo++rpK5ux/wCSp67/ANgXTf8A0ffV0lABRRRQAUUUUAFVtRuDaaXdXCjJihZwB3IGQKs1Q1j57WGAdZ7iJPqNwZv/AB1TQBYsbYWen29svSGJUH4DFVdZ/d20N2vW0nSUn0X7r/8AjrNWjUVzbpdWk1vLykyMjfQjBoAloqnpM73Gk27y/wCtCbJP99flb9QauUAc348/5F21/wCw1pX/AKcLejx5/wAi7a/9hrSv/Thb0ePP+Rdtf+w1pX/pwt6PHn/Iu2v/AGGtK/8AThb0AdJRRRQBzdj/AMlT13/sC6b/AOj76jwv/wAjF4z/AOw1H/6b7Oix/wCSp67/ANgXTf8A0ffUeF/+Ri8Z/wDYaj/9N9nQB0lFFUNQu5A62ViQbyYZBxkQp3c/0Hc/jQBE3/Ez1YKObWxfLekk3YfRQc/Uj0rUqG0tY7K0jt4AdiDqTksepJPck8k1NQAUUUUAFFFFAGXEf7M1YwHi1vWLxHskvVl/4Fyw993qK1KgvLSO9tXglyA3IZeCjDkMPcHBqDTrySQvaXuFvIB84HAkXs6+x/Q5FAF6ub8Uf8jF4M/7DUn/AKb7yukrm/FH/IxeDP8AsNSf+m+8oA6SiiigAooooAKKKKAKGl8vfN/eu2/RVH9KvModSrDIIwQe9UNGO6zmb+9d3H6SsP6VoUAZ+isUsTZyEmSycwHJ5Kj7h/FSp/OtCsy7P9n6tHe9ILgCC4/2Tn5H/MlT9V9K06ACiiigDm/hx/ySzwp/2BbP/wBEJXSVzfw4/wCSWeFP+wLZ/wDohK6SgAooooAKKKKAKGmAMt6rDIN1ICD36U3R2MVu9hIT5lk3lDJ6x9UP/fOB9Qafpf8Ay+f9fT/0puoQyxTx6hZoXliGyWIdZY+uB/tA8j8R3oA0KKit7mK7t0nt3DxuMhh/nr7VLQAUUUUAc3Y/8lT13/sC6b/6Pvq6Subsf+Sp67/2BdN/9H31dJQAUUUUAFFFFABWfeYl1rToevl+Zcfkuz/2pWhWfDmXxDcvwVggjjHszFmb9AlAGhRRRQBnad+41C/tOgEguEH+zJ1/8fD1o1nXx+y6pZ3nRHJtpfo2Nh/76AH/AAOtGgDm/Hn/ACLtr/2GtK/9OFvR48/5F21/7DWlf+nC3o8ef8i7a/8AYa0r/wBOFvR48/5F21/7DWlf+nC3oA6SiiigDm7H/kqeu/8AYF03/wBH31Hhf/kYvGf/AGGo/wD032dFj/yVPXf+wLpv/o++rnbfXfDmneMvF9t4i8UWWmFtVicWdxfx25kX7BajcckMQcEdccGgDtrjUy8zWulqtxcg4ds/u4f98+v+yOfp1qWw09LFHO9pp5m3TTv96Q/0A7DtWFD8QPAVtCsVv4t8OxRqMKianAAPw3VJ/wALH8Ef9Dl4f/8ABpB/8VQB0lFc3/wsfwR/0OXh/wD8GkH/AMVR/wALH8Ef9Dl4f/8ABpB/8VQB0lFc3/wsfwR/0OXh/wD8GkH/AMVR/wALH8Ef9Dl4f/8ABpB/8VQB0lFc3/wsfwR/0OXh/wD8GkH/AMVR/wALH8Ef9Dl4f/8ABpB/8VQB0lVL/T1vVjdJGguYTuhmTqh7gjuD3Hesb/hY/gj/AKHLw/8A+DSD/wCKo/4WP4I/6HLw/wD+DSD/AOKoA1LbU8TLa6kgtro8Lz8k3ujd/wDd6j9ay/FH/IxeDP8AsNSf+m+8qOfx/wCArqFornxb4cljbqr6nAQf/Hq5jWPF/g+LxH4UktPGulT2sGqyPJG2qQyLAv2G6UMWLbgNzKvJxlgO9AHp9Fc3/wALH8Ef9Dl4f/8ABpB/8VR/wsfwR/0OXh//AMGkH/xVAHSUVzf/AAsfwR/0OXh//wAGkH/xVH/Cx/BH/Q5eH/8AwaQf/FUAdJRXN/8ACx/BH/Q5eH//AAaQf/FUyX4leCY4XdfGGgMVUkAanCSePTdQBsaJzo8L/wDPQvJ/30xb+tX64/SfiB4KttFsoH8Y6AHjgRWzqkOchRnPzVc/4WP4I/6HLw//AODSD/4qgDoZoY7iB4Z0DxyKVdW6EHqKzbW5k02ZbHUWJjJ2210x/wBYOyMezj/x765qh/wsfwR/0OXh/wD8GkH/AMVTJviD4DuIWin8XeHZY3GGR9TgII9xuoA6eiuJHjjwlZ/8g7x74fMQ/wCWFzqcLgeytv3D8d30p3/C1PC8WPP17QX9Tba3bOP/AB51NAGh8OP+SWeFP+wLZ/8AohK6SvO/APj7wfZ/Dbw1a3nizQ4LiHSbWOWKXUoVeNhCoKsC2QQRgg10H/Cx/BH/AEOXh/8A8GkH/wAVQB0lFc3/AMLH8Ef9Dl4f/wDBpB/8VR/wsfwR/wBDl4f/APBpB/8AFUAdJRXN/wDCx/BH/Q5eH/8AwaQf/FUf8LH8Ef8AQ5eH/wDwaQf/ABVAGtpf/L5/19P/AEq9XHab8Q/BSfa9/i/QV3XLsM6nCMjjn71Xf+Fj+CP+hy8P/wDg0g/+KoA1J9PlhuHutLkWKVzmWF/9XMfU/wB1v9ofiDSLrMMRCanG9hJ0zN/qz9HHy/ng+1Zn/Cx/BH/Q5eH/APwaQf8AxVIfiL4GZSG8Y+HyD1B1SDn/AMeoA6RWV1DIQynoQc5pa4tvFfw5LFofFug2zE5LW2sRRZPvtcA/jR/wm3hJDmH4j6Rj+7JqNq4H8j+tAGhY/wDJU9d/7Aum/wDo++rpK810nx34Xh+ImtXF74y0CWKTSrCOKdb2KNGKy3ZZc7yCw3qTjoGXjnnpv+Fj+CP+hy8P/wDg0g/+KoA6Siub/wCFj+CP+hy8P/8Ag0g/+Ko/4WP4I/6HLw//AODSD/4qgDpKK5v/AIWP4I/6HLw//wCDSD/4qj/hY/gj/ocvD/8A4NIP/iqAOkrP0f8AeR3V1/z8XLsD6qvyA/QhAfxrB1H4m+DYbCVrXxdoMk5G2JRqcJ+Y8An5uBk5J7Cn2fj3wLZWMFtH4y0ArDGEBOqQ84GM/eoA6uiub/4WP4I/6HLw/wD+DSD/AOKo/wCFj+CP+hy8P/8Ag0g/+KoA3b21W9spbaQlRIpG4dVPYj3B5qLTLtruz/fgLcwsYp19HHX8D1HsRWP/AMLH8Ef9Dl4f/wDBpB/8VWfeeOvByXf27TvGfh0T7dssT6rCFnUdATu4I5wfwPsAaHjz/kXbX/sNaV/6cLejx5/yLtr/ANhrSv8A04W9cx4i+IvhTXtPsdM03XLCbUJdZ0vZaxXUcjNi+gY4KEg4AJ4PQV0/jz/kXbX/ALDWlf8Apwt6AOkooooA5ux/5Knrv/YF03/0ffUeF/8AkYvGf/Yaj/8ATfZ0WP8AyVPXf+wLpv8A6PvqPC//ACMXjP8A7DUf/pvs6AOkooooAKKKKACmedGF3GRME7Qdw6+lPrzxPD2oQ3iy2NmXsrzVzJe2k6Y8pluvMS5jz2MY2sB1yp4w2QD0GSWOLb5rqm5gq7jjJPQD3p1eX6nH4svbW7tWtbuQm6025t1mh3pE8V8JJfmDZYCNFY4CgjAXnNWo7rxfDFpTRWmoCSM2i3gmImEhM+25x93AEfzKxBzkAKCGoA9GorzOy1bXLyS7S2uLq9vYreI3EcU6eWjNclXaPb2EasQvBIXAIbJD2fxfc2sDzS6ta3MMVwjC3gXbKy3QEDkHcMmEEkZP3uckCgD0jI3AZGSMgVznij/kYvBn/Yak/wDTfeVV0Yal/bdkbyO9dIjexedcRjIQyK0WTjuoxnvgZ5q14o/5GLwZ/wBhqT/033lAHSUUUUAFFFFABRRRQAUUUjfdORkY6Y60AN86PCnzFwxwp3Dn6U+vONJ8OalpeoaKNO09W0qW4lupobgbW0+58mUb1U/wSMwJA6NyPvHE1nH4sktbRNQl1OKNlshM/wC7M4mw/wBqzsyuz/VgEcZ3be1AHoNFec3Np4ltpb2O11LXpVRp0gZkjbcFgTyznZ3lDHPfJH3cCvQrZ2ltYpJFZWZAzKwwQSOhHagDn/hx/wAks8Kf9gWz/wDRCV0lc38OP+SWeFP+wLZ/+iErpKACiiigAooooAassbsVR1Yr1AOcU6vPB4Z1BrjXdU02J7XUre6up9MXyVj853g8tSzH7y5ydp4yFJ6Cprm18YXAl+wXF1BDJfNb27TOvmw2z2ygzMMEMyT7yoPY/SgDvaa8scW3zHVN7bV3HG4+g9689dfHcum2dxmW0uri2nknhTbOLe5zGIlwSuUwJDjIHzEHHy4uzWOpyzSXE8uqT7NXj8u2dQY1hEsb7wMZ4CNg5/iI54wAdvRXnFtL42NtfM9vdmS3is7qCByFMsgkkFzB5mcN8mzBwq5PAwK6Twjba9El0fEs7SzQv9niYEbJ0UkiYKPulgwBH+x70AJY/wDJU9d/7Aum/wDo++rpK5ux/wCSp67/ANgXTf8A0ffV0lABRRRQAUUUUAFMSWOQkRyK5HXa2cU+vLdO0PWtJMup2elyvOs2sLb28SLBIrTXDywMzkHKMu0cjCkjIOOAD1Kmxyxy7vKdX2sVbac4I6g+9ebSXviiNlgeadLiTUGtLSOQiJpraSBf34UsSxilZiec7VJ4OBVrUbbxPHPfx6Ibu2gkuJyZ1iV5WfyYlhcBiAw3LJ14ztz8uaAPQAQc4IODg+1NSaORnWORXZDhwrAlT6H0rzHUtR1/Rn1mS9kura0N3czQNF5aO+LWEoV3dUEqz56/w5+WtPTbPWbXxUt7/wATERzT2qzgqDHLH9lZWZsjORJt54I2jtnIBtePP+Rdtf8AsNaV/wCnC3o8ef8AIu2v/Ya0r/04W9Hjz/kXbX/sNaV/6cLejx5/yLtr/wBhrSv/AE4W9AHSUUUUAc3Y/wDJU9d/7Aum/wDo++o8L/8AIxeM/wDsNR/+m+zosf8Akqeu/wDYF03/ANH31Hhf/kYvGf8A2Go//TfZ0AdJRRRQAUUUUAFFFFABRVS11S0vbiWC3l3SRckFSNwzjKk/eGQRkd6t0ANVFTOxVXJycDGTTqKKACub8Uf8jF4M/wCw1J/6b7yukrm/FH/IxeDP+w1J/wCm+8oA6SiiigAooooAKKKq3eoW9myJKXaRwSscUbO5A6nCgnHvQBaoqK2uYbu3Wa2cPG3Qj9QR2PtUtABRRRQAUUUUAc38OP8AklnhT/sC2f8A6ISukrm/hx/ySzwp/wBgWz/9EJXSUAFFFFABRRRQAUVHFPHPv8s58tyjcdCOtSUAFFFFABRRRQBzdj/yVPXf+wLpv/o++rpK5ux/5Knrv/YF03/0ffV0lABRRRQAUUUUAFFFNkkSKJpJWCIgLMzHAAHU0AKVUsGKgsvQ46UtVLHU7XUPMFq7FoiA6OjIwyMg4IBwR0NW6AEZFfG9Q205GRnBpaKKAOb8ef8AIu2v/Ya0r/04W9Hjz/kXbX/sNaV/6cLejx5/yLtr/wBhrSv/AE4W9Hjz/kXbX/sNaV/6cLegDpKKKKAObsf+Sp67/wBgXTf/AEffUeF/+Ri8Z/8AYaj/APTfZ0WP/JU9d/7Aum/+j76jwv8A8jF4z/7DUf8A6b7OgDpKKKKACiiigAqnq072+k3MkP8ArfLIjz/fPC/qRVyqGrjfHaw/89buL/x1t/8A7JQBBeWyabbWE8AwtiyxHA6xNhDn2Hyt/wABrWqG8tlvLKe2k+7NGyH8RiotLuWu9Kt5pBiRkAkHo44YfmDQBbooooAK5vxR/wAjF4M/7DUn/pvvK6Sub8Uf8jF4M/7DUn/pvvKAOkooooAKKKKAGu6xxs8jBUUEsT2AqhpETSRvqFwpE93hgG6xx/wJ+A5PuTRrA+0RQWA5+1yBH/65j5n/ADA2/wDAq0aAMxwNP1pJF4gvzskHZZQPlb/gQBB9wtadVdTtWvNOmhjO2XG6Jv7rg5U/gQKfZXS3tjDcqNolQNtPVT3H4dKAJ6KKKACiiigDm/hx/wAks8Kf9gWz/wDRCV0lc38OP+SWeFP+wLZ/+iErpKACiiigAooooAztIcs2oA/w3jgfkp/rWjWZo3+s1L/r9f8A9BWtOgAooooAKKKKAObsf+Sp67/2BdN/9H31dJXN2P8AyVPXf+wLpv8A6Pvq6SgAooooAKKKKACs7VgLhrWxPIuJgZB/sJ8x/AkKP+BVo1nr++8SOe1tagD6yMc/pGPzoAbqI+y31pfrwA4gm90c4H5Nt+gJrSqC+tRe6fPbE7fNjKhh2JHB/Cm6ddG8023uHG13QF1/ut/EPwORQBZooooA5vx5/wAi7a/9hrSv/Thb0ePP+Rdtf+w1pX/pwt6PHn/Iu2v/AGGtK/8AThb0ePP+Rdtf+w1pX/pwt6AOkooooA5ux/5Knrv/AGBdN/8AR99R4X/5GLxn/wBhqP8A9N9nRY/8lT13/sC6b/6PvqPC/wDyMXjP/sNR/wDpvs6AOkooooAKKKKACs+/G/U9MX+7M8n5RMv/ALNWhWfcHPiCxT0gnf8AIxj/ANmoA0Kz9O/c32oWvQLKJkH+zIMn/wAfD1oVnzfufENtJ/DcQPEx/wBpSGX9C9AGhRRRQAVzfij/AJGLwZ/2GpP/AE33ldJXN+KP+Ri8Gf8AYak/9N95QB0lFFFABRRUVzcR2lrLcTHEcKF2PoAMmgCnb/6Vr1zP1S1QW6f7xwz/AKbB+BrRqnpMDwabF54xNJmWUZzh2O4j8CcfhVygArO04/Z769sTwFfz4/8AckyT/wCPh/0rRrOv8W2pWV70UsbaU+z/AHf/AB8KP+BGgDRooooAKKKKAOb+HH/JLPCn/YFs/wD0QldJXN/Dj/klnhT/ALAtn/6ISukoAKKKKACiiigDL0VgZdUAPK3zg+3yrWpWLoDZvdaX0vyfzjT/AAraoAKKKKACiiigDm7H/kqeu/8AYF03/wBH31dJXN2P/JU9d/7Aum/+j76ukoAKKKKACiiigArP03L3mpTnkNcbF+ioo/8AQt1aFZ+ic6SkvXzpJJs+u92YfoaANCs7TP3F3f2fACTecg/2ZPm/9D31o1nXH+j6/ay9FuY2gb3YfOv6CT86ANGiiigDm/Hn/Iu2v/Ya0r/04W9Hjz/kXbX/ALDWlf8Apwt6PHn/ACLtr/2GtK/9OFvR48/5F21/7DWlf+nC3oA6SiiigDm7H/kqeu/9gXTf/R99R4X/AORi8Z/9hqP/ANN9nRY/8lT13/sC6b/6PvqPC/8AyMXjP/sNR/8Apvs6AOkooooAKKKKACqEgz4jtye1pLj2y8ef5Cr9UP8AmYv+3X/2egC/WfrX7qzju+B9jmWYk9l6Of8AvhmrQpssSTQvFKu5HUqwPcHg0AOoqho8rvp4hmbdPasYJSepK9D+Iw341foAK5vxR/yMXgz/ALDUn/pvvK6Sub8Uf8jF4M/7DUn/AKb7ygDpKKKKACs7Vf8ASJrTT1/5byeZL/1zTBP5nav/AAI1o1m6Z/plxPqZ5SbEdv8A9cl7/wDAiSfptoA0qKKKACq9/ai+0+a3LbTIuFb+63UH8Dg/hViigCtp139t0+GdhtdhiRf7rg4ZfwIIqzWbCfsGtSQMcQ3v72L2kA+dfxGG/wC+q0qACiiigDm/hx/ySzwp/wBgWz/9EJXSVzfw4/5JZ4U/7Atn/wCiErpKACiiigAooooAwNG/ceItURulzIZE9yp2t+hT8636xorM3cdy0MnlXEN47wyYztPTBHcEcEVZh1QrKkGo28lrM7bVOC8bn2ccc+hwfagDQooooAKKKKAObsf+Sp67/wBgXTf/AEffV0lc3Y/8lT13/sC6b/6Pvq6SgAooooAKKKKAIL6f7Np9xPnHlRM+foM03ToPsul2sA48qFE/JQKg1zDaLcRn/lsBD/32wX/2atCgAqjrMbNpryxAmW3ZZ0C9WKHOPxAI/Gr1FADYpEmhSWJgyOoZWHcHoadWbpH+jefpzf8ALq37r3ibJT8uV/4DWlQBzfjz/kXbX/sNaV/6cLejx5/yLtr/ANhrSv8A04W9Hjz/AJF21/7DWlf+nC3o8ef8i7a/9hrSv/Thb0AdJRRRQBzdj/yVPXf+wLpv/o++o8L/APIxeM/+w1H/AOm+zosf+Sp67/2BdN/9H31ZGmW3iObxb4wbQ9V0uzt/7WiDR3mmSXDlvsFpkhlnjAGMcYPQ884AB3dFc39h8b/9DD4f/wDBDP8A/JlH2Hxv/wBDD4f/APBDP/8AJlAHSUVzf2Hxv/0MPh//AMEM/wD8mUfYfG//AEMPh/8A8EM//wAmUAdJVD/mYj7WvP8A33WV9h8b/wDQw+H/APwQz/8AyZUI0jxqL1rkeItB3tGIyP7BmxgEn/n79zQB1VFc39h8b/8AQw+H/wDwQz//ACZR9h8b/wDQw+H/APwQz/8AyZQBoXrf2XqH9on/AI9ZVEd1j+DH3ZPoM4Ptg9q0wQygqQQRkEd65s2Hjcgg+IfD5B6g6DN/8mVRh8OeNbWT/Q/FWjW8P/PBNClMf4Bro7foCBQB2dc34o/5GLwZ/wBhqT/033lIth44C4PiPQG9zoM3/wAmVgeI7PxiNe8JifXdDd21aQQsmizKEb7DdcsDdHcNu4YBHJBzxggHolFcy2n+OGHHiTQF+mgzf/JdUpvD3ji4b/SPF+lSRHrENDlRT+K3Qb9aAN68mOqTNp1mx8oHbdzqeEHdAf7x6H0HvitREWONUjUKqjCgDgCuYh0rxnbQrFb674djjQYVE0CYAf8Ak5Un2Hxv/wBDD4f/APBDP/8AJlAHSUVzf2Hxv/0MPh//AMEM/wD8mUfYfG//AEMPh/8A8EM//wAmUAdJRXN/YfG//Qw+H/8AwQz/APyZR9h8b/8AQw+H/wDwQz//ACZQBt6hZi+tTGHMcikPFIOsbjof/rdxkVHYah9oZre5UQ3sQ/ew56/7S+qnsfwPNZH2Hxv/ANDD4f8A/BDP/wDJlV7vQ/F96q/aNe8PlkOUddCnV0PqrC8yPwoA6yiuQg0Xx5BwfGGkSr2EmgucfiLrP51aFh44AH/FReHz7/2DN/8AJlAC/Dj/AJJZ4U/7Atn/AOiErpK878A2fjFvht4aaz13Q4rc6TamKOXRZndV8lcBmF0oYgdSAM+g6V0H2Hxv/wBDD4f/APBDP/8AJlAHSUVzf2Hxv/0MPh//AMEM/wD8mUfYfG//AEMPh/8A8EM//wAmUAdJRXN/YfG//Qw+H/8AwQz/APyZR9h8b/8AQw+H/wDwQz//ACZQBraX/wAvn/X0/wDSm60cWULDqLu3x+MyD+RrFt9I8a2/m7PEWgnzJDIc6DN1P/b3RdaP40u4Vjk8RaCAskcg26DN1Rw4/wCXv1UUAdVRXN/YfG//AEMPh/8A8EM//wAmUfYfG/8A0MPh/wD8EM//AMmUAdJRXN/YfG//AEMPh/8A8EM//wAmUfYfG/8A0MPh/wD8EM//AMmUAFj/AMlT13/sC6b/AOj76ukrzuzs/GP/AAsnWVXXdDFwNJsC8h0WYoy+debQF+1ZBBDZOTnI4GCT0H2Hxv8A9DD4f/8ABDP/APJlAHSUVzf2Hxv/ANDD4f8A/BDP/wDJlH2Hxv8A9DD4f/8ABDP/APJlAHSUVzf2Hxv/ANDD4f8A/BDP/wDJlH2Hxv8A9DD4f/8ABDP/APJlAGpq3zCyhP8Ay1u4+PXbmT/2StCuVm0jxpPPbyv4i0HNu5dANBmxkqV5/wBL9GNTfYfG/wD0MPh//wAEM/8A8mUAdJRXN/YfG/8A0MPh/wD8EM//AMmUfYfG/wD0MPh//wAEM/8A8mUAampQzJJFf2aF5rcEPEP+WsZ6r9eAR7jHc1atbuG9tkntnDxv0Pp6gjsfasH7D43/AOhh8P8A/ghn/wDkyqM3h3xk87T2/ibRLSdjlpINDmG//eU3ZUn3IzQBe8ef8i7a/wDYa0r/ANOFvR48/wCRdtf+w1pX/pwt65/xPYeLLfSrBtY1/S760XWdL8yOHSHgkb/T4MYf7QwHOD905GRx1HQePP8AkXbX/sNaV/6cLegDpKKKKAObsf8Akqeu/wDYF03/ANH31Hhf/kYvGf8A2Go//TfZ0WP/ACVPXf8AsC6b/wCj76jwv/yMXjP/ALDUf/pvs6AOkooooAKKKKACiiigAqO5keK1lkiCs6IzKGOASBxmpKZPEJ7eSJmZRIpUspwRkYyKAOK8OfEiHVtJjv8AULZLeGS0spw1vI0uJbo7Ut8bR8+So4yPmBOKn0z4gQTW6S6rELNSt+xJDfdtbsW5OCOM7lJyRjd3AJF2PwHokNrZ28UcyLZ20FrEyykN5cDb4cnqSjcg+5znJyQeBtLtmiaGa9VohcBG+0HI8+ZZpee+6RFbn0x0JFAFyx8Qpf6x9hisrlF+zLP5zqAMFnXGM5/g4IyDkY45qn4o/wCRi8Gf9hqT/wBN95VzTvC+naVNbyWCzQ/Z1ZQqykK+5nY7lHB+aRyB0BPTgYp+KP8AkYvBn/Yak/8ATfeUAdJRRRQAUUUUAFFFFABRRRQAUUUUAY2ranqVjqFpDbWttJDdTLAskszKQxR2JwFPA2fr7Vq27SvbRNcoscxQGRFbcFbHIB7896gvtNiv57SWV5VNpN50YRsAtgjn1GCR+NW6AOb+HH/JLPCn/YFs/wD0QldJXN/Dj/klnhT/ALAtn/6ISukoAKKKKACiiigAqG7a4S2Jso45JsqAsj7VxkZJOD0GT+FTUEZBHT3FAHI2fjWVbWyuNXsPLj1CZ7a0FmWnZ5k80lCu0Y+WIsD069Mc2x410+C1in1MParNcSQqWQ4XbJsG7IGGyRkDOOeoBNWIfClhBFpkaSXONLunu7cmTkSOrq2eOQVlkGP9o+2K914H0q8WQTPdZkMu9lmwSJHV3X6blB/MdOKAJJPGmkwS3qXX2qAWSTPK72zlSItu/aQDuIDrwMk5wMkEC7o+u2utyXqWkc8b2M4t7hZ4ihWQor7eevyupz05rO1HwZZ3tpeIJpjLcRXCDzXJQGZQGyFKtjKqeCCMcEVZ8NaA2hR6g81y1zcajdm7ndiThvLSMAZ5xtjX/AUAVbH/AJKnrv8A2BdN/wDR99XSVzdj/wAlT13/ALAum/8Ao++rpKACiiigAooooAKKKKACuNuPHbWOsnT76zjiKan9jlkMpCxxMkZjl5Xnc88KYHdjzxXZVi6j4R0bVZ9QmvrXzH1G3it7g7yNyRszLj0OW6jnhfQUAQWfiuGU6fZ36iz1LUYg8ETKxUsUZwueCcKpz2zxnOKz7Dx4uoaLoF1HbEXOpxWU1xGqM0cAuVBC78YzycZ7DnGRnYuvDFjdaquoCS4hnWRJP3UuFLKpRTj/AHWIx059eaq2vgbSLK3s4LU3UUdnHbxxqtwcEQf6rI7lRxnuMZzgYAE8ef8AIu2v/Ya0r/04W9Hjz/kXbX/sNaV/6cLejx5/yLtr/wBhrSv/AE4W9Hjz/kXbX/sNaV/6cLegDpKKKKAObsf+Sp67/wBgXTf/AEffUeF/+Ri8Z/8AYaj/APTfZ0WP/JU9d/7Aum/+j76jwv8A8jF4z/7DUf8A6b7OgDpKKKKACiiqeszyW2hX88DbJYraR0bGcEKSDQBcooooAKKZKSsLkcEKSKh06V59LtZZTueSFGY+pKgmgCzRRRQAVzfij/kYvBn/AGGpP/TfeV0lc34o/wCRi8Gf9hqT/wBN95QB0lFFFABRRRQAUUVnXsk9zqCWFpObfEfmzSoAWUZwoGQRyQecdFPrQBo0VT0y6kubVhc4FxC5imCjA3DuPYghvoauUAFFFFABRRRQBzfw4/5JZ4U/7Atn/wCiErpK5v4cf8ks8Kf9gWz/APRCV0lABRRRQAUUUUAFFFZml373mparEzEpb3CpGMD5RsXI/wC+t1AGnRRRQAUUUUAc3Y/8lT13/sC6b/6Pvq6Subsf+Sp67/2BdN/9H31dJQAUUUUAFFFFABRUdxL5FrLMekaFufYZqh4fubi50lftz+ZcxsUkbGN3cHH+6RQBp0UUUAFFFFAHN+PP+Rdtf+w1pX/pwt6PHn/Iu2v/AGGtK/8AThb0ePP+Rdtf+w1pX/pwt6PHn/Iu2v8A2GtK/wDThb0AdJRRRQBzdj/yVPXf+wLpv/o++o8L/wDIxeM/+w1H/wCm+zosf+Sp67/2BdN/9H31Hhf/AJGLxn/2Go//AE32dAHSUUUUAFZ/iD/kWdT/AOvOX/0A1oVn+IP+RZ1P/rzl/wDQDQBodelFMg/494/90fyp9ADJ/wDj3k/3T/Kq+k/8gWx/694//QRVif8A495P90/yqvpP/IFsf+veP/0EUAW6KKKACub8Uf8AIxeDP+w1J/6b7yukrm/FH/IxeDP+w1J/6b7ygDpKKKKACiiigArO0n98bu9Jz9onIT2RPkH4Egt/wKptUuXtdLnli5l27Yge7nhR+ZFS2dstnZQ20f3YY1Qe+BigCov+jeInH8F5DuH++hwfzVl/75rRrO1n91bw3o62cyyk5xhD8r/+OsT+FaNABRRRQAUUUUAc38OP+SWeFP8AsC2f/ohK6Sub+HH/ACSzwp/2BbP/ANEJXSUAFFFFABRRRQAVz/hz/j8vW5/fqtz9Q8s2P0AH0Arau5xbWM856RRs5/AZrM0m3+x3kMGMFdOhT67C3/xVAGzRRRQAUUUUAc3Y/wDJU9d/7Aum/wDo++rpK5ux/wCSp67/ANgXTf8A0ffV0lABRRRQAUUUUAUdccx+HtRcclbWUj/vg1HYqLfWL+3H8SxT/XKlP/aYp+uc6DeD1iYY9c9qSX914itm/hmt5EP1VlK/oWoA0KKKKACiiigDm/Hn/Iu2v/Ya0r/04W9Hjz/kXbX/ALDWlf8Apwt6PHn/ACLtr/2GtK/9OFvR48/5F21/7DWlf+nC3oA6SiiigDm7H/kqeu/9gXTf/R99R4X/AORi8Z/9hqP/ANN9nRY/8lT13/sC6b/6PvqPC/8AyMXjP/sNR/8Apvs6AOkooooAKz/EH/Is6n/15y/+gGtCs/xB/wAizqf/AF5y/wDoBoAuwf8AHvH/ALo/lT6ZB/x7x/7o/lT6AIbxiljOw6rGxH5VFpP/ACBbH/r3j/8AQRUl9/yDrn/rk38jUek/8gWx/wCveP8A9BFAFuiiigArm/FH/IxeDP8AsNSf+m+8rpK5vxR/yMXgz/sNSf8ApvvKAOkooooAKKKQkKpLEAAZJPagDPvv9J1aytB92Mm5l+i8KP8Avo5/4BWjWdpINx5+pOMG7YeV7RLwn55Lf8CrRoAZNClxBJDKNySKUYeoIwaqaPM8ulxrMczQZhlPqyHaT+OM/jV6s3P2HXjniHUBwfSZR/7Mo/8AHPegDSooooAKKKKAOb+HH/JLPCn/AGBbP/0QldJXN/Dj/klnhT/sC2f/AKISukoAKKKKACiiigDP13nRZ4z/AMttsGPXewT/ANmpZDt8SQD+/aSfjtdP/iv1pNV+d7CA8+bdr/44DJ/7JS3Ixr1i/rFMmfrsP/stAF+iiigAooooA5ux/wCSp67/ANgXTf8A0ffV0lc3Y/8AJU9d/wCwLpv/AKPvq6SgAooooAKKKKAKGtf8gib3Kgf99Ck1b921lc9PJukB+j5j/m4P4Uutf8gz/ttCP/Iq1NqNqb3Tbi3U7WkjIRv7rY4P4HBoAs0VBY3QvdPguQNvmoGK/wB045H4Hip6ACiiigDm/Hn/ACLtr/2GtK/9OFvR48/5F21/7DWlf+nC3o8ef8i7a/8AYa0r/wBOFvR48/5F21/7DWlf+nC3oA6SiiigDm7H/kqeu/8AYF03/wBH31Hhf/kYvGf/AGGo/wD032dFj/yVPXf+wLpv/o++o8L/APIxeM/+w1H/AOm+zoA6SiiigArP8Qf8izqf/XnL/wCgGtCs/wAQf8izqf8A15y/+gGgC5bsGtYmXkFAR+VSVU0mXz9FspR/Hbo30yoq3QBW1Fwml3TnosLk4/3TTdJ/5Atj/wBe8f8A6CKj12TyfD2oSH+G2kx7nacVJpP/ACBbH/r3j/8AQRQBbooooAK5vxR/yMXgz/sNSf8ApvvK6Sub8Uf8jF4M/wCw1J/6b7ygDpKKKhury2so993PHCvQF2AyfQepoAmrLvn/ALSuTpkBPljBu5F6Kv8Azzz6t39Fz6ila5vdS+SxR7S3P3rmZMOR/sIf5t+Rq7aWkNjbiG3XaoOSScliepJ7k+tAEoAVQFAAAwAO1LRRQAVXvrRb60aEsUbIaOQdY3HIYfQ1YooAp6dem6jeO4UR3cBCzxjsfUeqnqD/AFBq5VO908XLpPBIbe7jGI5lGeP7rD+Jfb8sHmoF1ZrT5NZh+ykf8tx80Le+7+H6Nj6mgDTopqOkiB42V1bkMpyDTqAOb+HH/JLPCn/YFs//AEQldJXN/Dj/AJJZ4U/7Atn/AOiErpKACiiigAooooAz7k79esI+yRSyn2I2qP8A0M0X526ppbf3pnT84mOP/Hf0oj/eeIrg44hto1B92ZyR+SrS6mMXGnP/AHLsc+mUdf8A2agC/RRRQAUUUUAc3Y/8lT13/sC6b/6Pvq6Subsf+Sp67/2BdN/9H31dJQAUUUUAFFFFAGfrf/IPi/6/Lb/0elaFUNX/AOPe3/6+4f8A0YKv0AZtj/oepXNi3CSMbmD3DH5x+DHP/AxWlVPUbN7qJHtnEd1A2+Fz0z0IP+yRwf8AEU6xv471WXaYriPiWBz80Z/qPQ9DQBaooooA5vx5/wAi7a/9hrSv/Thb0ePP+Rdtf+w1pX/pwt6PHn/Iu2v/AGGtK/8AThb0ePP+Rdtf+w1pX/pwt6AOkooooA5ux/5Knrv/AGBdN/8AR99WRpnizw5oPi3xha65r+l6bcPq0UixXl7HC7KbC0AYBiDjIIz7GrN3qseg/EnU7q/s9Ue3utJsY4ZbPS7m6RmSa7LqTFGwBAkQ4OPvCr3/AAnmkf8APn4g/wDCc1D/AOMUAH/Cx/BH/Q5eH/8AwaQf/FUf8LH8Ef8AQ5eH/wDwaQf/ABVH/CeaR/z5+IP/AAnNQ/8AjFH/AAnmkf8APn4g/wDCc1D/AOMUAH/Cx/BH/Q5eH/8AwaQf/FVQ1z4h+C5vD2oxxeL9BeR7WVVVdThJYlDgAbqv/wDCeaR/z5+IP/Cc1D/4xR/wnmkf8+fiD/wnNQ/+MUAZaePfC2nbksPGPhi4ti5ZYpdXijaPJyQGBORk8AgY9al/4Wj4Z6f8JB4dz/2HbfH88/pV/wD4TzSP+fPxB/4Tmof/ABij/hPNI/58/EH/AITmof8AxigDJuPHnhXUU233jDw1Dbr83kRavE7SkcjLEjAzzgA5456g3NL+IngqPSLNJPGGgKywIGVtThBB2jj71Wv+E80j/nz8Qf8AhOah/wDGKP8AhPNI/wCfPxB/4Tmof/GKAD/hY/gj/ocvD/8A4NIP/iqP+Fj+CP8AocvD/wD4NIP/AIqj/hPNI/58/EH/AITmof8Axij/AITzSP8Anz8Qf+E5qH/xigA/4WP4I/6HLw//AODSD/4qub8VePPCl1rHhVrDxhoIMGrPJJKL+GRYl+xXS7mw/Ayyrknqw9cV0n/CeaR/z5+IP/Cc1D/4xR/wnmkf8+fiD/wnNQ/+MUAZ58aeDpc/afiLpTg/wR6rbRD81O79altvGXw6tJPMg8VeHRLjBlbVIWcj/eLk/rVv/hPNI/58/EH/AITmof8Axij/AITzSP8Anz8Qf+E5qH/xigA/4WP4I/6HLw//AODSD/4qj/hY/gj/AKHLw/8A+DSD/wCKo/4TzSP+fPxB/wCE5qH/AMYo/wCE80j/AJ8/EH/hOah/8YoAP+Fj+CP+hy8P/wDg0g/+Ko/4WP4I/wChy8P/APg0g/8AiqP+E80j/nz8Qf8AhOah/wDGKP8AhPNI/wCfPxB/4Tmof/GKAD/hY/gj/ocvD/8A4NIP/iqP+Fj+CP8AocvD/wD4NIP/AIqj/hPNI/58/EH/AITmof8Axij/AITzSP8Anz8Qf+E5qH/xigA/4WP4I/6HLw//AODSD/4qj/hY3gc9fGXh/wD8GkH/AMVR/wAJ5pH/AD5+IP8AwnNQ/wDjFH/CeaR/z5+IP/Cc1D/4xQBQfxb8OmkMkXi3QbaQnJe21eKIk++1wD+OaT/hOPCsefs/xH0Q+guL+2cD8mU/rWh/wnmkf8+fiD/wnNQ/+MUf8J5pH/Pn4g/8JzUP/jFAHP8AgHx94Ps/ht4atbzxZocFxDpNrHLFLqUKvGwhUFWBbIIIwQa6D/hY/gj/AKHLw/8A+DSD/wCKo/4TzSP+fPxB/wCE5qH/AMYo/wCE80j/AJ8/EH/hOah/8YoAP+Fj+CP+hy8P/wDg0g/+Ko/4WP4I/wChy8P/APg0g/8AiqP+E80j/nz8Qf8AhOah/wDGKP8AhPNI/wCfPxB/4Tmof/GKAD/hY/gj/ocvD/8A4NIP/iqP+Fj+CP8AocvD/wD4NIP/AIqj/hPNI/58/EH/AITmof8Axij/AITzSP8Anz8Qf+E5qH/xigCjY/EPwX9v1GWTxfoKh51WPOpwjKiNefvf3i1GqfETwU0NuY/F+gsUuYj8upwnA3gE/e6YJ+nWr3/CeaR/z5+IP/Cc1D/4xR/wnmkf8+fiD/wnNQ/+MUAH/Cx/BH/Q5eH/APwaQf8AxVH/AAsfwR/0OXh//wAGkH/xVH/CeaR/z5+IP/Cc1D/4xR/wnmkf8+fiD/wnNQ/+MUAH/Cx/BH/Q5eH/APwaQf8AxVH/AAsfwR/0OXh//wAGkH/xVH/CeaR/z5+IP/Cc1D/4xR/wnmkf8+fiD/wnNQ/+MUAc/Z+PvB6/EnWbpvFmhi3k0mwjSU6lDsZlmvCyg7sEgOpI7bh6iug/4WP4I/6HLw//AODSD/4qj/hPNI/58/EH/hOah/8AGKP+E80j/nz8Qf8AhOah/wDGKAD/AIWP4I/6HLw//wCDSD/4qj/hY/gj/ocvD/8A4NIP/iqP+E80j/nz8Qf+E5qH/wAYo/4TzSP+fPxB/wCE5qH/AMYoAP8AhY/gj/ocvD//AINIP/iqP+Fj+CP+hy8P/wDg0g/+Ko/4TzSP+fPxB/4Tmof/ABij/hPNI/58/EH/AITmof8AxigClqXxD8FSfZFTxfoLYuUZsanCcAZOT83tV3/hY/gj/ocvD/8A4NIP/iqP+E80j/nz8Qf+E5qH/wAYo/4TzSP+fPxB/wCE5qH/AMYoAP8AhY/gj/ocvD//AINIP/iqqXfjbwBeMsj+MdBjnjGEni1aFXT6Hd09jke1W/8AhPNI/wCfPxB/4Tmof/GKP+E80j/nz8Qf+E5qH/xigDOHxF8PW3C+NPC98nbfqkML4+oYgn8FpR8WfB6EifXdKTH8SapauD9MSZ/StD/hPNI/58/EH/hOah/8Yo/4TzSP+fPxB/4Tmof/ABigDmPEvxI8H69ZafpmkeILG7vptZ0zy4IpQzPi+gY4xxwAT+FdP48/5F21/wCw1pX/AKcLej/hPNI/58/EH/hOah/8YrI8SeJLXXtPsrDTLDXHuH1bTpP3uhXsKKqXsLuzO8QVQFViSSOlAHd0UUUAFFFFABRRRQAUUUUAFFFFABRRRQAUUUUAFFFFABRRRQAUUUUAFFFFABRRRQAUUUUAFFFFABRRRQAUUUUAFFFFABRRRQAUUUUAFFFFABRRRQAUUUUAFFFFABRRRQAUUUUAFFFFABRRRQAUUUUAf//Z)\n",
    "\n",
    "These distributions are useful as random number generators, similar to the functions\n",
    "found in ``numpy.random``. Yet the rich variety of functions SciPy provides stands in contrast\n",
    "to the ``numpy.random`` functions, which are limited to uniform and Gaussian-like distributions.\n",
    "\n",
    "When we call a distribution from ``scipy.stats``, we can extract its information in several ways: \n",
    "- probability density functions (PDFs),\n",
    "- cumulative distribution functions (CDFs),\n",
    "- random variable samples (RVSs),\n",
    "- percent point functions (PPFs), and more. \n",
    "\n",
    "So how do we set up SciPy to give us these distributions? Working with the classic normal function we demonstrate how to access the distribution."
   ]
  },
  {
   "cell_type": "code",
   "execution_count": null,
   "metadata": {
    "colab": {
     "base_uri": "https://localhost:8080/"
    },
    "id": "U3IWsvPx3B42",
    "outputId": "5665cd35-16de-4417-9d1c-631cf6be8d6d"
   },
   "outputs": [
    {
     "data": {
      "text/plain": [
       "array([-0.84686739,  0.31197264,  0.91045097,  0.22162299, -0.6097789 ,\n",
       "        0.30686265, -1.48369643,  0.91260168, -0.10536693, -1.75167784,\n",
       "       -0.99428109,  1.55591659,  0.39572227, -0.86447435,  0.24265868,\n",
       "       -1.07579786,  0.63349518,  0.34741089,  1.00531985,  0.65048053,\n",
       "       -0.57450935, -0.98993714, -0.87551768, -1.20483289, -1.10885572,\n",
       "        1.26455758, -0.57240474, -0.13537575, -0.85373394, -0.39329954])"
      ]
     },
     "execution_count": 23,
     "metadata": {
      "tags": []
     },
     "output_type": "execute_result"
    }
   ],
   "source": [
    "import numpy as np\n",
    "from scipy.stats import norm\n",
    "\n",
    "# Set up the sample range\n",
    "x = np.linspace(-5,5,1000)\n",
    "\n",
    "# Here set up the parameters for the normal distribution,\n",
    "# where loc is the mean and scale is the standard deviation.\n",
    "dist = norm(loc=0, scale=1)\n",
    "\n",
    "# Retrieving norm's PDF and CDF\n",
    "pdf = dist.pdf(x)\n",
    "cdf = dist.cdf(x)\n",
    "\n",
    "# Here we draw out 500 random values from the norm.\n",
    "sample = dist.rvs(500)\n",
    "sample[:30] #preview"
   ]
  },
  {
   "cell_type": "markdown",
   "metadata": {
    "id": "vWWI6KsC3tMy"
   },
   "source": [
    "The distribution can be centered at a different point and scaled with the options loc and scale as shown in the example. This works as easily with all distributions because of their functional behavior, so it is important to read the documentation when necessary.\n",
    "\n",
    "In other cases one will need a discrete distribution like the Poisson, binomial, or geometric. Unlike continuous distributions, discrete distributions are useful for problems where a given number of events occur in a fixed interval of time/space, the events occur with a known average rate, and each event is independent of the prior event.\n",
    "\n",
    "The following equation is the probability mass function (PMF) of the geometric distribution.\n",
    "\n",
    "$$PMF = (1 - p)^{(k - 1)} p $$"
   ]
  },
  {
   "cell_type": "code",
   "execution_count": null,
   "metadata": {
    "colab": {
     "base_uri": "https://localhost:8080/"
    },
    "id": "RWp4tUH72HQU",
    "outputId": "8d27f952-19ae-4dd4-b923-39c357a918b1"
   },
   "outputs": [
    {
     "data": {
      "text/plain": [
       "array([2, 5, 3, 3, 3, 6, 3, 1, 1, 1, 2, 1, 1, 6, 1, 2, 3, 2, 2, 5, 2, 1,\n",
       "       2, 1, 1, 2, 1, 1, 4, 2])"
      ]
     },
     "execution_count": 24,
     "metadata": {
      "tags": []
     },
     "output_type": "execute_result"
    }
   ],
   "source": [
    "import numpy as np\n",
    "from scipy.stats import geom\n",
    "\n",
    "# Here set up the parameters for the geometric distribution.\n",
    "p = 0.5\n",
    "dist = geom(p)\n",
    "\n",
    "# Set up the sample range.\n",
    "x = np.linspace(0, 5, 1000)\n",
    "\n",
    "# Retrieving geom's PMF and CDF\n",
    "pmf = dist.pmf(x)\n",
    "cdf = dist.cdf(x)\n",
    "\n",
    "# Here we draw out 500 random values.\n",
    "sample = dist.rvs(500)\n",
    "sample[:30] #preview"
   ]
  },
  {
   "cell_type": "markdown",
   "metadata": {
    "id": "hKSjcdMS4M0B"
   },
   "source": [
    "## Functions"
   ]
  },
  {
   "cell_type": "markdown",
   "metadata": {
    "id": "uB6DODm04PZd"
   },
   "source": [
    "There are more than 60 statistical functions in SciPy, which can be overwhelming to digest if you simply are curious about what is available. The best way to think of the statistics functions is that they either describe or test samples—for example, the frequency of certain values or the Kolmogorov-Smirnov test, respectively.\n",
    "\n",
    "Since SciPy provides a large range of distributions, it would be great to take advantage of the ones we covered earlier. In the stats package, there are a number of functions such as ``kstest`` and ``normaltest`` that test samples. These distribution tests can be very\n",
    "helpful in determining whether a sample comes from some particular distribution or not. Before applying these, be sure you have a good understanding of your data, to\n",
    "avoid misinterpreting the functions’ results."
   ]
  },
  {
   "cell_type": "code",
   "execution_count": null,
   "metadata": {
    "colab": {
     "base_uri": "https://localhost:8080/"
    },
    "id": "1w3KpQobOmhD",
    "outputId": "176e6748-ef5f-4b25-c1b5-689a7c3b6b04"
   },
   "outputs": [
    {
     "name": "stdout",
     "output_type": "stream",
     "text": [
      "normaltest output\n",
      "Z-score = 2.7310973390582323\n",
      "P-value = 0.255240594825485\n",
      "\n",
      "kstest output for the Normal distribution\n",
      "D = 0.0813540980508764\n",
      "P-value = 0.5046775172440562\n",
      "\n",
      "kstest output for the Wald distribution\n",
      "D = 0.5946305403404677\n",
      "P-value = 2.856588616070835e-34\n"
     ]
    }
   ],
   "source": [
    "import numpy as np\n",
    "from scipy import stats\n",
    "\n",
    "# Generating a normal distribution sample\n",
    "# with 100 elements\n",
    "sample = np.random.randn(100)\n",
    "\n",
    "# normaltest tests the null hypothesis.\n",
    "out = stats.normaltest(sample)\n",
    "print('normaltest output')\n",
    "print('Z-score = ' + str(out[0]))\n",
    "print('P-value = ' + str(out[1]))\n",
    "\n",
    "# kstest is the Kolmogorov-Smirnov test for goodness of fit.\n",
    "# Here its sample is being tested against the normal distribution.\n",
    "# D is the KS statistic and the closer it is to 0 the better.\n",
    "out = stats.kstest(sample, 'norm')\n",
    "print('\\nkstest output for the Normal distribution')\n",
    "print('D = ' + str(out[0]))\n",
    "print('P-value = ' + str(out[1]))\n",
    "# Similarly, this can be easily tested against other distributions,\n",
    "# like the Wald distribution.\n",
    "out = stats.kstest(sample, 'wald')\n",
    "print('\\nkstest output for the Wald distribution')\n",
    "print('D = ' + str(out[0]))\n",
    "print('P-value = ' + str(out[1]))"
   ]
  },
  {
   "cell_type": "markdown",
   "metadata": {
    "id": "u0ShMUgA41Gj"
   },
   "source": [
    "Researchers commonly use descriptive functions for statistics. Some descriptive functions that are available in the ``stats`` package include the geometric mean (gmean), the skewness of a sample (skew), and the frequency of values in a sample (itemfreq). Using\n",
    "these functions is simple and does not require much input. A few examples follow."
   ]
  },
  {
   "cell_type": "code",
   "execution_count": null,
   "metadata": {
    "colab": {
     "base_uri": "https://localhost:8080/"
    },
    "id": "jG4qQkUS475Y",
    "outputId": "06b2662a-8f24-4fb0-a820-ed1c2972a579"
   },
   "outputs": [
    {
     "name": "stdout",
     "output_type": "stream",
     "text": [
      "Harmonic mean = 0.20942441963531436\n",
      "\n",
      "Trimmed mean = -0.0053516990911391\n",
      "\n",
      "Skewness = 0.01327086257149831\n",
      "\n",
      "Size = 100\n",
      "Min = -2.364331303744657\n",
      "Max = 2.6722940424182355\n",
      "Mean = -0.1808447714051496\n",
      "Variance = 0.882599274619453\n",
      "Skewness = 0.01327086257149831\n",
      "Kurtosis = 0.0036102062780991595\n"
     ]
    }
   ],
   "source": [
    "import numpy as np\n",
    "from scipy import stats\n",
    "\n",
    "# Generating a normal distribution sample\n",
    "# with 100 elements\n",
    "sample = np.random.randn(100)\n",
    "\n",
    "# The harmonic mean: Sample values have to\n",
    "# be greater than 0.\n",
    "out = stats.hmean(sample[sample > 0])\n",
    "print('Harmonic mean = ' + str(out))\n",
    "\n",
    "# The mean, where values below -1 and above 1 are\n",
    "# removed for the mean calculation\n",
    "out = stats.tmean(sample, limits=(-1, 1))\n",
    "print('\\nTrimmed mean = ' + str(out))\n",
    "\n",
    "# Calculating the skewness of the sample\n",
    "out = stats.skew(sample)\n",
    "print('\\nSkewness = ' + str(out))\n",
    "\n",
    "# Additionally, there is a handy summary function called\n",
    "# describe, which gives a quick look at the data.\n",
    "out = stats.describe(sample)\n",
    "print('\\nSize = ' + str(out[0]))\n",
    "print('Min = ' + str(out[1][0]))\n",
    "print('Max = ' + str(out[1][1]))\n",
    "print('Mean = ' + str(out[2]))\n",
    "print('Variance = ' + str(out[3]))\n",
    "print('Skewness = ' + str(out[4]))\n",
    "print('Kurtosis = ' + str(out[5]))"
   ]
  },
  {
   "cell_type": "markdown",
   "metadata": {
    "id": "NgdISodo4-ou"
   },
   "source": [
    "There are many more functions available in the stats package, so the documentation is worth a look if you need more specific tools. If you need more statistical tools than are available here, try RPy. R is a cornerstone package for statistical analysis, and RPy\n",
    "ports the tools available in that system to Python. If you’re content with what is available in SciPy and NumPy but need more automated analysis, then take a look at Pandas. It is a powerful package that can perform quick statistical analysis on big data. Its output is supplied in both numerical values and plots."
   ]
  },
  {
   "cell_type": "markdown",
   "metadata": {
    "id": "Bjcpu9WhOqKd"
   },
   "source": [
    "# Sources:\n",
    "\n",
    "\n",
    "*   Numerical Python by Robert Johansson, ch. 13, 14, 16.\n",
    "*   SciPy Programming Succinctly by James McCaffrey, ch. 4.\n",
    "* SciPy & NumPy by Eli Bressert, ch. 3., section 4.\n",
    "\n"
   ]
  }
 ],
 "metadata": {
  "colab": {
   "collapsed_sections": [],
   "name": "18. Programming of Statistical Methods. Stats Models. SciPy Statistics",
   "provenance": [],
   "toc_visible": true
  },
  "kernelspec": {
   "display_name": "Python 3",
   "language": "python",
   "name": "python3"
  },
  "language_info": {
   "codemirror_mode": {
    "name": "ipython",
    "version": 3
   },
   "file_extension": ".py",
   "mimetype": "text/x-python",
   "name": "python",
   "nbconvert_exporter": "python",
   "pygments_lexer": "ipython3",
   "version": "3.8.5"
  }
 },
 "nbformat": 4,
 "nbformat_minor": 1
}
