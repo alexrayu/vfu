{
 "cells": [
  {
   "cell_type": "markdown",
   "metadata": {
    "collapsed": true,
    "pycharm": {
     "name": "#%% md\n"
    }
   },
   "source": [
    "# Data Stream Mining\n",
    "\n",
    "Find three examples in Python for Data Mining streams (Bloom filters, etc) and\n",
    "compare their efficiency.\n",
    "\n",
    "For the data stream, we will use computer memory usage sampling over time.\n",
    "\n",
    "Here is a slice of streaming RAM values (MB)."
   ]
  },
  {
   "cell_type": "code",
   "execution_count": 27,
   "outputs": [
    {
     "name": "stdout",
     "output_type": "stream",
     "text": [
      "Sample 19, RAM(MB): 4237.19     \r"
     ]
    }
   ],
   "source": [
    "import psutil\n",
    "import time\n",
    "\n",
    "for x in range(20):\n",
    "    mem = psutil.virtual_memory()\n",
    "    mem = round(mem.used / (1024 * 1024), 2)\n",
    "    print(f'Sample {x}, RAM(MB): {mem}     ', end = \"\\r\")\n",
    "    time.sleep(.5)"
   ],
   "metadata": {
    "collapsed": false,
    "pycharm": {
     "name": "#%%\n"
    }
   }
  }
 ],
 "metadata": {
  "kernelspec": {
   "display_name": "Python 3",
   "language": "python",
   "name": "python3"
  },
  "language_info": {
   "codemirror_mode": {
    "name": "ipython",
    "version": 2
   },
   "file_extension": ".py",
   "mimetype": "text/x-python",
   "name": "python",
   "nbconvert_exporter": "python",
   "pygments_lexer": "ipython2",
   "version": "2.7.6"
  }
 },
 "nbformat": 4,
 "nbformat_minor": 0
}