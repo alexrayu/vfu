{
 "cells": [
  {
   "cell_type": "markdown",
   "metadata": {
    "collapsed": true,
    "pycharm": {
     "name": "#%% md\n"
    }
   },
   "source": [
    "# Data Stream Mining\n",
    "\n",
    "Find three examples in Python for Data Mining streams (Bloom filters, etc) and\n",
    "compare their efficiency.\n",
    "\n",
    "For the data stream, we will generate 100 random numbers between 1 and 100"
   ]
  },
  {
   "cell_type": "code",
   "execution_count": 24,
   "outputs": [],
   "source": [
    "import random\n",
    "\n",
    "\n",
    "def getStream():\n",
    "    items = []\n",
    "    for x in range(100):\n",
    "        items.append(round(random.random() * 100))\n",
    "    return items"
   ],
   "metadata": {
    "collapsed": false,
    "pycharm": {
     "name": "#%%\n"
    }
   }
  },
  {
   "cell_type": "markdown",
   "source": [
    "## Reservoir Sampling\n",
    "\n",
    "Source: [GeeksforGeeks: Reservoir Sampling](https://www.geeksforgeeks.org/reservoir-sampling)\n",
    "\n",
    "Reservoir Sampling is a technique which handler very big samples of data, that\n",
    "usually stretch across long time and are so large that won't fit into computer\n",
    "memory. The idea is taking the data in chunks of _n_ items and sampling _k_ items\n",
    "from each chunk randomly.\n",
    "\n",
    "Reservoir Sampling is performance-efficient and crude, but it serves it purpose\n",
    "of keeping up with a generic sample from the stream."
   ],
   "metadata": {
    "collapsed": false
   }
  },
  {
   "cell_type": "code",
   "execution_count": 25,
   "outputs": [
    {
     "name": "stdout",
     "output_type": "stream",
     "text": [
      "Following are 'k' - randomly selected items:\n",
      "17 62 13 44 62 \n"
     ]
    }
   ],
   "source": [
    "\n",
    "\n",
    "# A utility function to print an array.\n",
    "def printArray(stream, n):\n",
    "    for i in range(n):\n",
    "        print(stream[i], end=\" \")\n",
    "    print()\n",
    "\n",
    "# A function to randomly select k items from stream[0..n-1].\n",
    "def selectKItems(stream, n, k):\n",
    "        i = 0\n",
    "\n",
    "        # reservoir[] is the output array. Initialize it with\n",
    "        # first k elements from stream[]\n",
    "        reservoir = [0] * k\n",
    "        for i in range(k):\n",
    "            reservoir[i] = stream[i]\n",
    "\n",
    "        # Iterate from the (k+1)th element to nth element\n",
    "        while(i < n):\n",
    "            # Pick a random index\n",
    "            # from 0 to i.\n",
    "            j = random.randrange(i + 1)\n",
    "\n",
    "            # If the randomly picked index is smaller than k,\n",
    "            # then replace the element present at the index\n",
    "            # with new element from stream\n",
    "            if j < k:\n",
    "                reservoir[j] = stream[i]\n",
    "            i += 1\n",
    "\n",
    "        print(\"Following are 'k' - randomly selected items:\")\n",
    "        printArray(reservoir, k)\n",
    "\n",
    "stream = getStream()\n",
    "n = len(stream)\n",
    "k = 5\n",
    "selectKItems(stream, n, k);"
   ],
   "metadata": {
    "collapsed": false,
    "pycharm": {
     "name": "#%%\n"
    }
   }
  },
  {
   "cell_type": "markdown",
   "source": [
    "## Bloom Filter\n",
    "\n",
    "Source: [Devopedia: Bloom Filter](https://devopedia.org/bloom-filter)\n",
    "\n",
    "Bloom filter is used to compress the data records into a hash table. It then\n",
    "stores much less space than the original items, and it much faster to determine\n",
    "if an item is in that hash table or not, in a probabilistic fashion (result is\n",
    "not 100% guaranteed). This is usable in sampling large data streams, where 100%\n",
    "precision is not required.\n",
    "\n",
    "The Bloom Filter has a little different purpose than the Reservoir Sampling.\n",
    "Sometimes they are used together (Sampling to get a n updated sample, and the\n",
    "Bloom Filter to detect that the sample does not have repeated items).\n",
    "\n",
    "Bloom Filter is very size-efficient. Form mere bits of data it can detect if an\n",
    "entry is present in a sample with very high probability. It is especially useful\n",
    "in the area of data layers and IoT, where costly data requests can be mitigated\n",
    "by fast and inexpensive checks in the bit-string for whether such requests are\n",
    "necessary. Sometimes a mere boolean response is enough (in some preliminary\n",
    "security response inside an IoT device, for example)."
   ],
   "metadata": {
    "collapsed": false
   }
  },
  {
   "cell_type": "code",
   "execution_count": 26,
   "outputs": [
    {
     "name": "stdout",
     "output_type": "stream",
     "text": [
      "dog is in bloom filter as expected\n",
      "cat is in bloom filter as expected\n",
      "giraffe is in bloom filter as expected\n",
      "fly is in bloom filter as expected\n",
      "mosquito is in bloom filter as expected\n",
      "horse is in bloom filter as expected\n",
      "eagle is in bloom filter as expected\n",
      "bird is in bloom filter as expected\n",
      "bison is in bloom filter as expected\n",
      "boar is in bloom filter as expected\n",
      "butterfly is in bloom filter as expected\n",
      "ant is in bloom filter as expected\n",
      "anaconda is in bloom filter as expected\n",
      "bear is in bloom filter as expected\n",
      "chicken is in bloom filter as expected\n",
      "dolphin is in bloom filter as expected\n",
      "donkey is in bloom filter as expected\n",
      "crow is in bloom filter as expected\n",
      "crocodile is in bloom filter as expected\n",
      "badger is not in the bloom filter as expected\n",
      "cow is not in the bloom filter as expected\n",
      "pig is not in the bloom filter as expected\n",
      "sheep is not in the bloom, but a false positive\n",
      "bee is not in the bloom filter as expected\n",
      "wolf is not in the bloom filter as expected\n",
      "fox is not in the bloom filter as expected\n",
      "whale is not in the bloom filter as expected\n",
      "shark is not in the bloom, but a false positive\n",
      "fish is not in the bloom, but a false positive\n",
      "turkey is not in the bloom filter as expected\n",
      "duck is not in the bloom filter as expected\n",
      "dove is not in the bloom filter as expected\n",
      "deer is not in the bloom filter as expected\n",
      "elephant is not in the bloom, but a false positive\n",
      "frog is not in the bloom filter as expected\n",
      "falcon is not in the bloom filter as expected\n",
      "goat is not in the bloom filter as expected\n",
      "gorilla is not in the bloom filter as expected\n",
      "hawk is not in the bloom filter as expected\n"
     ]
    }
   ],
   "source": [
    "# Source: https://www.kdnuggets.com/2016/08/gentle-introduction-bloom-filter.html\n",
    "# Accessed 2020-05-11\n",
    "\n",
    "from bitarray import bitarray\n",
    "import mmh3\n",
    "\n",
    "class BloomFilter(set):\n",
    "\n",
    "    def __init__(self, size, hash_count):\n",
    "        super(BloomFilter, self).__init__()\n",
    "        self.bit_array = bitarray(size)\n",
    "        self.bit_array.setall(0)\n",
    "        self.size = size\n",
    "        self.hash_count = hash_count\n",
    "\n",
    "    def __len__(self):\n",
    "        return self.size\n",
    "\n",
    "    def __iter__(self):\n",
    "        return iter(self.bit_array)\n",
    "\n",
    "    def add(self, item):\n",
    "        for ii in range(self.hash_count):\n",
    "            index = mmh3.hash(item, ii) % self.size\n",
    "            self.bit_array[index] = 1\n",
    "\n",
    "        return self\n",
    "\n",
    "    def __contains__(self, item):\n",
    "        out = True\n",
    "        for ii in range(self.hash_count):\n",
    "            index = mmh3.hash(item, ii) % self.size\n",
    "            if self.bit_array[index] == 0:\n",
    "                out = False\n",
    "\n",
    "        return out\n",
    "\n",
    "def main():\n",
    "    bloom = BloomFilter(100, 10)\n",
    "    animals = ['dog', 'cat', 'giraffe', 'fly', 'mosquito', 'horse', 'eagle',\n",
    "               'bird', 'bison', 'boar', 'butterfly', 'ant', 'anaconda', 'bear',\n",
    "               'chicken', 'dolphin', 'donkey', 'crow', 'crocodile']\n",
    "    # First insertion of animals into the bloom filter\n",
    "    for animal in animals:\n",
    "        bloom.add(animal)\n",
    "\n",
    "    # Membership existence for already inserted animals\n",
    "    # There should not be any false negatives\n",
    "    for animal in animals:\n",
    "        if animal in bloom:\n",
    "            print('{} is in bloom filter as expected'.format(animal))\n",
    "        else:\n",
    "            print('Something is terribly went wrong for {}'.format(animal))\n",
    "            print('FALSE NEGATIVE!')\n",
    "\n",
    "    # Membership existence for not inserted animals\n",
    "    # There could be false positives\n",
    "    other_animals = ['badger', 'cow', 'pig', 'sheep', 'bee', 'wolf', 'fox',\n",
    "                     'whale', 'shark', 'fish', 'turkey', 'duck', 'dove',\n",
    "                     'deer', 'elephant', 'frog', 'falcon', 'goat', 'gorilla',\n",
    "                     'hawk' ]\n",
    "    for other_animal in other_animals:\n",
    "        if other_animal in bloom:\n",
    "            print('{} is not in the bloom, but a false positive'.format(other_animal))\n",
    "        else:\n",
    "            print('{} is not in the bloom filter as expected'.format(other_animal))\n",
    "\n",
    "main()"
   ],
   "metadata": {
    "collapsed": false,
    "pycharm": {
     "name": "#%%\n"
    }
   }
  }
 ],
 "metadata": {
  "kernelspec": {
   "display_name": "Python 3",
   "language": "python",
   "name": "python3"
  },
  "language_info": {
   "codemirror_mode": {
    "name": "ipython",
    "version": 2
   },
   "file_extension": ".py",
   "mimetype": "text/x-python",
   "name": "python",
   "nbconvert_exporter": "python",
   "pygments_lexer": "ipython2",
   "version": "2.7.6"
  }
 },
 "nbformat": 4,
 "nbformat_minor": 0
}