{
 "cells": [
  {
   "cell_type": "code",
   "execution_count": 23,
   "metadata": {
    "collapsed": true
   },
   "outputs": [],
   "source": [
    "import pandas as pd\n",
    "from bs4 import BeautifulSoup\n",
    "import requests\n",
    "import re"
   ]
  },
  {
   "cell_type": "code",
   "execution_count": 24,
   "outputs": [],
   "source": [
    "# Get the data for a page.\n",
    "def getPageData(url):\n",
    "    response = requests.get(url)\n",
    "    html = response.content\n",
    "    soup = BeautifulSoup(html, 'html.parser')\n",
    "    css_selector = '.awrapper .listItemContainer .listItemLink'\n",
    "    data = []\n",
    "    i = 0\n",
    "    for item in soup.select(css_selector):\n",
    "        i += 1\n",
    "        title = item.select_one('span.title').text.strip()\n",
    "        price = item.select_one('span.price').text.strip()\n",
    "        price = re.sub('[^0-9]', '', price)\n",
    "        image = item.select_one('img.cover')['src']\n",
    "        if title and price:\n",
    "            data.append([title, price, 'https:' + image])\n",
    "    return data"
   ],
   "metadata": {
    "collapsed": false,
    "pycharm": {
     "name": "#%%\n"
    }
   }
  },
  {
   "cell_type": "code",
   "execution_count": 25,
   "outputs": [
    {
     "name": "stdout",
     "output_type": "stream",
     "text": [
      "Get page 1 of 5\n",
      "Get page 2 of 5\n",
      "Get page 3 of 5\n",
      "Get page 4 of 5\n",
      "Get page 5 of 5\n"
     ]
    }
   ],
   "source": [
    "base_url = 'https://bazar.bg/obiavi/gradski-velosipedi/varna?condition=2'\n",
    "count_pages = 5\n",
    "data = []\n",
    "for i in range(count_pages):\n",
    "    cur_page = i + 1\n",
    "    print(f'Get page {cur_page} of {count_pages}')\n",
    "    if cur_page == 1:\n",
    "        url = base_url\n",
    "    else:\n",
    "        url = base_url + '&page=' + str(cur_page)\n",
    "    data += getPageData(url)"
   ],
   "metadata": {
    "collapsed": false,
    "pycharm": {
     "name": "#%%\n"
    }
   }
  },
  {
   "cell_type": "code",
   "execution_count": 26,
   "outputs": [
    {
     "data": {
      "text/plain": "                                           title price  \\\n0                             Avenue spirit 1000  1300   \n1  велосипед 26 цола CONWAY-една година гаранция   155   \n2                              Велосипед 26 цола   250   \n3                       велосипед Cannondale USA   480   \n4                Велосипед Ultra phantom 26 цола   170   \n\n                                               image  \n0  https://cdn1.focus.bg/bazar/10/fp/106de41fa4f6...  \n1  https://cdn1.focus.bg/bazar/d2/fp/d2c10a8fca2b...  \n2  https://cdn1.focus.bg/bazar/61/fp/61c5ca62cd6a...  \n3  https://cdn1.focus.bg/bazar/33/fp/338062f566da...  \n4  https://cdn1.focus.bg/bazar/97/fp/9714505365f2...  ",
      "text/html": "<div>\n<style scoped>\n    .dataframe tbody tr th:only-of-type {\n        vertical-align: middle;\n    }\n\n    .dataframe tbody tr th {\n        vertical-align: top;\n    }\n\n    .dataframe thead th {\n        text-align: right;\n    }\n</style>\n<table border=\"1\" class=\"dataframe\">\n  <thead>\n    <tr style=\"text-align: right;\">\n      <th></th>\n      <th>title</th>\n      <th>price</th>\n      <th>image</th>\n    </tr>\n  </thead>\n  <tbody>\n    <tr>\n      <th>0</th>\n      <td>Avenue spirit 1000</td>\n      <td>1300</td>\n      <td>https://cdn1.focus.bg/bazar/10/fp/106de41fa4f6...</td>\n    </tr>\n    <tr>\n      <th>1</th>\n      <td>велосипед 26 цола CONWAY-една година гаранция</td>\n      <td>155</td>\n      <td>https://cdn1.focus.bg/bazar/d2/fp/d2c10a8fca2b...</td>\n    </tr>\n    <tr>\n      <th>2</th>\n      <td>Велосипед 26 цола</td>\n      <td>250</td>\n      <td>https://cdn1.focus.bg/bazar/61/fp/61c5ca62cd6a...</td>\n    </tr>\n    <tr>\n      <th>3</th>\n      <td>велосипед Cannondale USA</td>\n      <td>480</td>\n      <td>https://cdn1.focus.bg/bazar/33/fp/338062f566da...</td>\n    </tr>\n    <tr>\n      <th>4</th>\n      <td>Велосипед Ultra phantom 26 цола</td>\n      <td>170</td>\n      <td>https://cdn1.focus.bg/bazar/97/fp/9714505365f2...</td>\n    </tr>\n  </tbody>\n</table>\n</div>"
     },
     "execution_count": 26,
     "metadata": {},
     "output_type": "execute_result"
    }
   ],
   "source": [
    "df = pd.DataFrame(data, columns=['title', 'price', 'image'])\n",
    "df.sort_values(by='price')\n",
    "df.to_excel('bikes.xlsx')\n",
    "df.head()"
   ],
   "metadata": {
    "collapsed": false,
    "pycharm": {
     "name": "#%%\n"
    }
   }
  }
 ],
 "metadata": {
  "kernelspec": {
   "display_name": "Python 3",
   "language": "python",
   "name": "python3"
  },
  "language_info": {
   "codemirror_mode": {
    "name": "ipython",
    "version": 2
   },
   "file_extension": ".py",
   "mimetype": "text/x-python",
   "name": "python",
   "nbconvert_exporter": "python",
   "pygments_lexer": "ipython2",
   "version": "2.7.6"
  }
 },
 "nbformat": 4,
 "nbformat_minor": 0
}