{
 "cells": [
  {
   "cell_type": "code",
   "execution_count": 9,
   "metadata": {
    "collapsed": true
   },
   "outputs": [],
   "source": [
    "import pandas as pd\n",
    "from bs4 import BeautifulSoup\n",
    "import requests\n",
    "import re"
   ]
  },
  {
   "cell_type": "code",
   "execution_count": 10,
   "outputs": [],
   "source": [
    "# Get the data for a page.\n",
    "def getPageData(url):\n",
    "    response = requests.get(url)\n",
    "    html = response.content\n",
    "    soup = BeautifulSoup(html, 'html.parser')\n",
    "    css_selector = '.awrapper .listItemContainer .listItemLink'\n",
    "    data = []\n",
    "    i = 0\n",
    "    for item in soup.select(css_selector):\n",
    "        i += 1\n",
    "        title = item.select_one('span.title').text.strip()\n",
    "        price = item.select_one('span.price').text.strip()\n",
    "        price = re.sub('[^0-9]', '', price)\n",
    "        if not len(price):\n",
    "            price = 0\n",
    "        price = int(price)\n",
    "        image = item.select_one('img.cover')['src']\n",
    "        if title and price:\n",
    "            data.append([title, price, 'https:' + image])\n",
    "    return data"
   ],
   "metadata": {
    "collapsed": false,
    "pycharm": {
     "name": "#%%\n"
    }
   }
  },
  {
   "cell_type": "code",
   "execution_count": 11,
   "outputs": [
    {
     "name": "stdout",
     "output_type": "stream",
     "text": [
      "Get page 1 of 5\n",
      "Get page 2 of 5\n",
      "Get page 3 of 5\n",
      "Get page 4 of 5\n",
      "Get page 5 of 5\n"
     ]
    }
   ],
   "source": [
    "base_url = 'https://bazar.bg/obiavi/gradski-velosipedi/varna?condition=2'\n",
    "count_pages = 5\n",
    "data = []\n",
    "for i in range(count_pages):\n",
    "    cur_page = i + 1\n",
    "    print(f'Get page {cur_page} of {count_pages}')\n",
    "    if cur_page == 1:\n",
    "        url = base_url\n",
    "    else:\n",
    "        url = base_url + '&page=' + str(cur_page)\n",
    "    data += getPageData(url)"
   ],
   "metadata": {
    "collapsed": false,
    "pycharm": {
     "name": "#%%\n"
    }
   }
  },
  {
   "cell_type": "code",
   "execution_count": 12,
   "outputs": [
    {
     "data": {
      "text/plain": "                                                 title  price  \\\n40                               Степенка за велосипед     10   \n118  Гуми 28 цола nimbus700×32c kenda цената е за 2...     25   \n119           Калъф стойка за телефон монтаж за колело     25   \n157            Две капли 26” оборудвани с гуми + бонус     55   \n30              Детски велосипед 16 цола - разпродажба     69   \n\n                                                 image  \n40   https://cdn1.focus.bg/bazar/d7/fp/d7ed5717b397...  \n118  https://cdn5.focus.bg/bazar//da/fp/da81f5744ca...  \n119  https://cdn5.focus.bg/bazar//86/fp/861f50d5ecc...  \n157  https://cdn1.focus.bg/bazar/5f/fp/5f43794ab809...  \n30   https://cdn1.focus.bg/bazar/4b/fp/4b6361302ca6...  ",
      "text/html": "<div>\n<style scoped>\n    .dataframe tbody tr th:only-of-type {\n        vertical-align: middle;\n    }\n\n    .dataframe tbody tr th {\n        vertical-align: top;\n    }\n\n    .dataframe thead th {\n        text-align: right;\n    }\n</style>\n<table border=\"1\" class=\"dataframe\">\n  <thead>\n    <tr style=\"text-align: right;\">\n      <th></th>\n      <th>title</th>\n      <th>price</th>\n      <th>image</th>\n    </tr>\n  </thead>\n  <tbody>\n    <tr>\n      <th>40</th>\n      <td>Степенка за велосипед</td>\n      <td>10</td>\n      <td>https://cdn1.focus.bg/bazar/d7/fp/d7ed5717b397...</td>\n    </tr>\n    <tr>\n      <th>118</th>\n      <td>Гуми 28 цола nimbus700×32c kenda цената е за 2...</td>\n      <td>25</td>\n      <td>https://cdn5.focus.bg/bazar//da/fp/da81f5744ca...</td>\n    </tr>\n    <tr>\n      <th>119</th>\n      <td>Калъф стойка за телефон монтаж за колело</td>\n      <td>25</td>\n      <td>https://cdn5.focus.bg/bazar//86/fp/861f50d5ecc...</td>\n    </tr>\n    <tr>\n      <th>157</th>\n      <td>Две капли 26” оборудвани с гуми + бонус</td>\n      <td>55</td>\n      <td>https://cdn1.focus.bg/bazar/5f/fp/5f43794ab809...</td>\n    </tr>\n    <tr>\n      <th>30</th>\n      <td>Детски велосипед 16 цола - разпродажба</td>\n      <td>69</td>\n      <td>https://cdn1.focus.bg/bazar/4b/fp/4b6361302ca6...</td>\n    </tr>\n  </tbody>\n</table>\n</div>"
     },
     "execution_count": 12,
     "metadata": {},
     "output_type": "execute_result"
    }
   ],
   "source": [
    "df = pd.DataFrame(data, columns=['title', 'price', 'image'])\n",
    "df.sort_values(by='price', inplace=True)\n",
    "df.to_excel('bikes.xlsx')\n",
    "df.head()"
   ],
   "metadata": {
    "collapsed": false,
    "pycharm": {
     "name": "#%%\n"
    }
   }
  }
 ],
 "metadata": {
  "kernelspec": {
   "display_name": "Python 3",
   "language": "python",
   "name": "python3"
  },
  "language_info": {
   "codemirror_mode": {
    "name": "ipython",
    "version": 2
   },
   "file_extension": ".py",
   "mimetype": "text/x-python",
   "name": "python",
   "nbconvert_exporter": "python",
   "pygments_lexer": "ipython2",
   "version": "2.7.6"
  }
 },
 "nbformat": 4,
 "nbformat_minor": 0
}