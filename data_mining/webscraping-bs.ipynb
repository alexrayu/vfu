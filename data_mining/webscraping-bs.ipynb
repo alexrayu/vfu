{
 "cells": [
  {
   "cell_type": "markdown",
   "metadata": {},
   "source": [
    "# Web scraping - Requests + BeautifulSoup\n",
    "\n",
    "Here Requests library is used to fetch the contents of the page, and BeautifulSoup\n",
    "is used to get the needed items from the page."
   ]
  },
  {
   "cell_type": "code",
   "execution_count": 1,
   "metadata": {},
   "outputs": [],
   "source": [
    "import pandas as pd\n",
    "from bs4 import BeautifulSoup\n",
    "import requests\n",
    "import re"
   ]
  },
  {
   "cell_type": "markdown",
   "metadata": {},
   "source": [
    "## Get the data from the page by CSS.\n",
    "\n",
    "Here, we get the contents of an URL using the ```requests``` library, and then\n",
    "we find the parent by css and parse the title, price, and image url form it."
   ]
  },
  {
   "cell_type": "code",
   "execution_count": 2,
   "metadata": {
    "pycharm": {
     "name": "#%%\n"
    }
   },
   "outputs": [],
   "source": [
    "# Get the data for a page.\n",
    "def getPageData(url):\n",
    "    response = requests.get(url)\n",
    "    html = response.content\n",
    "    soup = BeautifulSoup(html, 'html.parser')\n",
    "    css_selector = '.awrapper .listItemContainer .listItemLink'\n",
    "    data = []\n",
    "    i = 0\n",
    "    for item in soup.select(css_selector):\n",
    "        i += 1\n",
    "        title = item.select_one('span.title').text.strip()\n",
    "        price = item.select_one('span.price').text.strip()\n",
    "        price = re.sub('[^0-9]', '', price)\n",
    "        if not len(price):\n",
    "            price = 0\n",
    "        price = int(price)\n",
    "        image = item.select_one('img.cover')['src']\n",
    "        if title and price:\n",
    "            data.append([title, price, 'https:' + image])\n",
    "    return data"
   ]
  },
  {
   "cell_type": "markdown",
   "metadata": {
    "pycharm": {
     "name": "#%% md\n"
    }
   },
   "source": [
    "## Main body - iterate pages.\n",
    "\n",
    "Here we iterate the 5 pages and send them to ```getPageData()``` for analysis."
   ]
  },
  {
   "cell_type": "code",
   "execution_count": 3,
   "metadata": {
    "pycharm": {
     "name": "#%%\n"
    }
   },
   "outputs": [
    {
     "name": "stdout",
     "output_type": "stream",
     "text": [
      "Get page 1 of 5\n",
      "Get page 2 of 5\n",
      "Get page 3 of 5\n",
      "Get page 4 of 5\n",
      "Get page 5 of 5\n"
     ]
    }
   ],
   "source": [
    "base_url = 'https://bazar.bg/obiavi/gradski-velosipedi/varna?condition=2'\n",
    "count_pages = 5\n",
    "data = []\n",
    "for i in range(count_pages):\n",
    "    cur_page = i + 1\n",
    "    print(f'Get page {cur_page} of {count_pages}')\n",
    "    if cur_page == 1:\n",
    "        url = base_url\n",
    "    else:\n",
    "        url = base_url + '&page=' + str(cur_page)\n",
    "    data += getPageData(url)"
   ]
  },
  {
   "cell_type": "markdown",
   "metadata": {
    "pycharm": {
     "name": "#%% md\n"
    }
   },
   "source": [
    "## Export to Excel with Pandas.\n",
    "\n",
    "Here we create the dataframe from the array, sort it by price, and save to Excel\n",
    "document."
   ]
  },
  {
   "cell_type": "code",
   "execution_count": 4,
   "metadata": {
    "pycharm": {
     "name": "#%%\n"
    }
   },
   "outputs": [
    {
     "data": {
      "text/html": [
       "<div>\n",
       "<style scoped>\n",
       "    .dataframe tbody tr th:only-of-type {\n",
       "        vertical-align: middle;\n",
       "    }\n",
       "\n",
       "    .dataframe tbody tr th {\n",
       "        vertical-align: top;\n",
       "    }\n",
       "\n",
       "    .dataframe thead th {\n",
       "        text-align: right;\n",
       "    }\n",
       "</style>\n",
       "<table border=\"1\" class=\"dataframe\">\n",
       "  <thead>\n",
       "    <tr style=\"text-align: right;\">\n",
       "      <th></th>\n",
       "      <th>title</th>\n",
       "      <th>price</th>\n",
       "      <th>image</th>\n",
       "    </tr>\n",
       "  </thead>\n",
       "  <tbody>\n",
       "    <tr>\n",
       "      <th>43</th>\n",
       "      <td>Степенка за велосипед</td>\n",
       "      <td>10</td>\n",
       "      <td>https://cdn1.focus.bg/bazar/d7/fp/d7ed5717b397...</td>\n",
       "    </tr>\n",
       "    <tr>\n",
       "      <th>119</th>\n",
       "      <td>Гуми 28 цола nimbus700×32c kenda цената е за 2...</td>\n",
       "      <td>25</td>\n",
       "      <td>https://cdn5.focus.bg/bazar//da/fp/da81f5744ca...</td>\n",
       "    </tr>\n",
       "    <tr>\n",
       "      <th>120</th>\n",
       "      <td>Калъф стойка за телефон монтаж за колело</td>\n",
       "      <td>25</td>\n",
       "      <td>https://cdn5.focus.bg/bazar//86/fp/861f50d5ecc...</td>\n",
       "    </tr>\n",
       "    <tr>\n",
       "      <th>157</th>\n",
       "      <td>Две капли 26” оборудвани с гуми + бонус</td>\n",
       "      <td>55</td>\n",
       "      <td>https://cdn1.focus.bg/bazar/5f/fp/5f43794ab809...</td>\n",
       "    </tr>\n",
       "    <tr>\n",
       "      <th>36</th>\n",
       "      <td>Детски велосипед 16 цола - разпродажба</td>\n",
       "      <td>69</td>\n",
       "      <td>https://cdn1.focus.bg/bazar/4b/fp/4b6361302ca6...</td>\n",
       "    </tr>\n",
       "  </tbody>\n",
       "</table>\n",
       "</div>"
      ],
      "text/plain": [
       "                                                 title  price  \\\n",
       "43                               Степенка за велосипед     10   \n",
       "119  Гуми 28 цола nimbus700×32c kenda цената е за 2...     25   \n",
       "120           Калъф стойка за телефон монтаж за колело     25   \n",
       "157            Две капли 26” оборудвани с гуми + бонус     55   \n",
       "36              Детски велосипед 16 цола - разпродажба     69   \n",
       "\n",
       "                                                 image  \n",
       "43   https://cdn1.focus.bg/bazar/d7/fp/d7ed5717b397...  \n",
       "119  https://cdn5.focus.bg/bazar//da/fp/da81f5744ca...  \n",
       "120  https://cdn5.focus.bg/bazar//86/fp/861f50d5ecc...  \n",
       "157  https://cdn1.focus.bg/bazar/5f/fp/5f43794ab809...  \n",
       "36   https://cdn1.focus.bg/bazar/4b/fp/4b6361302ca6...  "
      ]
     },
     "execution_count": 4,
     "metadata": {},
     "output_type": "execute_result"
    }
   ],
   "source": [
    "df = pd.DataFrame(data, columns=['title', 'price', 'image'])\n",
    "df.sort_values(by='price', inplace=True)\n",
    "df.to_excel('bikes-bs4.xlsx')\n",
    "df.head()"
   ]
  }
 ],
 "metadata": {
  "kernelspec": {
   "display_name": "Python 3 (ipykernel)",
   "language": "python",
   "name": "python3"
  },
  "language_info": {
   "codemirror_mode": {
    "name": "ipython",
    "version": 3
   },
   "file_extension": ".py",
   "mimetype": "text/x-python",
   "name": "python",
   "nbconvert_exporter": "python",
   "pygments_lexer": "ipython3",
   "version": "3.8.10"
  }
 },
 "nbformat": 4,
 "nbformat_minor": 1
}