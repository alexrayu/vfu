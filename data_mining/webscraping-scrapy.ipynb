{
 "cells": [
  {
   "cell_type": "markdown",
   "source": [
    "# Web scraping - Srapy\n",
    "\n",
    "## Define the crawler.\n",
    "\n",
    "Scrapy is an elegant solution that unites the common features:\n",
    "1. **Querying** and crawling the web pages,\n",
    "2. **Extracting** the data based on xpath or css selectors, and\n",
    "3. **Exporting** the data to a JSON or CSV file.\n",
    "\n",
    "The above makes Scrapy the preferable tool for scraping non-ajax web sites.\n",
    "\n",
    "The Scrapy crawler is initialized as a class, and then run. It is intended to\n",
    "be run from the CLI mostly, but can also run in IPY like we have here.\n",
    "\n",
    "Because Scrapy is asynchronous, it's visibly faster than the other solutions.\n",
    "\n",
    "**NOTE:** Scrapy is written in the **Twisted** Python Framework, which provides\n",
    "even-driven async behavior. However, in our context, it will only allow to run\n",
    "the script once. If you want to re-run, you will have to restart the IPY kernel."
   ],
   "metadata": {
    "collapsed": false,
    "pycharm": {
     "name": "#%% md\n"
    }
   }
  },
  {
   "cell_type": "code",
   "execution_count": 1,
   "metadata": {
    "collapsed": true
   },
   "outputs": [],
   "source": [
    "import scrapy\n",
    "from scrapy.crawler import CrawlerProcess\n",
    "import datetime\n",
    "\n",
    "class BikeSpider(scrapy.Spider):\n",
    "    name = 'bikespider'\n",
    "    start_urls = [\n",
    "        'https://bazar.bg/obiavi/gradski-velosipedi/varna?condition=2',\n",
    "        'https://bazar.bg/obiavi/gradski-velosipedi/varna?condition=2&page=2',\n",
    "        'https://bazar.bg/obiavi/gradski-velosipedi/varna?condition=2&page=3',\n",
    "        'https://bazar.bg/obiavi/gradski-velosipedi/varna?condition=2&page=4',\n",
    "        'https://bazar.bg/obiavi/gradski-velosipedi/varna?condition=2&page=5',\n",
    "    ]\n",
    "    custom_settings = {\n",
    "       'FEED_FORMAT': 'csv',\n",
    "       'FEED_URI': 'bikes-scrapy.csv',\n",
    "       'LOG_ENABLED': False,\n",
    "    }\n",
    "\n",
    "    def parse(self, response):\n",
    "        for ad in response.css('.awrapper .listItemContainer .listItemLink'):\n",
    "            yield {\n",
    "                'title': ad.css('span.title *::text').extract_first(),\n",
    "                'price': ad.css('span.price *::text').extract_first(),\n",
    "                'image': 'https://' + ad.css('img.cover::attr(src)').extract_first()\n",
    "            }"
   ]
  },
  {
   "cell_type": "markdown",
   "source": [
    "## Run the crawler.\n",
    "\n",
    "This is where we initialize and run the crawler. The *bikes-scrapy.csv* file\n",
    "will be saved in the script folder."
   ],
   "metadata": {
    "collapsed": false
   }
  },
  {
   "cell_type": "code",
   "execution_count": 2,
   "outputs": [
    {
     "name": "stderr",
     "output_type": "stream",
     "text": [
      "2021-08-09 18:23:03 [scrapy.utils.log] INFO: Scrapy 2.5.0 started (bot: scrapybot)\n",
      "2021-08-09 18:23:03 [scrapy.utils.log] INFO: Versions: lxml 4.6.3.0, libxml2 2.9.10, cssselect 1.1.0, parsel 1.6.0, w3lib 1.22.0, Twisted 21.7.0, Python 3.8.10 (default, Jun  2 2021, 10:49:15) - [GCC 9.4.0], pyOpenSSL 20.0.1 (OpenSSL 1.1.1f  31 Mar 2020), cryptography 2.8, Platform Linux-5.11.0-25-generic-x86_64-with-glibc2.29\n",
      "2021-08-09 18:23:03 [scrapy.utils.log] DEBUG: Using reactor: twisted.internet.epollreactor.EPollReactor\n",
      "2021-08-09 18:23:03 [scrapy.crawler] INFO: Overridden settings:\n",
      "{'LOG_ENABLED': False,\n",
      " 'USER_AGENT': 'Mozilla/4.0 (compatible; MSIE 7.0; Windows NT 5.1)'}\n"
     ]
    },
    {
     "data": {
      "text/plain": "datetime.timedelta(seconds=1, microseconds=467534)"
     },
     "execution_count": 2,
     "metadata": {},
     "output_type": "execute_result"
    }
   ],
   "source": [
    "begin_time = datetime.datetime.now()\n",
    "\n",
    "process = CrawlerProcess({\n",
    "    'USER_AGENT': 'Mozilla/4.0 (compatible; MSIE 7.0; Windows NT 5.1)'\n",
    "})\n",
    "\n",
    "process.crawl(BikeSpider)\n",
    "process.start()\n",
    "\n",
    "diff = datetime.datetime.now() - begin_time\n",
    "diff"
   ],
   "metadata": {
    "collapsed": false,
    "pycharm": {
     "name": "#%%\n"
    }
   }
  }
 ],
 "metadata": {
  "kernelspec": {
   "display_name": "Python 3 (ipykernel)",
   "language": "python",
   "name": "python3"
  },
  "language_info": {
   "codemirror_mode": {
    "name": "ipython",
    "version": 3
   },
   "file_extension": ".py",
   "mimetype": "text/x-python",
   "name": "python",
   "nbconvert_exporter": "python",
   "pygments_lexer": "ipython3",
   "version": "3.8.10"
  }
 },
 "nbformat": 4,
 "nbformat_minor": 1
}