{
 "cells": [
  {
   "cell_type": "markdown",
   "source": [
    "# Web Scraping - Selenium.\n",
    "\n",
    "Selenium is a web driver which interacts with your browser of choice and allows\n",
    "you to programmatically interact not just with the code of the page, but with a\n",
    "rendered page, in a way, how the browser would see it."
   ],
   "metadata": {
    "collapsed": false,
    "pycharm": {
     "name": "#%% md\n"
    }
   }
  },
  {
   "cell_type": "code",
   "execution_count": 1,
   "metadata": {
    "collapsed": true
   },
   "outputs": [],
   "source": [
    "from selenium import webdriver\n",
    "import pandas as pd\n",
    "from selenium.webdriver.chrome.options import Options\n",
    "import re"
   ]
  },
  {
   "cell_type": "markdown",
   "source": [
    "Here we set up Selenium. We set it up with Chrome web driver, and set it to run\n",
    "without the JavaScript, because a modal pop-up in an iframe complicates the\n",
    "interaction. It's possible to find that iframe and that pop-up and click it, but\n",
    "for the effort's sake I just run it without JavaScript."
   ],
   "metadata": {
    "collapsed": false,
    "pycharm": {
     "name": "#%% md\n"
    }
   }
  },
  {
   "cell_type": "code",
   "execution_count": 2,
   "outputs": [],
   "source": [
    "chrome_options = Options()\n",
    "chrome_options.add_experimental_option('prefs', {'profile.managed_default_content_settings.javascript': 2})\n",
    "driver = webdriver.Chrome('chromedriver', options=chrome_options)\n",
    "url = 'https://bazar.bg/obiavi/gradski-velosipedi/varna?condition=2'\n",
    "css_selector = '.awrapper .listItemContainer .listItemLink'\n",
    "driver.get(url)\n",
    "driver.implicitly_wait(1)\n",
    "count_pages = 5\n",
    "data = []"
   ],
   "metadata": {
    "collapsed": false,
    "pycharm": {
     "name": "#%%\n"
    }
   }
  },
  {
   "cell_type": "markdown",
   "source": [
    "Here we iterate the pages and then click the \"Next\" button. Interactions with the\n",
    "rendered page is something that Selenium is strong at."
   ],
   "metadata": {
    "collapsed": false
   }
  },
  {
   "cell_type": "code",
   "execution_count": 3,
   "outputs": [],
   "source": [
    "for page in range(count_pages):\n",
    "    items = driver.find_elements_by_css_selector(css_selector)\n",
    "    i = 0\n",
    "    for item in items:\n",
    "        i += 1\n",
    "        title = item.find_element_by_css_selector('span.title').text\n",
    "        price = item.find_element_by_css_selector('span.price').text\n",
    "        price = re.sub('[^0-9]', '', price)\n",
    "        if not len(price):\n",
    "            price = 0\n",
    "        price = int(price)\n",
    "        image = item.find_element_by_css_selector('img.cover').get_attribute('src')\n",
    "        if title and price:\n",
    "            data.append([title, price, image])\n",
    "    try:\n",
    "        link = driver.find_element_by_css_selector('.paging a.next')\n",
    "        link.click()\n",
    "    except:\n",
    "        break"
   ],
   "metadata": {
    "collapsed": false,
    "pycharm": {
     "name": "#%%\n"
    }
   }
  },
  {
   "cell_type": "markdown",
   "source": [
    "Driver quit command destroys the process and closes the window."
   ],
   "metadata": {
    "collapsed": false,
    "pycharm": {
     "name": "#%% md\n"
    }
   }
  },
  {
   "cell_type": "code",
   "execution_count": 4,
   "outputs": [],
   "source": [
    "driver.quit()\n"
   ],
   "metadata": {
    "collapsed": false,
    "pycharm": {
     "name": "#%%\n"
    }
   }
  },
  {
   "cell_type": "markdown",
   "source": [
    "## Export to Excel with Pandas.\n",
    "\n",
    "Here we create the dataframe from the array, sort it by price, and save to Excel\n",
    "document."
   ],
   "metadata": {
    "collapsed": false
   }
  },
  {
   "cell_type": "code",
   "execution_count": 5,
   "outputs": [
    {
     "data": {
      "text/plain": "                                                 title  price  \\\n43                               Степенка за велосипед     10   \n119  Гуми 28 цола nimbus700×32c kenda цената е за 2...     25   \n120           Калъф стойка за телефон монтаж за колело     25   \n157            Две капли 26” оборудвани с гуми + бонус     55   \n36              Детски велосипед 16 цола - разпродажба     69   \n\n                                                 image  \n43   https://cdn1.focus.bg/bazar/d7/fp/d7ed5717b397...  \n119  https://cdn5.focus.bg/bazar//da/fp/da81f5744ca...  \n120  https://cdn5.focus.bg/bazar//86/fp/861f50d5ecc...  \n157  https://cdn1.focus.bg/bazar/5f/fp/5f43794ab809...  \n36   https://cdn1.focus.bg/bazar/4b/fp/4b6361302ca6...  ",
      "text/html": "<div>\n<style scoped>\n    .dataframe tbody tr th:only-of-type {\n        vertical-align: middle;\n    }\n\n    .dataframe tbody tr th {\n        vertical-align: top;\n    }\n\n    .dataframe thead th {\n        text-align: right;\n    }\n</style>\n<table border=\"1\" class=\"dataframe\">\n  <thead>\n    <tr style=\"text-align: right;\">\n      <th></th>\n      <th>title</th>\n      <th>price</th>\n      <th>image</th>\n    </tr>\n  </thead>\n  <tbody>\n    <tr>\n      <th>43</th>\n      <td>Степенка за велосипед</td>\n      <td>10</td>\n      <td>https://cdn1.focus.bg/bazar/d7/fp/d7ed5717b397...</td>\n    </tr>\n    <tr>\n      <th>119</th>\n      <td>Гуми 28 цола nimbus700×32c kenda цената е за 2...</td>\n      <td>25</td>\n      <td>https://cdn5.focus.bg/bazar//da/fp/da81f5744ca...</td>\n    </tr>\n    <tr>\n      <th>120</th>\n      <td>Калъф стойка за телефон монтаж за колело</td>\n      <td>25</td>\n      <td>https://cdn5.focus.bg/bazar//86/fp/861f50d5ecc...</td>\n    </tr>\n    <tr>\n      <th>157</th>\n      <td>Две капли 26” оборудвани с гуми + бонус</td>\n      <td>55</td>\n      <td>https://cdn1.focus.bg/bazar/5f/fp/5f43794ab809...</td>\n    </tr>\n    <tr>\n      <th>36</th>\n      <td>Детски велосипед 16 цола - разпродажба</td>\n      <td>69</td>\n      <td>https://cdn1.focus.bg/bazar/4b/fp/4b6361302ca6...</td>\n    </tr>\n  </tbody>\n</table>\n</div>"
     },
     "execution_count": 5,
     "metadata": {},
     "output_type": "execute_result"
    }
   ],
   "source": [
    "df = pd.DataFrame(data, columns=['title', 'price', 'image'])\n",
    "df.sort_values(by='price', inplace=True)\n",
    "df.to_excel('bikes-selenium.xlsx')\n",
    "df.head()\n"
   ],
   "metadata": {
    "collapsed": false,
    "pycharm": {
     "name": "#%%\n"
    }
   }
  }
 ],
 "metadata": {
  "kernelspec": {
   "display_name": "Python 3",
   "language": "python",
   "name": "python3"
  },
  "language_info": {
   "codemirror_mode": {
    "name": "ipython",
    "version": 2
   },
   "file_extension": ".py",
   "mimetype": "text/x-python",
   "name": "python",
   "nbconvert_exporter": "python",
   "pygments_lexer": "ipython2",
   "version": "2.7.6"
  }
 },
 "nbformat": 4,
 "nbformat_minor": 0
}