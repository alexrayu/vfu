{
 "cells": [
  {
   "cell_type": "markdown",
   "metadata": {},
   "source": [
    "## Definitions\n",
    "\n",
    "**Naive Bayes (NB)** is a family of probability classifiers based on the Probability Theory by Thomas Bayes. It's calles **naive** or **independent** becase it's based on an assumptions that the estimated **features** (also called vectors, or problem instances) are not causally connected.\n",
    "\n",
    "*Example:* If an object has features of being red, round, 10cm in diameter, these features independently add to the probability of it calssified as an apple.\n",
    "\n",
    "**Naive Bayes** is a *supervised* ML argorithm, it needs to be trained with labeled data before it can work.\n",
    "**Naive Bayes** is based on the formula of *Conditional Probability*.\n",
    "\n",
    "**Kernel Density Estimation** is a function with smoothes probability density of a variable. It is widely used with NB, and together they make NB very competitive."
   ]
  },
  {
   "cell_type": "markdown",
   "metadata": {},
   "source": [
    "## Naive Bayes\n",
    "\n",
    "NB relies on causal (posterior) probablility \"A because B\" \n",
    "\n",
    "### Formula for conditional probability\n",
    "\n",
    "$P(A \\mid B) = \\frac{P(B \\mid A) P(A)}{P(B)}$\n",
    "\n",
    "- $P(A \\mid B)$ - Conditional probability. Probability of $A$ occuring given $B$.\n",
    "- $P(B \\mid A)$ - Probbility of $B$ ocurring if $A$ is true - *detected causal probability* - this is the probabilities glimpsed from analisys.\n",
    "- $P(A)$ and $P(B)$ are probabilities of observing $A$ and $B$ without any conditions (marginal probability).\n",
    "\n",
    "Thus, humanly speaking, posterior probability is observed causal probability multiplied by probability of observed effect divided by probability of observed cause:\n",
    "\n",
    "$P(A \\mid B) = \\frac{P(B \\cap A)}{P(B)}$\n",
    "\n",
    "The conditional probability is the joined probability (union) of $A$ and $B$ occuring, divided by the marginal probability of $B$ occuring. Where $B$ is cause, $A$ is effect."
   ]
  },
  {
   "cell_type": "markdown",
   "metadata": {},
   "source": [
    "## Naive Bayes Example"
   ]
  },
  {
   "cell_type": "code",
   "execution_count": null,
   "metadata": {},
   "outputs": [],
   "source": []
  }
 ],
 "metadata": {
  "kernelspec": {
   "display_name": "Python 3",
   "language": "python",
   "name": "python3"
  },
  "language_info": {
   "codemirror_mode": {
    "name": "ipython",
    "version": 3
   },
   "file_extension": ".py",
   "mimetype": "text/x-python",
   "name": "python",
   "nbconvert_exporter": "python",
   "pygments_lexer": "ipython3",
   "version": "3.8.5"
  }
 },
 "nbformat": 4,
 "nbformat_minor": 4
}
